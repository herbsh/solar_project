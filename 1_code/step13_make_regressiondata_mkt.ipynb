{
 "cells": [
  {
   "cell_type": "markdown",
   "metadata": {},
   "source": [
    "# Make Data for Market Level analysis "
   ]
  },
  {
   "cell_type": "markdown",
   "metadata": {},
   "source": [
    "###  Process Text Dispersion Bert data"
   ]
  },
  {
   "cell_type": "code",
   "execution_count": 1,
   "metadata": {},
   "outputs": [],
   "source": [
    "use BERTtext_ent_90_100_2twosteps.dta "
   ]
  },
  {
   "cell_type": "code",
   "execution_count": 2,
   "metadata": {},
   "outputs": [
    {
     "name": "stdout",
     "output_type": "stream",
     "text": [
      "\n",
      "    Variable |        Obs        Mean    Std. Dev.       Min        Max\n",
      "-------------+---------------------------------------------------------\n",
      "      market |     10,368    17.80469    13.55121         -1         36\n",
      "year_month~t |     10,368    45.79948    14.39884          1         64\n",
      "installer_id |     10,368    18044.93    6707.335        108      23027\n",
      "text_d_mk~an |      9,057    .1375434    .0235513   .0545641   .3658786\n",
      "text_d_mkt~d |      8,679    .0617684    .0166544   .0055242   .1519678\n",
      "-------------+---------------------------------------------------------\n",
      "text_d_mk~in |      9,057     .035209    .0365696  -1.19e-07   .3658786\n",
      "text_d_mk~25 |      9,057    .0966523    .0236698   .0545641   .3658786\n",
      "text_d_mk~50 |      9,057    .1248378    .0254379   .0545641   .3658786\n",
      "text_d_mk~75 |      9,057    .1652722    .0316213   .0545641   .3694176\n",
      "text_d_mkt~x |      9,057      .41044    .1597509   .0545641   .7564847\n",
      "-------------+---------------------------------------------------------\n",
      "text_d_se~an |      5,313    .1361488    .0493448          0   .3812145\n",
      "text_d_sel~d |      4,096    .0485214    .0318153   .0029742   .2048007\n",
      "text_d_se~in |      5,313    .0834631     .050881  -1.19e-07   .3812145\n",
      "text_d_se~25 |      5,313    .1111181     .045195          0   .3812145\n",
      "text_d_se~50 |      5,313    .1330836    .0516636          0   .3812145\n",
      "-------------+---------------------------------------------------------\n",
      "text_d_se~75 |      5,313    .1601485    .0664047          0   .4301152\n",
      "text_d_sel~x |      5,313    .2046666    .0973689          0   .6048386\n",
      "text_d_ot~an |      8,739    .1373603    .0235285   .0545641   .3729565\n",
      "text_d_oth~d |      8,375    .0618491    .0167686   .0032598   .1592438\n",
      "text_d_ot~in |      8,739    .0353768    .0372218  -1.19e-07   .3729565\n",
      "-------------+---------------------------------------------------------\n",
      "text_d_ot~25 |      8,739    .0965148    .0233834   .0540308   .3729565\n",
      "text_d_ot~50 |      8,739    .1247767    .0256372   .0545641   .3729565\n",
      "text_d_ot~75 |      8,739    .1648848    .0314487   .0545641   .3729565\n",
      "text_d_oth~x |      8,739    .4097347    .1603334   .0545641   .7564847\n"
     ]
    }
   ],
   "source": [
    "su"
   ]
  },
  {
   "cell_type": "code",
   "execution_count": 3,
   "metadata": {},
   "outputs": [],
   "source": [
    "keep market year_month_count text_d_mkt*"
   ]
  },
  {
   "cell_type": "code",
   "execution_count": 4,
   "metadata": {},
   "outputs": [
    {
     "name": "stdout",
     "output_type": "stream",
     "text": [
      "\n",
      "    Variable |        Obs        Mean    Std. Dev.       Min        Max\n",
      "-------------+---------------------------------------------------------\n",
      "      market |     10,368    17.80469    13.55121         -1         36\n",
      "year_month~t |     10,368    45.79948    14.39884          1         64\n",
      "text_d_mk~an |      9,057    .1375434    .0235513   .0545641   .3658786\n",
      "text_d_mkt~d |      8,679    .0617684    .0166544   .0055242   .1519678\n",
      "text_d_mk~in |      9,057     .035209    .0365696  -1.19e-07   .3658786\n",
      "-------------+---------------------------------------------------------\n",
      "text_d_mk~25 |      9,057    .0966523    .0236698   .0545641   .3658786\n",
      "text_d_mk~50 |      9,057    .1248378    .0254379   .0545641   .3658786\n",
      "text_d_mk~75 |      9,057    .1652722    .0316213   .0545641   .3694176\n",
      "text_d_mkt~x |      9,057      .41044    .1597509   .0545641   .7564847\n"
     ]
    }
   ],
   "source": [
    "su"
   ]
  },
  {
   "cell_type": "code",
   "execution_count": 5,
   "metadata": {},
   "outputs": [
    {
     "name": "stdout",
     "output_type": "stream",
     "text": [
      "\n",
      "Duplicates in terms of all variables\n",
      "\n",
      "(8,776 observations deleted)\n"
     ]
    }
   ],
   "source": [
    "duplicates drop"
   ]
  },
  {
   "cell_type": "code",
   "execution_count": 6,
   "metadata": {},
   "outputs": [
    {
     "name": "stdout",
     "output_type": "stream",
     "text": [
      "\n",
      "    Variable |        Obs        Mean    Std. Dev.       Min        Max\n",
      "-------------+---------------------------------------------------------\n",
      "      market |      1,592    17.85741    11.82617         -1         36\n",
      "year_month~t |      1,592    38.59799    16.60936          1         64\n",
      "text_d_mk~an |      1,037    .1392879    .0368229   .0545641   .3658786\n",
      "text_d_mkt~d |        932    .0551869    .0218395   .0055242   .1519678\n",
      "text_d_mk~in |      1,037    .0584735    .0438322  -1.19e-07   .3658786\n",
      "-------------+---------------------------------------------------------\n",
      "text_d_mk~25 |      1,037    .1049511    .0365321   .0545641   .3658786\n",
      "text_d_mk~50 |      1,037    .1303665    .0397347   .0545641   .3658786\n",
      "text_d_mk~75 |      1,037    .1662856    .0477026   .0545641   .3694176\n",
      "text_d_mkt~x |      1,037    .3050979    .1434346   .0545641   .7564847\n"
     ]
    }
   ],
   "source": [
    "su"
   ]
  },
  {
   "cell_type": "code",
   "execution_count": 7,
   "metadata": {},
   "outputs": [
    {
     "name": "stdout",
     "output_type": "stream",
     "text": [
      "file BERTtext_ent_90_100_2twosteps_mktlevel.dta saved\n"
     ]
    }
   ],
   "source": [
    "save BERTtext_ent_90_100_2twosteps_mktlevel.dta "
   ]
  },
  {
   "cell_type": "markdown",
   "metadata": {},
   "source": [
    "### Build on regression individual data from step11"
   ]
  },
  {
   "cell_type": "code",
   "execution_count": 1,
   "metadata": {},
   "outputs": [],
   "source": [
    "use regression_analysis_ind_with_ent_sent_jan18.dta ,clear\n"
   ]
  },
  {
   "cell_type": "code",
   "execution_count": 2,
   "metadata": {},
   "outputs": [
    {
     "name": "stdout",
     "output_type": "stream",
     "text": [
      "C:\\Users\\Herbie Huang\\Google Drive\\Current_SolarResearch\\working_2020\n"
     ]
    }
   ],
   "source": [
    "pwd"
   ]
  },
  {
   "cell_type": "code",
   "execution_count": 3,
   "metadata": {},
   "outputs": [
    {
     "name": "stdout",
     "output_type": "stream",
     "text": [
      "\n",
      "-----------------------------------------------------------------------------------------------------------------\n",
      "state                                                                                                 (unlabeled)\n",
      "-----------------------------------------------------------------------------------------------------------------\n",
      "\n",
      "                  type:  string (str2)\n",
      "\n",
      "         unique values:  33                       missing \"\":  0/8,113\n",
      "\n",
      "              examples:  \"CA\"\n",
      "                         \"MA\"\n",
      "                         \"NH\"\n",
      "                         \"OR\"\n"
     ]
    }
   ],
   "source": [
    "codebook state"
   ]
  },
  {
   "cell_type": "code",
   "execution_count": 4,
   "metadata": {},
   "outputs": [
    {
     "name": "stdout",
     "output_type": "stream",
     "text": [
      "\n",
      "    Variable |        Obs        Mean    Std. Dev.       Min        Max\n",
      "-------------+---------------------------------------------------------\n",
      "         avg |      4,953    4.880346    .3971615          1          5\n",
      "avg_sent_s~e |      8,113    .4171853      .35676     -.8268      .9576\n",
      "        five |      8,113    3.186614    5.435763          0         47\n",
      "        four |      8,113    .1182053    .4957463          0          6\n",
      "installer_id |      8,113    17971.73    6707.007        108      23027\n",
      "-------------+---------------------------------------------------------\n",
      "      market |      8,113    17.78467    13.48697         -1         36\n",
      "         one |      8,113    .0541107    .3254578          0          5\n",
      "quotes_count |      8,113    29.01344    82.90715          0       1417\n",
      "  reviews_ct |      8,113    3.397387     5.80235          0         52\n",
      "       three |      8,113    .0216936    .1506814          0          2\n",
      "-------------+---------------------------------------------------------\n",
      "         two |      8,113    .0167632    .1569087          0          3\n",
      "winning_qu~t |      6,031    .6450008    1.675744          0         43\n",
      "year_month~t |      8,113    43.25823     14.5437          1         64\n",
      "      active |      8,113    .6461235    .4782009          0          1\n",
      " avgmean_mkt |      6,984    4.891938    .1832806          3          5\n",
      "-------------+---------------------------------------------------------\n",
      "avgmean_ot~s |      6,634    4.891381    .1984802          1          5\n",
      "avg_sent_s~t |      8,113    .5971259    .2507234          0    .886075\n",
      "avg_sent_s~s |      8,113    .5662764    .2792114     -.5994      .9576\n",
      "     ent_mkt |      5,340    .2376226    .1857222          0    1.05492\n",
      "  ent_others |      5,340    .2247373    .1915538          0   1.070593\n",
      "-------------+---------------------------------------------------------\n",
      "    ent_self |      5,340    .0981426    .2199734          0   1.209574\n",
      "       state |          0\n",
      "       since |      7,679    2007.288    6.511104       1975       2017\n",
      "       month |      5,916    6.287863    3.560342          1         12\n",
      "        year |      5,916    2016.101    1.312606       2013       2018\n",
      "-------------+---------------------------------------------------------\n",
      "zipcode_to~v |      8,113    3.59e+07    1.17e+08          0   4.85e+09\n",
      "   own_price |      2,304    3.889363    .8173027   1.581735    10.1569\n",
      "other_prices |      4,957    3.882526    .3891808   2.499707   5.362645\n",
      "  log_quotes |      8,113    1.923776     1.65118          0   7.257003\n",
      "  experience |      8,113    5.704425    5.734846          0         43\n",
      "-------------+---------------------------------------------------------\n",
      "     state_n |      8,113    14.22248    9.953327          1         33\n",
      "log_experi~e |      8,113    1.448698    1.058224          0    3.78419\n",
      "temp_own_p~r |      8,113   -.0104862    .4354344  -2.171179   6.641788\n",
      "missing_pr~o |      8,113    .7341304    .4418224          0          1\n",
      "      avg_v2 |      8,113     2.97946    2.400126          0          5\n",
      "-------------+---------------------------------------------------------\n",
      " missing_avg |      8,113    .3894983    .4876666          0          1\n",
      " log_zip_rev |      8,113    10.72304    8.274936          0   22.30267\n",
      "   _est_est1 |      8,113    .5176877    .4997178          0          1\n",
      "   _est_est2 |      8,113    .5176877    .4997178          0          1\n",
      "   _est_est3 |      8,113    .5176877    .4997178          0          1\n",
      "-------------+---------------------------------------------------------\n",
      "   _est_est4 |      8,113    .5176877    .4997178          0          1\n",
      "text_d_mk~an |      6,878    .1366823     .025493   .0545641   .3658786\n",
      "text_d_mkt~d |      6,520    .0607807    .0176777   .0055242   .1519678\n",
      "text_d_mk~in |      6,878    .0393615    .0383562  -1.19e-07   .3658786\n",
      "text_d_mk~25 |      6,878     .096928    .0257496   .0545641   .3658786\n",
      "-------------+---------------------------------------------------------\n",
      "text_d_mk~50 |      6,878    .1244988    .0273267   .0545641   .3658786\n",
      "text_d_mk~75 |      6,878    .1638935    .0337519   .0545641   .3694176\n",
      "text_d_mkt~x |      6,878    .3898438    .1591142   .0545641   .7564847\n",
      "text_d_se~an |      4,000    .1337598    .0474402          0   .3812145\n",
      "text_d_sel~d |      3,093    .0482927    .0310707   .0029742   .2048007\n",
      "-------------+---------------------------------------------------------\n",
      "text_d_se~in |      4,000    .0813179     .049083  -1.19e-07   .3812145\n",
      "text_d_se~25 |      4,000    .1084795    .0437884          0   .3812145\n",
      "text_d_se~50 |      4,000    .1304018    .0495139          0   .3812145\n",
      "text_d_se~75 |      4,000    .1576501    .0640418          0   .4301152\n",
      "text_d_sel~x |      4,000    .2032263    .0950512          0   .6048386\n",
      "-------------+---------------------------------------------------------\n",
      "text_d_ot~an |      6,578    .1364154    .0246705   .0545641   .2817027\n",
      "text_d_oth~d |      6,234    .0609088    .0176095   .0032598   .1592438\n",
      "text_d_ot~in |      6,578    .0391533    .0384044  -1.19e-07   .2546176\n",
      "text_d_ot~25 |      6,578     .096662    .0247299   .0540308   .2546176\n",
      "text_d_ot~50 |      6,578     .124417    .0270161   .0545641   .3658786\n",
      "-------------+---------------------------------------------------------\n",
      "text_d_ot~75 |      6,578    .1633815    .0326967   .0545641   .3718792\n",
      "text_d_oth~x |      6,578    .3901077    .1600692   .0545641   .7564847\n",
      "missing_a~nt |      8,113    .3939357     .488651          0          1\n",
      "missing_av~s |      8,113    .1857513    .3889298          0          1\n",
      "missing_a~kt |      8,113    .1391594    .3461341          0          1\n"
     ]
    }
   ],
   "source": [
    "su"
   ]
  },
  {
   "cell_type": "code",
   "execution_count": 5,
   "metadata": {},
   "outputs": [
    {
     "name": "stdout",
     "output_type": "stream",
     "text": [
      "\n",
      "                         Price Diff\n",
      "-------------------------------------------------------------\n",
      "      Percentiles      Smallest\n",
      " 1%    -1.231106      -2.171179\n",
      " 5%    -.5702672      -2.171179\n",
      "10%    -.3105731      -2.171179       Obs               8,113\n",
      "25%            0      -2.020563       Sum of Wgt.       8,113\n",
      "\n",
      "50%            0                      Mean          -.0104862\n",
      "                        Largest       Std. Dev.      .4354344\n",
      "75%            0       6.641788\n",
      "90%     .0472195       6.641788       Variance       .1896031\n",
      "95%      .473794       6.641788       Skewness       5.187805\n",
      "99%     1.316242       6.641788       Kurtosis       82.11699\n"
     ]
    }
   ],
   "source": [
    "su temp_own_price_diff,d"
   ]
  },
  {
   "cell_type": "markdown",
   "metadata": {},
   "source": [
    "#### winning_quote variable - for market performance "
   ]
  },
  {
   "cell_type": "code",
   "execution_count": 6,
   "metadata": {},
   "outputs": [
    {
     "name": "stdout",
     "output_type": "stream",
     "text": [
      "\n",
      "    Variable |        Obs        Mean    Std. Dev.       Min        Max\n",
      "-------------+---------------------------------------------------------\n",
      "winning_qu~t |      6,031    .6450008    1.675744          0         43\n"
     ]
    }
   ],
   "source": [
    "su winning*"
   ]
  },
  {
   "cell_type": "code",
   "execution_count": 7,
   "metadata": {},
   "outputs": [
    {
     "name": "stdout",
     "output_type": "stream",
     "text": [
      "(2,082 real changes made)\n"
     ]
    }
   ],
   "source": [
    "replace winning_quote=0 if winning_quote==."
   ]
  },
  {
   "cell_type": "markdown",
   "metadata": {},
   "source": [
    "### before we collapse the data to market level"
   ]
  },
  {
   "cell_type": "markdown",
   "metadata": {},
   "source": [
    "#### weighted state dummy "
   ]
  },
  {
   "cell_type": "code",
   "execution_count": 8,
   "metadata": {},
   "outputs": [
    {
     "name": "stdout",
     "output_type": "stream",
     "text": [
      "\n",
      "      state |      Freq.     Percent        Cum.\n",
      "------------+-----------------------------------\n",
      "         AZ |        170        2.10        2.10\n",
      "         CA |      1,729       21.31       23.41\n",
      "         CO |        345        4.25       27.66\n",
      "         CT |        247        3.04       30.70\n",
      "         DC |         35        0.43       31.14\n",
      "         DE |          8        0.10       31.23\n",
      "         FL |        284        3.50       34.73\n",
      "         GA |         24        0.30       35.03\n",
      "         IL |        109        1.34       36.37\n",
      "         IN |         11        0.14       36.51\n",
      "         LA |         33        0.41       36.92\n",
      "         MA |        897       11.06       47.97\n",
      "         MD |        315        3.88       51.86\n",
      "         MI |        140        1.73       53.58\n",
      "         MN |         93        1.15       54.73\n",
      "         MO |         32        0.39       55.12\n",
      "         NC |        387        4.77       59.89\n",
      "         NH |         19        0.23       60.13\n",
      "         NJ |        440        5.42       65.55\n",
      "         NM |         68        0.84       66.39\n",
      "         NV |         51        0.63       67.02\n",
      "         NY |        825       10.17       77.18\n",
      "         OH |        152        1.87       79.06\n",
      "         OR |        125        1.54       80.60\n",
      "         PA |        170        2.10       82.69\n",
      "         RI |        154        1.90       84.59\n",
      "         SC |        125        1.54       86.13\n",
      "         TX |        622        7.67       93.80\n",
      "         UT |         48        0.59       94.39\n",
      "         VA |         83        1.02       95.41\n",
      "         VT |         37        0.46       95.87\n",
      "         WA |        334        4.12       99.99\n",
      "         WI |          1        0.01      100.00\n",
      "------------+-----------------------------------\n",
      "      Total |      8,113      100.00\n"
     ]
    }
   ],
   "source": [
    "tabulate state, generate(dummy_state)"
   ]
  },
  {
   "cell_type": "code",
   "execution_count": 9,
   "metadata": {},
   "outputs": [],
   "source": [
    "bysort market year_month_count: gen count_mkt_year_month=_N"
   ]
  },
  {
   "cell_type": "markdown",
   "metadata": {},
   "source": [
    "#### market level variables to generate \n",
    "1. sum of winning quotes \n",
    "2. sum of reviews accumulated individually \n",
    "3. sum of given quotes "
   ]
  },
  {
   "cell_type": "code",
   "execution_count": 10,
   "metadata": {},
   "outputs": [],
   "source": [
    "egen sum_quotes = total(winning_quotes), by(year_month_count market)\n",
    "egen sum_reviews = total(reviews_ct), by(year_month_count market)\n",
    "egen sum_givenquotes = total(quotes_count), by(year_month_count market)"
   ]
  },
  {
   "cell_type": "markdown",
   "metadata": {},
   "source": [
    "4. keep experience variable (and take average) "
   ]
  },
  {
   "cell_type": "code",
   "execution_count": 11,
   "metadata": {},
   "outputs": [
    {
     "name": "stdout",
     "output_type": "stream",
     "text": [
      "\n",
      "    Variable |        Obs        Mean    Std. Dev.       Min        Max\n",
      "-------------+---------------------------------------------------------\n",
      "  experience |      8,113    5.704425    5.734846          0         43\n"
     ]
    }
   ],
   "source": [
    "su experience"
   ]
  },
  {
   "cell_type": "code",
   "execution_count": 12,
   "metadata": {},
   "outputs": [
    {
     "name": "stdout",
     "output_type": "stream",
     "text": [
      "\n",
      "                         Price Diff\n",
      "-------------------------------------------------------------\n",
      "      Percentiles      Smallest\n",
      " 1%    -1.231106      -2.171179\n",
      " 5%    -.5702672      -2.171179\n",
      "10%    -.3105731      -2.171179       Obs               8,113\n",
      "25%            0      -2.020563       Sum of Wgt.       8,113\n",
      "\n",
      "50%            0                      Mean          -.0104862\n",
      "                        Largest       Std. Dev.      .4354344\n",
      "75%            0       6.641788\n",
      "90%     .0472195       6.641788       Variance       .1896031\n",
      "95%      .473794       6.641788       Skewness       5.187805\n",
      "99%     1.316242       6.641788       Kurtosis       82.11699\n"
     ]
    }
   ],
   "source": [
    "su temp_own_price*,d"
   ]
  },
  {
   "cell_type": "code",
   "execution_count": 13,
   "metadata": {},
   "outputs": [
    {
     "name": "stdout",
     "output_type": "stream",
     "text": [
      "\n",
      "    Variable |        Obs        Mean    Std. Dev.       Min        Max\n",
      "-------------+---------------------------------------------------------\n",
      "     ent_mkt |      5,340    .2376226    .1857222          0    1.05492\n",
      "  ent_others |      5,340    .2247373    .1915538          0   1.070593\n",
      "    ent_self |      5,340    .0981426    .2199734          0   1.209574\n"
     ]
    }
   ],
   "source": [
    "su ent*"
   ]
  },
  {
   "cell_type": "code",
   "execution_count": 14,
   "metadata": {},
   "outputs": [
    {
     "name": "stdout",
     "output_type": "stream",
     "text": [
      "\n",
      "    Variable |        Obs        Mean    Std. Dev.       Min        Max\n",
      "-------------+---------------------------------------------------------\n",
      "avg_sent_s~t |      8,113    .5971259    .2507234          0    .886075\n"
     ]
    }
   ],
   "source": [
    "su avg_sent_score_mkt"
   ]
  },
  {
   "cell_type": "code",
   "execution_count": 16,
   "metadata": {},
   "outputs": [
    {
     "name": "stdout",
     "output_type": "stream",
     "text": [
      "\n",
      "                       text_d_mkt_mean\n",
      "-------------------------------------------------------------\n",
      "      Percentiles      Smallest\n",
      " 1%     .0728262       .0545641\n",
      " 5%     .0935677       .0545641\n",
      "10%     .1124624       .0545641       Obs               6,878\n",
      "25%      .128893       .0545641       Sum of Wgt.       6,878\n",
      "\n",
      "50%     .1348795                      Mean           .1366823\n",
      "                        Largest       Std. Dev.       .025493\n",
      "75%     .1426059       .2817027\n",
      "90%     .1563616       .2817027       Variance       .0006499\n",
      "95%     .1715349       .2817027       Skewness       1.583296\n",
      "99%     .2546176       .3658786       Kurtosis       10.97524\n",
      "\n",
      "                       text_d_mkt_std\n",
      "-------------------------------------------------------------\n",
      "      Percentiles      Smallest\n",
      " 1%     .0158695       .0055242\n",
      " 5%     .0255847       .0055242\n",
      "10%     .0338859       .0055242       Obs               6,520\n",
      "25%      .053569       .0055242       Sum of Wgt.       6,520\n",
      "\n",
      "50%     .0639243                      Mean           .0607807\n",
      "                        Largest       Std. Dev.      .0176777\n",
      "75%     .0709781       .1519678\n",
      "90%     .0765122       .1519678       Variance       .0003125\n",
      "95%     .0835445       .1519678       Skewness        -.19935\n",
      "99%     .1066724       .1519678       Kurtosis       5.286667\n",
      "\n",
      "                       text_d_mkt_min\n",
      "-------------------------------------------------------------\n",
      "      Percentiles      Smallest\n",
      " 1%    -1.19e-07      -1.19e-07\n",
      " 5%            0      -1.19e-07\n",
      "10%            0      -1.19e-07       Obs               6,878\n",
      "25%     .0165548      -1.19e-07       Sum of Wgt.       6,878\n",
      "\n",
      "50%     .0357672                      Mean           .0393615\n",
      "                        Largest       Std. Dev.      .0383562\n",
      "75%     .0545062       .2546176\n",
      "90%     .0733013       .2546176       Variance       .0014712\n",
      "95%     .0971599       .2546176       Skewness       2.582853\n",
      "99%     .2546176       .3658786       Kurtosis       14.46043\n",
      "\n",
      "                       text_d_mkt_p25\n",
      "-------------------------------------------------------------\n",
      "      Percentiles      Smallest\n",
      " 1%     .0696086       .0545641\n",
      " 5%     .0748703       .0545641\n",
      "10%     .0806369       .0545641       Obs               6,878\n",
      "25%     .0860991       .0545641       Sum of Wgt.       6,878\n",
      "\n",
      "50%     .0927259                      Mean            .096928\n",
      "                        Largest       Std. Dev.      .0257496\n",
      "75%     .0980535       .2546176\n",
      "90%     .1091707       .2546176       Variance        .000663\n",
      "95%     .1354124       .2546176       Skewness       4.079744\n",
      "99%     .2546176       .3658786       Kurtosis       23.08822\n",
      "\n",
      "                       text_d_mkt_p50\n",
      "-------------------------------------------------------------\n",
      "      Percentiles      Smallest\n",
      " 1%     .0728262       .0545641\n",
      " 5%     .0910141       .0545641\n",
      "10%     .1025158       .0545641       Obs               6,878\n",
      "25%     .1151649       .0545641       Sum of Wgt.       6,878\n",
      "\n",
      "50%     .1206151                      Mean           .1244988\n",
      "                        Largest       Std. Dev.      .0273267\n",
      "75%     .1276371       .3658786\n",
      "90%     .1439232       .3658786       Variance       .0007468\n",
      "95%     .1680385       .3658786       Skewness       3.037021\n",
      "99%     .2546176       .3658786       Kurtosis       18.18598\n",
      "\n",
      "                       text_d_mkt_p75\n",
      "-------------------------------------------------------------\n",
      "      Percentiles      Smallest\n",
      " 1%     .0728262       .0545641\n",
      " 5%     .1012825       .0545641\n",
      "10%      .135021       .0545641       Obs               6,878\n",
      "25%     .1526838       .0545641       Sum of Wgt.       6,878\n",
      "\n",
      "50%     .1620526                      Mean           .1638935\n",
      "                        Largest       Std. Dev.      .0337519\n",
      "75%     .1746984       .3694176\n",
      "90%     .1952156       .3694176       Variance       .0011392\n",
      "95%     .2128501       .3694176       Skewness       .9329976\n",
      "99%      .271126       .3694176       Kurtosis       8.760299\n",
      "\n",
      "                       text_d_mkt_max\n",
      "-------------------------------------------------------------\n",
      "      Percentiles      Smallest\n",
      " 1%     .0728262       .0545641\n",
      " 5%     .1100187       .0545641\n",
      "10%     .1617838       .0545641       Obs               6,878\n",
      "25%     .2733854       .0545641       Sum of Wgt.       6,878\n",
      "\n",
      "50%      .399628                      Mean           .3898438\n",
      "                        Largest       Std. Dev.      .1591142\n",
      "75%     .5266904       .7564847\n",
      "90%     .5527556       .7564847       Variance       .0253173\n",
      "95%     .6841499       .7564847       Skewness       .0734418\n",
      "99%     .7564847       .7564847       Kurtosis       2.660074\n"
     ]
    }
   ],
   "source": [
    "su text_d_mkt*,d"
   ]
  },
  {
   "cell_type": "code",
   "execution_count": 19,
   "metadata": {},
   "outputs": [
    {
     "name": "stdout",
     "output_type": "stream",
     "text": [
      "(obs=6,878)\n",
      "\n",
      "             | t~t_mean te~t_p50\n",
      "-------------+------------------\n",
      "text_d_mk~an |   1.0000\n",
      "text_d_mk~50 |   0.9229   1.0000\n",
      "\n"
     ]
    }
   ],
   "source": [
    "corr text_d_mkt_mean  text_d_mkt_p50"
   ]
  },
  {
   "cell_type": "code",
   "execution_count": 20,
   "metadata": {},
   "outputs": [],
   "source": [
    "collapse (first) sum_quotes sum_reviews sum_givenquotes ent_mkt text_d_mkt_p50 text_d_mkt_mean log_zip_rev avgmean_mkt avg_sent_score_mkt month year count_mkt_year_month (mean) experience temp_own_price* (sum) dummy*, by(year_month_count market)"
   ]
  },
  {
   "cell_type": "markdown",
   "metadata": {},
   "source": [
    "### after collapse data "
   ]
  },
  {
   "cell_type": "markdown",
   "metadata": {},
   "source": [
    "#### Generate weighted state dummy"
   ]
  },
  {
   "cell_type": "code",
   "execution_count": 21,
   "metadata": {},
   "outputs": [
    {
     "name": "stdout",
     "output_type": "stream",
     "text": [
      "\n",
      "(65 real changes made)\n",
      "(158 real changes made)\n",
      "(91 real changes made)\n",
      "(104 real changes made)\n",
      "(17 real changes made)\n",
      "(8 real changes made)\n",
      "(72 real changes made)\n",
      "(1 real change made)\n",
      "(46 real changes made)\n",
      "(11 real changes made)\n",
      "(4 real changes made)\n",
      "(122 real changes made)\n",
      "(108 real changes made)\n",
      "(39 real changes made)\n",
      "(37 real changes made)\n",
      "(19 real changes made)\n",
      "(114 real changes made)\n",
      "(15 real changes made)\n",
      "(81 real changes made)\n",
      "(14 real changes made)\n",
      "(21 real changes made)\n",
      "(178 real changes made)\n",
      "(88 real changes made)\n",
      "(59 real changes made)\n",
      "(84 real changes made)\n",
      "(45 real changes made)\n",
      "(75 real changes made)\n",
      "(174 real changes made)\n",
      "(18 real changes made)\n",
      "(61 real changes made)\n",
      "(24 real changes made)\n",
      "(101 real changes made)\n",
      "(0 real changes made)\n"
     ]
    }
   ],
   "source": [
    "foreach x of varlist dummy_state* {\n",
    "    replace `x'=`x'/count_mkt_year_month\n",
    "}"
   ]
  },
  {
   "cell_type": "markdown",
   "metadata": {},
   "source": [
    "### log variables that needed to be logged "
   ]
  },
  {
   "cell_type": "code",
   "execution_count": 22,
   "metadata": {},
   "outputs": [
    {
     "name": "stdout",
     "output_type": "stream",
     "text": [
      "\n",
      "(64 observations deleted)\n",
      "\n",
      "\n",
      "\n"
     ]
    }
   ],
   "source": [
    "drop if market==-1\n",
    "gen log_sum_quotes=log(1+sum_quotes)\n",
    "gen log_sum_reviews=log(1+sum_reviews)\n",
    "\n",
    "gen log_sum_givenquotes=log(1+sum_givenquotes)"
   ]
  },
  {
   "cell_type": "code",
   "execution_count": 23,
   "metadata": {},
   "outputs": [
    {
     "name": "stdout",
     "output_type": "stream",
     "text": [
      "       panel variable:  market (unbalanced)\n",
      "        time variable:  year_month_~t, 1 to 64, but with gaps\n",
      "                delta:  1 unit\n"
     ]
    }
   ],
   "source": [
    "xtset market year_month_count"
   ]
  },
  {
   "cell_type": "code",
   "execution_count": 24,
   "metadata": {},
   "outputs": [
    {
     "name": "stdout",
     "output_type": "stream",
     "text": [
      "\n",
      "    Variable |        Obs        Mean    Std. Dev.       Min        Max\n",
      "-------------+---------------------------------------------------------\n",
      "      market |      1,528    18.64725    11.41016          0         36\n",
      "year_month~t |      1,528     38.8534    16.47747          1         64\n",
      "  sum_quotes |      1,528    2.388089    6.625488          0         91\n",
      " sum_reviews |      1,528    16.71204    37.07434          0        314\n",
      "sum_givenq~s |      1,528     141.498    410.1673          0       4280\n",
      "-------------+---------------------------------------------------------\n",
      "     ent_mkt |        808    .1855405    .2326058          0    1.05492\n",
      "text_d_mk~50 |        998    .1306127    .0404729   .0545641   .3658786\n",
      "text_d_mkt~n |        998     .139373    .0374821   .0545641   .3658786\n",
      " log_zip_rev |      1,528    8.201697    7.954562          0   22.30267\n",
      " avgmean_mkt |      1,027    4.887787    .2379249          3          5\n",
      "-------------+---------------------------------------------------------\n",
      "avg_sent_s~t |      1,528    .4637286    .3349317          0    .886075\n",
      "       month |        934     6.12848    3.546141          1         12\n",
      "        year |        934    2015.678    1.532078       2013       2018\n",
      "count_mkt_~h |      1,528    4.926702    5.505477          1         33\n",
      "  experience |      1,528    4.870216    5.222168          0         27\n",
      "-------------+---------------------------------------------------------\n",
      "temp_own_p~r |      1,528    .0159878    .2080447   -1.10592   1.970224\n",
      "dummy_state1 |      1,528    .0484293    .2147419          0          1\n",
      "dummy_state2 |      1,528     .098822    .2985206          0          1\n",
      "dummy_state3 |      1,528    .0386126    .1927328          0          1\n",
      "dummy_state4 |      1,528    .0190341    .0792569          0         .5\n",
      "-------------+---------------------------------------------------------\n",
      "dummy_state5 |      1,528    .0097404    .0850897          0          1\n",
      "dummy_state6 |      1,528    .0002728    .0038064          0   .0666667\n",
      "dummy_state7 |      1,528    .0543194     .226721          0          1\n",
      "dummy_state8 |      1,528    .0150524     .121801          0          1\n",
      "dummy_state9 |      1,528    .0340314    .1813692          0          1\n",
      "-------------+---------------------------------------------------------\n",
      "dummy_sta~10 |      1,528           0           0          0          0\n",
      "dummy_sta~11 |      1,528    .0189791    .1364956          0          1\n",
      "dummy_sta~12 |      1,528    .0466687    .1862878          0          1\n",
      "dummy_sta~13 |      1,528    .0333937    .1323594          0   .8333333\n",
      "dummy_sta~14 |      1,528    .0340314    .1813692          0          1\n",
      "-------------+---------------------------------------------------------\n",
      "dummy_sta~15 |      1,528    .0366492    .1879606          0          1\n",
      "dummy_sta~16 |      1,528    .0085079    .0918749          0          1\n",
      "dummy_sta~17 |      1,528    .0604821    .2312033          0          1\n",
      "dummy_sta~18 |      1,528    .0006109    .0064027          0   .0952381\n",
      "dummy_sta~19 |      1,528    .0325885    .1537844          0          1\n",
      "-------------+---------------------------------------------------------\n",
      "dummy_sta~20 |      1,528     .033377    .1796777          0          1\n",
      "dummy_sta~21 |      1,528    .0163613     .126902          0          1\n",
      "dummy_sta~22 |      1,528    .0749947    .2303687          0          1\n",
      "dummy_sta~23 |      1,528    .0229058    .1496521          0          1\n",
      "dummy_sta~24 |      1,528    .0196335    .1387827          0          1\n",
      "-------------+---------------------------------------------------------\n",
      "dummy_sta~25 |      1,528    .0259114    .1306292          0          1\n",
      "dummy_sta~26 |      1,528    .0052123    .0323007          0   .2727273\n",
      "dummy_sta~27 |      1,528    .0056174    .0467246          0          1\n",
      "dummy_sta~28 |      1,528    .1295812     .335952          0          1\n",
      "dummy_sta~29 |      1,528    .0124346    .1108512          0          1\n",
      "-------------+---------------------------------------------------------\n",
      "dummy_sta~30 |      1,528    .0238874    .1290707          0          1\n",
      "dummy_sta~31 |      1,528    .0012451    .0107232          0        .15\n",
      "dummy_sta~32 |      1,528    .0379581    .1911576          0          1\n",
      "dummy_sta~33 |      1,528    .0006545    .0255822          0          1\n",
      "log_sum_qu~s |      1,528    .6238486    .8885453          0   4.521789\n",
      "-------------+---------------------------------------------------------\n",
      "log_sum_re~s |      1,528    1.617622    1.521182          0   5.752573\n",
      "log_sum_gi~s |      1,528    3.047596    2.026353          0   8.361942\n"
     ]
    }
   ],
   "source": [
    "su"
   ]
  },
  {
   "cell_type": "markdown",
   "metadata": {},
   "source": [
    "save regression_analysis_mkt_with_ent_sent_jan18.dta, replace"
   ]
  },
  {
   "cell_type": "code",
   "execution_count": 25,
   "metadata": {},
   "outputs": [
    {
     "name": "stdout",
     "output_type": "stream",
     "text": [
      "(note: file regression_analysis_mkt_with_ent_sent_june9.dta not found)\n",
      "file regression_analysis_mkt_with_ent_sent_june9.dta saved\n"
     ]
    }
   ],
   "source": [
    "save regression_analysis_mkt_with_ent_sent_june9.dta, replace"
   ]
  },
  {
   "cell_type": "markdown",
   "metadata": {},
   "source": [
    "## Patch: label variables "
   ]
  },
  {
   "cell_type": "code",
   "execution_count": 83,
   "metadata": {},
   "outputs": [],
   "source": [
    "use  regression_analysis_mkt_with_ent_sent_jan18.dta, replace"
   ]
  },
  {
   "cell_type": "code",
   "execution_count": 84,
   "metadata": {},
   "outputs": [],
   "source": [
    "label variable ent_mkt \"Entropy\""
   ]
  },
  {
   "cell_type": "code",
   "execution_count": 85,
   "metadata": {},
   "outputs": [],
   "source": [
    "label variable ent_mkt \"Entropy\"\n",
    "label variable avgmean_mkt \"Rating Avg\"\n",
    "label variable log_zip_rev \"Mkt Revenue\"\n",
    "label variable experience \"Experience(Avg)\"\n",
    "label variable temp_own_price_diff_other \"Price Diff(Avg)\""
   ]
  },
  {
   "cell_type": "code",
   "execution_count": 86,
   "metadata": {},
   "outputs": [],
   "source": [
    "\n",
    "label variable text_d_mkt_p50  \"Text-based Entropy\"\n",
    "label variable log_sum_givenquotes \"Activity\"\n",
    "label variable log_sum_quotes \"Transaction\""
   ]
  },
  {
   "cell_type": "code",
   "execution_count": 90,
   "metadata": {},
   "outputs": [],
   "source": [
    "label variable avg_sent_score_mkt  \"Sentiment Score\""
   ]
  },
  {
   "cell_type": "code",
   "execution_count": 91,
   "metadata": {},
   "outputs": [
    {
     "name": "stdout",
     "output_type": "stream",
     "text": [
      "file regression_analysis_mkt_with_ent_sent_jan18.dta saved\n"
     ]
    }
   ],
   "source": [
    "save regression_analysis_mkt_with_ent_sent_jan18.dta, replace"
   ]
  },
  {
   "cell_type": "markdown",
   "metadata": {},
   "source": [
    "## Patch: label variables - June 9th 2020"
   ]
  },
  {
   "cell_type": "code",
   "execution_count": 26,
   "metadata": {},
   "outputs": [],
   "source": [
    "use regression_analysis_mkt_with_ent_sent_june9.dta, replace"
   ]
  },
  {
   "cell_type": "code",
   "execution_count": 27,
   "metadata": {},
   "outputs": [],
   "source": [
    "label variable ent_mkt \"Rating_Entropy_Mkt\"\n",
    "label variable avgmean_mkt \"Average_Rating_Mkt\"\n",
    "label variable log_zip_rev \"Market_LogRevenue\"\n",
    "label variable experience \"Experience\"\n",
    "label variable temp_own_price_diff_other \"Price_Difference\"\n",
    "label variable text_d_mkt_mean  \"Text_Dispersion_Mkt\"\n",
    "label variable text_d_mkt_p50  \"Text_Dispersion_Mkt\"\n",
    "label variable log_sum_givenquotes \"Market Transaction\"\n",
    "label variable log_sum_quotes \"Market Transaction\"\n",
    "label variable avg_sent_score_mkt  \"Average_Sentiment_Mkt\""
   ]
  },
  {
   "cell_type": "code",
   "execution_count": 28,
   "metadata": {},
   "outputs": [
    {
     "name": "stdout",
     "output_type": "stream",
     "text": [
      "file regression_analysis_mkt_with_ent_sent_june9.dta saved\n"
     ]
    }
   ],
   "source": [
    "save regression_analysis_mkt_with_ent_sent_june9.dta, replace"
   ]
  },
  {
   "cell_type": "code",
   "execution_count": 29,
   "metadata": {},
   "outputs": [
    {
     "name": "stdout",
     "output_type": "stream",
     "text": [
      "(obs=998)\n",
      "\n",
      "             | text_d~n text_~50\n",
      "-------------+------------------\n",
      "text_d_mkt~n |   1.0000\n",
      "text_d_mk~50 |   0.9401   1.0000\n",
      "\n"
     ]
    }
   ],
   "source": [
    "corr text_d_mkt_mean text_d_mkt_p50"
   ]
  }
 ],
 "metadata": {
  "kernelspec": {
   "display_name": "Stata",
   "language": "stata",
   "name": "stata"
  },
  "language_info": {
   "codemirror_mode": "stata",
   "file_extension": ".do",
   "mimetype": "text/x-stata",
   "name": "stata",
   "version": "15.1"
  }
 },
 "nbformat": 4,
 "nbformat_minor": 4
}
