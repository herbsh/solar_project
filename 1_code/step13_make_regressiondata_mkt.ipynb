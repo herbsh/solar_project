{
 "cells": [
  {
   "cell_type": "markdown",
   "metadata": {},
   "source": [
    "# Make Data for Market Level analysis "
   ]
  },
  {
   "cell_type": "markdown",
   "metadata": {},
   "source": [
    "## Input: Import and Process Text Dispersion Bert data"
   ]
  },
  {
   "cell_type": "code",
   "execution_count": 2,
   "metadata": {},
   "outputs": [],
   "source": [
    "use \"../2_pipeline/BERTtext_ent_90_100_2twosteps.dta \""
   ]
  },
  {
   "cell_type": "code",
   "execution_count": 3,
   "metadata": {},
   "outputs": [
    {
     "name": "stdout",
     "output_type": "stream",
     "text": [
      "\n",
      "    Variable |        Obs        Mean    Std. Dev.       Min        Max\n",
      "-------------+---------------------------------------------------------\n",
      "      market |     10,368    17.80469    13.55121         -1         36\n",
      "year_month~t |     10,368    45.79948    14.39884          1         64\n",
      "installer_id |     10,368    18044.93    6707.335        108      23027\n",
      "text_d_mk~an |      9,057    .1375434    .0235513   .0545641   .3658786\n",
      "text_d_mkt~d |      8,679    .0617684    .0166544   .0055242   .1519678\n",
      "-------------+---------------------------------------------------------\n",
      "text_d_mk~in |      9,057     .035209    .0365696  -1.19e-07   .3658786\n",
      "text_d_mk~25 |      9,057    .0966523    .0236698   .0545641   .3658786\n",
      "text_d_mk~50 |      9,057    .1248378    .0254379   .0545641   .3658786\n",
      "text_d_mk~75 |      9,057    .1652722    .0316213   .0545641   .3694176\n",
      "text_d_mkt~x |      9,057      .41044    .1597509   .0545641   .7564847\n",
      "-------------+---------------------------------------------------------\n",
      "text_d_se~an |      5,313    .1361488    .0493448          0   .3812145\n",
      "text_d_sel~d |      4,096    .0485214    .0318153   .0029742   .2048007\n",
      "text_d_se~in |      5,313    .0834631     .050881  -1.19e-07   .3812145\n",
      "text_d_se~25 |      5,313    .1111181     .045195          0   .3812145\n",
      "text_d_se~50 |      5,313    .1330836    .0516636          0   .3812145\n",
      "-------------+---------------------------------------------------------\n",
      "text_d_se~75 |      5,313    .1601485    .0664047          0   .4301152\n",
      "text_d_sel~x |      5,313    .2046666    .0973689          0   .6048386\n",
      "text_d_ot~an |      8,739    .1373603    .0235285   .0545641   .3729565\n",
      "text_d_oth~d |      8,375    .0618491    .0167686   .0032598   .1592438\n",
      "text_d_ot~in |      8,739    .0353768    .0372218  -1.19e-07   .3729565\n",
      "-------------+---------------------------------------------------------\n",
      "text_d_ot~25 |      8,739    .0965148    .0233834   .0540308   .3729565\n",
      "text_d_ot~50 |      8,739    .1247767    .0256372   .0545641   .3729565\n",
      "text_d_ot~75 |      8,739    .1648848    .0314487   .0545641   .3729565\n",
      "text_d_oth~x |      8,739    .4097347    .1603334   .0545641   .7564847\n"
     ]
    }
   ],
   "source": [
    "su"
   ]
  },
  {
   "cell_type": "code",
   "execution_count": 4,
   "metadata": {},
   "outputs": [],
   "source": [
    "keep market year_month_count text_d_mkt*"
   ]
  },
  {
   "cell_type": "code",
   "execution_count": 5,
   "metadata": {},
   "outputs": [
    {
     "name": "stdout",
     "output_type": "stream",
     "text": [
      "\n",
      "    Variable |        Obs        Mean    Std. Dev.       Min        Max\n",
      "-------------+---------------------------------------------------------\n",
      "      market |     10,368    17.80469    13.55121         -1         36\n",
      "year_month~t |     10,368    45.79948    14.39884          1         64\n",
      "text_d_mk~an |      9,057    .1375434    .0235513   .0545641   .3658786\n",
      "text_d_mkt~d |      8,679    .0617684    .0166544   .0055242   .1519678\n",
      "text_d_mk~in |      9,057     .035209    .0365696  -1.19e-07   .3658786\n",
      "-------------+---------------------------------------------------------\n",
      "text_d_mk~25 |      9,057    .0966523    .0236698   .0545641   .3658786\n",
      "text_d_mk~50 |      9,057    .1248378    .0254379   .0545641   .3658786\n",
      "text_d_mk~75 |      9,057    .1652722    .0316213   .0545641   .3694176\n",
      "text_d_mkt~x |      9,057      .41044    .1597509   .0545641   .7564847\n"
     ]
    }
   ],
   "source": [
    "su"
   ]
  },
  {
   "cell_type": "code",
   "execution_count": 6,
   "metadata": {},
   "outputs": [
    {
     "name": "stdout",
     "output_type": "stream",
     "text": [
      "\n",
      "Duplicates in terms of all variables\n",
      "\n",
      "(8,776 observations deleted)\n"
     ]
    }
   ],
   "source": [
    "duplicates drop"
   ]
  },
  {
   "cell_type": "code",
   "execution_count": 7,
   "metadata": {},
   "outputs": [
    {
     "name": "stdout",
     "output_type": "stream",
     "text": [
      "\n",
      "    Variable |        Obs        Mean    Std. Dev.       Min        Max\n",
      "-------------+---------------------------------------------------------\n",
      "      market |      1,592    17.85741    11.82617         -1         36\n",
      "year_month~t |      1,592    38.59799    16.60936          1         64\n",
      "text_d_mk~an |      1,037    .1392879    .0368229   .0545641   .3658786\n",
      "text_d_mkt~d |        932    .0551869    .0218395   .0055242   .1519678\n",
      "text_d_mk~in |      1,037    .0584735    .0438322  -1.19e-07   .3658786\n",
      "-------------+---------------------------------------------------------\n",
      "text_d_mk~25 |      1,037    .1049511    .0365321   .0545641   .3658786\n",
      "text_d_mk~50 |      1,037    .1303665    .0397347   .0545641   .3658786\n",
      "text_d_mk~75 |      1,037    .1662856    .0477026   .0545641   .3694176\n",
      "text_d_mkt~x |      1,037    .3050979    .1434346   .0545641   .7564847\n"
     ]
    }
   ],
   "source": [
    "su"
   ]
  },
  {
   "cell_type": "markdown",
   "metadata": {},
   "source": [
    "## Output: market level text dispersion "
   ]
  },
  {
   "cell_type": "code",
   "execution_count": 7,
   "metadata": {},
   "outputs": [
    {
     "name": "stdout",
     "output_type": "stream",
     "text": [
      "file BERTtext_ent_90_100_2twosteps_mktlevel.dta saved\n"
     ]
    }
   ],
   "source": [
    "save \"../2_pipeline/BERTtext_ent_90_100_2twosteps_mktlevel.dta\""
   ]
  },
  {
   "cell_type": "markdown",
   "metadata": {},
   "source": [
    "## Input:  Build on regression individual data from step11"
   ]
  },
  {
   "cell_type": "code",
   "execution_count": 15,
   "metadata": {},
   "outputs": [],
   "source": [
    "use \"../3_output/regression_analysis_ind_with_ent_sent_june2020.dta\" ,clear\n"
   ]
  },
  {
   "cell_type": "code",
   "execution_count": 16,
   "metadata": {},
   "outputs": [
    {
     "name": "stdout",
     "output_type": "stream",
     "text": [
      "\n",
      "---------------------------------------------------------------------------------------------------------------------------------------------------------------------------------------------------------------------------------------------------------------\n",
      "state                                                                                                                                                                                                                                               (unlabeled)\n",
      "---------------------------------------------------------------------------------------------------------------------------------------------------------------------------------------------------------------------------------------------------------------\n",
      "\n",
      "                  type:  string (str2)\n",
      "\n",
      "         unique values:  33                       missing \"\":  0/8,113\n",
      "\n",
      "              examples:  \"CA\"\n",
      "                         \"MA\"\n",
      "                         \"NH\"\n",
      "                         \"OR\"\n"
     ]
    }
   ],
   "source": [
    "codebook state"
   ]
  },
  {
   "cell_type": "markdown",
   "metadata": {},
   "source": [
    "## Data Cleaning: fill in missing winning_quote"
   ]
  },
  {
   "cell_type": "code",
   "execution_count": 19,
   "metadata": {},
   "outputs": [
    {
     "name": "stdout",
     "output_type": "stream",
     "text": [
      "\n",
      "    Variable |        Obs        Mean    Std. Dev.       Min        Max\n",
      "-------------+---------------------------------------------------------\n",
      "winning_qu~t |      8,113    .4794774    1.471995          0         43\n"
     ]
    }
   ],
   "source": [
    "su winning*"
   ]
  },
  {
   "cell_type": "code",
   "execution_count": 20,
   "metadata": {},
   "outputs": [
    {
     "name": "stdout",
     "output_type": "stream",
     "text": [
      "(0 real changes made)\n"
     ]
    }
   ],
   "source": [
    "replace winning_quote=0 if winning_quote==."
   ]
  },
  {
   "cell_type": "markdown",
   "metadata": {},
   "source": [
    "## Data Cleaning: make weighted state dummy before we collapse the data to market level"
   ]
  },
  {
   "cell_type": "markdown",
   "metadata": {},
   "source": [
    "#### weighted state dummy "
   ]
  },
  {
   "cell_type": "code",
   "execution_count": 21,
   "metadata": {},
   "outputs": [
    {
     "name": "stdout",
     "output_type": "stream",
     "text": [
      "\n",
      "      state |      Freq.     Percent        Cum.\n",
      "------------+-----------------------------------\n",
      "         AZ |        170        2.10        2.10\n",
      "         CA |      1,729       21.31       23.41\n",
      "         CO |        345        4.25       27.66\n",
      "         CT |        247        3.04       30.70\n",
      "         DC |         35        0.43       31.14\n",
      "         DE |          8        0.10       31.23\n",
      "         FL |        284        3.50       34.73\n",
      "         GA |         24        0.30       35.03\n",
      "         IL |        109        1.34       36.37\n",
      "         IN |         11        0.14       36.51\n",
      "         LA |         33        0.41       36.92\n",
      "         MA |        897       11.06       47.97\n",
      "         MD |        315        3.88       51.86\n",
      "         MI |        140        1.73       53.58\n",
      "         MN |         93        1.15       54.73\n",
      "         MO |         32        0.39       55.12\n",
      "         NC |        387        4.77       59.89\n",
      "         NH |         19        0.23       60.13\n",
      "         NJ |        440        5.42       65.55\n",
      "         NM |         68        0.84       66.39\n",
      "         NV |         51        0.63       67.02\n",
      "         NY |        825       10.17       77.18\n",
      "         OH |        152        1.87       79.06\n",
      "         OR |        125        1.54       80.60\n",
      "         PA |        170        2.10       82.69\n",
      "         RI |        154        1.90       84.59\n",
      "         SC |        125        1.54       86.13\n",
      "         TX |        622        7.67       93.80\n",
      "         UT |         48        0.59       94.39\n",
      "         VA |         83        1.02       95.41\n",
      "         VT |         37        0.46       95.87\n",
      "         WA |        334        4.12       99.99\n",
      "         WI |          1        0.01      100.00\n",
      "------------+-----------------------------------\n",
      "      Total |      8,113      100.00\n"
     ]
    }
   ],
   "source": [
    "tabulate state, generate(dummy_state)"
   ]
  },
  {
   "cell_type": "code",
   "execution_count": 22,
   "metadata": {},
   "outputs": [],
   "source": [
    "bysort market year_month_count: gen count_mkt_year_month=_N"
   ]
  },
  {
   "cell_type": "markdown",
   "metadata": {},
   "source": [
    "### market level variables to generate \n",
    "1. sum of winning quotes \n",
    "2. sum of reviews accumulated individually \n",
    "3. sum of given quotes "
   ]
  },
  {
   "cell_type": "code",
   "execution_count": 23,
   "metadata": {},
   "outputs": [],
   "source": [
    "egen sum_quotes = total(winning_quotes), by(year_month_count market)\n",
    "egen sum_reviews = total(reviews_ct), by(year_month_count market)\n",
    "egen sum_givenquotes = total(quotes_count), by(year_month_count market)"
   ]
  },
  {
   "cell_type": "markdown",
   "metadata": {},
   "source": [
    "4. Average experience variable (and take average) "
   ]
  },
  {
   "cell_type": "markdown",
   "metadata": {},
   "source": [
    "### Collapse into market level "
   ]
  },
  {
   "cell_type": "code",
   "execution_count": 25,
   "metadata": {},
   "outputs": [],
   "source": [
    "collapse (first) sum_quotes sum_reviews sum_givenquotes ent_mkt text_d_mkt_p50 text_d_mkt_mean log_zip_rev avgmean_mkt avg_sent_score_mkt month year count_mkt_year_month (mean) experience temp_own_price* (sum) dummy*, by(year_month_count market)"
   ]
  },
  {
   "cell_type": "markdown",
   "metadata": {},
   "source": [
    "# after collapse data "
   ]
  },
  {
   "cell_type": "markdown",
   "metadata": {},
   "source": [
    "## Generate weighted state dummy"
   ]
  },
  {
   "cell_type": "code",
   "execution_count": 26,
   "metadata": {},
   "outputs": [
    {
     "name": "stdout",
     "output_type": "stream",
     "text": [
      "\n",
      "(65 real changes made)\n",
      "(158 real changes made)\n",
      "(91 real changes made)\n",
      "(104 real changes made)\n",
      "(17 real changes made)\n",
      "(8 real changes made)\n",
      "(72 real changes made)\n",
      "(1 real change made)\n",
      "(46 real changes made)\n",
      "(11 real changes made)\n",
      "(4 real changes made)\n",
      "(122 real changes made)\n",
      "(108 real changes made)\n",
      "(39 real changes made)\n",
      "(37 real changes made)\n",
      "(19 real changes made)\n",
      "(114 real changes made)\n",
      "(15 real changes made)\n",
      "(81 real changes made)\n",
      "(14 real changes made)\n",
      "(21 real changes made)\n",
      "(178 real changes made)\n",
      "(88 real changes made)\n",
      "(59 real changes made)\n",
      "(84 real changes made)\n",
      "(45 real changes made)\n",
      "(75 real changes made)\n",
      "(174 real changes made)\n",
      "(18 real changes made)\n",
      "(61 real changes made)\n",
      "(24 real changes made)\n",
      "(101 real changes made)\n",
      "(0 real changes made)\n"
     ]
    }
   ],
   "source": [
    "foreach x of varlist dummy_state* {\n",
    "    replace `x'=`x'/count_mkt_year_month\n",
    "}"
   ]
  },
  {
   "cell_type": "markdown",
   "metadata": {},
   "source": [
    "## log variables that needed to be logged "
   ]
  },
  {
   "cell_type": "code",
   "execution_count": 27,
   "metadata": {},
   "outputs": [
    {
     "name": "stdout",
     "output_type": "stream",
     "text": [
      "\n",
      "(64 observations deleted)\n",
      "\n",
      "\n",
      "\n"
     ]
    }
   ],
   "source": [
    "drop if market==-1\n",
    "gen log_sum_quotes=log(1+sum_quotes)\n",
    "gen log_sum_reviews=log(1+sum_reviews)\n",
    "\n",
    "gen log_sum_givenquotes=log(1+sum_givenquotes)"
   ]
  },
  {
   "cell_type": "code",
   "execution_count": 28,
   "metadata": {},
   "outputs": [
    {
     "name": "stdout",
     "output_type": "stream",
     "text": [
      "       panel variable:  market (unbalanced)\n",
      "        time variable:  year_month_~t, 1 to 64, but with gaps\n",
      "                delta:  1 unit\n"
     ]
    }
   ],
   "source": [
    "xtset market year_month_count"
   ]
  },
  {
   "cell_type": "code",
   "execution_count": 29,
   "metadata": {},
   "outputs": [
    {
     "name": "stdout",
     "output_type": "stream",
     "text": [
      "\n",
      "    Variable |        Obs        Mean    Std. Dev.       Min        Max\n",
      "-------------+---------------------------------------------------------\n",
      "      market |      1,528    18.64725    11.41016          0         36\n",
      "year_month~t |      1,528     38.8534    16.47747          1         64\n",
      "  sum_quotes |      1,528    2.388089    6.625488          0         91\n",
      " sum_reviews |      1,528    16.71204    37.07434          0        314\n",
      "sum_givenq~s |      1,528     141.498    410.1673          0       4280\n",
      "-------------+---------------------------------------------------------\n",
      "     ent_mkt |        804    .1851868    .2336162          0    1.05492\n",
      "text_d_mk~50 |        998    .1306127    .0404729   .0545641   .3658786\n",
      "text_d_mkt~n |        998     .139373    .0374821   .0545641   .3658786\n",
      " log_zip_rev |      1,528    8.201697    7.954562          0   22.30267\n",
      " avgmean_mkt |      1,027    4.887787    .2379249          3          5\n",
      "-------------+---------------------------------------------------------\n",
      "avg_sent_s~t |      1,528    .4637286    .3349317          0    .886075\n",
      "       month |        934     6.12848    3.546141          1         12\n",
      "        year |        934    2015.678    1.532078       2013       2018\n",
      "count_mkt_~h |      1,528    4.926702    5.505477          1         33\n",
      "  experience |      1,528    4.870216    5.222168          0         27\n",
      "-------------+---------------------------------------------------------\n",
      "temp_own_p~r |      1,528    .0165511    .2075151   -1.10592   1.970224\n",
      "dummy_state1 |      1,528    .0484293    .2147419          0          1\n",
      "dummy_state2 |      1,528     .098822    .2985206          0          1\n",
      "dummy_state3 |      1,528    .0386126    .1927328          0          1\n",
      "dummy_state4 |      1,528    .0190341    .0792569          0         .5\n",
      "-------------+---------------------------------------------------------\n",
      "dummy_state5 |      1,528    .0097404    .0850897          0          1\n",
      "dummy_state6 |      1,528    .0002728    .0038064          0   .0666667\n",
      "dummy_state7 |      1,528    .0543194     .226721          0          1\n",
      "dummy_state8 |      1,528    .0150524     .121801          0          1\n",
      "dummy_state9 |      1,528    .0340314    .1813692          0          1\n",
      "-------------+---------------------------------------------------------\n",
      "dummy_sta~10 |      1,528           0           0          0          0\n",
      "dummy_sta~11 |      1,528    .0189791    .1364956          0          1\n",
      "dummy_sta~12 |      1,528    .0466687    .1862878          0          1\n",
      "dummy_sta~13 |      1,528    .0333937    .1323594          0   .8333333\n",
      "dummy_sta~14 |      1,528    .0340314    .1813692          0          1\n",
      "-------------+---------------------------------------------------------\n",
      "dummy_sta~15 |      1,528    .0366492    .1879606          0          1\n",
      "dummy_sta~16 |      1,528    .0085079    .0918749          0          1\n",
      "dummy_sta~17 |      1,528    .0604821    .2312033          0          1\n",
      "dummy_sta~18 |      1,528    .0006109    .0064027          0   .0952381\n",
      "dummy_sta~19 |      1,528    .0325885    .1537844          0          1\n",
      "-------------+---------------------------------------------------------\n",
      "dummy_sta~20 |      1,528     .033377    .1796777          0          1\n",
      "dummy_sta~21 |      1,528    .0163613     .126902          0          1\n",
      "dummy_sta~22 |      1,528    .0749947    .2303687          0          1\n",
      "dummy_sta~23 |      1,528    .0229058    .1496521          0          1\n",
      "dummy_sta~24 |      1,528    .0196335    .1387827          0          1\n",
      "-------------+---------------------------------------------------------\n",
      "dummy_sta~25 |      1,528    .0259114    .1306292          0          1\n",
      "dummy_sta~26 |      1,528    .0052123    .0323007          0   .2727273\n",
      "dummy_sta~27 |      1,528    .0056174    .0467246          0          1\n",
      "dummy_sta~28 |      1,528    .1295812     .335952          0          1\n",
      "dummy_sta~29 |      1,528    .0124346    .1108512          0          1\n",
      "-------------+---------------------------------------------------------\n",
      "dummy_sta~30 |      1,528    .0238874    .1290707          0          1\n",
      "dummy_sta~31 |      1,528    .0012451    .0107232          0        .15\n",
      "dummy_sta~32 |      1,528    .0379581    .1911576          0          1\n",
      "dummy_sta~33 |      1,528    .0006545    .0255822          0          1\n",
      "log_sum_qu~s |      1,528    .6238486    .8885453          0   4.521789\n",
      "-------------+---------------------------------------------------------\n",
      "log_sum_re~s |      1,528    1.617622    1.521182          0   5.752573\n",
      "log_sum_gi~s |      1,528    3.047596    2.026353          0   8.361942\n"
     ]
    }
   ],
   "source": [
    "su"
   ]
  },
  {
   "cell_type": "markdown",
   "metadata": {},
   "source": [
    "save regression_analysis_mkt_with_ent_sent_jan18.dta, replace"
   ]
  },
  {
   "cell_type": "markdown",
   "metadata": {},
   "source": [
    "##  label variables  "
   ]
  },
  {
   "cell_type": "code",
   "execution_count": 30,
   "metadata": {},
   "outputs": [],
   "source": [
    "label variable ent_mkt \"Rating_Entropy_Mkt\"\n",
    "label variable avgmean_mkt \"Average_Rating_Mkt\"\n",
    "label variable log_zip_rev \"Market_LogRevenue\"\n",
    "label variable experience \"Experience\"\n",
    "label variable temp_own_price_diff_other \"Price_Difference\"\n",
    "label variable text_d_mkt_mean  \"Text_Dispersion_Mkt\"\n",
    "label variable text_d_mkt_p50  \"Text_Dispersion_Mkt\"\n",
    "label variable log_sum_givenquotes \"Market Transaction\"\n",
    "label variable log_sum_quotes \"Market Transaction\"\n",
    "label variable avg_sent_score_mkt  \"Average_Sentiment_Mkt\""
   ]
  },
  {
   "cell_type": "markdown",
   "metadata": {},
   "source": [
    "## Output: market level data for regression "
   ]
  },
  {
   "cell_type": "code",
   "execution_count": 31,
   "metadata": {},
   "outputs": [
    {
     "name": "stdout",
     "output_type": "stream",
     "text": [
      "file ../3_output/regression_analysis_mkt_with_ent_sent_june9.dta saved\n"
     ]
    }
   ],
   "source": [
    "save \"../3_output/regression_analysis_mkt_with_ent_sent_june9.dta\""
   ]
  }
 ],
 "metadata": {
  "kernelspec": {
   "display_name": "Stata",
   "language": "stata",
   "name": "stata"
  },
  "language_info": {
   "codemirror_mode": "stata",
   "file_extension": ".do",
   "mimetype": "text/x-stata",
   "name": "stata",
   "version": "15.1"
  }
 },
 "nbformat": 4,
 "nbformat_minor": 4
}
