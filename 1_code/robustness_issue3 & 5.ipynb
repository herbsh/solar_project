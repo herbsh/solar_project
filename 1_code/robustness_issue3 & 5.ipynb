{
 "cells": [
  {
   "cell_type": "code",
   "execution_count": 1,
   "metadata": {},
   "outputs": [],
   "source": [
    "use \"../3_output/regression_analysis_ind_with_ent_sent_june2020.dta\", clear"
   ]
  },
  {
   "cell_type": "markdown",
   "metadata": {},
   "source": [
    "## make labels and create demeaned vars"
   ]
  },
  {
   "cell_type": "code",
   "execution_count": 2,
   "metadata": {},
   "outputs": [
    {
     "name": "stdout",
     "output_type": "stream",
     "text": [
      "\n",
      "\n",
      "(2,773 missing values generated)\n"
     ]
    }
   ],
   "source": [
    "egen mean_ent_others = mean(ent_others)\n",
    "gen ent_others_demean=ent_others-mean_ent_others"
   ]
  },
  {
   "cell_type": "code",
   "execution_count": 3,
   "metadata": {},
   "outputs": [
    {
     "name": "stdout",
     "output_type": "stream",
     "text": [
      "\n",
      "\n",
      "(2,773 missing values generated)\n"
     ]
    }
   ],
   "source": [
    "egen mean_ent_self = mean(ent_self)\n",
    "gen ent_self_demean=ent_self-mean_ent_self"
   ]
  },
  {
   "cell_type": "code",
   "execution_count": 4,
   "metadata": {},
   "outputs": [],
   "source": [
    "egen mean_avg_v2=mean(avg_v2)\n",
    "gen avg_v2_demean=avg_v2-mean_avg_v2"
   ]
  },
  {
   "cell_type": "code",
   "execution_count": 5,
   "metadata": {},
   "outputs": [
    {
     "name": "stdout",
     "output_type": "stream",
     "text": [
      "\n",
      "\n",
      "(1,479 missing values generated)\n"
     ]
    }
   ],
   "source": [
    "egen mean_avgmean_others=mean(avgmean_others)\n",
    "gen avgmean_others_demean=avgmean_others-mean_avgmean_others"
   ]
  },
  {
   "cell_type": "code",
   "execution_count": 6,
   "metadata": {},
   "outputs": [
    {
     "name": "stdout",
     "output_type": "stream",
     "text": [
      "\n",
      "(2,773 missing values generated)\n",
      "\n",
      "(2,773 missing values generated)\n"
     ]
    }
   ],
   "source": [
    "gen ent_others_sq=ent_others*ent_others\n",
    "gen ent_self_demean_sq=ent_self_demean*ent_self_demean"
   ]
  },
  {
   "cell_type": "code",
   "execution_count": 7,
   "metadata": {},
   "outputs": [],
   "source": [
    "\n",
    "label variable ent_self_demean \"Rating_Entropy_Self\"\n",
    "label variable ent_self \"Rating_Entropy_Self\"\n",
    "label variable ent_others_demean \"Rating_Entropy_Others\"\n",
    "label variable ent_others \"Rating_Entropy_Others\"\n",
    "label variable avg_v2_demean \"Average_Rating_Self\"\n",
    "label variable avg_v2 \"Average_Rating_Self\"\n",
    "label variable avgmean_others_demean \"Average_Rating_Others\"\n",
    "label variable avgmean_others \"Average_Rating_Others\"\n",
    "label variable reviews_ct \"Review_Count\"\n",
    "label variable log_experience \"Experience\"\n",
    "label variable temp_own_price_diff_other \"Price_Difference\"\n",
    "label variable log_zip_rev \"Market_LogRevenue\"\n",
    "label variable ent_others_sq  \"Rating_Entropy_Others^2\"\n",
    "label variable ent_self_demean_sq \"Rating_Entropy_Self^2\"\n",
    "label variable log_quotes \"Installer Activity Level\""
   ]
  },
  {
   "cell_type": "code",
   "execution_count": 8,
   "metadata": {},
   "outputs": [
    {
     "name": "stdout",
     "output_type": "stream",
     "text": [
      "\n",
      "    Variable |        Obs        Mean    Std. Dev.       Min        Max\n",
      "-------------+---------------------------------------------------------\n",
      "avg_sent_s~e |      8,113    .4171853      .35676     -.8268      .9576\n"
     ]
    }
   ],
   "source": [
    "su avg_sent_score"
   ]
  },
  {
   "cell_type": "code",
   "execution_count": 9,
   "metadata": {},
   "outputs": [
    {
     "name": "stdout",
     "output_type": "stream",
     "text": [
      "\n",
      "    Variable |        Obs        Mean    Std. Dev.       Min        Max\n",
      "-------------+---------------------------------------------------------\n",
      "avg_sent_s~e |      8,113    .4171853      .35676     -.8268      .9576\n",
      "avg_sent_s~t |      8,113    .5971259    .2507234          0    .886075\n",
      "avg_sent_s~s |      8,113    .5662764    .2792114     -.5994      .9576\n"
     ]
    }
   ],
   "source": [
    "su avg_sent*"
   ]
  },
  {
   "cell_type": "code",
   "execution_count": 10,
   "metadata": {},
   "outputs": [
    {
     "name": "stdout",
     "output_type": "stream",
     "text": [
      "\n",
      "\n",
      "\n",
      "\n",
      "\n",
      "(4,113 missing values generated)\n",
      "\n",
      "\n",
      "(1,535 missing values generated)\n",
      "\n"
     ]
    }
   ],
   "source": [
    "gen avg_sent_score_demean=avg_sent_score-.4119695\n",
    "label variable avg_sent_score_demean \"Average_Sentiment_Self\"\n",
    "gen avg_sent_score_others_demean=avg_sent_score_others- .5615071\n",
    "label variable avg_sent_score_others_demean \"Average_Sentiment_Others\"\n",
    "gen text_d_self_p50_demean=text_d_self_p50-0.0635868\n",
    "label variable text_d_self_p50_demean  \"Text-based_Entropy_Self\"\n",
    "gen text_d_others_p50_demean=text_d_others_p50-0.1245589\n",
    "label variable text_d_others_p50_demean \"Text-based_Entropy_Others\""
   ]
  },
  {
   "cell_type": "markdown",
   "metadata": {},
   "source": [
    "## Subsetting observations used for the model "
   ]
  },
  {
   "cell_type": "code",
   "execution_count": 11,
   "metadata": {},
   "outputs": [
    {
     "name": "stdout",
     "output_type": "stream",
     "text": [
      "       panel variable:  installer_id (unbalanced)\n",
      "        time variable:  year_month_~t, 1 to 64\n",
      "                delta:  1 unit\n"
     ]
    }
   ],
   "source": [
    "xtset"
   ]
  },
  {
   "cell_type": "code",
   "execution_count": 12,
   "metadata": {},
   "outputs": [
    {
     "name": "stdout",
     "output_type": "stream",
     "text": [
      "\n",
      "---------------------------------------------------------------------------------------------------------------------------------------------------------------------------------------------------------------------------------------------------------------\n",
      "installer_id                                                                                                                                                                                                                                        (unlabeled)\n",
      "---------------------------------------------------------------------------------------------------------------------------------------------------------------------------------------------------------------------------------------------------------------\n",
      "\n",
      "                  type:  numeric (int)\n",
      "\n",
      "                 range:  [108,23027]                  units:  1\n",
      "         unique values:  385                      missing .:  0/8,113\n",
      "\n",
      "                  mean:   17971.7\n",
      "              std. dev:   6707.01\n",
      "\n",
      "           percentiles:        10%       25%       50%       75%       90%\n",
      "                              6200     20131     20627     21350     21703\n"
     ]
    }
   ],
   "source": [
    "codebook installer_id"
   ]
  },
  {
   "cell_type": "code",
   "execution_count": 13,
   "metadata": {},
   "outputs": [
    {
     "name": "stdout",
     "output_type": "stream",
     "text": [
      "\n",
      "                        Review_Count\n",
      "-------------------------------------------------------------\n",
      "      Percentiles      Smallest\n",
      " 1%            0              0\n",
      " 5%            0              0\n",
      "10%            0              0       Obs               8,113\n",
      "25%            0              0       Sum of Wgt.       8,113\n",
      "\n",
      "50%            1                      Mean           3.397387\n",
      "                        Largest       Std. Dev.       5.80235\n",
      "75%            4             48\n",
      "90%           10             48       Variance       33.66726\n",
      "95%           14             51       Skewness       3.136374\n",
      "99%           29             52       Kurtosis       15.33371\n"
     ]
    }
   ],
   "source": [
    "su reviews_ct,d"
   ]
  },
  {
   "cell_type": "code",
   "execution_count": 14,
   "metadata": {},
   "outputs": [
    {
     "name": "stdout",
     "output_type": "stream",
     "text": [
      "\n",
      "---------------------------------------------------------------------------------------------------------------------------------------------------------------------------------------------------------------------------------------------------------------\n",
      "installer_id                                                                                                                                                                                                                                        (unlabeled)\n",
      "---------------------------------------------------------------------------------------------------------------------------------------------------------------------------------------------------------------------------------------------------------------\n",
      "\n",
      "                  type:  numeric (int)\n",
      "\n",
      "                 range:  [363,22992]                  units:  1\n",
      "         unique values:  186                      missing .:  0/2,287\n",
      "\n",
      "                  mean:   18779.4\n",
      "              std. dev:   6295.21\n",
      "\n",
      "           percentiles:        10%       25%       50%       75%       90%\n",
      "                              6200     20380     21113     21448     21817\n"
     ]
    }
   ],
   "source": [
    "codebook installer_id if reviews_ct>3"
   ]
  },
  {
   "cell_type": "code",
   "execution_count": 15,
   "metadata": {},
   "outputs": [
    {
     "name": "stdout",
     "output_type": "stream",
     "text": [
      "\n",
      "    Variable |        Obs        Mean    Std. Dev.       Min        Max\n",
      "-------------+---------------------------------------------------------\n",
      "     ent_mkt |      5,340    .2376226    .1857222          0    1.05492\n",
      "  ent_others |      5,340    .2247373    .1915538          0   1.070593\n",
      "    ent_self |      5,340    .0981426    .2199734          0   1.209574\n",
      "ent_others~n |      5,340    2.79e-09    .1915538  -.2247373   .8458561\n",
      "ent_self_d~n |      5,340   -1.38e-09    .2199734  -.0981426   1.111431\n",
      "-------------+---------------------------------------------------------\n",
      "ent_others~q |      5,340    .0871928    .1348904          0    1.14617\n",
      "ent_self_d~q |      5,340    .0483792    .1159573   .0001067    1.23528\n"
     ]
    }
   ],
   "source": [
    "su ent*"
   ]
  },
  {
   "cell_type": "code",
   "execution_count": 16,
   "metadata": {},
   "outputs": [
    {
     "name": "stdout",
     "output_type": "stream",
     "text": [
      "       panel variable:  installer_id (unbalanced)\n",
      "        time variable:  year_month_~t, 1 to 64\n",
      "                delta:  1 unit\n"
     ]
    }
   ],
   "source": [
    "xtset"
   ]
  },
  {
   "cell_type": "markdown",
   "metadata": {},
   "source": [
    "## Simply subset to high-reviews_ct obs"
   ]
  },
  {
   "cell_type": "code",
   "execution_count": 17,
   "metadata": {},
   "outputs": [
    {
     "name": "stdout",
     "output_type": "stream",
     "text": [
      "\n",
      "                        Review_Count\n",
      "-------------------------------------------------------------\n",
      "      Percentiles      Smallest\n",
      " 1%            0              0\n",
      " 5%            0              0\n",
      "10%            0              0       Obs               8,113\n",
      "25%            0              0       Sum of Wgt.       8,113\n",
      "\n",
      "50%            1                      Mean           3.397387\n",
      "                        Largest       Std. Dev.       5.80235\n",
      "75%            4             48\n",
      "90%           10             48       Variance       33.66726\n",
      "95%           14             51       Skewness       3.136374\n",
      "99%           29             52       Kurtosis       15.33371\n"
     ]
    }
   ],
   "source": [
    "su reviews_ct,d"
   ]
  },
  {
   "cell_type": "code",
   "execution_count": 18,
   "metadata": {},
   "outputs": [
    {
     "name": "stdout",
     "output_type": "stream",
     "text": [
      "\n",
      "\n",
      "\n",
      "\n",
      "\n",
      "(2,773 observations deleted)\n",
      "\n",
      "\n",
      "(est1 stored)\n",
      "\n",
      "\n",
      "(est2 stored)\n",
      "\n",
      "\n",
      "(est3 stored)\n",
      "\n",
      "\n",
      "--------------------------------------------------------------------\n",
      "                              (1)             (2)             (3)   \n",
      "                     F.Installe~l    F.Installe~l    F.Installe~l   \n",
      "--------------------------------------------------------------------\n",
      "Rating_Entropy_Self                                         1.418   \n",
      "                                                          (0.059)   \n",
      "\n",
      "Rating_Entropy_Sel~t                                       -2.723***\n",
      "                                                          (0.001)   \n",
      "\n",
      "Rating_Entropy_Oth~s                        0.916*          0.884*  \n",
      "                                          (0.013)         (0.016)   \n",
      "\n",
      "Rating_Entropy_Oth~E                       -1.691          -2.046*  \n",
      "                                          (0.077)         (0.037)   \n",
      "\n",
      "Average_Rating_Self        -0.467          -0.396          -0.513   \n",
      "                          (0.110)         (0.182)         (0.285)   \n",
      "\n",
      "Average_Rating_Oth~s       -0.512**        -0.381*         -0.367*  \n",
      "                          (0.004)         (0.026)         (0.036)   \n",
      "\n",
      "Review_Count               0.0581***       0.0570***       0.0555***\n",
      "                          (0.000)         (0.000)         (0.000)   \n",
      "\n",
      "Experience                -0.0631         -0.0552         -0.0432   \n",
      "                          (0.334)         (0.387)         (0.499)   \n",
      "\n",
      "Price_Difference           0.0704          0.0480          0.0975   \n",
      "                          (0.677)         (0.779)         (0.567)   \n",
      "\n",
      "Market_LogRevenue         0.00651         0.00677         0.00828   \n",
      "                          (0.297)         (0.278)         (0.185)   \n",
      "\n",
      "Constant                    3.262***        3.154***        3.458***\n",
      "                          (0.000)         (0.000)         (0.000)   \n",
      "--------------------------------------------------------------------\n",
      "Observations                 1647            1647            1647   \n",
      "r2                          0.722           0.723           0.725   \n",
      "aic                        4509.9          4506.7          4498.5   \n",
      "bic                        4553.2          4560.8          4563.4   \n",
      "--------------------------------------------------------------------\n",
      "p-values in parentheses\n",
      "* p<0.05, ** p<0.01, *** p<0.001\n"
     ]
    }
   ],
   "source": [
    "global iv_0_demean \"avg_v2_demean missing_avg reviews_ct  avgmean_others_demean   log_experience temp_own_price_diff_other missing_price_info log_zip_rev i.state_n \"  \n",
    "global iv_11_demean \"avg_v2_demean missing_avg reviews_ct  avgmean_others_demean  ent_others_demean c.ent_others_demean#c.ent_others_demean  log_experience temp_own_price_diff_other missing_price_info log_zip_rev i.state_n \"  \n",
    "global iv_12_demean \"avg_v2_demean missing_avg reviews_ct  avgmean_others_demean  ent_others_demean ent_self_demean  c.ent_others_demean#c.ent_others_demean  c.ent_self_demean#c.ent_self_demean log_experience temp_own_price_diff_other missing_price_info log_zip_rev i.state_n \"  \n",
    "\n",
    "eststo clear \n",
    "\n",
    "drop if ent_others_demean==.\n",
    "\n",
    "\n",
    " \n",
    "qui:areg f.log_quotes  $iv_0_demean if reviews_ct>=5 , absorb( installer_id) vce(robust)\n",
    "eststo\n",
    "qui:areg f.log_quotes $iv_11_demean if reviews_ct>=5  , absorb( installer_id) vce(robust)\n",
    "eststo\n",
    "qui:areg f.log_quotes  $iv_12_demean if reviews_ct>=5 , absorb( installer_id) vce(robust)\n",
    "eststo\n",
    "\n",
    "esttab est1 est2 est3   ,  order(  ent_self* c.ent_self* ent_other* c.ent_other* avg_v2_demean avgmean_others_demean) drop(*state* missing* ) p  label  scalars(r2 aic bic)\n",
    "  "
   ]
  },
  {
   "cell_type": "markdown",
   "metadata": {},
   "source": [
    "## Examine the monthly and quarterly additions"
   ]
  },
  {
   "cell_type": "code",
   "execution_count": 19,
   "metadata": {},
   "outputs": [
    {
     "name": "stdout",
     "output_type": "stream",
     "text": [
      "(364 missing values generated)\n"
     ]
    }
   ],
   "source": [
    "gen diff_reviews_ct_monthly=reviews_ct-l.reviews_ct"
   ]
  },
  {
   "cell_type": "code",
   "execution_count": 20,
   "metadata": {},
   "outputs": [
    {
     "name": "stdout",
     "output_type": "stream",
     "text": [
      "(1,335 missing values generated)\n"
     ]
    }
   ],
   "source": [
    "gen diff_reviews_ct_quarterly=reviews_ct-l4.reviews_ct"
   ]
  },
  {
   "cell_type": "code",
   "execution_count": 21,
   "metadata": {},
   "outputs": [
    {
     "name": "stdout",
     "output_type": "stream",
     "text": [
      "\n",
      "                   diff_reviews_ct_monthly\n",
      "-------------------------------------------------------------\n",
      "      Percentiles      Smallest\n",
      " 1%            0              0\n",
      " 5%            0              0\n",
      "10%            0              0       Obs               4,976\n",
      "25%            0              0       Sum of Wgt.       4,976\n",
      "\n",
      "50%            0                      Mean           .4240354\n",
      "                        Largest       Std. Dev.      1.362918\n",
      "75%            0             21\n",
      "90%            1             22       Variance       1.857545\n",
      "95%            2             25       Skewness       8.061613\n",
      "99%            6             25       Kurtosis       104.0344\n",
      "\n",
      "                  diff_reviews_ct_quarterly\n",
      "-------------------------------------------------------------\n",
      "      Percentiles      Smallest\n",
      " 1%            0              0\n",
      " 5%            0              0\n",
      "10%            0              0       Obs               4,005\n",
      "25%            0              0       Sum of Wgt.       4,005\n",
      "\n",
      "50%            0                      Mean           1.257928\n",
      "                        Largest       Std. Dev.      2.697566\n",
      "75%            1             27\n",
      "90%            4             27       Variance       7.276863\n",
      "95%            6             31       Skewness        4.50047\n",
      "99%           12             31       Kurtosis       32.46583\n"
     ]
    }
   ],
   "source": [
    "su diff_reviews_ct*,d"
   ]
  },
  {
   "cell_type": "code",
   "execution_count": 22,
   "metadata": {},
   "outputs": [
    {
     "name": "stdout",
     "output_type": "stream",
     "text": [
      "\n",
      "---------------------------------------------------------------------------------------------------------------------------------------------------------------------------------------------------------------------------------------------------------------\n",
      "installer_id                                                                                                                                                                                                                                        (unlabeled)\n",
      "---------------------------------------------------------------------------------------------------------------------------------------------------------------------------------------------------------------------------------------------------------------\n",
      "\n",
      "                  type:  numeric (int)\n",
      "\n",
      "                 range:  [363,23027]                  units:  1\n",
      "         unique values:  364                      missing .:  0/5,340\n",
      "\n",
      "                  mean:   18516.3\n",
      "              std. dev:   6433.68\n",
      "\n",
      "           percentiles:        10%       25%       50%       75%       90%\n",
      "                              6270     20348     20931     21438     21837\n"
     ]
    }
   ],
   "source": [
    "codebook installer_id"
   ]
  },
  {
   "cell_type": "code",
   "execution_count": 23,
   "metadata": {},
   "outputs": [
    {
     "name": "stdout",
     "output_type": "stream",
     "text": [
      "\n",
      "---------------------------------------------------------------------------------------------------------------------------------------------------------------------------------------------------------------------------------------------------------------\n",
      "installer_id                                                                                                                                                                                                                                        (unlabeled)\n",
      "---------------------------------------------------------------------------------------------------------------------------------------------------------------------------------------------------------------------------------------------------------------\n",
      "\n",
      "                  type:  numeric (int)\n",
      "\n",
      "                 range:  [551,23027]                  units:  1\n",
      "         unique values:  139                      missing .:  0/220\n",
      "\n",
      "                  mean:   19573.7\n",
      "              std. dev:   5595.58\n",
      "\n",
      "           percentiles:        10%       25%       50%       75%       90%\n",
      "                           20025.5   20580.5     21309   21842.5     22383\n"
     ]
    }
   ],
   "source": [
    "codebook installer_id if diff_reviews_ct_monthly>2&diff_reviews_ct_monthly!=."
   ]
  },
  {
   "cell_type": "code",
   "execution_count": 24,
   "metadata": {},
   "outputs": [
    {
     "name": "stdout",
     "output_type": "stream",
     "text": [
      "\n",
      "    Variable |        Obs        Mean    Std. Dev.       Min        Max\n",
      "-------------+---------------------------------------------------------\n",
      "         avg |        407    4.885985    .2516607        3.4          5\n",
      "avg_sent_s~e |        407    .6858469    .1012211   .3089571      .9017\n",
      "        five |        407    9.891892    9.220245          1         46\n",
      "        four |        407    .3857494    .8515956          0          6\n",
      "installer_id |        407    19097.42     6209.88        424      23027\n",
      "-------------+---------------------------------------------------------\n",
      "      market |        407    17.03194    13.92915         -1         36\n",
      "         one |        407    .1670762    .5172845          0          4\n",
      "quotes_count |        407    80.91892    135.5911          1        908\n",
      "  reviews_ct |        407    10.56757    9.784109          2         51\n",
      "       three |        407    .0614251    .2783854          0          2\n",
      "-------------+---------------------------------------------------------\n",
      "         two |        407    .0614251    .2693926          0          2\n",
      "winning_qu~t |        407    1.552826    2.731234          0         22\n",
      "year_month~t |        407    50.83292    9.534309          9         64\n",
      " avgmean_mkt |        407    4.884065    .1387937   3.645833          5\n",
      "avgmean_ot~s |        392     4.87687    .1864356          3          5\n",
      "-------------+---------------------------------------------------------\n",
      "avg_sent_s~t |        407    .6848938    .0601217   .2603417      .8422\n",
      "avg_sent_s~s |        407    .6611539    .1517283          0      .9576\n",
      "     ent_mkt |        407    .2540196    .1626804          0   .9952798\n",
      "  ent_others |        407    .2379082    .1766675          0    1.01236\n",
      "    ent_self |        407    .1525892    .2528706          0   1.158051\n",
      "-------------+---------------------------------------------------------\n",
      "       state |          0\n",
      "       since |        403    2007.553    6.360169       1975       2017\n",
      "    unnamed0 |        274    722.7482    453.6729         28       1337\n",
      "       month |        353    6.150142    3.489856          1         12\n",
      "        year |        353    2016.773    .8755999       2013       2018\n",
      "-------------+---------------------------------------------------------\n",
      "zipcode_to~v |        407    4.60e+07    5.44e+07          0   2.02e+08\n",
      "   own_price |        111    3.638876    .6144381   1.581735   5.601217\n",
      "other_prices |        271    3.817134    .2927823   2.499707   5.247587\n",
      "  log_quotes |        407    3.426408     1.47507   .6931472   6.812345\n",
      "  experience |        407    7.378378    5.694118          0         43\n",
      "-------------+---------------------------------------------------------\n",
      "     state_n |        407    11.54054    9.513159          1         32\n",
      "log_experi~e |        407    1.841038     .874424          0    3.78419\n",
      "temp_own_p~r |        407   -.0622523    .3683511  -2.171179   1.857366\n",
      "missing_pr~o |        407    .7346437    .4420661          0          1\n",
      "      avg_v2 |        407    4.885985    .2516607        3.4          5\n",
      "-------------+---------------------------------------------------------\n",
      " missing_avg |        407           0           0          0          0\n",
      " log_zip_rev |        407    11.65187    8.259658          0    19.1246\n",
      "text_d_mk~an |        407    .1376746    .0149126   .0545641   .2325439\n",
      "text_d_mkt~d |        404    .0647215    .0134756   .0055242   .1368445\n",
      "text_d_mk~in |        407    .0266284    .0265237  -1.19e-07   .2325439\n",
      "-------------+---------------------------------------------------------\n",
      "text_d_mk~25 |        407    .0932076    .0147176   .0545641   .2325439\n",
      "text_d_mk~50 |        407    .1228986    .0151251   .0545641   .2349989\n",
      "text_d_mk~75 |        407    .1658077     .022722   .0545641   .3664199\n",
      "text_d_mkt~x |        407    .4666075    .1518695   .0545641   .7564847\n",
      "text_~f_mean |        402    .1311006    .0393548   .0281296   .3355695\n",
      "-------------+---------------------------------------------------------\n",
      "text_d_sel~d |        361    .0489764    .0292165   .0045204   .1935145\n",
      "text_d_se~in |        402    .0646159    .0401136  -1.19e-07   .3355695\n",
      "text_d_se~25 |        402    .1010177    .0348195   .0281296   .3355695\n",
      "text_d_se~50 |        402    .1254263    .0428193   .0281296   .3766701\n",
      "text_d_se~75 |        402    .1579704    .0568406   .0281296    .400583\n",
      "-------------+---------------------------------------------------------\n",
      "text_d_sel~x |        402    .2311137    .1004967   .0281296   .5335009\n",
      "text_~s_mean |        389    .1381494    .0183385   .0664724   .2817027\n",
      "text_d_oth~d |        381    .0656334    .0144332   .0181848   .1592438\n",
      "text_d_ot~in |        389    .0277714    .0290685  -1.19e-07   .2325439\n",
      "text_d_ot~25 |        389    .0937756    .0171681   .0664724   .2360758\n",
      "-------------+---------------------------------------------------------\n",
      "text_d_ot~50 |        389     .123524    .0209228   .0664724   .3658786\n",
      "text_d_ot~75 |        389    .1662672    .0272567   .0664724   .3718792\n",
      "text_d_oth~x |        389    .4624397    .1590344   .0664724   .7564847\n",
      "missing_a~nt |        407           0           0          0          0\n",
      "missing_av~s |        407     .039312    .1945755          0          1\n",
      "-------------+---------------------------------------------------------\n",
      "missing_a~kt |        407           0           0          0          0\n",
      "mean_ent_o~s |        407    .2247373           0   .2247373   .2247373\n",
      "ent_others~n |        407    .0131709    .1766675  -.2247373    .787623\n",
      "mean_ent_s~f |        407    .0981426           0   .0981426   .0981426\n",
      "ent_self_d~n |        407    .0544466    .2528706  -.0981426   1.059908\n",
      "-------------+---------------------------------------------------------\n",
      " mean_avg_v2 |        407     2.97946           0    2.97946    2.97946\n",
      "avg_v2_dem~n |        407    1.906525    .2516607   .4205403    2.02054\n",
      "mean_avgme~s |        407    4.891381           0   4.891381   4.891381\n",
      "avgmean_ot~n |        392    -.014511    .1864356  -1.891381   .1086187\n",
      "ent_others~q |        407     .087735    .1279277          0   1.024873\n",
      "-------------+---------------------------------------------------------\n",
      "ent_self_d~q |        407    .0667508    .1429047   .0001067   1.123406\n",
      "avg~e_demean |        407    .2738774    .1012211  -.1030124   .4897305\n",
      "avg_sent_s.. |        407    .0996468    .1517283  -.5615071   .3960929\n",
      "text_d_sel.. |        402    .0618395    .0428193  -.0354572   .3130833\n",
      "text_d_oth.. |        389   -.0010349    .0209228  -.0580865   .2413197\n",
      "-------------+---------------------------------------------------------\n",
      "   _est_est1 |        407    .5921376    .4920422          0          1\n",
      "   _est_est2 |        407    .5921376    .4920422          0          1\n",
      "   _est_est3 |        407    .5921376    .4920422          0          1\n",
      "diff_rev~hly |        407    3.683047    3.140437          2         25\n",
      "diff_rev~rly |        208    6.692308    5.022802          2         31\n"
     ]
    }
   ],
   "source": [
    "su if diff_reviews_ct_monthly>1&diff_reviews_ct_monthly!=."
   ]
  },
  {
   "cell_type": "code",
   "execution_count": 25,
   "metadata": {
    "collapsed": true,
    "jupyter": {
     "outputs_hidden": true
    }
   },
   "outputs": [
    {
     "name": "stdout",
     "output_type": "stream",
     "text": [
      "\n",
      "    Variable |        Obs        Mean    Std. Dev.       Min        Max\n",
      "-------------+---------------------------------------------------------\n",
      "         avg |        925    4.835838    .3577179          1          5\n",
      "avg_sent_s~e |        925    .6770284    .1167429     -.0867      .8905\n",
      "        five |        925    10.96865    8.762998          0         47\n",
      "        four |        925     .492973    1.058466          0          6\n",
      "installer_id |        925    18179.69    6979.268        363      22843\n",
      "-------------+---------------------------------------------------------\n",
      "      market |        925    16.93514    13.87592         -1         36\n",
      "         one |        925    .2702703    .7255632          0          5\n",
      "quotes_count |        925    87.59351    143.1137          0       1080\n",
      "  reviews_ct |        925     11.8973    9.494316          2         52\n",
      "       three |        925    .0605405    .2644314          0          2\n",
      "-------------+---------------------------------------------------------\n",
      "         two |        925    .1048649     .406692          0          3\n",
      "winning_qu~t |        870    1.987356    3.305479          0         43\n",
      "year_month~t |        925    52.18054    8.622861         12         64\n",
      " avgmean_mkt |        925    4.880214    .1303615   3.645833          5\n",
      "avgmean_ot~s |        891    4.882824    .1498157          3          5\n",
      "-------------+---------------------------------------------------------\n",
      "avg_sent_s~t |        925    .6832745    .0551376   .2603417   .8810667\n",
      "avg_sent_s~s |        925    .6607611    .1467517          0      .9576\n",
      "     ent_mkt |        925    .2611942      .16202          0    1.05492\n",
      "  ent_others |        925    .2350822     .162392          0   .9901332\n",
      "    ent_self |        925     .187357    .2725562          0   1.209574\n",
      "-------------+---------------------------------------------------------\n",
      "       state |          0\n",
      "       since |        917    2006.787    6.871841       1975       2017\n",
      "    unnamed0 |        606    730.1122    456.2131         46       1337\n",
      "       month |        793    6.330391    3.690939          1         12\n",
      "        year |        793    2016.876    .8133118       2013       2018\n",
      "-------------+---------------------------------------------------------\n",
      "zipcode_to~v |        925    4.36e+07    5.29e+07          0   2.40e+08\n",
      "   own_price |        251    3.595308    .4682448   2.061001   5.601217\n",
      "other_prices |        601    3.767147    .3114202   2.499707   5.362645\n",
      "  log_quotes |        925    3.437247    1.628818          0   6.985642\n",
      "  experience |        925    7.794595    5.822498          0         43\n",
      "-------------+---------------------------------------------------------\n",
      "     state_n |        925    11.49297    9.480054          1         32\n",
      "log_experi~e |        925    1.881315    .8983076          0    3.78419\n",
      "temp_own_p~r |        925   -.0580187    .2985825  -1.819012   1.857366\n",
      "missing_pr~o |        925    .7340541    .4420746          0          1\n",
      "      avg_v2 |        925    4.835838    .3577179          1          5\n",
      "-------------+---------------------------------------------------------\n",
      " missing_avg |        925           0           0          0          0\n",
      " log_zip_rev |        925    11.30964    8.343659          0   19.29723\n",
      "text_d_mk~an |        925    .1370092    .0128297   .0795749   .2817027\n",
      "text_d_mkt~d |        923    .0644172    .0131815   .0055242   .1519678\n",
      "text_d_mk~in |        925    .0240508    .0228395  -1.19e-07   .1337351\n",
      "-------------+---------------------------------------------------------\n",
      "text_d_mk~25 |        925    .0927032    .0116754    .064756   .2360758\n",
      "text_d_mk~50 |        925    .1223698    .0143256   .0795749   .3658786\n",
      "text_d_mk~75 |        925    .1650436    .0198423   .0795749   .3694176\n",
      "text_d_mkt~x |        925    .4722992    .1477242   .0795749   .7564847\n",
      "text_~f_mean |        925    .1289202    .0357007   .0487452   .3729565\n",
      "-------------+---------------------------------------------------------\n",
      "text_d_sel~d |        886    .0491918    .0268662   .0055242   .1935145\n",
      "text_d_se~in |        925    .0580066     .032865  -1.19e-07   .3729565\n",
      "text_d_se~25 |        925    .0954804    .0291296   .0366375   .3729565\n",
      "text_d_se~50 |        925    .1219857     .037647   .0471926   .3766701\n",
      "text_d_se~75 |        925    .1579916    .0528341   .0539597   .4086581\n",
      "-------------+---------------------------------------------------------\n",
      "text_d_sel~x |        925    .2392967     .094291   .0560561   .5335009\n",
      "text_~s_mean |        882    .1375123    .0147865   .0790408   .2817027\n",
      "text_d_oth~d |        876    .0649946    .0131643   .0165478   .1519678\n",
      "text_d_ot~in |        882    .0243406    .0236762  -1.19e-07   .1788371\n",
      "text_d_ot~25 |        882    .0931005    .0125566   .0673631   .2360758\n",
      "-------------+---------------------------------------------------------\n",
      "text_d_ot~50 |        882    .1231612    .0172988   .0793542   .3658786\n",
      "text_d_ot~75 |        882    .1652828     .021354   .0824417   .3694176\n",
      "text_d_oth~x |        882    .4688849    .1533459   .0824417   .7564847\n",
      "missing_a~nt |        925           0           0          0          0\n",
      "missing_av~s |        925    .0389189    .1935064          0          1\n",
      "-------------+---------------------------------------------------------\n",
      "missing_a~kt |        925           0           0          0          0\n",
      "mean_ent_o~s |        925    .2247373           0   .2247373   .2247373\n",
      "ent_others~n |        925    .0103449     .162392  -.2247373   .7653959\n",
      "mean_ent_s~f |        925    .0981426           0   .0981426   .0981426\n",
      "ent_self_d~n |        925    .0892144    .2725562  -.0981426   1.111431\n",
      "-------------+---------------------------------------------------------\n",
      " mean_avg_v2 |        925     2.97946           0    2.97946    2.97946\n",
      "avg_v2_dem~n |        925    1.856378    .3577179   -1.97946    2.02054\n",
      "mean_avgme~s |        925    4.891381           0   4.891381   4.891381\n",
      "avgmean_ot~n |        891   -.0085575    .1498157  -1.891381   .1086187\n",
      "ent_others~q |        925    .0816063    .1068218          0   .9803637\n",
      "-------------+---------------------------------------------------------\n",
      "ent_self_d~q |        925    .0821658    .1695862   .0001067    1.23528\n",
      "avg~e_demean |        925    .2650589    .1167429  -.4986695   .4785305\n",
      "avg_sent_s.. |        925     .099254    .1467517  -.5615071   .3960929\n",
      "text_d_sel.. |        925    .0583989     .037647  -.0163942   .3130833\n",
      "text_d_oth.. |        882   -.0013977    .0172988  -.0452047   .2413197\n",
      "-------------+---------------------------------------------------------\n",
      "   _est_est1 |        925    .6972973    .4596762          0          1\n",
      "   _est_est2 |        925    .6972973    .4596762          0          1\n",
      "   _est_est3 |        925    .6972973    .4596762          0          1\n",
      "diff_rev~hly |        925     1.00973    1.946501          0         25\n",
      "diff_rev~rly |        925    4.685405    3.956398          2         31\n"
     ]
    }
   ],
   "source": [
    "su if diff_reviews_ct_quarterly>1&diff_reviews_ct_quarterly!=."
   ]
  },
  {
   "cell_type": "code",
   "execution_count": 26,
   "metadata": {},
   "outputs": [
    {
     "name": "stdout",
     "output_type": "stream",
     "text": [
      "(bin=36, start=0, width=.86111111)\n"
     ]
    },
    {
     "data": {
      "image/png": "[encoded data removed]",
      "text/plain": [
       "This front-end cannot display the desired image type."
      ]
     },
     "metadata": {
      "image/png": {
       "height": 436,
       "width": 600
      }
     },
     "output_type": "display_data"
    },
    {
     "name": "stdout",
     "output_type": "stream",
     "text": [
      "\n",
      "\n"
     ]
    }
   ],
   "source": [
    "histogram diff_reviews_ct_quarterly"
   ]
  },
  {
   "cell_type": "code",
   "execution_count": 27,
   "metadata": {},
   "outputs": [
    {
     "name": "stdout",
     "output_type": "stream",
     "text": [
      "\n",
      "\n",
      "\n",
      "\n",
      "\n",
      "(0 observations deleted)\n",
      "\n",
      "\n",
      "(est1 stored)\n",
      "\n",
      "\n",
      "(est2 stored)\n",
      "\n",
      "\n",
      "(est3 stored)\n",
      "\n",
      "\n",
      "(est4 stored)\n",
      "\n",
      "\n",
      "(est5 stored)\n",
      "\n",
      "\n",
      "(est6 stored)\n",
      "\n",
      "\n",
      "(est7 stored)\n",
      "\n",
      "\n",
      "(est8 stored)\n",
      "\n",
      "\n",
      "(est9 stored)\n",
      "\n",
      "\n",
      "(est10 stored)\n",
      "\n",
      "\n",
      "(est11 stored)\n",
      "\n",
      "\n",
      "(est12 stored)\n",
      "\n",
      "\n",
      "--------------------------------------------------------------------------------------------------------------------\n",
      "                              (1)             (2)             (3)             (4)             (5)             (6)   \n",
      "                     F.Installe~l    F.Installe~l    F.Installe~l    F.Installe~l    F.Installe~l    F.Installe~l   \n",
      "--------------------------------------------------------------------------------------------------------------------\n",
      "Rating_Entropy_Self                         1.418                           0.956                           1.529   \n",
      "                                          (0.059)                         (0.085)                         (0.094)   \n",
      "\n",
      "Rating_Entropy_Sel~t                       -2.723***                       -1.021                          -1.872   \n",
      "                                          (0.001)                         (0.265)                         (0.226)   \n",
      "\n",
      "Rating_Entropy_Oth~s        0.916*          0.884*          0.707*          0.691*          0.628           0.648   \n",
      "                          (0.013)         (0.016)         (0.011)         (0.013)         (0.212)         (0.194)   \n",
      "\n",
      "Rating_Entropy_Oth~E       -1.691          -2.046*         -2.691***       -2.653***       -2.785**        -2.831** \n",
      "                          (0.077)         (0.037)         (0.000)         (0.000)         (0.007)         (0.005)   \n",
      "\n",
      "Average_Rating_Self        -0.396          -0.513          -0.292**        -0.211          -0.323          -0.172   \n",
      "                          (0.182)         (0.285)         (0.006)         (0.067)         (0.116)         (0.458)   \n",
      "\n",
      "Average_Rating_Oth~s       -0.381*         -0.367*         -0.125          -0.128        -0.00244          0.0488   \n",
      "                          (0.026)         (0.036)         (0.384)         (0.376)         (0.994)         (0.870)   \n",
      "\n",
      "Review_Count               0.0570***       0.0555***       0.0390***       0.0359***       0.0406***       0.0367***\n",
      "                          (0.000)         (0.000)         (0.000)         (0.000)         (0.000)         (0.000)   \n",
      "\n",
      "Experience                -0.0552         -0.0432           0.175**         0.168**         0.297***        0.295***\n",
      "                          (0.387)         (0.499)         (0.004)         (0.006)         (0.000)         (0.000)   \n",
      "\n",
      "Price_Difference           0.0480          0.0975          0.0919          0.0799           0.249           0.235   \n",
      "                          (0.779)         (0.567)         (0.454)         (0.516)         (0.158)         (0.185)   \n",
      "\n",
      "Market_LogRevenue         0.00677         0.00828         -0.0154*        -0.0147*        -0.0333***      -0.0319***\n",
      "                          (0.278)         (0.185)         (0.016)         (0.021)         (0.000)         (0.001)   \n",
      "\n",
      "Constant                    3.154***        3.458***        2.793***        2.713***        2.972***        2.790***\n",
      "                          (0.000)         (0.000)         (0.000)         (0.000)         (0.000)         (0.000)   \n",
      "--------------------------------------------------------------------------------------------------------------------\n",
      "Observations                 1647            1647            2328            2328            1129            1129   \n",
      "r2                          0.723           0.725           0.654           0.654           0.705           0.707   \n",
      "aic                        4506.7          4498.5          6660.8          6658.6          3111.5          3108.7   \n",
      "bic                        4560.8          4563.4          6724.0          6733.4          3166.8          3174.1   \n",
      "--------------------------------------------------------------------------------------------------------------------\n",
      "p-values in parentheses\n",
      "* p<0.05, ** p<0.01, *** p<0.001\n"
     ]
    }
   ],
   "source": [
    "global iv_0_demean \"avg_v2_demean missing_avg reviews_ct  avgmean_others_demean   log_experience temp_own_price_diff_other missing_price_info log_zip_rev i.state_n \"  \n",
    "global iv_11_demean \"avg_v2_demean missing_avg reviews_ct  avgmean_others_demean  ent_others_demean c.ent_others_demean#c.ent_others_demean  log_experience temp_own_price_diff_other missing_price_info log_zip_rev i.state_n \"  \n",
    "global iv_12_demean \"avg_v2_demean missing_avg reviews_ct  avgmean_others_demean  ent_others_demean ent_self_demean  c.ent_others_demean#c.ent_others_demean  c.ent_self_demean#c.ent_self_demean log_experience temp_own_price_diff_other missing_price_info log_zip_rev i.state_n \"  \n",
    "\n",
    "eststo clear \n",
    "\n",
    "drop if ent_others_demean==.\n",
    "\n",
    "\n",
    "qui:areg f.log_quotes  $iv_0_demean  , absorb( installer_id) vce(robust)\n",
    "eststo\n",
    "qui:areg f.log_quotes $iv_11_demean    , absorb( installer_id) vce(robust)\n",
    "eststo\n",
    "qui:areg f.log_quotes  $iv_12_demean  , absorb( installer_id) vce(robust)\n",
    "eststo   \n",
    "qui:areg f.log_quotes  $iv_0_demean if reviews_ct>=5 , absorb( installer_id) vce(robust)\n",
    "eststo\n",
    "qui:areg f.log_quotes $iv_11_demean if reviews_ct>=5  , absorb( installer_id) vce(robust)\n",
    "eststo\n",
    "qui:areg f.log_quotes  $iv_12_demean if reviews_ct>=5 , absorb( installer_id) vce(robust)\n",
    "eststo   \n",
    "qui:areg f.log_quotes  $iv_0_demean if mod(year_month_count,2)==1 , absorb( installer_id) vce(robust)\n",
    "eststo\n",
    "qui:areg f.log_quotes $iv_11_demean if mod(year_month_count,2)==1   , absorb( installer_id) vce(robust) \n",
    "eststo\n",
    "qui:areg f.log_quotes  $iv_12_demean if mod(year_month_count,2)==1 , absorb( installer_id) vce(robust)\n",
    "eststo\n",
    "qui:areg f.log_quotes  $iv_0_demean if mod(year_month_count,4)==1 , absorb( installer_id) vce(robust)\n",
    "eststo\n",
    "qui:areg f.log_quotes $iv_11_demean if mod(year_month_count,4)==1   , absorb( installer_id) vce(robust)\n",
    "eststo\n",
    "qui:areg f.log_quotes  $iv_12_demean if mod(year_month_count,4)==1 , absorb( installer_id) vce(robust)\n",
    "eststo\n",
    "\n",
    "esttab  est5 est6  est8 est9  est11 est12 ,  order(  ent_self* c.ent_self* ent_other* c.ent_other* avg_v2_demean avgmean_others_demean) drop(*state* missing* ) p  label  scalars(r2 aic bic)\n",
    "// esttab  est5 est6  est8 est9  est11 est12 using rob_subsettingreviewsct.csv  ,  order(  ent_self* c.ent_self* ent_other* c.ent_other* avg_v2_demean avgmean_others_demean) drop(*state* missing* ) p  label  scalars(r2 aic bic)"
   ]
  },
  {
   "cell_type": "markdown",
   "metadata": {},
   "source": [
    "# Data Explore: How many active  firms per month"
   ]
  },
  {
   "cell_type": "code",
   "execution_count": 28,
   "metadata": {},
   "outputs": [
    {
     "name": "stdout",
     "output_type": "stream",
     "text": [
      "\n",
      "                  Installer Activity Level\n",
      "-------------------------------------------------------------\n",
      "      Percentiles      Smallest\n",
      " 1%            0              0\n",
      " 5%            0              0\n",
      "10%            0              0       Obs               5,340\n",
      "25%     1.098612              0       Sum of Wgt.       5,340\n",
      "\n",
      "50%     2.397895                      Mean           2.364969\n",
      "                        Largest       Std. Dev.      1.673884\n",
      "75%     3.610918       6.985642\n",
      "90%     4.584968       7.023759       Variance       2.801887\n",
      "95%     5.141664       7.041412       Skewness       .2136994\n",
      "99%     6.361302       7.257003       Kurtosis        2.23555\n"
     ]
    }
   ],
   "source": [
    "su log_quotes,d"
   ]
  },
  {
   "cell_type": "markdown",
   "metadata": {},
   "source": [
    "## 358 installers were 'ever' active on the platform "
   ]
  },
  {
   "cell_type": "code",
   "execution_count": 29,
   "metadata": {},
   "outputs": [
    {
     "name": "stdout",
     "output_type": "stream",
     "text": [
      "\n",
      "---------------------------------------------------------------------------------------------------------------------------------------------------------------------------------------------------------------------------------------------------------------\n",
      "installer_id                                                                                                                                                                                                                                        (unlabeled)\n",
      "---------------------------------------------------------------------------------------------------------------------------------------------------------------------------------------------------------------------------------------------------------------\n",
      "\n",
      "                  type:  numeric (int)\n",
      "\n",
      "                 range:  [363,23027]                  units:  1\n",
      "         unique values:  358                      missing .:  0/4,020\n",
      "\n",
      "                  mean:   18807.5\n",
      "              std. dev:   6152.73\n",
      "\n",
      "           percentiles:        10%       25%       50%       75%       90%\n",
      "                              6351     20359     21117     21457     21902\n"
     ]
    }
   ],
   "source": [
    "codebook installer_id if log_quotes>1"
   ]
  },
  {
   "cell_type": "markdown",
   "metadata": {},
   "source": [
    "# How many were active per cluster per month? "
   ]
  },
  {
   "cell_type": "code",
   "execution_count": 31,
   "metadata": {},
   "outputs": [],
   "source": [
    "gen active=(log_quotes>1)"
   ]
  },
  {
   "cell_type": "code",
   "execution_count": 32,
   "metadata": {},
   "outputs": [
    {
     "name": "stdout",
     "output_type": "stream",
     "text": [
      "\n",
      "     active |      Freq.     Percent        Cum.\n",
      "------------+-----------------------------------\n",
      "          0 |      1,320       24.72       24.72\n",
      "          1 |      4,020       75.28      100.00\n",
      "------------+-----------------------------------\n",
      "      Total |      5,340      100.00\n"
     ]
    }
   ],
   "source": [
    "tab active"
   ]
  },
  {
   "cell_type": "code",
   "execution_count": 34,
   "metadata": {},
   "outputs": [
    {
     "name": "stdout",
     "output_type": "stream",
     "text": [
      "\n",
      "---------------------------------------------------------------------------------------------------------------------------------------------------------------------------------------------------------------------------------------------------------------\n",
      "market                                                                                                                                                                                                                                              (unlabeled)\n",
      "---------------------------------------------------------------------------------------------------------------------------------------------------------------------------------------------------------------------------------------------------------------\n",
      "\n",
      "                  type:  numeric (byte)\n",
      "\n",
      "                 range:  [-1,36]                      units:  1\n",
      "         unique values:  36                       missing .:  0/5,340\n",
      "\n",
      "                  mean:   17.7041\n",
      "              std. dev:   13.6136\n",
      "\n",
      "           percentiles:        10%       25%       50%       75%       90%\n",
      "                                 1         4        17        33        36\n"
     ]
    }
   ],
   "source": [
    "codebook market"
   ]
  },
  {
   "cell_type": "code",
   "execution_count": 36,
   "metadata": {},
   "outputs": [
    {
     "name": "stdout",
     "output_type": "stream",
     "text": [
      "\n",
      "    Variable |        Obs        Mean    Std. Dev.       Min        Max\n",
      "-------------+---------------------------------------------------------\n",
      "year_month~t |      5,340    49.57921    10.24324          7         64\n"
     ]
    }
   ],
   "source": [
    "su year_month*"
   ]
  },
  {
   "cell_type": "code",
   "execution_count": 43,
   "metadata": {},
   "outputs": [],
   "source": [
    "bysort market year_month* market (installer_id):gen cluster_active=sum(active)"
   ]
  },
  {
   "cell_type": "code",
   "execution_count": 50,
   "metadata": {},
   "outputs": [
    {
     "name": "stdout",
     "output_type": "stream",
     "text": [
      "\n",
      "                       cluster_active\n",
      "-------------------------------------------------------------\n",
      "      Percentiles      Smallest\n",
      " 1%            0              0\n",
      " 5%            1              0\n",
      "10%            1              0       Obs               3,834\n",
      "25%            2              0       Sum of Wgt.       3,834\n",
      "\n",
      "50%            4                      Mean            5.99374\n",
      "                        Largest       Std. Dev.      5.132419\n",
      "75%            8             28\n",
      "90%           13             29       Variance       26.34173\n",
      "95%           17             29       Skewness       1.477669\n",
      "99%           24             29       Kurtosis       5.223154\n"
     ]
    }
   ],
   "source": [
    "su cluster_active if ent_others>0, d"
   ]
  },
  {
   "cell_type": "code",
   "execution_count": 51,
   "metadata": {},
   "outputs": [
    {
     "name": "stdout",
     "output_type": "stream",
     "text": [
      "(bin=35, start=0, width=.82857143)\n"
     ]
    },
    {
     "data": {
      "image/png": "[encoded data removed]",
      "text/plain": [
       "This front-end cannot display the desired image type."
      ]
     },
     "metadata": {
      "image/png": {
       "height": 436,
       "width": 600
      }
     },
     "output_type": "display_data"
    },
    {
     "name": "stdout",
     "output_type": "stream",
     "text": [
      "\n",
      "\n"
     ]
    }
   ],
   "source": [
    "histogram cluster_active if ent_others>0 "
   ]
  },
  {
   "cell_type": "code",
   "execution_count": 40,
   "metadata": {},
   "outputs": [
    {
     "name": "stdout",
     "output_type": "stream",
     "text": [
      "\n",
      "\n",
      "(440 observations deleted)\n",
      "\n",
      "\n",
      "\n",
      "                        (sum) active\n",
      "-------------------------------------------------------------\n",
      "      Percentiles      Smallest\n",
      " 1%            0              0\n",
      " 5%            0              0\n",
      "10%            1              0       Obs               1,063\n",
      "25%            1              0       Sum of Wgt.       1,063\n",
      "\n",
      "50%            2                      Mean           3.507056\n",
      "                        Largest       Std. Dev.      4.500648\n",
      "75%            4             27\n",
      "90%            8             29       Variance       20.25584\n",
      "95%           13             29       Skewness       2.682761\n",
      "99%           22             29       Kurtosis       11.49189\n",
      "\n",
      "(bin=30, start=0, width=.96666667)\n"
     ]
    },
    {
     "data": {
      "image/png": "[encoded data removed]",
      "text/plain": [
       "This front-end cannot display the desired image type."
      ]
     },
     "metadata": {
      "image/png": {
       "height": 436,
       "width": 600
      }
     },
     "output_type": "display_data"
    },
    {
     "name": "stdout",
     "output_type": "stream",
     "text": [
      "\n",
      "\n",
      "\n"
     ]
    }
   ],
   "source": [
    "preserve\n",
    "keep if market!=-1\n",
    "collapse (sum)active ,by(market year_month*)\n",
    "su active, d\n",
    "histogram active\n",
    "restore"
   ]
  },
  {
   "cell_type": "code",
   "execution_count": 38,
   "metadata": {},
   "outputs": [],
   "source": []
  }
 ],
 "metadata": {
  "kernelspec": {
   "display_name": "Stata",
   "language": "stata",
   "name": "stata"
  },
  "language_info": {
   "codemirror_mode": "stata",
   "file_extension": ".do",
   "mimetype": "text/x-stata",
   "name": "stata",
   "version": "15.1"
  }
 },
 "nbformat": 4,
 "nbformat_minor": 4
}
