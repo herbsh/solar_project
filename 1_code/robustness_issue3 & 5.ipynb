{
 "cells": [
  {
   "cell_type": "code",
   "execution_count": 1,
   "metadata": {},
   "outputs": [],
   "source": [
    "use \"../3_output/regression_analysis_ind_with_ent_sent_june2020.dta\", clear"
   ]
  },
  {
   "cell_type": "markdown",
   "metadata": {},
   "source": [
    "## make labels and create demeaned vars"
   ]
  },
  {
   "cell_type": "code",
   "execution_count": 2,
   "metadata": {},
   "outputs": [
    {
     "name": "stdout",
     "output_type": "stream",
     "text": [
      "\n",
      "\n",
      "(2,773 missing values generated)\n"
     ]
    }
   ],
   "source": [
    "egen mean_ent_others = mean(ent_others)\n",
    "gen ent_others_demean=ent_others-mean_ent_others"
   ]
  },
  {
   "cell_type": "code",
   "execution_count": 3,
   "metadata": {},
   "outputs": [
    {
     "name": "stdout",
     "output_type": "stream",
     "text": [
      "\n",
      "\n",
      "(2,773 missing values generated)\n"
     ]
    }
   ],
   "source": [
    "egen mean_ent_self = mean(ent_self)\n",
    "gen ent_self_demean=ent_self-mean_ent_self"
   ]
  },
  {
   "cell_type": "code",
   "execution_count": 4,
   "metadata": {},
   "outputs": [],
   "source": [
    "egen mean_avg_v2=mean(avg_v2)\n",
    "gen avg_v2_demean=avg_v2-mean_avg_v2"
   ]
  },
  {
   "cell_type": "code",
   "execution_count": 5,
   "metadata": {},
   "outputs": [
    {
     "name": "stdout",
     "output_type": "stream",
     "text": [
      "\n",
      "\n",
      "(1,479 missing values generated)\n"
     ]
    }
   ],
   "source": [
    "egen mean_avgmean_others=mean(avgmean_others)\n",
    "gen avgmean_others_demean=avgmean_others-mean_avgmean_others"
   ]
  },
  {
   "cell_type": "code",
   "execution_count": 6,
   "metadata": {},
   "outputs": [
    {
     "name": "stdout",
     "output_type": "stream",
     "text": [
      "\n",
      "(2,773 missing values generated)\n",
      "\n",
      "(2,773 missing values generated)\n"
     ]
    }
   ],
   "source": [
    "gen ent_others_sq=ent_others*ent_others\n",
    "gen ent_self_demean_sq=ent_self_demean*ent_self_demean"
   ]
  },
  {
   "cell_type": "code",
   "execution_count": 7,
   "metadata": {},
   "outputs": [],
   "source": [
    "\n",
    "label variable ent_self_demean \"Rating_Entropy_Self\"\n",
    "label variable ent_self \"Rating_Entropy_Self\"\n",
    "label variable ent_others_demean \"Rating_Entropy_Others\"\n",
    "label variable ent_others \"Rating_Entropy_Others\"\n",
    "label variable avg_v2_demean \"Average_Rating_Self\"\n",
    "label variable avg_v2 \"Average_Rating_Self\"\n",
    "label variable avgmean_others_demean \"Average_Rating_Others\"\n",
    "label variable avgmean_others \"Average_Rating_Others\"\n",
    "label variable reviews_ct \"Review_Count\"\n",
    "label variable log_experience \"Experience\"\n",
    "label variable temp_own_price_diff_other \"Price_Difference\"\n",
    "label variable log_zip_rev \"Market_LogRevenue\"\n",
    "label variable ent_others_sq  \"Rating_Entropy_Others^2\"\n",
    "label variable ent_self_demean_sq \"Rating_Entropy_Self^2\"\n",
    "label variable log_quotes \"Installer Activity Level\""
   ]
  },
  {
   "cell_type": "code",
   "execution_count": 8,
   "metadata": {},
   "outputs": [
    {
     "name": "stdout",
     "output_type": "stream",
     "text": [
      "\n",
      "    Variable |        Obs        Mean    Std. Dev.       Min        Max\n",
      "-------------+---------------------------------------------------------\n",
      "avg_sent_s~e |      8,113    .4171853      .35676     -.8268      .9576\n"
     ]
    }
   ],
   "source": [
    "su avg_sent_score"
   ]
  },
  {
   "cell_type": "code",
   "execution_count": 9,
   "metadata": {},
   "outputs": [
    {
     "name": "stdout",
     "output_type": "stream",
     "text": [
      "\n",
      "    Variable |        Obs        Mean    Std. Dev.       Min        Max\n",
      "-------------+---------------------------------------------------------\n",
      "avg_sent_s~e |      8,113    .4171853      .35676     -.8268      .9576\n",
      "avg_sent_s~t |      8,113    .5971259    .2507234          0    .886075\n",
      "avg_sent_s~s |      8,113    .5662764    .2792114     -.5994      .9576\n"
     ]
    }
   ],
   "source": [
    "su avg_sent*"
   ]
  },
  {
   "cell_type": "code",
   "execution_count": 10,
   "metadata": {},
   "outputs": [
    {
     "name": "stdout",
     "output_type": "stream",
     "text": [
      "\n",
      "\n",
      "\n",
      "\n",
      "\n",
      "(4,113 missing values generated)\n",
      "\n",
      "\n",
      "(1,535 missing values generated)\n",
      "\n"
     ]
    }
   ],
   "source": [
    "gen avg_sent_score_demean=avg_sent_score-.4119695\n",
    "label variable avg_sent_score_demean \"Average_Sentiment_Self\"\n",
    "gen avg_sent_score_others_demean=avg_sent_score_others- .5615071\n",
    "label variable avg_sent_score_others_demean \"Average_Sentiment_Others\"\n",
    "gen text_d_self_p50_demean=text_d_self_p50-0.0635868\n",
    "label variable text_d_self_p50_demean  \"Text-based_Entropy_Self\"\n",
    "gen text_d_others_p50_demean=text_d_others_p50-0.1245589\n",
    "label variable text_d_others_p50_demean \"Text-based_Entropy_Others\""
   ]
  },
  {
   "cell_type": "markdown",
   "metadata": {},
   "source": [
    "## Subsetting observations used for the model "
   ]
  },
  {
   "cell_type": "code",
   "execution_count": 11,
   "metadata": {},
   "outputs": [
    {
     "name": "stdout",
     "output_type": "stream",
     "text": [
      "       panel variable:  installer_id (unbalanced)\n",
      "        time variable:  year_month_~t, 1 to 64\n",
      "                delta:  1 unit\n"
     ]
    }
   ],
   "source": [
    "xtset"
   ]
  },
  {
   "cell_type": "code",
   "execution_count": 12,
   "metadata": {},
   "outputs": [
    {
     "name": "stdout",
     "output_type": "stream",
     "text": [
      "\n",
      "---------------------------------------------------------------------------------------------------------------------------------------------------------------------------------------------------------------------------------------------------------------\n",
      "installer_id                                                                                                                                                                                                                                        (unlabeled)\n",
      "---------------------------------------------------------------------------------------------------------------------------------------------------------------------------------------------------------------------------------------------------------------\n",
      "\n",
      "                  type:  numeric (int)\n",
      "\n",
      "                 range:  [108,23027]                  units:  1\n",
      "         unique values:  385                      missing .:  0/8,113\n",
      "\n",
      "                  mean:   17971.7\n",
      "              std. dev:   6707.01\n",
      "\n",
      "           percentiles:        10%       25%       50%       75%       90%\n",
      "                              6200     20131     20627     21350     21703\n"
     ]
    }
   ],
   "source": [
    "codebook installer_id"
   ]
  },
  {
   "cell_type": "code",
   "execution_count": 13,
   "metadata": {},
   "outputs": [
    {
     "name": "stdout",
     "output_type": "stream",
     "text": [
      "\n",
      "                        Review_Count\n",
      "-------------------------------------------------------------\n",
      "      Percentiles      Smallest\n",
      " 1%            0              0\n",
      " 5%            0              0\n",
      "10%            0              0       Obs               8,113\n",
      "25%            0              0       Sum of Wgt.       8,113\n",
      "\n",
      "50%            1                      Mean           3.397387\n",
      "                        Largest       Std. Dev.       5.80235\n",
      "75%            4             48\n",
      "90%           10             48       Variance       33.66726\n",
      "95%           14             51       Skewness       3.136374\n",
      "99%           29             52       Kurtosis       15.33371\n"
     ]
    }
   ],
   "source": [
    "su reviews_ct,d"
   ]
  },
  {
   "cell_type": "code",
   "execution_count": 14,
   "metadata": {},
   "outputs": [
    {
     "name": "stdout",
     "output_type": "stream",
     "text": [
      "\n",
      "---------------------------------------------------------------------------------------------------------------------------------------------------------------------------------------------------------------------------------------------------------------\n",
      "installer_id                                                                                                                                                                                                                                        (unlabeled)\n",
      "---------------------------------------------------------------------------------------------------------------------------------------------------------------------------------------------------------------------------------------------------------------\n",
      "\n",
      "                  type:  numeric (int)\n",
      "\n",
      "                 range:  [363,22992]                  units:  1\n",
      "         unique values:  186                      missing .:  0/2,287\n",
      "\n",
      "                  mean:   18779.4\n",
      "              std. dev:   6295.21\n",
      "\n",
      "           percentiles:        10%       25%       50%       75%       90%\n",
      "                              6200     20380     21113     21448     21817\n"
     ]
    }
   ],
   "source": [
    "codebook installer_id if reviews_ct>3"
   ]
  },
  {
   "cell_type": "code",
   "execution_count": 15,
   "metadata": {},
   "outputs": [
    {
     "name": "stdout",
     "output_type": "stream",
     "text": [
      "\n",
      "    Variable |        Obs        Mean    Std. Dev.       Min        Max\n",
      "-------------+---------------------------------------------------------\n",
      "     ent_mkt |      5,340    .2376226    .1857222          0    1.05492\n",
      "  ent_others |      5,340    .2247373    .1915538          0   1.070593\n",
      "    ent_self |      5,340    .0981426    .2199734          0   1.209574\n",
      "ent_others~n |      5,340    2.79e-09    .1915538  -.2247373   .8458561\n",
      "ent_self_d~n |      5,340   -1.38e-09    .2199734  -.0981426   1.111431\n",
      "-------------+---------------------------------------------------------\n",
      "ent_others~q |      5,340    .0871928    .1348904          0    1.14617\n",
      "ent_self_d~q |      5,340    .0483792    .1159573   .0001067    1.23528\n"
     ]
    }
   ],
   "source": [
    "su ent*"
   ]
  },
  {
   "cell_type": "code",
   "execution_count": 16,
   "metadata": {},
   "outputs": [
    {
     "name": "stdout",
     "output_type": "stream",
     "text": [
      "       panel variable:  installer_id (unbalanced)\n",
      "        time variable:  year_month_~t, 1 to 64\n",
      "                delta:  1 unit\n"
     ]
    }
   ],
   "source": [
    "xtset"
   ]
  },
  {
   "cell_type": "markdown",
   "metadata": {},
   "source": [
    "## Simply subset to high-reviews_ct obs"
   ]
  },
  {
   "cell_type": "code",
   "execution_count": 17,
   "metadata": {},
   "outputs": [
    {
     "name": "stdout",
     "output_type": "stream",
     "text": [
      "\n",
      "                        Review_Count\n",
      "-------------------------------------------------------------\n",
      "      Percentiles      Smallest\n",
      " 1%            0              0\n",
      " 5%            0              0\n",
      "10%            0              0       Obs               8,113\n",
      "25%            0              0       Sum of Wgt.       8,113\n",
      "\n",
      "50%            1                      Mean           3.397387\n",
      "                        Largest       Std. Dev.       5.80235\n",
      "75%            4             48\n",
      "90%           10             48       Variance       33.66726\n",
      "95%           14             51       Skewness       3.136374\n",
      "99%           29             52       Kurtosis       15.33371\n"
     ]
    }
   ],
   "source": [
    "su reviews_ct,d"
   ]
  },
  {
   "cell_type": "code",
   "execution_count": 18,
   "metadata": {},
   "outputs": [
    {
     "name": "stdout",
     "output_type": "stream",
     "text": [
      "\n",
      "\n",
      "\n",
      "\n",
      "\n",
      "(2,773 observations deleted)\n",
      "\n",
      "\n",
      "(est1 stored)\n",
      "\n",
      "\n",
      "(est2 stored)\n",
      "\n",
      "\n",
      "(est3 stored)\n",
      "\n",
      "\n",
      "--------------------------------------------------------------------\n",
      "                              (1)             (2)             (3)   \n",
      "                     F.Installe~l    F.Installe~l    F.Installe~l   \n",
      "--------------------------------------------------------------------\n",
      "Rating_Entropy_Self                                         1.418   \n",
      "                                                          (0.059)   \n",
      "\n",
      "Rating_Entropy_Sel~t                                       -2.723***\n",
      "                                                          (0.001)   \n",
      "\n",
      "Rating_Entropy_Oth~s                        0.916*          0.884*  \n",
      "                                          (0.013)         (0.016)   \n",
      "\n",
      "Rating_Entropy_Oth~E                       -1.691          -2.046*  \n",
      "                                          (0.077)         (0.037)   \n",
      "\n",
      "Average_Rating_Self        -0.467          -0.396          -0.513   \n",
      "                          (0.110)         (0.182)         (0.285)   \n",
      "\n",
      "Average_Rating_Oth~s       -0.512**        -0.381*         -0.367*  \n",
      "                          (0.004)         (0.026)         (0.036)   \n",
      "\n",
      "Review_Count               0.0581***       0.0570***       0.0555***\n",
      "                          (0.000)         (0.000)         (0.000)   \n",
      "\n",
      "Experience                -0.0631         -0.0552         -0.0432   \n",
      "                          (0.334)         (0.387)         (0.499)   \n",
      "\n",
      "Price_Difference           0.0704          0.0480          0.0975   \n",
      "                          (0.677)         (0.779)         (0.567)   \n",
      "\n",
      "Market_LogRevenue         0.00651         0.00677         0.00828   \n",
      "                          (0.297)         (0.278)         (0.185)   \n",
      "\n",
      "Constant                    3.262***        3.154***        3.458***\n",
      "                          (0.000)         (0.000)         (0.000)   \n",
      "--------------------------------------------------------------------\n",
      "Observations                 1647            1647            1647   \n",
      "r2                          0.722           0.723           0.725   \n",
      "aic                        4509.9          4506.7          4498.5   \n",
      "bic                        4553.2          4560.8          4563.4   \n",
      "--------------------------------------------------------------------\n",
      "p-values in parentheses\n",
      "* p<0.05, ** p<0.01, *** p<0.001\n"
     ]
    }
   ],
   "source": [
    "global iv_0_demean \"avg_v2_demean missing_avg reviews_ct  avgmean_others_demean   log_experience temp_own_price_diff_other missing_price_info log_zip_rev i.state_n \"  \n",
    "global iv_11_demean \"avg_v2_demean missing_avg reviews_ct  avgmean_others_demean  ent_others_demean c.ent_others_demean#c.ent_others_demean  log_experience temp_own_price_diff_other missing_price_info log_zip_rev i.state_n \"  \n",
    "global iv_12_demean \"avg_v2_demean missing_avg reviews_ct  avgmean_others_demean  ent_others_demean ent_self_demean  c.ent_others_demean#c.ent_others_demean  c.ent_self_demean#c.ent_self_demean log_experience temp_own_price_diff_other missing_price_info log_zip_rev i.state_n \"  \n",
    "\n",
    "eststo clear \n",
    "\n",
    "drop if ent_others_demean==.\n",
    "\n",
    "\n",
    " \n",
    "qui:areg f.log_quotes  $iv_0_demean if reviews_ct>=5 , absorb( installer_id) vce(robust)\n",
    "eststo\n",
    "qui:areg f.log_quotes $iv_11_demean if reviews_ct>=5  , absorb( installer_id) vce(robust)\n",
    "eststo\n",
    "qui:areg f.log_quotes  $iv_12_demean if reviews_ct>=5 , absorb( installer_id) vce(robust)\n",
    "eststo\n",
    "\n",
    "esttab est1 est2 est3   ,  order(  ent_self* c.ent_self* ent_other* c.ent_other* avg_v2_demean avgmean_others_demean) drop(*state* missing* ) p  label  scalars(r2 aic bic)\n",
    "  "
   ]
  },
  {
   "cell_type": "markdown",
   "metadata": {},
   "source": [
    "## Examine the monthly and quarterly additions"
   ]
  },
  {
   "cell_type": "code",
   "execution_count": 19,
   "metadata": {},
   "outputs": [
    {
     "name": "stdout",
     "output_type": "stream",
     "text": [
      "(364 missing values generated)\n"
     ]
    }
   ],
   "source": [
    "gen diff_reviews_ct_monthly=reviews_ct-l.reviews_ct"
   ]
  },
  {
   "cell_type": "code",
   "execution_count": 20,
   "metadata": {},
   "outputs": [
    {
     "name": "stdout",
     "output_type": "stream",
     "text": [
      "(1,335 missing values generated)\n"
     ]
    }
   ],
   "source": [
    "gen diff_reviews_ct_quarterly=reviews_ct-l4.reviews_ct"
   ]
  },
  {
   "cell_type": "code",
   "execution_count": 21,
   "metadata": {},
   "outputs": [
    {
     "name": "stdout",
     "output_type": "stream",
     "text": [
      "\n",
      "                   diff_reviews_ct_monthly\n",
      "-------------------------------------------------------------\n",
      "      Percentiles      Smallest\n",
      " 1%            0              0\n",
      " 5%            0              0\n",
      "10%            0              0       Obs               4,976\n",
      "25%            0              0       Sum of Wgt.       4,976\n",
      "\n",
      "50%            0                      Mean           .4240354\n",
      "                        Largest       Std. Dev.      1.362918\n",
      "75%            0             21\n",
      "90%            1             22       Variance       1.857545\n",
      "95%            2             25       Skewness       8.061613\n",
      "99%            6             25       Kurtosis       104.0344\n",
      "\n",
      "                  diff_reviews_ct_quarterly\n",
      "-------------------------------------------------------------\n",
      "      Percentiles      Smallest\n",
      " 1%            0              0\n",
      " 5%            0              0\n",
      "10%            0              0       Obs               4,005\n",
      "25%            0              0       Sum of Wgt.       4,005\n",
      "\n",
      "50%            0                      Mean           1.257928\n",
      "                        Largest       Std. Dev.      2.697566\n",
      "75%            1             27\n",
      "90%            4             27       Variance       7.276863\n",
      "95%            6             31       Skewness        4.50047\n",
      "99%           12             31       Kurtosis       32.46583\n"
     ]
    }
   ],
   "source": [
    "su diff_reviews_ct*,d"
   ]
  },
  {
   "cell_type": "code",
   "execution_count": 22,
   "metadata": {},
   "outputs": [
    {
     "name": "stdout",
     "output_type": "stream",
     "text": [
      "\n",
      "---------------------------------------------------------------------------------------------------------------------------------------------------------------------------------------------------------------------------------------------------------------\n",
      "installer_id                                                                                                                                                                                                                                        (unlabeled)\n",
      "---------------------------------------------------------------------------------------------------------------------------------------------------------------------------------------------------------------------------------------------------------------\n",
      "\n",
      "                  type:  numeric (int)\n",
      "\n",
      "                 range:  [363,23027]                  units:  1\n",
      "         unique values:  364                      missing .:  0/5,340\n",
      "\n",
      "                  mean:   18516.3\n",
      "              std. dev:   6433.68\n",
      "\n",
      "           percentiles:        10%       25%       50%       75%       90%\n",
      "                              6270     20348     20931     21438     21837\n"
     ]
    }
   ],
   "source": [
    "codebook installer_id"
   ]
  },
  {
   "cell_type": "code",
   "execution_count": 23,
   "metadata": {},
   "outputs": [
    {
     "name": "stdout",
     "output_type": "stream",
     "text": [
      "\n",
      "---------------------------------------------------------------------------------------------------------------------------------------------------------------------------------------------------------------------------------------------------------------\n",
      "installer_id                                                                                                                                                                                                                                        (unlabeled)\n",
      "---------------------------------------------------------------------------------------------------------------------------------------------------------------------------------------------------------------------------------------------------------------\n",
      "\n",
      "                  type:  numeric (int)\n",
      "\n",
      "                 range:  [551,23027]                  units:  1\n",
      "         unique values:  139                      missing .:  0/220\n",
      "\n",
      "                  mean:   19573.7\n",
      "              std. dev:   5595.58\n",
      "\n",
      "           percentiles:        10%       25%       50%       75%       90%\n",
      "                           20025.5   20580.5     21309   21842.5     22383\n"
     ]
    }
   ],
   "source": [
    "codebook installer_id if diff_reviews_ct_monthly>2&diff_reviews_ct_monthly!=."
   ]
  },
  {
   "cell_type": "code",
   "execution_count": 24,
   "metadata": {},
   "outputs": [
    {
     "name": "stdout",
     "output_type": "stream",
     "text": [
      "(bin=36, start=0, width=.86111111)\n"
     ]
    },
    {
     "data": {
      "image/png": "[encoded data removed]",
      "text/plain": [
       "This front-end cannot display the desired image type."
      ]
     },
     "metadata": {
      "image/png": {
       "height": 436,
       "width": 600
      }
     },
     "output_type": "display_data"
    },
    {
     "name": "stdout",
     "output_type": "stream",
     "text": [
      "\n",
      "\n"
     ]
    }
   ],
   "source": [
    "histogram diff_reviews_ct_quarterly"
   ]
  },
  {
   "cell_type": "code",
   "execution_count": 25,
   "metadata": {},
   "outputs": [
    {
     "name": "stdout",
     "output_type": "stream",
     "text": [
      "\n",
      "\n",
      "\n",
      "\n",
      "\n",
      "(0 observations deleted)\n",
      "\n",
      "\n",
      "(est1 stored)\n",
      "\n",
      "\n",
      "(est2 stored)\n",
      "\n",
      "\n",
      "(est3 stored)\n",
      "\n",
      "\n",
      "(est4 stored)\n",
      "\n",
      "\n",
      "(est5 stored)\n",
      "\n",
      "\n",
      "(est6 stored)\n",
      "\n",
      "\n",
      "(est7 stored)\n",
      "\n",
      "\n",
      "------------------------------------------------------------------------------------------------------------------------------------\n",
      "                              (1)             (2)             (3)             (4)             (5)             (6)             (7)   \n",
      "                     F.Installe~l    F.Installe~l    F.Installe~l    F.Installe~l    F.Installe~l    F.Installe~l    F.Installe~l   \n",
      "------------------------------------------------------------------------------------------------------------------------------------\n",
      "Rating_Entropy_Self                         1.418                           0.956                                           1.529   \n",
      "                                          (0.059)                         (0.085)                                         (0.094)   \n",
      "\n",
      "Rating_Entropy_Sel~t                       -2.723***                       -1.021                                          -1.872   \n",
      "                                          (0.001)                         (0.265)                                         (0.226)   \n",
      "\n",
      "Rating_Entropy_Oth~s        0.916*          0.884*          0.707*          0.691*                          0.628           0.648   \n",
      "                          (0.013)         (0.016)         (0.011)         (0.013)                         (0.212)         (0.194)   \n",
      "\n",
      "Rating_Entropy_Oth~E       -1.691          -2.046*         -2.691***       -2.653***                       -2.785**        -2.831** \n",
      "                          (0.077)         (0.037)         (0.000)         (0.000)                         (0.007)         (0.005)   \n",
      "\n",
      "Average_Rating_Self        -0.396          -0.513          -0.292**        -0.211          -0.350          -0.323          -0.172   \n",
      "                          (0.182)         (0.285)         (0.006)         (0.067)         (0.094)         (0.116)         (0.458)   \n",
      "\n",
      "Average_Rating_Oth~s       -0.381*         -0.367*         -0.125          -0.128         -0.0759        -0.00244          0.0488   \n",
      "                          (0.026)         (0.036)         (0.384)         (0.376)         (0.767)         (0.994)         (0.870)   \n",
      "\n",
      "Review_Count               0.0570***       0.0555***       0.0390***       0.0359***       0.0432***       0.0406***       0.0367***\n",
      "                          (0.000)         (0.000)         (0.000)         (0.000)         (0.000)         (0.000)         (0.000)   \n",
      "\n",
      "Experience                -0.0552         -0.0432           0.175**         0.168**         0.287***        0.297***        0.295***\n",
      "                          (0.387)         (0.499)         (0.004)         (0.006)         (0.000)         (0.000)         (0.000)   \n",
      "\n",
      "Price_Difference           0.0480          0.0975          0.0919          0.0799           0.237           0.249           0.235   \n",
      "                          (0.779)         (0.567)         (0.454)         (0.516)         (0.183)         (0.158)         (0.185)   \n",
      "\n",
      "Market_LogRevenue         0.00677         0.00828         -0.0154*        -0.0147*        -0.0338***      -0.0333***      -0.0319***\n",
      "                          (0.278)         (0.185)         (0.016)         (0.021)         (0.000)         (0.000)         (0.001)   \n",
      "\n",
      "Constant                    3.154***        3.458***        2.793***        2.713***        2.925***        2.972***        2.790***\n",
      "                          (0.000)         (0.000)         (0.000)         (0.000)         (0.000)         (0.000)         (0.000)   \n",
      "------------------------------------------------------------------------------------------------------------------------------------\n",
      "Observations                 1647            1647            2328            2328            1129            1129            1129   \n",
      "r2                          0.723           0.725           0.654           0.654           0.702           0.705           0.707   \n",
      "aic                        4506.7          4498.5          6660.8          6658.6          3119.5          3111.5          3108.7   \n",
      "bic                        4560.8          4563.4          6724.0          6733.4          3164.8          3166.8          3174.1   \n",
      "------------------------------------------------------------------------------------------------------------------------------------\n",
      "p-values in parentheses\n",
      "* p<0.05, ** p<0.01, *** p<0.001\n"
     ]
    }
   ],
   "source": [
    "global iv_0_demean \"avg_v2_demean missing_avg reviews_ct  avgmean_others_demean   log_experience temp_own_price_diff_other missing_price_info log_zip_rev i.state_n \"  \n",
    "global iv_11_demean \"avg_v2_demean missing_avg reviews_ct  avgmean_others_demean  ent_others_demean c.ent_others_demean#c.ent_others_demean  log_experience temp_own_price_diff_other missing_price_info log_zip_rev i.state_n \"  \n",
    "global iv_12_demean \"avg_v2_demean missing_avg reviews_ct  avgmean_others_demean  ent_others_demean ent_self_demean  c.ent_others_demean#c.ent_others_demean  c.ent_self_demean#c.ent_self_demean log_experience temp_own_price_diff_other missing_price_info log_zip_rev i.state_n \"  \n",
    "\n",
    "eststo clear \n",
    "\n",
    "drop if ent_others_demean==.\n",
    "\n",
    "\n",
    "\n",
    "qui:areg f.log_quotes $iv_11_demean if reviews_ct>=5  , absorb( installer_id) vce(robust)\n",
    "eststo\n",
    "qui:areg f.log_quotes  $iv_12_demean if reviews_ct>=5 , absorb( installer_id) vce(robust)\n",
    "eststo   \n",
    "\n",
    "qui:areg f.log_quotes $iv_11_demean if mod(year_month_count,2)==1   , absorb( installer_id) vce(robust) \n",
    "eststo\n",
    "qui:areg f.log_quotes  $iv_12_demean if mod(year_month_count,2)==1 , absorb( installer_id) vce(robust)\n",
    "eststo\n",
    "qui:areg f.log_quotes  $iv_0_demean if mod(year_month_count,4)==1 , absorb( installer_id) vce(robust)\n",
    "eststo\n",
    "qui:areg f.log_quotes $iv_11_demean if mod(year_month_count,4)==1   , absorb( installer_id) vce(robust)\n",
    "eststo\n",
    "qui:areg f.log_quotes  $iv_12_demean if mod(year_month_count,4)==1 , absorb( installer_id) vce(robust)\n",
    "eststo\n",
    "\n",
    "\n",
    "esttab *,  order(  ent_self* c.ent_self* ent_other* c.ent_other* avg_v2_demean avgmean_others_demean) drop(*state* missing* ) p  label  scalars(r2 aic bic)\n",
    "// esttab  est5 est6  est8 est9  est11 est12 using rob_subsettingreviewsct.csv  ,  order(  ent_self* c.ent_self* ent_other* c.ent_other* avg_v2_demean avgmean_others_demean) drop(*state* missing* ) p  label  scalars(r2 aic bic)"
   ]
  },
  {
   "cell_type": "markdown",
   "metadata": {},
   "source": [
    "# Data Explore: How many active  firms per month"
   ]
  },
  {
   "cell_type": "code",
   "execution_count": 26,
   "metadata": {},
   "outputs": [
    {
     "name": "stdout",
     "output_type": "stream",
     "text": [
      "\n",
      "                  Installer Activity Level\n",
      "-------------------------------------------------------------\n",
      "      Percentiles      Smallest\n",
      " 1%            0              0\n",
      " 5%            0              0\n",
      "10%            0              0       Obs               5,340\n",
      "25%     1.098612              0       Sum of Wgt.       5,340\n",
      "\n",
      "50%     2.397895                      Mean           2.364969\n",
      "                        Largest       Std. Dev.      1.673884\n",
      "75%     3.610918       6.985642\n",
      "90%     4.584968       7.023759       Variance       2.801887\n",
      "95%     5.141664       7.041412       Skewness       .2136994\n",
      "99%     6.361302       7.257003       Kurtosis        2.23555\n"
     ]
    }
   ],
   "source": [
    "su log_quotes,d"
   ]
  },
  {
   "cell_type": "markdown",
   "metadata": {},
   "source": [
    "## 358 installers were 'ever' active on the platform "
   ]
  },
  {
   "cell_type": "code",
   "execution_count": 27,
   "metadata": {},
   "outputs": [
    {
     "name": "stdout",
     "output_type": "stream",
     "text": [
      "\n",
      "---------------------------------------------------------------------------------------------------------------------------------------------------------------------------------------------------------------------------------------------------------------\n",
      "installer_id                                                                                                                                                                                                                                        (unlabeled)\n",
      "---------------------------------------------------------------------------------------------------------------------------------------------------------------------------------------------------------------------------------------------------------------\n",
      "\n",
      "                  type:  numeric (int)\n",
      "\n",
      "                 range:  [363,23027]                  units:  1\n",
      "         unique values:  358                      missing .:  0/4,020\n",
      "\n",
      "                  mean:   18807.5\n",
      "              std. dev:   6152.73\n",
      "\n",
      "           percentiles:        10%       25%       50%       75%       90%\n",
      "                              6351     20359     21117     21457     21902\n"
     ]
    }
   ],
   "source": [
    "codebook installer_id if log_quotes>1"
   ]
  },
  {
   "cell_type": "markdown",
   "metadata": {},
   "source": [
    "# How many were active per cluster per month? "
   ]
  },
  {
   "cell_type": "code",
   "execution_count": 28,
   "metadata": {},
   "outputs": [],
   "source": [
    "gen active=(log_quotes>1)"
   ]
  },
  {
   "cell_type": "code",
   "execution_count": 29,
   "metadata": {},
   "outputs": [
    {
     "name": "stdout",
     "output_type": "stream",
     "text": [
      "\n",
      "     active |      Freq.     Percent        Cum.\n",
      "------------+-----------------------------------\n",
      "          0 |      1,320       24.72       24.72\n",
      "          1 |      4,020       75.28      100.00\n",
      "------------+-----------------------------------\n",
      "      Total |      5,340      100.00\n"
     ]
    }
   ],
   "source": [
    "tab active"
   ]
  },
  {
   "cell_type": "code",
   "execution_count": 30,
   "metadata": {},
   "outputs": [
    {
     "name": "stdout",
     "output_type": "stream",
     "text": [
      "\n",
      "---------------------------------------------------------------------------------------------------------------------------------------------------------------------------------------------------------------------------------------------------------------\n",
      "market                                                                                                                                                                                                                                              (unlabeled)\n",
      "---------------------------------------------------------------------------------------------------------------------------------------------------------------------------------------------------------------------------------------------------------------\n",
      "\n",
      "                  type:  numeric (byte)\n",
      "\n",
      "                 range:  [-1,36]                      units:  1\n",
      "         unique values:  36                       missing .:  0/5,340\n",
      "\n",
      "                  mean:   17.7041\n",
      "              std. dev:   13.6136\n",
      "\n",
      "           percentiles:        10%       25%       50%       75%       90%\n",
      "                                 1         4        17        33        36\n"
     ]
    }
   ],
   "source": [
    "codebook market"
   ]
  },
  {
   "cell_type": "code",
   "execution_count": 31,
   "metadata": {},
   "outputs": [
    {
     "name": "stdout",
     "output_type": "stream",
     "text": [
      "\n",
      "    Variable |        Obs        Mean    Std. Dev.       Min        Max\n",
      "-------------+---------------------------------------------------------\n",
      "year_month~t |      5,340    49.57921    10.24324          7         64\n"
     ]
    }
   ],
   "source": [
    "su year_month*"
   ]
  },
  {
   "cell_type": "code",
   "execution_count": 32,
   "metadata": {},
   "outputs": [],
   "source": [
    "bysort market year_month* market (installer_id):gen cluster_active=sum(active)"
   ]
  },
  {
   "cell_type": "code",
   "execution_count": 33,
   "metadata": {},
   "outputs": [
    {
     "name": "stdout",
     "output_type": "stream",
     "text": [
      "\n",
      "                       cluster_active\n",
      "-------------------------------------------------------------\n",
      "      Percentiles      Smallest\n",
      " 1%            0              0\n",
      " 5%            1              0\n",
      "10%            1              0       Obs               3,834\n",
      "25%            2              0       Sum of Wgt.       3,834\n",
      "\n",
      "50%            4                      Mean            5.99374\n",
      "                        Largest       Std. Dev.      5.132419\n",
      "75%            8             28\n",
      "90%           13             29       Variance       26.34173\n",
      "95%           17             29       Skewness       1.477669\n",
      "99%           24             29       Kurtosis       5.223154\n"
     ]
    }
   ],
   "source": [
    "su cluster_active if ent_others>0, d"
   ]
  },
  {
   "cell_type": "code",
   "execution_count": 34,
   "metadata": {},
   "outputs": [
    {
     "name": "stdout",
     "output_type": "stream",
     "text": [
      "(bin=35, start=0, width=.82857143)\n"
     ]
    },
    {
     "data": {
      "image/png": "[encoded data removed]",
      "text/plain": [
       "This front-end cannot display the desired image type."
      ]
     },
     "metadata": {
      "image/png": {
       "height": 436,
       "width": 600
      }
     },
     "output_type": "display_data"
    },
    {
     "name": "stdout",
     "output_type": "stream",
     "text": [
      "\n",
      "\n"
     ]
    }
   ],
   "source": [
    "histogram cluster_active if ent_others>0 "
   ]
  },
  {
   "cell_type": "code",
   "execution_count": 35,
   "metadata": {},
   "outputs": [
    {
     "name": "stdout",
     "output_type": "stream",
     "text": [
      "\n",
      "\n",
      "(440 observations deleted)\n",
      "\n",
      "\n",
      "\n",
      "                        (sum) active\n",
      "-------------------------------------------------------------\n",
      "      Percentiles      Smallest\n",
      " 1%            0              0\n",
      " 5%            0              0\n",
      "10%            1              0       Obs               1,063\n",
      "25%            1              0       Sum of Wgt.       1,063\n",
      "\n",
      "50%            2                      Mean           3.507056\n",
      "                        Largest       Std. Dev.      4.500648\n",
      "75%            4             27\n",
      "90%            8             29       Variance       20.25584\n",
      "95%           13             29       Skewness       2.682761\n",
      "99%           22             29       Kurtosis       11.49189\n",
      "\n",
      "(bin=30, start=0, width=.96666667)\n"
     ]
    },
    {
     "data": {
      "image/png": "[encoded data removed]",
      "text/plain": [
       "This front-end cannot display the desired image type."
      ]
     },
     "metadata": {
      "image/png": {
       "height": 436,
       "width": 600
      }
     },
     "output_type": "display_data"
    },
    {
     "name": "stdout",
     "output_type": "stream",
     "text": [
      "\n",
      "\n",
      "\n"
     ]
    }
   ],
   "source": [
    "preserve\n",
    "keep if market!=-1\n",
    "collapse (sum)active ,by(market year_month*)\n",
    "su active, d\n",
    "histogram active\n",
    "restore"
   ]
  },
  {
   "cell_type": "markdown",
   "metadata": {},
   "source": [
    "## Expore ways to do an IV regression"
   ]
  },
  {
   "cell_type": "code",
   "execution_count": 39,
   "metadata": {},
   "outputs": [
    {
     "name": "stdout",
     "output_type": "stream",
     "text": [
      "checking xtivreg2 consistency and verifying not already installed...\n",
      "installing into c:\\ado\\plus\\...\n",
      "installation complete.\n"
     ]
    }
   ],
   "source": [
    "ssc install xtivreg2"
   ]
  },
  {
   "cell_type": "code",
   "execution_count": 42,
   "metadata": {},
   "outputs": [
    {
     "name": "stdout",
     "output_type": "stream",
     "text": [
      "       panel variable:  installer_id (unbalanced)\n",
      "        time variable:  year_month_~t, 7 to 64\n",
      "                delta:  1 unit\n"
     ]
    }
   ],
   "source": [
    "xtset installer_id year_month_count"
   ]
  },
  {
   "cell_type": "code",
   "execution_count": 45,
   "metadata": {},
   "outputs": [
    {
     "name": "stdout",
     "output_type": "stream",
     "text": [
      "\n",
      "\n",
      "\n",
      "\n",
      "\n",
      "\n",
      "(0 observations deleted)\n",
      "\n",
      "\n",
      "(est1 stored)\n",
      "\n",
      "\n",
      "(est2 stored)\n",
      "\n",
      "\n",
      "--------------------------------------------\n",
      "                      (1)             (2)   \n",
      "             F.log_quotes    F.log_quotes   \n",
      "--------------------------------------------\n",
      "avg_v2_dem~n       -0.303**        -0.289***\n",
      "                  (0.001)         (0.000)   \n",
      "\n",
      "missing_avg        -1.226**        -2.119***\n",
      "                  (0.009)         (0.000)   \n",
      "\n",
      "reviews_ct         0.0453***       0.0513***\n",
      "                  (0.000)         (0.000)   \n",
      "\n",
      "avgmean_ot~n     -0.00702         -0.0324   \n",
      "                  (0.948)         (0.797)   \n",
      "\n",
      "ent_others~n        0.629**         0.607*  \n",
      "                  (0.001)         (0.026)   \n",
      "\n",
      "ent_self_d~n        0.936*                  \n",
      "                  (0.011)                   \n",
      "\n",
      "c.ent_othe~d       -2.479***                \n",
      "                  (0.000)                   \n",
      "\n",
      "c.ent_self~a       -1.301*                  \n",
      "                  (0.034)                   \n",
      "\n",
      "log_experi~e        0.221***        0.205***\n",
      "                  (0.000)         (0.000)   \n",
      "\n",
      "temp_own_p~r       0.0700          0.0735   \n",
      "                  (0.433)         (0.401)   \n",
      "\n",
      "missing_pr~o      -0.0763         -0.0390   \n",
      "                  (0.483)         (0.731)   \n",
      "\n",
      "log_zip_rev       -0.0155**       -0.0148** \n",
      "                  (0.001)         (0.002)   \n",
      "\n",
      "1.state_n               0               0   \n",
      "                      (.)             (.)   \n",
      "\n",
      "2.state_n               0               0   \n",
      "                      (.)             (.)   \n",
      "\n",
      "3.state_n               0               0   \n",
      "                      (.)             (.)   \n",
      "\n",
      "4.state_n               0               0   \n",
      "                      (.)             (.)   \n",
      "\n",
      "5.state_n               0               0   \n",
      "                      (.)             (.)   \n",
      "\n",
      "6.state_n               0               0   \n",
      "                      (.)             (.)   \n",
      "\n",
      "7.state_n               0               0   \n",
      "                      (.)             (.)   \n",
      "\n",
      "9.state_n               0               0   \n",
      "                      (.)             (.)   \n",
      "\n",
      "10.state_n              0               0   \n",
      "                      (.)             (.)   \n",
      "\n",
      "12.state_n              0               0   \n",
      "                      (.)             (.)   \n",
      "\n",
      "13.state_n              0               0   \n",
      "                      (.)             (.)   \n",
      "\n",
      "14.state_n              0               0   \n",
      "                      (.)             (.)   \n",
      "\n",
      "15.state_n              0               0   \n",
      "                      (.)             (.)   \n",
      "\n",
      "16.state_n              0               0   \n",
      "                      (.)             (.)   \n",
      "\n",
      "17.state_n              0               0   \n",
      "                      (.)             (.)   \n",
      "\n",
      "18.state_n              0               0   \n",
      "                      (.)             (.)   \n",
      "\n",
      "19.state_n              0               0   \n",
      "                      (.)             (.)   \n",
      "\n",
      "20.state_n              0               0   \n",
      "                      (.)             (.)   \n",
      "\n",
      "21.state_n              0               0   \n",
      "                      (.)             (.)   \n",
      "\n",
      "22.state_n              0               0   \n",
      "                      (.)             (.)   \n",
      "\n",
      "23.state_n              0               0   \n",
      "                      (.)             (.)   \n",
      "\n",
      "24.state_n              0               0   \n",
      "                      (.)             (.)   \n",
      "\n",
      "25.state_n              0               0   \n",
      "                      (.)             (.)   \n",
      "\n",
      "26.state_n              0               0   \n",
      "                      (.)             (.)   \n",
      "\n",
      "27.state_n              0               0   \n",
      "                      (.)             (.)   \n",
      "\n",
      "28.state_n              0               0   \n",
      "                      (.)             (.)   \n",
      "\n",
      "29.state_n              0               0   \n",
      "                      (.)             (.)   \n",
      "\n",
      "30.state_n              0               0   \n",
      "                      (.)             (.)   \n",
      "\n",
      "31.state_n              0               0   \n",
      "                      (.)             (.)   \n",
      "\n",
      "32.state_n              0               0   \n",
      "                      (.)             (.)   \n",
      "\n",
      "ent_oth~n_sq                       -2.317***\n",
      "                                  (0.000)   \n",
      "\n",
      "_cons               2.714***        2.586***\n",
      "                  (0.000)         (0.000)   \n",
      "--------------------------------------------\n",
      "N                    4605            4298   \n",
      "--------------------------------------------\n",
      "p-values in parentheses\n",
      "* p<0.05, ** p<0.01, *** p<0.001\n"
     ]
    }
   ],
   "source": [
    "global iv_0_demean \"avg_v2_demean missing_avg reviews_ct  avgmean_others_demean   log_experience temp_own_price_diff_other missing_price_info log_zip_rev i.state_n \"  \n",
    "global iv_11_demean \"avg_v2_demean missing_avg reviews_ct  avgmean_others_demean  ent_others_demean c.ent_others_demean#c.ent_others_demean  log_experience temp_own_price_diff_other missing_price_info log_zip_rev i.state_n \"  \n",
    "global iv_12_demean \"avg_v2_demean missing_avg reviews_ct  avgmean_others_demean  ent_others_demean ent_self_demean  c.ent_others_demean#c.ent_others_demean  c.ent_self_demean#c.ent_self_demean log_experience temp_own_price_diff_other missing_price_info log_zip_rev i.state_n \"  \n",
    "global iv_12_demean_iv \"avg_v2_demean missing_avg reviews_ct  avgmean_others_demean  log_experience temp_own_price_diff_other missing_price_info log_zip_rev i.state_n \"\n",
    "eststo clear \n",
    "//gen ent_others_demean_sq=ent_others_demean*ent_others_demean \n",
    "//gen ent_self_demean_sq=ent_self_demean*ent_self_demean  \n",
    "drop if ent_others_demean==.\n",
    "\n",
    "qui:areg f.log_quotes  $iv_12_demean , absorb( installer_id) vce(robust) \n",
    "eststo \n",
    "qui: xtivreg f.log_quotes  $iv_12_demean_iv (ent_others_demean=l.ent_others_demean) ent_others_demean_sq, fe \n",
    "eststo\n",
    "\n",
    "esttab, p "
   ]
  }
 ],
 "metadata": {
  "kernelspec": {
   "display_name": "Stata",
   "language": "stata",
   "name": "stata"
  },
  "language_info": {
   "codemirror_mode": "stata",
   "file_extension": ".do",
   "mimetype": "text/x-stata",
   "name": "stata",
   "version": "15.1"
  }
 },
 "nbformat": 4,
 "nbformat_minor": 4
}
