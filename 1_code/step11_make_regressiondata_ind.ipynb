{
 "cells": [
  {
   "cell_type": "markdown",
   "metadata": {},
   "source": [
    "# Regression with Text Based Entropy Measures"
   ]
  },
  {
   "cell_type": "code",
   "execution_count": 3,
   "metadata": {},
   "outputs": [
    {
     "name": "stdout",
     "output_type": "stream",
     "text": [
      "C:\\Users\\Herbie Huang\\Google Drive\\Current_SolarResearch\\working_2020\n"
     ]
    }
   ],
   "source": [
    "pwd"
   ]
  },
  {
   "cell_type": "markdown",
   "metadata": {},
   "source": [
    "## Import text ent data "
   ]
  },
  {
   "cell_type": "code",
   "execution_count": 4,
   "metadata": {},
   "outputs": [
    {
     "name": "stdout",
     "output_type": "stream",
     "text": [
      "(25 vars, 10,368 obs)\n"
     ]
    }
   ],
   "source": [
    "import delimited BERTtext_ent_90_100_2steps.csv"
   ]
  },
  {
   "cell_type": "code",
   "execution_count": 5,
   "metadata": {},
   "outputs": [
    {
     "name": "stdout",
     "output_type": "stream",
     "text": [
      "\n",
      "    Variable |        Obs        Mean    Std. Dev.       Min        Max\n",
      "-------------+---------------------------------------------------------\n",
      "          v1 |     10,368      5183.5    2993.128          0      10367\n",
      "      market |     10,368    17.80469    13.55121         -1         36\n",
      "year_month~t |     10,368    45.79948    14.39884          1         64\n",
      "installer_id |     10,368    18044.93    6707.335        108      23027\n",
      "text_d_mk~an |      9,057    .1375434    .0235513   .0545641   .3658786\n",
      "-------------+---------------------------------------------------------\n",
      "text_d_mkt~d |      8,679    .0617684    .0166544   .0055242   .1519678\n",
      "text_d_mk~in |      9,057     .035209    .0365696  -1.19e-07   .3658786\n",
      "text_d_mk~25 |      9,057    .0966523    .0236698   .0545641   .3658786\n",
      "text_d_mk~50 |      9,057    .1248378    .0254379   .0545641   .3658786\n",
      "text_d_mk~75 |      9,057    .1652722    .0316213   .0545641   .3694176\n",
      "-------------+---------------------------------------------------------\n",
      "text_d_mkt~x |      9,057      .41044    .1597509   .0545641   .7564847\n",
      "text_d_se~an |      5,313    .1361488    .0493448          0   .3812145\n",
      "text_d_sel~d |      4,096    .0485214    .0318153   .0029742   .2048007\n",
      "text_d_se~in |      5,313    .0834631     .050881  -1.19e-07   .3812145\n",
      "text_d_se~25 |      5,313    .1111181     .045195          0   .3812145\n",
      "-------------+---------------------------------------------------------\n",
      "text_d_se~50 |      5,313    .1330836    .0516636          0   .3812145\n",
      "text_d_se~75 |      5,313    .1601485    .0664047          0   .4301152\n",
      "text_d_sel~x |      5,313    .2046666    .0973689          0   .6048386\n",
      "text_d_ot~an |      8,739    .1373603    .0235285   .0545641   .3729565\n",
      "text_d_oth~d |      8,375    .0618491    .0167686   .0032598   .1592438\n",
      "-------------+---------------------------------------------------------\n",
      "text_d_ot~in |      8,739    .0353768    .0372218  -1.19e-07   .3729565\n",
      "text_d_ot~25 |      8,739    .0965148    .0233834   .0540308   .3729565\n",
      "text_d_ot~50 |      8,739    .1247767    .0256372   .0545641   .3729565\n",
      "text_d_ot~75 |      8,739    .1648848    .0314487   .0545641   .3729565\n",
      "text_d_oth~x |      8,739    .4097347    .1603334   .0545641   .7564847\n"
     ]
    }
   ],
   "source": [
    "su"
   ]
  },
  {
   "cell_type": "code",
   "execution_count": 6,
   "metadata": {},
   "outputs": [],
   "source": [
    "drop v1"
   ]
  },
  {
   "cell_type": "code",
   "execution_count": 7,
   "metadata": {},
   "outputs": [
    {
     "name": "stdout",
     "output_type": "stream",
     "text": [
      "file BERTtext_ent_90_100_2twosteps.dta saved\n"
     ]
    }
   ],
   "source": [
    "save BERTtext_ent_90_100_2twosteps.dta "
   ]
  },
  {
   "cell_type": "markdown",
   "metadata": {},
   "source": [
    "## Import Text level ent variables "
   ]
  },
  {
   "cell_type": "code",
   "execution_count": 5,
   "metadata": {},
   "outputs": [],
   "source": [
    "use BERTtext_ent_90_100_2twosteps.dta ,clear"
   ]
  },
  {
   "cell_type": "code",
   "execution_count": 6,
   "metadata": {},
   "outputs": [
    {
     "name": "stdout",
     "output_type": "stream",
     "text": [
      "\n",
      "    Variable |        Obs        Mean    Std. Dev.       Min        Max\n",
      "-------------+---------------------------------------------------------\n",
      "      market |     10,368    17.80469    13.55121         -1         36\n",
      "year_month~t |     10,368    45.79948    14.39884          1         64\n",
      "installer_id |     10,368    18044.93    6707.335        108      23027\n",
      "text_d_mk~an |      9,057    .1375434    .0235513   .0545641   .3658786\n",
      "text_d_mk~in |      9,057     .035209    .0365696  -1.19e-07   .3658786\n",
      "-------------+---------------------------------------------------------\n",
      "text_d_mk~25 |      9,057    .0966523    .0236698   .0545641   .3658786\n",
      "text_d_mk~50 |      9,057    .1248378    .0254379   .0545641   .3658786\n",
      "text_d_mk~75 |      9,057    .1652722    .0316213   .0545641   .3694176\n",
      "text_d_mkt~x |      9,057      .41044    .1597509   .0545641   .7564847\n",
      "text_d_se~an |      5,313    .1361488    .0493448          0   .3812145\n",
      "-------------+---------------------------------------------------------\n",
      "text_d_se~in |      5,313    .0834631     .050881  -1.19e-07   .3812145\n",
      "text_d_se~25 |      5,313    .1111181     .045195          0   .3812145\n",
      "text_d_se~50 |      5,313    .1330836    .0516636          0   .3812145\n",
      "text_d_se~75 |      5,313    .1601485    .0664047          0   .4301152\n",
      "text_d_sel~x |      5,313    .2046666    .0973689          0   .6048386\n",
      "-------------+---------------------------------------------------------\n",
      "text_d_ot~an |      8,739    .1373603    .0235285   .0545641   .3729565\n",
      "text_d_ot~in |      8,739    .0353768    .0372218  -1.19e-07   .3729565\n",
      "text_d_ot~25 |      8,739    .0965148    .0233834   .0540308   .3729565\n",
      "text_d_ot~50 |      8,739    .1247767    .0256372   .0545641   .3729565\n",
      "text_d_ot~75 |      8,739    .1648848    .0314487   .0545641   .3729565\n",
      "-------------+---------------------------------------------------------\n",
      "text_d_oth~x |      8,739    .4097347    .1603334   .0545641   .7564847\n"
     ]
    }
   ],
   "source": [
    "su"
   ]
  },
  {
   "cell_type": "markdown",
   "metadata": {},
   "source": [
    "## Just re run and produce the regression results"
   ]
  },
  {
   "cell_type": "code",
   "execution_count": 8,
   "metadata": {},
   "outputs": [],
   "source": [
    "use final_step_analysis_ind_jan17.dta ,clear"
   ]
  },
  {
   "cell_type": "code",
   "execution_count": 9,
   "metadata": {},
   "outputs": [
    {
     "name": "stdout",
     "output_type": "stream",
     "text": [
      "\n",
      "    Result                           # of obs.\n",
      "    -----------------------------------------\n",
      "    not matched                         2,255\n",
      "        from master                         0  (_merge==1)\n",
      "        from using                      2,255  (_merge==2)\n",
      "\n",
      "    matched                             8,113  (_merge==3)\n",
      "    -----------------------------------------\n"
     ]
    }
   ],
   "source": [
    "merge 1:1 installer_id year_month_count market using BERTtext_ent_90_100_2twosteps.dta "
   ]
  },
  {
   "cell_type": "code",
   "execution_count": 10,
   "metadata": {},
   "outputs": [
    {
     "name": "stdout",
     "output_type": "stream",
     "text": [
      "(obs=3,834)\n",
      "\n",
      "             | ent_ot~s te~s_p50\n",
      "-------------+------------------\n",
      "  ent_others |   1.0000\n",
      "text_d_ot~50 |   0.4080   1.0000\n",
      "\n"
     ]
    }
   ],
   "source": [
    "corr ent_others text_d_others_p50 if ent_others!=0"
   ]
  },
  {
   "cell_type": "code",
   "execution_count": 13,
   "metadata": {
    "collapsed": true,
    "jupyter": {
     "outputs_hidden": true
    }
   },
   "outputs": [
    {
     "name": "stdout",
     "output_type": "stream",
     "text": [
      "\n",
      "                     Avg Sentiment Score\n",
      "-------------------------------------------------------------\n",
      "      Percentiles      Smallest\n",
      " 1%            0         -.8268\n",
      " 5%       .43275         -.6808\n",
      "10%        .5496         -.6808       Obs               4,953\n",
      "25%      .634175         -.6808       Sum of Wgt.       4,953\n",
      "\n",
      "50%         .704                      Mean           .6833483\n",
      "                        Largest       Std. Dev.      .1630279\n",
      "75%        .7772          .9576\n",
      "90%     .8325796          .9576       Variance       .0265781\n",
      "95%       .86145          .9576       Skewness      -3.394706\n",
      "99%        .9062          .9576       Kurtosis       23.33489\n",
      "\n",
      "                        Avg Sent(MKT)\n",
      "-------------------------------------------------------------\n",
      "      Percentiles      Smallest\n",
      " 1%     .3178286         .05934\n",
      " 5%        .5719         .05934\n",
      "10%      .622235         .05934       Obs               6,984\n",
      "25%      .663772       .1412889       Sum of Wgt.       6,984\n",
      "\n",
      "50%     .6980964                      Mean           .6936544\n",
      "                        Largest       Std. Dev.      .0778375\n",
      "75%     .7356555        .886075\n",
      "90%        .7761        .886075       Variance       .0060587\n",
      "95%        .8043        .886075       Skewness      -1.745476\n",
      "99%        .8663        .886075       Kurtosis       11.84965\n",
      "\n",
      "                      Avg Sent(Others)\n",
      "-------------------------------------------------------------\n",
      "      Percentiles      Smallest\n",
      " 1%      .424975         -.5994\n",
      " 5%        .5719         -.1445\n",
      "10%     .6212959      -.0569667       Obs               6,634\n",
      "25%     .6621212      -.0047875       Sum of Wgt.       6,634\n",
      "\n",
      "50%     .6980121                      Mean           .6925234\n",
      "                        Largest       Std. Dev.      .0888809\n",
      "75%     .7349109          .9576\n",
      "90%       .77625          .9576       Variance       .0078998\n",
      "95%        .8043          .9576       Skewness      -3.471909\n",
      "99%        .8663          .9576       Kurtosis       31.05323\n"
     ]
    }
   ],
   "source": [
    "su avg_sent*,d"
   ]
  },
  {
   "cell_type": "code",
   "execution_count": 15,
   "metadata": {},
   "outputs": [],
   "source": [
    "label variable ent_others \"Entropy Others\"\n",
    "label variable text_d_others_p50 \"Text-based Entropy Others\""
   ]
  },
  {
   "cell_type": "code",
   "execution_count": 16,
   "metadata": {},
   "outputs": [
    {
     "data": {
      "image/png": "[encoded data removed]",
      "text/plain": [
       "This front-end cannot display the desired image type."
      ]
     },
     "metadata": {
      "image/png": {
       "height": 436,
       "width": 600
      }
     },
     "output_type": "display_data"
    }
   ],
   "source": [
    "scatter ent_others text_d_others_p50 if ent_others!=0"
   ]
  },
  {
   "cell_type": "code",
   "execution_count": 17,
   "metadata": {},
   "outputs": [
    {
     "name": "stdout",
     "output_type": "stream",
     "text": [
      "\n",
      "                 _merge |      Freq.     Percent        Cum.\n",
      "------------------------+-----------------------------------\n",
      "         using only (2) |      2,255       21.75       21.75\n",
      "            matched (3) |      8,113       78.25      100.00\n",
      "------------------------+-----------------------------------\n",
      "                  Total |     10,368      100.00\n"
     ]
    }
   ],
   "source": [
    "tab _merge\n"
   ]
  },
  {
   "cell_type": "code",
   "execution_count": 18,
   "metadata": {},
   "outputs": [
    {
     "name": "stdout",
     "output_type": "stream",
     "text": [
      "\n",
      "(2,255 observations deleted)\n",
      "\n"
     ]
    }
   ],
   "source": [
    "keep if _merge==3 \n",
    "drop _merge "
   ]
  },
  {
   "cell_type": "code",
   "execution_count": 19,
   "metadata": {},
   "outputs": [
    {
     "name": "stdout",
     "output_type": "stream",
     "text": [
      "\n",
      "    Variable |        Obs        Mean    Std. Dev.       Min        Max\n",
      "-------------+---------------------------------------------------------\n",
      "avg_sent_s~e |      4,953    .6833483    .1630279     -.8268      .9576\n",
      "avg_sent_s~t |      6,984    .6936544    .0778375     .05934    .886075\n",
      "avg_sent_s~s |      6,634    .6925234    .0888809     -.5994      .9576\n"
     ]
    }
   ],
   "source": [
    "su avg_sent*"
   ]
  },
  {
   "cell_type": "code",
   "execution_count": 20,
   "metadata": {},
   "outputs": [
    {
     "name": "stdout",
     "output_type": "stream",
     "text": [
      "\n",
      "    Variable |        Obs        Mean    Std. Dev.       Min        Max\n",
      "-------------+---------------------------------------------------------\n",
      "         avg |      4,953    4.880346    .3971615          1          5\n",
      "avg_sent_s~e |      4,953    .6833483    .1630279     -.8268      .9576\n",
      " avgmean_mkt |      6,984    4.891938    .1832806          3          5\n",
      "avgmean_ot~s |      6,634    4.891381    .1984802          1          5\n",
      "avg_sent_s~t |      6,984    .6936544    .0778375     .05934    .886075\n",
      "-------------+---------------------------------------------------------\n",
      "avg_sent_s~s |      6,634    .6925234    .0888809     -.5994      .9576\n",
      "      avg_v2 |      8,113     2.97946    2.400126          0          5\n"
     ]
    }
   ],
   "source": [
    "su avg*"
   ]
  },
  {
   "cell_type": "code",
   "execution_count": 21,
   "metadata": {},
   "outputs": [
    {
     "name": "stdout",
     "output_type": "stream",
     "text": [
      "\n",
      "    Variable |        Obs        Mean    Std. Dev.       Min        Max\n",
      "-------------+---------------------------------------------------------\n",
      "     ent_mkt |      5,340    .2376226    .1857222          0    1.05492\n",
      "  ent_others |      5,340    .2247373    .1915538          0   1.070593\n",
      "    ent_self |      5,340    .0981426    .2199734          0   1.209574\n"
     ]
    }
   ],
   "source": [
    "su ent*"
   ]
  },
  {
   "cell_type": "code",
   "execution_count": 22,
   "metadata": {},
   "outputs": [
    {
     "name": "stdout",
     "output_type": "stream",
     "text": [
      "file regression_analysis_ind_with_ent_sent_jan18.dta saved\n"
     ]
    }
   ],
   "source": [
    "save regression_analysis_ind_with_ent_sent_jan18.dta"
   ]
  },
  {
   "cell_type": "markdown",
   "metadata": {},
   "source": [
    "### patch:  generate indicator variables for missing avg_sent*"
   ]
  },
  {
   "cell_type": "code",
   "execution_count": 1,
   "metadata": {},
   "outputs": [],
   "source": [
    "use regression_analysis_ind_with_ent_sent_jan18.dta "
   ]
  },
  {
   "cell_type": "code",
   "execution_count": 2,
   "metadata": {},
   "outputs": [
    {
     "name": "stdout",
     "output_type": "stream",
     "text": [
      "\n",
      "    Variable |        Obs        Mean    Std. Dev.       Min        Max\n",
      "-------------+---------------------------------------------------------\n",
      "avg_sent_s~e |      4,953    .6833483    .1630279     -.8268      .9576\n",
      "avg_sent_s~t |      6,984    .6936544    .0778375     .05934    .886075\n",
      "avg_sent_s~s |      6,634    .6925234    .0888809     -.5994      .9576\n"
     ]
    }
   ],
   "source": [
    "su avg_sen*"
   ]
  },
  {
   "cell_type": "code",
   "execution_count": 3,
   "metadata": {},
   "outputs": [
    {
     "name": "stdout",
     "output_type": "stream",
     "text": [
      "\n",
      "(3,160 real changes made)\n",
      "\n",
      "\n",
      "(3,196 real changes made)\n",
      "\n",
      "(1,479 real changes made)\n",
      "\n",
      "\n",
      "(1,507 real changes made)\n",
      "\n",
      "(1,129 real changes made)\n",
      "\n",
      "\n",
      "(1,129 real changes made)\n"
     ]
    }
   ],
   "source": [
    "replace avg_sent_score=0 if avg_sent_score==.\n",
    "gen missing_avg_sent=0\n",
    "replace missing_avg_sent=1 if avg_sent_score==0 \n",
    "\n",
    "replace avg_sent_score_others=0 if avg_sent_score_others==.\n",
    "gen missing_avg_sent_others=0\n",
    "replace missing_avg_sent_others=1 if avg_sent_score_others==0 \n",
    "\n",
    "replace avg_sent_score_mkt=0 if avg_sent_score_mkt==.\n",
    "gen missing_avg_sent_mkt=0\n",
    "replace missing_avg_sent_mkt=1 if avg_sent_score_mkt==0 \n"
   ]
  },
  {
   "cell_type": "code",
   "execution_count": 4,
   "metadata": {},
   "outputs": [
    {
     "name": "stdout",
     "output_type": "stream",
     "text": [
      "\n",
      "    Variable |        Obs        Mean    Std. Dev.       Min        Max\n",
      "-------------+---------------------------------------------------------\n",
      "avg_sent_s~e |      8,113    .4171853      .35676     -.8268      .9576\n",
      "avg_sent_s~t |      8,113    .5971259    .2507234          0    .886075\n",
      "avg_sent_s~s |      8,113    .5662764    .2792114     -.5994      .9576\n"
     ]
    }
   ],
   "source": [
    "su avg_sent*"
   ]
  },
  {
   "cell_type": "markdown",
   "metadata": {},
   "source": [
    "## patch: label variables "
   ]
  },
  {
   "cell_type": "code",
   "execution_count": 7,
   "metadata": {},
   "outputs": [],
   "source": [
    "label variable text_d_self_p50 \"Text-based Entropy(self)\""
   ]
  },
  {
   "cell_type": "code",
   "execution_count": 9,
   "metadata": {},
   "outputs": [
    {
     "name": "stdout",
     "output_type": "stream",
     "text": [
      "file regression_analysis_ind_with_ent_sent_jan18.dta saved\n"
     ]
    }
   ],
   "source": [
    "save regression_analysis_ind_with_ent_sent_jan18.dta, replace"
   ]
  }
 ],
 "metadata": {
  "kernelspec": {
   "display_name": "Stata",
   "language": "stata",
   "name": "stata"
  },
  "language_info": {
   "codemirror_mode": "stata",
   "file_extension": ".do",
   "mimetype": "text/x-stata",
   "name": "stata",
   "version": "15.1"
  }
 },
 "nbformat": 4,
 "nbformat_minor": 4
}
