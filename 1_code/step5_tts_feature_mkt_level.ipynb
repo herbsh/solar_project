{
 "cells": [
  {
   "cell_type": "markdown",
   "metadata": {},
   "source": [
    "# From TTS data to market level characteristics \n",
    "- update: June 25, 2020"
   ]
  },
  {
   "cell_type": "markdown",
   "metadata": {},
   "source": [
    "## input: Import ES labels and coordinates"
   ]
  },
  {
   "cell_type": "code",
   "execution_count": 40,
   "metadata": {},
   "outputs": [],
   "source": [
    "parameter='90_100_2two_step'"
   ]
  },
  {
   "cell_type": "code",
   "execution_count": 1,
   "metadata": {},
   "outputs": [],
   "source": [
    "import pandas as pd \n",
    "cluster_labels=pd.read_csv('../2_pipeline/es_labeled90_100_2two_step.csv')"
   ]
  },
  {
   "cell_type": "code",
   "execution_count": 2,
   "metadata": {},
   "outputs": [
    {
     "data": {
      "text/html": [
       "<div>\n",
       "<style scoped>\n",
       "    .dataframe tbody tr th:only-of-type {\n",
       "        vertical-align: middle;\n",
       "    }\n",
       "\n",
       "    .dataframe tbody tr th {\n",
       "        vertical-align: top;\n",
       "    }\n",
       "\n",
       "    .dataframe thead th {\n",
       "        text-align: right;\n",
       "    }\n",
       "</style>\n",
       "<table border=\"1\" class=\"dataframe\">\n",
       "  <thead>\n",
       "    <tr style=\"text-align: right;\">\n",
       "      <th></th>\n",
       "      <th>Unnamed: 0</th>\n",
       "      <th>labels</th>\n",
       "      <th>lat</th>\n",
       "      <th>long</th>\n",
       "    </tr>\n",
       "  </thead>\n",
       "  <tbody>\n",
       "    <tr>\n",
       "      <th>0</th>\n",
       "      <td>0</td>\n",
       "      <td>0</td>\n",
       "      <td>45.569080</td>\n",
       "      <td>-122.946701</td>\n",
       "    </tr>\n",
       "    <tr>\n",
       "      <th>1</th>\n",
       "      <td>1</td>\n",
       "      <td>14</td>\n",
       "      <td>42.503670</td>\n",
       "      <td>-83.781059</td>\n",
       "    </tr>\n",
       "    <tr>\n",
       "      <th>2</th>\n",
       "      <td>2</td>\n",
       "      <td>4</td>\n",
       "      <td>34.004478</td>\n",
       "      <td>-117.684700</td>\n",
       "    </tr>\n",
       "    <tr>\n",
       "      <th>3</th>\n",
       "      <td>3</td>\n",
       "      <td>6</td>\n",
       "      <td>33.610741</td>\n",
       "      <td>-111.891472</td>\n",
       "    </tr>\n",
       "    <tr>\n",
       "      <th>4</th>\n",
       "      <td>4</td>\n",
       "      <td>30</td>\n",
       "      <td>29.985395</td>\n",
       "      <td>-95.346214</td>\n",
       "    </tr>\n",
       "  </tbody>\n",
       "</table>\n",
       "</div>"
      ],
      "text/plain": [
       "   Unnamed: 0  labels        lat        long\n",
       "0           0       0  45.569080 -122.946701\n",
       "1           1      14  42.503670  -83.781059\n",
       "2           2       4  34.004478 -117.684700\n",
       "3           3       6  33.610741 -111.891472\n",
       "4           4      30  29.985395  -95.346214"
      ]
     },
     "execution_count": 2,
     "metadata": {},
     "output_type": "execute_result"
    }
   ],
   "source": [
    "cluster_labels.head()"
   ]
  },
  {
   "cell_type": "code",
   "execution_count": 3,
   "metadata": {},
   "outputs": [
    {
     "data": {
      "text/html": [
       "<div>\n",
       "<style scoped>\n",
       "    .dataframe tbody tr th:only-of-type {\n",
       "        vertical-align: middle;\n",
       "    }\n",
       "\n",
       "    .dataframe tbody tr th {\n",
       "        vertical-align: top;\n",
       "    }\n",
       "\n",
       "    .dataframe thead th {\n",
       "        text-align: right;\n",
       "    }\n",
       "</style>\n",
       "<table border=\"1\" class=\"dataframe\">\n",
       "  <thead>\n",
       "    <tr style=\"text-align: right;\">\n",
       "      <th></th>\n",
       "      <th>Unnamed: 0</th>\n",
       "      <th>labels</th>\n",
       "      <th>lat</th>\n",
       "      <th>long</th>\n",
       "    </tr>\n",
       "  </thead>\n",
       "  <tbody>\n",
       "    <tr>\n",
       "      <th>count</th>\n",
       "      <td>463.000000</td>\n",
       "      <td>463.000000</td>\n",
       "      <td>463.000000</td>\n",
       "      <td>463.000000</td>\n",
       "    </tr>\n",
       "    <tr>\n",
       "      <th>mean</th>\n",
       "      <td>136.354212</td>\n",
       "      <td>16.699784</td>\n",
       "      <td>37.798171</td>\n",
       "      <td>-93.395793</td>\n",
       "    </tr>\n",
       "    <tr>\n",
       "      <th>std</th>\n",
       "      <td>93.665795</td>\n",
       "      <td>13.202655</td>\n",
       "      <td>4.895085</td>\n",
       "      <td>19.449196</td>\n",
       "    </tr>\n",
       "    <tr>\n",
       "      <th>min</th>\n",
       "      <td>0.000000</td>\n",
       "      <td>-1.000000</td>\n",
       "      <td>25.485147</td>\n",
       "      <td>-122.987328</td>\n",
       "    </tr>\n",
       "    <tr>\n",
       "      <th>25%</th>\n",
       "      <td>60.000000</td>\n",
       "      <td>4.000000</td>\n",
       "      <td>34.068075</td>\n",
       "      <td>-117.088020</td>\n",
       "    </tr>\n",
       "    <tr>\n",
       "      <th>50%</th>\n",
       "      <td>118.000000</td>\n",
       "      <td>17.000000</td>\n",
       "      <td>38.952515</td>\n",
       "      <td>-84.275970</td>\n",
       "    </tr>\n",
       "    <tr>\n",
       "      <th>75%</th>\n",
       "      <td>208.500000</td>\n",
       "      <td>30.500000</td>\n",
       "      <td>41.626019</td>\n",
       "      <td>-74.911308</td>\n",
       "    </tr>\n",
       "    <tr>\n",
       "      <th>max</th>\n",
       "      <td>416.000000</td>\n",
       "      <td>36.000000</td>\n",
       "      <td>48.796490</td>\n",
       "      <td>-69.747612</td>\n",
       "    </tr>\n",
       "  </tbody>\n",
       "</table>\n",
       "</div>"
      ],
      "text/plain": [
       "       Unnamed: 0      labels         lat        long\n",
       "count  463.000000  463.000000  463.000000  463.000000\n",
       "mean   136.354212   16.699784   37.798171  -93.395793\n",
       "std     93.665795   13.202655    4.895085   19.449196\n",
       "min      0.000000   -1.000000   25.485147 -122.987328\n",
       "25%     60.000000    4.000000   34.068075 -117.088020\n",
       "50%    118.000000   17.000000   38.952515  -84.275970\n",
       "75%    208.500000   30.500000   41.626019  -74.911308\n",
       "max    416.000000   36.000000   48.796490  -69.747612"
      ]
     },
     "execution_count": 3,
     "metadata": {},
     "output_type": "execute_result"
    }
   ],
   "source": [
    "cluster_labels.describe()"
   ]
  },
  {
   "cell_type": "markdown",
   "metadata": {},
   "source": [
    "## Intermediate step - attach centroid to every ES installer "
   ]
  },
  {
   "cell_type": "markdown",
   "metadata": {},
   "source": [
    "### Helper function: get_coords "
   ]
  },
  {
   "cell_type": "code",
   "execution_count": 4,
   "metadata": {},
   "outputs": [],
   "source": [
    "def get_coords( dataframe ):\n",
    "    #df=dataframe[['installerid','lat','long']]\n",
    "    df=dataframe[['lat','long']]\n",
    "    df=df.dropna()\n",
    "    coords=df.as_matrix(columns=['lat','long'])\n",
    "    return coords;\n",
    "\n"
   ]
  },
  {
   "cell_type": "markdown",
   "metadata": {},
   "source": [
    "### Helper function: generate the centroid for each ES market "
   ]
  },
  {
   "cell_type": "code",
   "execution_count": 5,
   "metadata": {},
   "outputs": [],
   "source": [
    "from shapely.geometry import MultiPoint\n",
    "def get_centroid(cluster):\n",
    "    centroid = (MultiPoint(cluster).centroid.y, MultiPoint(cluster).centroid.x)\n",
    "    return tuple(centroid)"
   ]
  },
  {
   "cell_type": "markdown",
   "metadata": {},
   "source": [
    "### add centroid to ES market data "
   ]
  },
  {
   "cell_type": "code",
   "execution_count": 7,
   "metadata": {},
   "outputs": [],
   "source": [
    "import numpy as np\n",
    "cluster_labels['mkt_centroid_la']=np.nan\n",
    "cluster_labels['mkt_centroid_long']=np.nan"
   ]
  },
  {
   "cell_type": "code",
   "execution_count": 8,
   "metadata": {},
   "outputs": [
    {
     "data": {
      "text/html": [
       "<div>\n",
       "<style scoped>\n",
       "    .dataframe tbody tr th:only-of-type {\n",
       "        vertical-align: middle;\n",
       "    }\n",
       "\n",
       "    .dataframe tbody tr th {\n",
       "        vertical-align: top;\n",
       "    }\n",
       "\n",
       "    .dataframe thead th {\n",
       "        text-align: right;\n",
       "    }\n",
       "</style>\n",
       "<table border=\"1\" class=\"dataframe\">\n",
       "  <thead>\n",
       "    <tr style=\"text-align: right;\">\n",
       "      <th></th>\n",
       "      <th>Unnamed: 0</th>\n",
       "      <th>labels</th>\n",
       "      <th>lat</th>\n",
       "      <th>long</th>\n",
       "      <th>mkt_centroid_la</th>\n",
       "      <th>mkt_centroid_long</th>\n",
       "    </tr>\n",
       "  </thead>\n",
       "  <tbody>\n",
       "    <tr>\n",
       "      <th>0</th>\n",
       "      <td>0</td>\n",
       "      <td>0</td>\n",
       "      <td>45.569080</td>\n",
       "      <td>-122.946701</td>\n",
       "      <td>NaN</td>\n",
       "      <td>NaN</td>\n",
       "    </tr>\n",
       "    <tr>\n",
       "      <th>1</th>\n",
       "      <td>1</td>\n",
       "      <td>14</td>\n",
       "      <td>42.503670</td>\n",
       "      <td>-83.781059</td>\n",
       "      <td>NaN</td>\n",
       "      <td>NaN</td>\n",
       "    </tr>\n",
       "    <tr>\n",
       "      <th>2</th>\n",
       "      <td>2</td>\n",
       "      <td>4</td>\n",
       "      <td>34.004478</td>\n",
       "      <td>-117.684700</td>\n",
       "      <td>NaN</td>\n",
       "      <td>NaN</td>\n",
       "    </tr>\n",
       "    <tr>\n",
       "      <th>3</th>\n",
       "      <td>3</td>\n",
       "      <td>6</td>\n",
       "      <td>33.610741</td>\n",
       "      <td>-111.891472</td>\n",
       "      <td>NaN</td>\n",
       "      <td>NaN</td>\n",
       "    </tr>\n",
       "    <tr>\n",
       "      <th>4</th>\n",
       "      <td>4</td>\n",
       "      <td>30</td>\n",
       "      <td>29.985395</td>\n",
       "      <td>-95.346214</td>\n",
       "      <td>NaN</td>\n",
       "      <td>NaN</td>\n",
       "    </tr>\n",
       "  </tbody>\n",
       "</table>\n",
       "</div>"
      ],
      "text/plain": [
       "   Unnamed: 0  labels        lat        long  mkt_centroid_la  \\\n",
       "0           0       0  45.569080 -122.946701              NaN   \n",
       "1           1      14  42.503670  -83.781059              NaN   \n",
       "2           2       4  34.004478 -117.684700              NaN   \n",
       "3           3       6  33.610741 -111.891472              NaN   \n",
       "4           4      30  29.985395  -95.346214              NaN   \n",
       "\n",
       "   mkt_centroid_long  \n",
       "0                NaN  \n",
       "1                NaN  \n",
       "2                NaN  \n",
       "3                NaN  \n",
       "4                NaN  "
      ]
     },
     "execution_count": 8,
     "metadata": {},
     "output_type": "execute_result"
    }
   ],
   "source": [
    "cluster_labels.head()"
   ]
  },
  {
   "cell_type": "markdown",
   "metadata": {},
   "source": [
    "### by labels( market index) compute the centroid of each cluster "
   ]
  },
  {
   "cell_type": "code",
   "execution_count": 9,
   "metadata": {},
   "outputs": [
    {
     "name": "stderr",
     "output_type": "stream",
     "text": [
      "C:\\Anaconda\\lib\\site-packages\\ipykernel_launcher.py:5: FutureWarning: Method .as_matrix will be removed in a future version. Use .values instead.\n",
      "  \"\"\"\n",
      "C:\\Anaconda\\lib\\site-packages\\pandas\\core\\indexing.py:190: SettingWithCopyWarning: \n",
      "A value is trying to be set on a copy of a slice from a DataFrame\n",
      "\n",
      "See the caveats in the documentation: http://pandas.pydata.org/pandas-docs/stable/indexing.html#indexing-view-versus-copy\n",
      "  self._setitem_with_indexer(indexer, value)\n"
     ]
    }
   ],
   "source": [
    "for index,row in cluster_labels.iterrows():\n",
    "    label=row.labels\n",
    "    centroid=get_centroid(get_coords(cluster_labels[cluster_labels['labels']==label]))\n",
    "    cluster_labels['mkt_centroid_long'].iloc[index]=centroid[0]\n",
    "    cluster_labels['mkt_centroid_la'].iloc[index]=centroid[1]\n",
    "    "
   ]
  },
  {
   "cell_type": "code",
   "execution_count": 10,
   "metadata": {},
   "outputs": [
    {
     "data": {
      "text/html": [
       "<div>\n",
       "<style scoped>\n",
       "    .dataframe tbody tr th:only-of-type {\n",
       "        vertical-align: middle;\n",
       "    }\n",
       "\n",
       "    .dataframe tbody tr th {\n",
       "        vertical-align: top;\n",
       "    }\n",
       "\n",
       "    .dataframe thead th {\n",
       "        text-align: right;\n",
       "    }\n",
       "</style>\n",
       "<table border=\"1\" class=\"dataframe\">\n",
       "  <thead>\n",
       "    <tr style=\"text-align: right;\">\n",
       "      <th></th>\n",
       "      <th>Unnamed: 0</th>\n",
       "      <th>labels</th>\n",
       "      <th>lat</th>\n",
       "      <th>long</th>\n",
       "      <th>mkt_centroid_la</th>\n",
       "      <th>mkt_centroid_long</th>\n",
       "    </tr>\n",
       "  </thead>\n",
       "  <tbody>\n",
       "    <tr>\n",
       "      <th>0</th>\n",
       "      <td>0</td>\n",
       "      <td>0</td>\n",
       "      <td>45.569080</td>\n",
       "      <td>-122.946701</td>\n",
       "      <td>45.437519</td>\n",
       "      <td>-122.771051</td>\n",
       "    </tr>\n",
       "    <tr>\n",
       "      <th>1</th>\n",
       "      <td>1</td>\n",
       "      <td>14</td>\n",
       "      <td>42.503670</td>\n",
       "      <td>-83.781059</td>\n",
       "      <td>42.403030</td>\n",
       "      <td>-83.678697</td>\n",
       "    </tr>\n",
       "    <tr>\n",
       "      <th>2</th>\n",
       "      <td>2</td>\n",
       "      <td>4</td>\n",
       "      <td>34.004478</td>\n",
       "      <td>-117.684700</td>\n",
       "      <td>33.721546</td>\n",
       "      <td>-117.710008</td>\n",
       "    </tr>\n",
       "    <tr>\n",
       "      <th>3</th>\n",
       "      <td>3</td>\n",
       "      <td>6</td>\n",
       "      <td>33.610741</td>\n",
       "      <td>-111.891472</td>\n",
       "      <td>33.512993</td>\n",
       "      <td>-111.903642</td>\n",
       "    </tr>\n",
       "    <tr>\n",
       "      <th>4</th>\n",
       "      <td>4</td>\n",
       "      <td>30</td>\n",
       "      <td>29.985395</td>\n",
       "      <td>-95.346214</td>\n",
       "      <td>29.759703</td>\n",
       "      <td>-95.511000</td>\n",
       "    </tr>\n",
       "  </tbody>\n",
       "</table>\n",
       "</div>"
      ],
      "text/plain": [
       "   Unnamed: 0  labels        lat        long  mkt_centroid_la  \\\n",
       "0           0       0  45.569080 -122.946701        45.437519   \n",
       "1           1      14  42.503670  -83.781059        42.403030   \n",
       "2           2       4  34.004478 -117.684700        33.721546   \n",
       "3           3       6  33.610741 -111.891472        33.512993   \n",
       "4           4      30  29.985395  -95.346214        29.759703   \n",
       "\n",
       "   mkt_centroid_long  \n",
       "0        -122.771051  \n",
       "1         -83.678697  \n",
       "2        -117.710008  \n",
       "3        -111.903642  \n",
       "4         -95.511000  "
      ]
     },
     "execution_count": 10,
     "metadata": {},
     "output_type": "execute_result"
    }
   ],
   "source": [
    "cluster_labels.head()"
   ]
  },
  {
   "cell_type": "code",
   "execution_count": 12,
   "metadata": {},
   "outputs": [],
   "source": [
    "es_market_centroids=cluster_labels[['labels','mkt_centroid_la','mkt_centroid_long']].drop_duplicates()"
   ]
  },
  {
   "cell_type": "code",
   "execution_count": 13,
   "metadata": {},
   "outputs": [
    {
     "data": {
      "text/html": [
       "<div>\n",
       "<style scoped>\n",
       "    .dataframe tbody tr th:only-of-type {\n",
       "        vertical-align: middle;\n",
       "    }\n",
       "\n",
       "    .dataframe tbody tr th {\n",
       "        vertical-align: top;\n",
       "    }\n",
       "\n",
       "    .dataframe thead th {\n",
       "        text-align: right;\n",
       "    }\n",
       "</style>\n",
       "<table border=\"1\" class=\"dataframe\">\n",
       "  <thead>\n",
       "    <tr style=\"text-align: right;\">\n",
       "      <th></th>\n",
       "      <th>labels</th>\n",
       "      <th>mkt_centroid_la</th>\n",
       "      <th>mkt_centroid_long</th>\n",
       "    </tr>\n",
       "  </thead>\n",
       "  <tbody>\n",
       "    <tr>\n",
       "      <th>0</th>\n",
       "      <td>0</td>\n",
       "      <td>45.437519</td>\n",
       "      <td>-122.771051</td>\n",
       "    </tr>\n",
       "    <tr>\n",
       "      <th>1</th>\n",
       "      <td>14</td>\n",
       "      <td>42.403030</td>\n",
       "      <td>-83.678697</td>\n",
       "    </tr>\n",
       "    <tr>\n",
       "      <th>2</th>\n",
       "      <td>4</td>\n",
       "      <td>33.721546</td>\n",
       "      <td>-117.710008</td>\n",
       "    </tr>\n",
       "    <tr>\n",
       "      <th>3</th>\n",
       "      <td>6</td>\n",
       "      <td>33.512993</td>\n",
       "      <td>-111.903642</td>\n",
       "    </tr>\n",
       "    <tr>\n",
       "      <th>4</th>\n",
       "      <td>30</td>\n",
       "      <td>29.759703</td>\n",
       "      <td>-95.511000</td>\n",
       "    </tr>\n",
       "  </tbody>\n",
       "</table>\n",
       "</div>"
      ],
      "text/plain": [
       "   labels  mkt_centroid_la  mkt_centroid_long\n",
       "0       0        45.437519        -122.771051\n",
       "1      14        42.403030         -83.678697\n",
       "2       4        33.721546        -117.710008\n",
       "3       6        33.512993        -111.903642\n",
       "4      30        29.759703         -95.511000"
      ]
     },
     "execution_count": 13,
     "metadata": {},
     "output_type": "execute_result"
    }
   ],
   "source": [
    "es_market_centroids.head()"
   ]
  },
  {
   "cell_type": "markdown",
   "metadata": {},
   "source": [
    "## Helper Functions"
   ]
  },
  {
   "cell_type": "markdown",
   "metadata": {},
   "source": [
    "### Helper function: Haversine distance"
   ]
  },
  {
   "cell_type": "code",
   "execution_count": 14,
   "metadata": {},
   "outputs": [],
   "source": [
    "from math import radians, cos, sin, asin, sqrt\n",
    "\n",
    "def haversine(lat1, lon1, lat2, lon2):\n",
    "\n",
    "      R = 3959.87433 # this is in miles.  For Earth radius in kilometers use 6372.8 km\n",
    "\n",
    "      dLat = radians(lat2 - lat1)\n",
    "      dLon = radians(lon2 - lon1)\n",
    "      lat1 = radians(lat1)\n",
    "      lat2 = radians(lat2)\n",
    "\n",
    "      a = sin(dLat/2)**2 + cos(lat1)*cos(lat2)*sin(dLon/2)**2\n",
    "      c = 2*asin(sqrt(a))\n",
    "\n",
    "      return R * c"
   ]
  },
  {
   "cell_type": "markdown",
   "metadata": {},
   "source": [
    "### Find TTS installers within each ES market "
   ]
  },
  {
   "cell_type": "code",
   "execution_count": 15,
   "metadata": {},
   "outputs": [],
   "source": [
    "def find_tts_from_centroid(centroid_la,centroid_long,tts,threshold_r):\n",
    "    temp_tts['dis_to_centroid_pt']=temp_tts.apply(lambda x:haversine(x['lat'],x['long'],centroid_la,centroid_long),axis=1)\n",
    "   \n",
    "    return set(temp_tts[temp_tts['dis_to_centroid_pt']<threshold_r].installerid)"
   ]
  },
  {
   "cell_type": "code",
   "execution_count": 16,
   "metadata": {},
   "outputs": [],
   "source": [
    "def find_tts_monthly(ttsids,ttsmonthly):\n",
    "    if(len(ttsids)>0):\n",
    "        return ttsmonthly.loc[ttsmonthly['installername2'].isin(ttsids)]\n",
    "    else :\n",
    "        return"
   ]
  },
  {
   "cell_type": "markdown",
   "metadata": {},
   "source": [
    "## input: import US Zip code data "
   ]
  },
  {
   "cell_type": "code",
   "execution_count": 17,
   "metadata": {},
   "outputs": [],
   "source": [
    "zipcode_coords_url= \"../0_data/RawData_geospatial//uszip_latlong.dta\" "
   ]
  },
  {
   "cell_type": "code",
   "execution_count": 18,
   "metadata": {},
   "outputs": [],
   "source": [
    "zipcode_coords=pd.read_stata(zipcode_coords_url)"
   ]
  },
  {
   "cell_type": "code",
   "execution_count": 19,
   "metadata": {},
   "outputs": [
    {
     "data": {
      "text/html": [
       "<div>\n",
       "<style scoped>\n",
       "    .dataframe tbody tr th:only-of-type {\n",
       "        vertical-align: middle;\n",
       "    }\n",
       "\n",
       "    .dataframe tbody tr th {\n",
       "        vertical-align: top;\n",
       "    }\n",
       "\n",
       "    .dataframe thead th {\n",
       "        text-align: right;\n",
       "    }\n",
       "</style>\n",
       "<table border=\"1\" class=\"dataframe\">\n",
       "  <thead>\n",
       "    <tr style=\"text-align: right;\">\n",
       "      <th></th>\n",
       "      <th>zipcode_str</th>\n",
       "      <th>lat</th>\n",
       "      <th>lng</th>\n",
       "    </tr>\n",
       "  </thead>\n",
       "  <tbody>\n",
       "    <tr>\n",
       "      <th>0</th>\n",
       "      <td>00601</td>\n",
       "      <td>18.180555</td>\n",
       "      <td>-66.749962</td>\n",
       "    </tr>\n",
       "    <tr>\n",
       "      <th>1</th>\n",
       "      <td>00602</td>\n",
       "      <td>18.361944</td>\n",
       "      <td>-67.175598</td>\n",
       "    </tr>\n",
       "    <tr>\n",
       "      <th>2</th>\n",
       "      <td>00603</td>\n",
       "      <td>18.455183</td>\n",
       "      <td>-67.119888</td>\n",
       "    </tr>\n",
       "    <tr>\n",
       "      <th>3</th>\n",
       "      <td>00606</td>\n",
       "      <td>18.158327</td>\n",
       "      <td>-66.932930</td>\n",
       "    </tr>\n",
       "    <tr>\n",
       "      <th>4</th>\n",
       "      <td>00610</td>\n",
       "      <td>18.295366</td>\n",
       "      <td>-67.125137</td>\n",
       "    </tr>\n",
       "  </tbody>\n",
       "</table>\n",
       "</div>"
      ],
      "text/plain": [
       "  zipcode_str        lat        lng\n",
       "0       00601  18.180555 -66.749962\n",
       "1       00602  18.361944 -67.175598\n",
       "2       00603  18.455183 -67.119888\n",
       "3       00606  18.158327 -66.932930\n",
       "4       00610  18.295366 -67.125137"
      ]
     },
     "execution_count": 19,
     "metadata": {},
     "output_type": "execute_result"
    }
   ],
   "source": [
    "zipcode_coords.head()"
   ]
  },
  {
   "cell_type": "code",
   "execution_count": 21,
   "metadata": {},
   "outputs": [],
   "source": [
    "zipcode_coords['zipcode']=zipcode_coords['zipcode_str'].astype(int)"
   ]
  },
  {
   "cell_type": "code",
   "execution_count": 22,
   "metadata": {},
   "outputs": [
    {
     "data": {
      "text/html": [
       "<div>\n",
       "<style scoped>\n",
       "    .dataframe tbody tr th:only-of-type {\n",
       "        vertical-align: middle;\n",
       "    }\n",
       "\n",
       "    .dataframe tbody tr th {\n",
       "        vertical-align: top;\n",
       "    }\n",
       "\n",
       "    .dataframe thead th {\n",
       "        text-align: right;\n",
       "    }\n",
       "</style>\n",
       "<table border=\"1\" class=\"dataframe\">\n",
       "  <thead>\n",
       "    <tr style=\"text-align: right;\">\n",
       "      <th></th>\n",
       "      <th>lat</th>\n",
       "      <th>lng</th>\n",
       "      <th>zipcode</th>\n",
       "    </tr>\n",
       "  </thead>\n",
       "  <tbody>\n",
       "    <tr>\n",
       "      <th>count</th>\n",
       "      <td>33144.000000</td>\n",
       "      <td>33144.000000</td>\n",
       "      <td>33144.000000</td>\n",
       "    </tr>\n",
       "    <tr>\n",
       "      <th>mean</th>\n",
       "      <td>38.819046</td>\n",
       "      <td>-90.926079</td>\n",
       "      <td>49668.659033</td>\n",
       "    </tr>\n",
       "    <tr>\n",
       "      <th>std</th>\n",
       "      <td>5.397584</td>\n",
       "      <td>15.788619</td>\n",
       "      <td>27585.182370</td>\n",
       "    </tr>\n",
       "    <tr>\n",
       "      <th>min</th>\n",
       "      <td>-14.223174</td>\n",
       "      <td>-176.629547</td>\n",
       "      <td>601.000000</td>\n",
       "    </tr>\n",
       "    <tr>\n",
       "      <th>25%</th>\n",
       "      <td>35.390397</td>\n",
       "      <td>-97.234253</td>\n",
       "      <td>26622.500000</td>\n",
       "    </tr>\n",
       "    <tr>\n",
       "      <th>50%</th>\n",
       "      <td>39.493353</td>\n",
       "      <td>-88.194725</td>\n",
       "      <td>49741.500000</td>\n",
       "    </tr>\n",
       "    <tr>\n",
       "      <th>75%</th>\n",
       "      <td>42.120234</td>\n",
       "      <td>-80.220591</td>\n",
       "      <td>72131.250000</td>\n",
       "    </tr>\n",
       "    <tr>\n",
       "      <th>max</th>\n",
       "      <td>71.251678</td>\n",
       "      <td>145.754395</td>\n",
       "      <td>99929.000000</td>\n",
       "    </tr>\n",
       "  </tbody>\n",
       "</table>\n",
       "</div>"
      ],
      "text/plain": [
       "                lat           lng       zipcode\n",
       "count  33144.000000  33144.000000  33144.000000\n",
       "mean      38.819046    -90.926079  49668.659033\n",
       "std        5.397584     15.788619  27585.182370\n",
       "min      -14.223174   -176.629547    601.000000\n",
       "25%       35.390397    -97.234253  26622.500000\n",
       "50%       39.493353    -88.194725  49741.500000\n",
       "75%       42.120234    -80.220591  72131.250000\n",
       "max       71.251678    145.754395  99929.000000"
      ]
     },
     "execution_count": 22,
     "metadata": {},
     "output_type": "execute_result"
    }
   ],
   "source": [
    "zipcode_coords.describe()"
   ]
  },
  {
   "cell_type": "markdown",
   "metadata": {},
   "source": [
    "## input:  import zipcode level revenue data "
   ]
  },
  {
   "cell_type": "code",
   "execution_count": 27,
   "metadata": {},
   "outputs": [
    {
     "data": {
      "text/plain": [
       "'C:\\\\Users\\\\Herbie Huang\\\\Google Drive\\\\Current_SolarResearch\\\\working_june2020\\\\solar_project\\\\1_code'"
      ]
     },
     "execution_count": 27,
     "metadata": {},
     "output_type": "execute_result"
    }
   ],
   "source": [
    "pwd"
   ]
  },
  {
   "cell_type": "code",
   "execution_count": 32,
   "metadata": {},
   "outputs": [],
   "source": [
    "tts_monthlyrev_byzip_url=\"../0_data/tts_monthlyrev_byzip.dta\""
   ]
  },
  {
   "cell_type": "code",
   "execution_count": 33,
   "metadata": {},
   "outputs": [],
   "source": [
    "tts_monthlyrev_byzip=pd.read_stata(tts_monthlyrev_byzip_url)"
   ]
  },
  {
   "cell_type": "code",
   "execution_count": 34,
   "metadata": {},
   "outputs": [
    {
     "data": {
      "text/html": [
       "<div>\n",
       "<style scoped>\n",
       "    .dataframe tbody tr th:only-of-type {\n",
       "        vertical-align: middle;\n",
       "    }\n",
       "\n",
       "    .dataframe tbody tr th {\n",
       "        vertical-align: top;\n",
       "    }\n",
       "\n",
       "    .dataframe thead th {\n",
       "        text-align: right;\n",
       "    }\n",
       "</style>\n",
       "<table border=\"1\" class=\"dataframe\">\n",
       "  <thead>\n",
       "    <tr style=\"text-align: right;\">\n",
       "      <th></th>\n",
       "      <th>zipcode</th>\n",
       "      <th>year</th>\n",
       "      <th>month</th>\n",
       "      <th>zipcode_total_rev</th>\n",
       "    </tr>\n",
       "  </thead>\n",
       "  <tbody>\n",
       "    <tr>\n",
       "      <th>count</th>\n",
       "      <td>140453.000000</td>\n",
       "      <td>140453.000000</td>\n",
       "      <td>140453.000000</td>\n",
       "      <td>1.404530e+05</td>\n",
       "    </tr>\n",
       "    <tr>\n",
       "      <th>mean</th>\n",
       "      <td>55241.661773</td>\n",
       "      <td>2015.050171</td>\n",
       "      <td>6.719073</td>\n",
       "      <td>1.850377e+05</td>\n",
       "    </tr>\n",
       "    <tr>\n",
       "      <th>std</th>\n",
       "      <td>41340.762148</td>\n",
       "      <td>1.689698</td>\n",
       "      <td>3.437629</td>\n",
       "      <td>1.286470e+07</td>\n",
       "    </tr>\n",
       "    <tr>\n",
       "      <th>min</th>\n",
       "      <td>501.000000</td>\n",
       "      <td>2012.000000</td>\n",
       "      <td>1.000000</td>\n",
       "      <td>1.000000e-02</td>\n",
       "    </tr>\n",
       "    <tr>\n",
       "      <th>25%</th>\n",
       "      <td>10920.000000</td>\n",
       "      <td>2013.000000</td>\n",
       "      <td>4.000000</td>\n",
       "      <td>3.270000e+04</td>\n",
       "    </tr>\n",
       "    <tr>\n",
       "      <th>50%</th>\n",
       "      <td>85304.000000</td>\n",
       "      <td>2015.000000</td>\n",
       "      <td>7.000000</td>\n",
       "      <td>6.782950e+04</td>\n",
       "    </tr>\n",
       "    <tr>\n",
       "      <th>75%</th>\n",
       "      <td>92675.000000</td>\n",
       "      <td>2016.000000</td>\n",
       "      <td>10.000000</td>\n",
       "      <td>1.639100e+05</td>\n",
       "    </tr>\n",
       "    <tr>\n",
       "      <th>max</th>\n",
       "      <td>97918.000000</td>\n",
       "      <td>2017.000000</td>\n",
       "      <td>12.000000</td>\n",
       "      <td>4.807869e+09</td>\n",
       "    </tr>\n",
       "  </tbody>\n",
       "</table>\n",
       "</div>"
      ],
      "text/plain": [
       "             zipcode           year          month  zipcode_total_rev\n",
       "count  140453.000000  140453.000000  140453.000000       1.404530e+05\n",
       "mean    55241.661773    2015.050171       6.719073       1.850377e+05\n",
       "std     41340.762148       1.689698       3.437629       1.286470e+07\n",
       "min       501.000000    2012.000000       1.000000       1.000000e-02\n",
       "25%     10920.000000    2013.000000       4.000000       3.270000e+04\n",
       "50%     85304.000000    2015.000000       7.000000       6.782950e+04\n",
       "75%     92675.000000    2016.000000      10.000000       1.639100e+05\n",
       "max     97918.000000    2017.000000      12.000000       4.807869e+09"
      ]
     },
     "execution_count": 34,
     "metadata": {},
     "output_type": "execute_result"
    }
   ],
   "source": [
    "tts_monthlyrev_byzip.describe()"
   ]
  },
  {
   "cell_type": "markdown",
   "metadata": {},
   "source": [
    "## helper function : find the closest zipcodes "
   ]
  },
  {
   "cell_type": "code",
   "execution_count": 35,
   "metadata": {},
   "outputs": [],
   "source": [
    "def find_zips_from_centroid(centroid_la,centroid_long,zipcode_coords,threshold_r):\n",
    "    temp=zipcode_coords\n",
    "    temp['dis_to_centroid_pt']=temp.apply(lambda x:haversine(x['lat'],x['lng'],centroid_la,centroid_long),axis=1)\n",
    "    return set(temp[temp['dis_to_centroid_pt']<threshold_r].zipcode)"
   ]
  },
  {
   "cell_type": "code",
   "execution_count": 36,
   "metadata": {},
   "outputs": [
    {
     "data": {
      "text/html": [
       "<div>\n",
       "<style scoped>\n",
       "    .dataframe tbody tr th:only-of-type {\n",
       "        vertical-align: middle;\n",
       "    }\n",
       "\n",
       "    .dataframe tbody tr th {\n",
       "        vertical-align: top;\n",
       "    }\n",
       "\n",
       "    .dataframe thead th {\n",
       "        text-align: right;\n",
       "    }\n",
       "</style>\n",
       "<table border=\"1\" class=\"dataframe\">\n",
       "  <thead>\n",
       "    <tr style=\"text-align: right;\">\n",
       "      <th></th>\n",
       "      <th>labels</th>\n",
       "      <th>mkt_centroid_la</th>\n",
       "      <th>mkt_centroid_long</th>\n",
       "    </tr>\n",
       "  </thead>\n",
       "  <tbody>\n",
       "    <tr>\n",
       "      <th>0</th>\n",
       "      <td>0</td>\n",
       "      <td>45.437519</td>\n",
       "      <td>-122.771051</td>\n",
       "    </tr>\n",
       "    <tr>\n",
       "      <th>1</th>\n",
       "      <td>14</td>\n",
       "      <td>42.403030</td>\n",
       "      <td>-83.678697</td>\n",
       "    </tr>\n",
       "    <tr>\n",
       "      <th>2</th>\n",
       "      <td>4</td>\n",
       "      <td>33.721546</td>\n",
       "      <td>-117.710008</td>\n",
       "    </tr>\n",
       "    <tr>\n",
       "      <th>3</th>\n",
       "      <td>6</td>\n",
       "      <td>33.512993</td>\n",
       "      <td>-111.903642</td>\n",
       "    </tr>\n",
       "    <tr>\n",
       "      <th>4</th>\n",
       "      <td>30</td>\n",
       "      <td>29.759703</td>\n",
       "      <td>-95.511000</td>\n",
       "    </tr>\n",
       "  </tbody>\n",
       "</table>\n",
       "</div>"
      ],
      "text/plain": [
       "   labels  mkt_centroid_la  mkt_centroid_long\n",
       "0       0        45.437519        -122.771051\n",
       "1      14        42.403030         -83.678697\n",
       "2       4        33.721546        -117.710008\n",
       "3       6        33.512993        -111.903642\n",
       "4      30        29.759703         -95.511000"
      ]
     },
     "execution_count": 36,
     "metadata": {},
     "output_type": "execute_result"
    }
   ],
   "source": [
    "es_market_centroids.head()"
   ]
  },
  {
   "cell_type": "code",
   "execution_count": 37,
   "metadata": {},
   "outputs": [],
   "source": [
    "def find_tts_monthly(zipcodes,ttsmonthly_byzip):\n",
    "    if(len(zipcodes)>0):\n",
    "        return ttsmonthly_byzip.loc[ttsmonthly_byzip['zipcode'].isin(zipcodes)]\n",
    "    else :\n",
    "        return"
   ]
  },
  {
   "cell_type": "markdown",
   "metadata": {},
   "source": [
    "# Use tts_monthlyrev_byzip to create zipcode level total revenue data that is linked to market label"
   ]
  },
  {
   "cell_type": "code",
   "execution_count": 38,
   "metadata": {},
   "outputs": [
    {
     "name": "stderr",
     "output_type": "stream",
     "text": [
      "C:\\Anaconda\\lib\\site-packages\\pandas\\core\\indexing.py:362: SettingWithCopyWarning: \n",
      "A value is trying to be set on a copy of a slice from a DataFrame.\n",
      "Try using .loc[row_indexer,col_indexer] = value instead\n",
      "\n",
      "See the caveats in the documentation: http://pandas.pydata.org/pandas-docs/stable/indexing.html#indexing-view-versus-copy\n",
      "  self.obj[key] = _infer_fill_value(value)\n",
      "C:\\Anaconda\\lib\\site-packages\\pandas\\core\\indexing.py:543: SettingWithCopyWarning: \n",
      "A value is trying to be set on a copy of a slice from a DataFrame.\n",
      "Try using .loc[row_indexer,col_indexer] = value instead\n",
      "\n",
      "See the caveats in the documentation: http://pandas.pydata.org/pandas-docs/stable/indexing.html#indexing-view-versus-copy\n",
      "  self.obj[item] = s\n",
      "C:\\Anaconda\\lib\\site-packages\\pandas\\core\\frame.py:6692: FutureWarning: Sorting because non-concatenation axis is not aligned. A future version\n",
      "of pandas will change to not sort by default.\n",
      "\n",
      "To accept the future behavior, pass 'sort=False'.\n",
      "\n",
      "To retain the current behavior and silence the warning, pass 'sort=True'.\n",
      "\n",
      "  sort=sort)\n"
     ]
    },
    {
     "name": "stdout",
     "output_type": "stream",
     "text": [
      "market 14.0 has an exception...probably a lack of TTS installers\n",
      "market 18.0 has an exception...probably a lack of TTS installers\n",
      "market -1.0 has an exception...probably a lack of TTS installers\n",
      "market 9.0 has an exception...probably a lack of TTS installers\n",
      "market 32.0 has an exception...probably a lack of TTS installers\n",
      "market 21.0 has an exception...probably a lack of TTS installers\n",
      "market 1.0 has an exception...probably a lack of TTS installers\n",
      "market 8.0 has an exception...probably a lack of TTS installers\n",
      "market 24.0 has an exception...probably a lack of TTS installers\n",
      "market 16.0 has an exception...probably a lack of TTS installers\n",
      "market 26.0 has an exception...probably a lack of TTS installers\n",
      "market 27.0 has an exception...probably a lack of TTS installers\n",
      "market 23.0 has an exception...probably a lack of TTS installers\n",
      "market 22.0 has an exception...probably a lack of TTS installers\n",
      "market 19.0 has an exception...probably a lack of TTS installers\n"
     ]
    }
   ],
   "source": [
    "market_condition=pd.DataFrame(columns=tts_monthlyrev_byzip.columns)\n",
    "for index,row in es_market_centroids.iterrows():\n",
    "    market_label=row['labels']\n",
    "    centroid_la=row['mkt_centroid_la']\n",
    "    centroid_long=row['mkt_centroid_long']\n",
    "    tts_search_radius=100\n",
    "    nearby_zips=find_zips_from_centroid(centroid_la,centroid_long,zipcode_coords,tts_search_radius)\n",
    "    df_tts=find_tts_monthly(nearby_zips,tts_monthlyrev_byzip)\n",
    "    try: \n",
    "        df_tts.loc[:,'market']=market_label\n",
    "        market_condition=market_condition.append(df_tts,ignore_index=True)\n",
    "    except:\n",
    "        print('market '+str(market_label)+' has an exception...probably a lack of TTS installers')\n",
    "    "
   ]
  },
  {
   "cell_type": "code",
   "execution_count": 42,
   "metadata": {},
   "outputs": [
    {
     "data": {
      "text/plain": [
       "'90_100_2two_step'"
      ]
     },
     "execution_count": 42,
     "metadata": {},
     "output_type": "execute_result"
    }
   ],
   "source": [
    "parameter"
   ]
  },
  {
   "cell_type": "markdown",
   "metadata": {},
   "source": [
    "## Output: market condition variable "
   ]
  },
  {
   "cell_type": "code",
   "execution_count": 53,
   "metadata": {},
   "outputs": [
    {
     "data": {
      "text/html": [
       "<div>\n",
       "<style scoped>\n",
       "    .dataframe tbody tr th:only-of-type {\n",
       "        vertical-align: middle;\n",
       "    }\n",
       "\n",
       "    .dataframe tbody tr th {\n",
       "        vertical-align: top;\n",
       "    }\n",
       "\n",
       "    .dataframe thead th {\n",
       "        text-align: right;\n",
       "    }\n",
       "</style>\n",
       "<table border=\"1\" class=\"dataframe\">\n",
       "  <thead>\n",
       "    <tr style=\"text-align: right;\">\n",
       "      <th></th>\n",
       "      <th>market</th>\n",
       "      <th>month</th>\n",
       "      <th>year</th>\n",
       "      <th>zipcode</th>\n",
       "      <th>zipcode_total_rev</th>\n",
       "    </tr>\n",
       "  </thead>\n",
       "  <tbody>\n",
       "    <tr>\n",
       "      <th>177004</th>\n",
       "      <td>36.0</td>\n",
       "      <td>12.0</td>\n",
       "      <td>2017.0</td>\n",
       "      <td>6712</td>\n",
       "      <td>20793.630859</td>\n",
       "    </tr>\n",
       "    <tr>\n",
       "      <th>177005</th>\n",
       "      <td>36.0</td>\n",
       "      <td>12.0</td>\n",
       "      <td>2017.0</td>\n",
       "      <td>6716</td>\n",
       "      <td>26982.980469</td>\n",
       "    </tr>\n",
       "    <tr>\n",
       "      <th>177006</th>\n",
       "      <td>36.0</td>\n",
       "      <td>12.0</td>\n",
       "      <td>2017.0</td>\n",
       "      <td>6779</td>\n",
       "      <td>54088.820312</td>\n",
       "    </tr>\n",
       "    <tr>\n",
       "      <th>177007</th>\n",
       "      <td>36.0</td>\n",
       "      <td>12.0</td>\n",
       "      <td>2017.0</td>\n",
       "      <td>6787</td>\n",
       "      <td>25656.000000</td>\n",
       "    </tr>\n",
       "    <tr>\n",
       "      <th>177008</th>\n",
       "      <td>36.0</td>\n",
       "      <td>12.0</td>\n",
       "      <td>2017.0</td>\n",
       "      <td>6790</td>\n",
       "      <td>206624.765625</td>\n",
       "    </tr>\n",
       "  </tbody>\n",
       "</table>\n",
       "</div>"
      ],
      "text/plain": [
       "        market  month    year zipcode  zipcode_total_rev\n",
       "177004    36.0   12.0  2017.0    6712       20793.630859\n",
       "177005    36.0   12.0  2017.0    6716       26982.980469\n",
       "177006    36.0   12.0  2017.0    6779       54088.820312\n",
       "177007    36.0   12.0  2017.0    6787       25656.000000\n",
       "177008    36.0   12.0  2017.0    6790      206624.765625"
      ]
     },
     "execution_count": 53,
     "metadata": {},
     "output_type": "execute_result"
    }
   ],
   "source": [
    "market_condition.tail()"
   ]
  },
  {
   "cell_type": "code",
   "execution_count": 43,
   "metadata": {},
   "outputs": [],
   "source": [
    "market_condition.to_csv('../2_pipeline/marketconditions'+parameter+'.csv')"
   ]
  },
  {
   "cell_type": "markdown",
   "metadata": {},
   "source": [
    "## From zip level Market Condition Data to Market Level \n",
    "Create data to be directly merged back "
   ]
  },
  {
   "cell_type": "code",
   "execution_count": 44,
   "metadata": {},
   "outputs": [
    {
     "data": {
      "text/plain": [
       "'90_100_2two_step'"
      ]
     },
     "execution_count": 44,
     "metadata": {},
     "output_type": "execute_result"
    }
   ],
   "source": [
    "parameter"
   ]
  },
  {
   "cell_type": "code",
   "execution_count": 45,
   "metadata": {},
   "outputs": [],
   "source": [
    "import pandas as pd \n",
    "market_conditions_ziplevel=pd.read_csv('../2_pipeline/marketconditions'+parameter+'.csv')"
   ]
  },
  {
   "cell_type": "code",
   "execution_count": 46,
   "metadata": {},
   "outputs": [
    {
     "data": {
      "text/html": [
       "<div>\n",
       "<style scoped>\n",
       "    .dataframe tbody tr th:only-of-type {\n",
       "        vertical-align: middle;\n",
       "    }\n",
       "\n",
       "    .dataframe tbody tr th {\n",
       "        vertical-align: top;\n",
       "    }\n",
       "\n",
       "    .dataframe thead th {\n",
       "        text-align: right;\n",
       "    }\n",
       "</style>\n",
       "<table border=\"1\" class=\"dataframe\">\n",
       "  <thead>\n",
       "    <tr style=\"text-align: right;\">\n",
       "      <th></th>\n",
       "      <th>Unnamed: 0</th>\n",
       "      <th>market</th>\n",
       "      <th>month</th>\n",
       "      <th>year</th>\n",
       "      <th>zipcode</th>\n",
       "      <th>zipcode_total_rev</th>\n",
       "    </tr>\n",
       "  </thead>\n",
       "  <tbody>\n",
       "    <tr>\n",
       "      <th>177004</th>\n",
       "      <td>177004</td>\n",
       "      <td>36.0</td>\n",
       "      <td>12.0</td>\n",
       "      <td>2017.0</td>\n",
       "      <td>6712</td>\n",
       "      <td>20793.63</td>\n",
       "    </tr>\n",
       "    <tr>\n",
       "      <th>177005</th>\n",
       "      <td>177005</td>\n",
       "      <td>36.0</td>\n",
       "      <td>12.0</td>\n",
       "      <td>2017.0</td>\n",
       "      <td>6716</td>\n",
       "      <td>26982.98</td>\n",
       "    </tr>\n",
       "    <tr>\n",
       "      <th>177006</th>\n",
       "      <td>177006</td>\n",
       "      <td>36.0</td>\n",
       "      <td>12.0</td>\n",
       "      <td>2017.0</td>\n",
       "      <td>6779</td>\n",
       "      <td>54088.82</td>\n",
       "    </tr>\n",
       "    <tr>\n",
       "      <th>177007</th>\n",
       "      <td>177007</td>\n",
       "      <td>36.0</td>\n",
       "      <td>12.0</td>\n",
       "      <td>2017.0</td>\n",
       "      <td>6787</td>\n",
       "      <td>25656.00</td>\n",
       "    </tr>\n",
       "    <tr>\n",
       "      <th>177008</th>\n",
       "      <td>177008</td>\n",
       "      <td>36.0</td>\n",
       "      <td>12.0</td>\n",
       "      <td>2017.0</td>\n",
       "      <td>6790</td>\n",
       "      <td>206624.77</td>\n",
       "    </tr>\n",
       "  </tbody>\n",
       "</table>\n",
       "</div>"
      ],
      "text/plain": [
       "        Unnamed: 0  market  month    year  zipcode  zipcode_total_rev\n",
       "177004      177004    36.0   12.0  2017.0     6712           20793.63\n",
       "177005      177005    36.0   12.0  2017.0     6716           26982.98\n",
       "177006      177006    36.0   12.0  2017.0     6779           54088.82\n",
       "177007      177007    36.0   12.0  2017.0     6787           25656.00\n",
       "177008      177008    36.0   12.0  2017.0     6790          206624.77"
      ]
     },
     "execution_count": 46,
     "metadata": {},
     "output_type": "execute_result"
    }
   ],
   "source": [
    "market_conditions_ziplevel.tail()"
   ]
  },
  {
   "cell_type": "code",
   "execution_count": 47,
   "metadata": {},
   "outputs": [],
   "source": [
    "market_conditions_ziplevel=market_conditions_ziplevel.drop(columns=['Unnamed: 0'],axis=1)"
   ]
  },
  {
   "cell_type": "code",
   "execution_count": 48,
   "metadata": {},
   "outputs": [
    {
     "data": {
      "text/plain": [
       "30351518.7"
      ]
     },
     "execution_count": 48,
     "metadata": {},
     "output_type": "execute_result"
    }
   ],
   "source": [
    "market_conditions_ziplevel[(market_conditions_ziplevel['market']==34)&(market_conditions_ziplevel['month']==12)&(market_conditions_ziplevel['year']==2016)].zipcode_total_rev.sum()"
   ]
  },
  {
   "cell_type": "markdown",
   "metadata": {},
   "source": [
    "### Sum up revenue per market "
   ]
  },
  {
   "cell_type": "code",
   "execution_count": 49,
   "metadata": {},
   "outputs": [],
   "source": [
    "mkt_condition_mktlevel=market_conditions_ziplevel.groupby([\"market\", \"month\",\"year\"]).zipcode_total_rev.sum().reset_index() "
   ]
  },
  {
   "cell_type": "code",
   "execution_count": 50,
   "metadata": {},
   "outputs": [
    {
     "data": {
      "text/html": [
       "<div>\n",
       "<style scoped>\n",
       "    .dataframe tbody tr th:only-of-type {\n",
       "        vertical-align: middle;\n",
       "    }\n",
       "\n",
       "    .dataframe tbody tr th {\n",
       "        vertical-align: top;\n",
       "    }\n",
       "\n",
       "    .dataframe thead th {\n",
       "        text-align: right;\n",
       "    }\n",
       "</style>\n",
       "<table border=\"1\" class=\"dataframe\">\n",
       "  <thead>\n",
       "    <tr style=\"text-align: right;\">\n",
       "      <th></th>\n",
       "      <th>market</th>\n",
       "      <th>month</th>\n",
       "      <th>year</th>\n",
       "      <th>zipcode_total_rev</th>\n",
       "    </tr>\n",
       "  </thead>\n",
       "  <tbody>\n",
       "    <tr>\n",
       "      <th>1333</th>\n",
       "      <td>36.0</td>\n",
       "      <td>12.0</td>\n",
       "      <td>2013.0</td>\n",
       "      <td>2.310547e+07</td>\n",
       "    </tr>\n",
       "    <tr>\n",
       "      <th>1334</th>\n",
       "      <td>36.0</td>\n",
       "      <td>12.0</td>\n",
       "      <td>2014.0</td>\n",
       "      <td>7.154613e+07</td>\n",
       "    </tr>\n",
       "    <tr>\n",
       "      <th>1335</th>\n",
       "      <td>36.0</td>\n",
       "      <td>12.0</td>\n",
       "      <td>2015.0</td>\n",
       "      <td>1.017081e+08</td>\n",
       "    </tr>\n",
       "    <tr>\n",
       "      <th>1336</th>\n",
       "      <td>36.0</td>\n",
       "      <td>12.0</td>\n",
       "      <td>2016.0</td>\n",
       "      <td>6.386177e+07</td>\n",
       "    </tr>\n",
       "    <tr>\n",
       "      <th>1337</th>\n",
       "      <td>36.0</td>\n",
       "      <td>12.0</td>\n",
       "      <td>2017.0</td>\n",
       "      <td>3.209811e+07</td>\n",
       "    </tr>\n",
       "  </tbody>\n",
       "</table>\n",
       "</div>"
      ],
      "text/plain": [
       "      market  month    year  zipcode_total_rev\n",
       "1333    36.0   12.0  2013.0       2.310547e+07\n",
       "1334    36.0   12.0  2014.0       7.154613e+07\n",
       "1335    36.0   12.0  2015.0       1.017081e+08\n",
       "1336    36.0   12.0  2016.0       6.386177e+07\n",
       "1337    36.0   12.0  2017.0       3.209811e+07"
      ]
     },
     "execution_count": 50,
     "metadata": {},
     "output_type": "execute_result"
    }
   ],
   "source": [
    "mkt_condition_mktlevel.tail()"
   ]
  },
  {
   "cell_type": "markdown",
   "metadata": {},
   "source": [
    "## Output: market condition variable organized as market-month level "
   ]
  },
  {
   "cell_type": "code",
   "execution_count": 51,
   "metadata": {},
   "outputs": [],
   "source": [
    "parameters='90_100_2two_step'"
   ]
  },
  {
   "cell_type": "code",
   "execution_count": null,
   "metadata": {},
   "outputs": [],
   "source": [
    "mkt_condition_mktlevel.to_csv('../2_pipeline/tts_mktcondidtions'+parameters+'.csv')"
   ]
  }
 ],
 "metadata": {
  "kernelspec": {
   "display_name": "Python 3",
   "language": "python",
   "name": "python3"
  },
  "language_info": {
   "codemirror_mode": {
    "name": "ipython",
    "version": 3
   },
   "file_extension": ".py",
   "mimetype": "text/x-python",
   "name": "python",
   "nbconvert_exporter": "python",
   "pygments_lexer": "ipython3",
   "version": "3.7.3"
  }
 },
 "nbformat": 4,
 "nbformat_minor": 4
}
