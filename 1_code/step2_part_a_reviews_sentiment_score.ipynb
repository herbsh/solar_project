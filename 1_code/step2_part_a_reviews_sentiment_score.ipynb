{
 "cells": [
  {
   "cell_type": "markdown",
   "metadata": {},
   "source": [
    "# Installer Level Feature from ES: run NLP script to obtain sentiment score ( update June 25 2020) "
   ]
  },
  {
   "cell_type": "code",
   "execution_count": 24,
   "metadata": {},
   "outputs": [
    {
     "data": {
      "text/plain": [
       "'C:\\\\Users\\\\Herbie Huang\\\\Google Drive\\\\Current_SolarResearch\\\\working_june2020\\\\solar_project\\\\1_code'"
      ]
     },
     "execution_count": 24,
     "metadata": {},
     "output_type": "execute_result"
    }
   ],
   "source": [
    "pwd"
   ]
  },
  {
   "cell_type": "code",
   "execution_count": 8,
   "metadata": {},
   "outputs": [],
   "source": [
    " from nltk.sentiment.vader import SentimentIntensityAnalyzer"
   ]
  },
  {
   "cell_type": "markdown",
   "metadata": {},
   "source": [
    "## Demo - use NLTK Vader to score sentiments "
   ]
  },
  {
   "cell_type": "code",
   "execution_count": 9,
   "metadata": {},
   "outputs": [],
   "source": [
    "sentences = [\"VADER is smart, handsome, and funny.\", # positive sentence example\n",
    "...    \"VADER is smart, handsome, and funny!\", # punctuation emphasis handled correctly (sentiment intensity adjusted)\n",
    "...    \"VADER is very smart, handsome, and funny.\",  # booster words handled correctly (sentiment intensity adjusted)\n",
    "...    \"VADER is VERY SMART, handsome, and FUNNY.\",  # emphasis for ALLCAPS handled\n",
    "...    \"VADER is VERY SMART, handsome, and FUNNY!!!\",# combination of signals - VADER appropriately adjusts intensity\n",
    "...    \"VADER is VERY SMART, really handsome, and INCREDIBLY FUNNY!!!\",# booster words & punctuation make this close to ceiling for score\n",
    "...    \"The book was good.\",         # positive sentence\n",
    "...    \"The book was kind of good.\", # qualified positive sentence is handled correctly (intensity adjusted)\n",
    "...    \"The plot was good, but the characters are uncompelling and the dialog is not great.\", # mixed negation sentence\n",
    "...    \"A really bad, horrible book.\",       # negative sentence with booster words\n",
    "...    \"At least it isn't a horrible book.\", # negated negative sentence with contraction\n",
    "...    \":) and :D\",     # emoticons handled\n",
    "...    \"\",              # an empty string is correctly handled\n",
    "...    \"Today sux\",     #  negative slang handled\n",
    "...    \"Today sux!\",    #  negative slang with punctuation emphasis handled\n",
    "...    \"Today SUX!\",    #  negative slang with capitalization emphasis\n",
    "...    \"Today kinda sux! But I'll get by, lol\" # mixed sentiment example with slang and constrastive conjunction \"but\"\n",
    "... ]"
   ]
  },
  {
   "cell_type": "code",
   "execution_count": 10,
   "metadata": {},
   "outputs": [
    {
     "name": "stderr",
     "output_type": "stream",
     "text": [
      "[nltk_data] Downloading package vader_lexicon to C:\\Users\\Herbie\n",
      "[nltk_data]     Huang\\AppData\\Roaming\\nltk_data...\n",
      "[nltk_data]   Package vader_lexicon is already up-to-date!\n"
     ]
    },
    {
     "data": {
      "text/plain": [
       "True"
      ]
     },
     "execution_count": 10,
     "metadata": {},
     "output_type": "execute_result"
    }
   ],
   "source": [
    "import nltk \n",
    "nltk.download('vader_lexicon')"
   ]
  },
  {
   "cell_type": "code",
   "execution_count": 11,
   "metadata": {},
   "outputs": [],
   "source": [
    "sid = SentimentIntensityAnalyzer()"
   ]
  },
  {
   "cell_type": "code",
   "execution_count": 12,
   "metadata": {},
   "outputs": [
    {
     "name": "stdout",
     "output_type": "stream",
     "text": [
      "VADER is smart, handsome, and funny.\n",
      "compound: 0.8316, neg: 0.0, neu: 0.254, pos: 0.746, \n",
      "VADER is smart, handsome, and funny!\n",
      "compound: 0.8439, neg: 0.0, neu: 0.248, pos: 0.752, \n",
      "VADER is very smart, handsome, and funny.\n",
      "compound: 0.8545, neg: 0.0, neu: 0.299, pos: 0.701, \n",
      "VADER is VERY SMART, handsome, and FUNNY.\n",
      "compound: 0.9227, neg: 0.0, neu: 0.246, pos: 0.754, \n",
      "VADER is VERY SMART, handsome, and FUNNY!!!\n",
      "compound: 0.9342, neg: 0.0, neu: 0.233, pos: 0.767, \n",
      "VADER is VERY SMART, really handsome, and INCREDIBLY FUNNY!!!\n",
      "compound: 0.9469, neg: 0.0, neu: 0.294, pos: 0.706, \n",
      "The book was good.\n",
      "compound: 0.4404, neg: 0.0, neu: 0.508, pos: 0.492, \n",
      "The book was kind of good.\n",
      "compound: 0.3832, neg: 0.0, neu: 0.657, pos: 0.343, \n",
      "The plot was good, but the characters are uncompelling and the dialog is not great.\n",
      "compound: -0.7042, neg: 0.327, neu: 0.579, pos: 0.094, \n",
      "A really bad, horrible book.\n",
      "compound: -0.8211, neg: 0.791, neu: 0.209, pos: 0.0, \n",
      "At least it isn't a horrible book.\n",
      "compound: 0.431, neg: 0.0, neu: 0.637, pos: 0.363, \n",
      ":) and :D\n",
      "compound: 0.7925, neg: 0.0, neu: 0.124, pos: 0.876, \n",
      "\n",
      "compound: 0.0, neg: 0.0, neu: 0.0, pos: 0.0, \n",
      "Today sux\n",
      "compound: -0.3612, neg: 0.714, neu: 0.286, pos: 0.0, \n",
      "Today sux!\n",
      "compound: -0.4199, neg: 0.736, neu: 0.264, pos: 0.0, \n",
      "Today SUX!\n",
      "compound: -0.5461, neg: 0.779, neu: 0.221, pos: 0.0, \n",
      "Today kinda sux! But I'll get by, lol\n",
      "compound: 0.2228, neg: 0.195, neu: 0.531, pos: 0.274, \n"
     ]
    }
   ],
   "source": [
    " for sentence in sentences:\n",
    "...     print(sentence)\n",
    "...     ss = sid.polarity_scores(sentence)\n",
    "...     for k in sorted(ss):\n",
    "...         print('{0}: {1}, '.format(k, ss[k]), end='')\n",
    "...     print()"
   ]
  },
  {
   "cell_type": "code",
   "execution_count": 13,
   "metadata": {},
   "outputs": [],
   "source": [
    "from nltk.tokenize import sent_tokenize\n"
   ]
  },
  {
   "cell_type": "markdown",
   "metadata": {},
   "source": [
    "## make a function to pick sent scores from multiple sentences' sent scores \n",
    "this is a bit of shortcut. We use numerical rating to assist picking one sentence whose rating are more likely to reflect the numerical rating direction "
   ]
  },
  {
   "cell_type": "code",
   "execution_count": 16,
   "metadata": {},
   "outputs": [],
   "source": [
    "def sent_score_picker_v2(row_scores,rating):\n",
    "    sorted_scores=sorted(row_scores)\n",
    "    highest_s=sorted_scores[-1]\n",
    "    lowest_s=sorted_scores[0] \n",
    "    return highest_s if rating>=3 else lowest_s\n",
    "    \n",
    "    "
   ]
  },
  {
   "cell_type": "code",
   "execution_count": 17,
   "metadata": {},
   "outputs": [
    {
     "data": {
      "text/plain": [
       "[-0.9, -0.2732, 0.0, 0.0, 0.0, 0.4767, 0.5574, 0.5984, 0.6478, 0.6597]"
      ]
     },
     "execution_count": 17,
     "metadata": {},
     "output_type": "execute_result"
    }
   ],
   "source": [
    "test_scores=[0.0, -0.2732, 0.4767, 0.0, 0.6597, 0.6478, 0.5574, 0.5984, 0.0,-0.9]\n",
    "test_scores\n",
    "sorted(test_scores)"
   ]
  },
  {
   "cell_type": "code",
   "execution_count": 18,
   "metadata": {},
   "outputs": [
    {
     "data": {
      "text/plain": [
       "-0.9"
      ]
     },
     "execution_count": 18,
     "metadata": {},
     "output_type": "execute_result"
    }
   ],
   "source": [
    "sent_score_picker_v2(test_scores,2)"
   ]
  },
  {
   "cell_type": "markdown",
   "metadata": {},
   "source": [
    "## Input: read reviews raw data from the 0_data folder , Lock_ES_RawData subfolder "
   ]
  },
  {
   "cell_type": "code",
   "execution_count": 27,
   "metadata": {},
   "outputs": [],
   "source": [
    "reviews=pd.read_csv(r'../0_data/Lock_ES_RawData/installer_review_data_20180410.csv',sep=',',escapechar='\\\\')\n"
   ]
  },
  {
   "cell_type": "code",
   "execution_count": 28,
   "metadata": {},
   "outputs": [],
   "source": [
    "reviews=reviews[['id','installer_id','body','overall_rating']].dropna()"
   ]
  },
  {
   "cell_type": "markdown",
   "metadata": {},
   "source": [
    "## process reviews"
   ]
  },
  {
   "cell_type": "code",
   "execution_count": 19,
   "metadata": {},
   "outputs": [],
   "source": [
    "# -*- coding: utf-8 -*-\n",
    "import pandas as pd\n",
    "import numpy as np\n",
    "import os\n",
    "\n",
    " "
   ]
  },
  {
   "cell_type": "code",
   "execution_count": 25,
   "metadata": {},
   "outputs": [
    {
     "data": {
      "text/plain": [
       "'C:\\\\Users\\\\Herbie Huang\\\\Google Drive\\\\Current_SolarResearch\\\\working_june2020\\\\solar_project\\\\1_code'"
      ]
     },
     "execution_count": 25,
     "metadata": {},
     "output_type": "execute_result"
    }
   ],
   "source": [
    "pwd"
   ]
  },
  {
   "cell_type": "markdown",
   "metadata": {},
   "source": [
    "### sentiment score for the reviews"
   ]
  },
  {
   "cell_type": "markdown",
   "metadata": {},
   "source": [
    "### break down paragrpahs to sentences"
   ]
  },
  {
   "cell_type": "code",
   "execution_count": 23,
   "metadata": {},
   "outputs": [
    {
     "name": "stdout",
     "output_type": "stream",
     "text": [
      "4\n",
      "Terrible service, difficult to deal with, waited 2 weeks to file a release of lien electronically even after being asked to speed it up. It takes a one page form and a fax number.  I would recommend any one interested in putting solar on their property to avoid getting into a contract with your local energy provider and get a battery to store your own production.  If you can't afford that, finance with a home equity loan if you can't pay up front.\n",
      "[-0.6808, 0.0772, 0.6249, 0.0762]\n",
      "-0.6808\n",
      "12\n",
      "This was our second solar installation. After moving, one of the first things we did was get quotes for a residential solar system.  We received four bids and talked to three companies. Not only did Altair offer us the best price, but we also received peace of mind that everything would be installed perfectly and that they value their customers and will do everything possible to take care of them and stand by their product.  The owner, Khaled is an electrical engineer. He is extremely knowledgeable, experienced and easy to work with. His team was fast, efficient and thorough.  In addition to installing the system, they processed all the paperwork with the electric company, scheduled and completed all the inspections and did an outstanding job of trouble shooting all the little issues that can happen with a new system until everything was functioning smoothing.  I can't say enough great things about this company and all the guys who work there. They even fixed a roof tile that they did not break because they saw it when they were on my roof!!!  Look no further, hire Altair Solar!!!  You'll be happy that you did.\n",
      "[0.0, 0.0, 0.0, 0.9704, 0.0, 0.4404, 0.4215, 0.3182, -0.5096, 0.0, -0.4724, 0.5719]\n",
      "0.9704\n",
      "9\n",
      "In April 2017 Solar Five Company installed 32 solar panels on our home.  We were nervous at first about investing in solar. When we met with Joshua and heard the proposal for the investment of this project we were impressed with what the company had to offer us.  Our frequent calls to Adam Olsen were always answered quickly. The team at Solar five treated us honestly and professionally which made us feel secure with our decision to go with this company. We are extremely pleased with our production of solar energy. We like the fact that we can view how much energy is being produced daily on the app on our iPad. We highly recommend the Solar Five team to anyone who is thinking about getting solar energy for their home.\n",
      "Joseph & Judith Monte \n",
      "Swansea, Ma.\n",
      "[0.0, -0.2732, 0.4767, 0.0, 0.6597, 0.6478, 0.5574, 0.5984, 0.0]\n",
      "0.6597\n",
      "2\n",
      "Pinnacle installed our solar panels and I couldn't have been happier with their professionalism, fair cost, and communication.  Great work!\n",
      "[-0.122, 0.6588]\n",
      "0.6588\n",
      "3\n",
      "I signed up with America Green back in February and I got installed 2 weeks ago. Quick turn-around time which as a customer, I really appreciate especially since I did not know too much about the product prior to all of this. \n",
      "\n",
      "Haven't had a single issue thus far and Customer Support team was superb assisting me with ALL my MANY questions haha.\n",
      "[0.0, 0.4576, 0.8689]\n",
      "0.8689\n"
     ]
    }
   ],
   "source": [
    "for index,row in reviews.tail().iterrows():\n",
    "    row_scores=[]\n",
    "    sentences=sent_tokenize(row.body)\n",
    "    for sentence in sentences:\n",
    "        #print(sentence)\n",
    "        ss = sid.polarity_scores(sentence)\n",
    "        #print(ss)\n",
    "        row_scores=row_scores+[ss['compound']]\n",
    "    print(len(sentences))\n",
    "    print(row.body)\n",
    "    print(row_scores)\n",
    "    print(sent_score_picker_v2(row_scores,row.overall_rating))"
   ]
  },
  {
   "cell_type": "code",
   "execution_count": 29,
   "metadata": {},
   "outputs": [],
   "source": [
    "collect_sent_score=[]\n",
    "for index,row in reviews.iterrows():\n",
    "    row_scores=[]\n",
    "    sentences=sent_tokenize(row.body)\n",
    "    for sentence in sentences:\n",
    "        #print(sentence)\n",
    "        ss = sid.polarity_scores(sentence)\n",
    "        #print(ss)\n",
    "        row_scores=row_scores+[ss['compound']]\n",
    "    row_sent=sent_score_picker_v2(row_scores,row.overall_rating)\n",
    "    collect_sent_score=collect_sent_score+[[row.id,row_sent]]\n",
    "   \n",
    "    #print(len(sentences))\n",
    "    #print(row.body)\n",
    "    #print(row_scores)\n",
    "    #print(sent_score_picker(row_scores))"
   ]
  },
  {
   "cell_type": "code",
   "execution_count": 30,
   "metadata": {},
   "outputs": [],
   "source": [
    "collect_sent_score_df=pd.DataFrame(data=collect_sent_score,columns=['id','sent_score'])"
   ]
  },
  {
   "cell_type": "code",
   "execution_count": 31,
   "metadata": {},
   "outputs": [
    {
     "data": {
      "text/html": [
       "<div>\n",
       "<style scoped>\n",
       "    .dataframe tbody tr th:only-of-type {\n",
       "        vertical-align: middle;\n",
       "    }\n",
       "\n",
       "    .dataframe tbody tr th {\n",
       "        vertical-align: top;\n",
       "    }\n",
       "\n",
       "    .dataframe thead th {\n",
       "        text-align: right;\n",
       "    }\n",
       "</style>\n",
       "<table border=\"1\" class=\"dataframe\">\n",
       "  <thead>\n",
       "    <tr style=\"text-align: right;\">\n",
       "      <th></th>\n",
       "      <th>id</th>\n",
       "      <th>sent_score</th>\n",
       "    </tr>\n",
       "  </thead>\n",
       "  <tbody>\n",
       "    <tr>\n",
       "      <th>0</th>\n",
       "      <td>1</td>\n",
       "      <td>0.4939</td>\n",
       "    </tr>\n",
       "    <tr>\n",
       "      <th>1</th>\n",
       "      <td>2</td>\n",
       "      <td>0.7351</td>\n",
       "    </tr>\n",
       "    <tr>\n",
       "      <th>2</th>\n",
       "      <td>3</td>\n",
       "      <td>0.6893</td>\n",
       "    </tr>\n",
       "    <tr>\n",
       "      <th>3</th>\n",
       "      <td>4</td>\n",
       "      <td>0.7783</td>\n",
       "    </tr>\n",
       "    <tr>\n",
       "      <th>4</th>\n",
       "      <td>5</td>\n",
       "      <td>0.8720</td>\n",
       "    </tr>\n",
       "  </tbody>\n",
       "</table>\n",
       "</div>"
      ],
      "text/plain": [
       "   id  sent_score\n",
       "0   1      0.4939\n",
       "1   2      0.7351\n",
       "2   3      0.6893\n",
       "3   4      0.7783\n",
       "4   5      0.8720"
      ]
     },
     "execution_count": 31,
     "metadata": {},
     "output_type": "execute_result"
    }
   ],
   "source": [
    "collect_sent_score_df.head()"
   ]
  },
  {
   "cell_type": "code",
   "execution_count": 32,
   "metadata": {},
   "outputs": [],
   "source": [
    "reviews=pd.merge(left=reviews,right=collect_sent_score_df,on=['id'],how='inner')"
   ]
  },
  {
   "cell_type": "code",
   "execution_count": 33,
   "metadata": {},
   "outputs": [
    {
     "data": {
      "text/html": [
       "<div>\n",
       "<style scoped>\n",
       "    .dataframe tbody tr th:only-of-type {\n",
       "        vertical-align: middle;\n",
       "    }\n",
       "\n",
       "    .dataframe tbody tr th {\n",
       "        vertical-align: top;\n",
       "    }\n",
       "\n",
       "    .dataframe thead th {\n",
       "        text-align: right;\n",
       "    }\n",
       "</style>\n",
       "<table border=\"1\" class=\"dataframe\">\n",
       "  <thead>\n",
       "    <tr style=\"text-align: right;\">\n",
       "      <th></th>\n",
       "      <th>id</th>\n",
       "      <th>installer_id</th>\n",
       "      <th>body</th>\n",
       "      <th>overall_rating</th>\n",
       "      <th>sent_score</th>\n",
       "    </tr>\n",
       "  </thead>\n",
       "  <tbody>\n",
       "    <tr>\n",
       "      <th>0</th>\n",
       "      <td>1</td>\n",
       "      <td>494</td>\n",
       "      <td>The so called \"Solar Assisted Air Conditioning...</td>\n",
       "      <td>1</td>\n",
       "      <td>0.4939</td>\n",
       "    </tr>\n",
       "    <tr>\n",
       "      <th>1</th>\n",
       "      <td>2</td>\n",
       "      <td>556</td>\n",
       "      <td>My take on solar installers is that they shoul...</td>\n",
       "      <td>5</td>\n",
       "      <td>0.7351</td>\n",
       "    </tr>\n",
       "    <tr>\n",
       "      <th>2</th>\n",
       "      <td>3</td>\n",
       "      <td>857</td>\n",
       "      <td>These guys are awesome.  Check out even more g...</td>\n",
       "      <td>5</td>\n",
       "      <td>0.6893</td>\n",
       "    </tr>\n",
       "    <tr>\n",
       "      <th>3</th>\n",
       "      <td>4</td>\n",
       "      <td>20292</td>\n",
       "      <td>3/12/2013\\r\\nWe just had a solar system instal...</td>\n",
       "      <td>5</td>\n",
       "      <td>0.7783</td>\n",
       "    </tr>\n",
       "    <tr>\n",
       "      <th>4</th>\n",
       "      <td>5</td>\n",
       "      <td>857</td>\n",
       "      <td>I highly recommend Exact Solar.  Mark, the own...</td>\n",
       "      <td>5</td>\n",
       "      <td>0.8720</td>\n",
       "    </tr>\n",
       "  </tbody>\n",
       "</table>\n",
       "</div>"
      ],
      "text/plain": [
       "   id  installer_id                                               body  \\\n",
       "0   1           494  The so called \"Solar Assisted Air Conditioning...   \n",
       "1   2           556  My take on solar installers is that they shoul...   \n",
       "2   3           857  These guys are awesome.  Check out even more g...   \n",
       "3   4         20292  3/12/2013\\r\\nWe just had a solar system instal...   \n",
       "4   5           857  I highly recommend Exact Solar.  Mark, the own...   \n",
       "\n",
       "   overall_rating  sent_score  \n",
       "0               1      0.4939  \n",
       "1               5      0.7351  \n",
       "2               5      0.6893  \n",
       "3               5      0.7783  \n",
       "4               5      0.8720  "
      ]
     },
     "execution_count": 33,
     "metadata": {},
     "output_type": "execute_result"
    }
   ],
   "source": [
    "reviews.head()"
   ]
  },
  {
   "cell_type": "markdown",
   "metadata": {},
   "source": [
    "### Examine the correlation - 0.82"
   ]
  },
  {
   "cell_type": "code",
   "execution_count": 34,
   "metadata": {},
   "outputs": [
    {
     "data": {
      "text/plain": [
       "0.823901017339747"
      ]
     },
     "execution_count": 34,
     "metadata": {},
     "output_type": "execute_result"
    }
   ],
   "source": [
    "reviews['overall_rating'].corr(reviews['sent_score'])"
   ]
  },
  {
   "cell_type": "markdown",
   "metadata": {},
   "source": [
    "## Output - reviews_sent_score_jan16_2020.csv to pipeline folder "
   ]
  },
  {
   "cell_type": "code",
   "execution_count": 35,
   "metadata": {},
   "outputs": [],
   "source": [
    "reviews.to_csv('../2_pipeline/reviews_sent_score_jan16_2020.csv')"
   ]
  },
  {
   "cell_type": "markdown",
   "metadata": {},
   "source": [
    "###  Example:  the sentence by sentence score vs. the paragraph score"
   ]
  },
  {
   "cell_type": "code",
   "execution_count": 36,
   "metadata": {},
   "outputs": [
    {
     "name": "stdout",
     "output_type": "stream",
     "text": [
      "4\n",
      "Terrible service, difficult to deal with, waited 2 weeks to file a release of lien electronically even after being asked to speed it up. It takes a one page form and a fax number.  I would recommend any one interested in putting solar on their property to avoid getting into a contract with your local energy provider and get a battery to store your own production.  If you can't afford that, finance with a home equity loan if you can't pay up front.\n",
      "[-0.6808, 0.0772, 0.6249, 0.0762]\n",
      "0.0248\n",
      "12\n",
      "This was our second solar installation. After moving, one of the first things we did was get quotes for a residential solar system.  We received four bids and talked to three companies. Not only did Altair offer us the best price, but we also received peace of mind that everything would be installed perfectly and that they value their customers and will do everything possible to take care of them and stand by their product.  The owner, Khaled is an electrical engineer. He is extremely knowledgeable, experienced and easy to work with. His team was fast, efficient and thorough.  In addition to installing the system, they processed all the paperwork with the electric company, scheduled and completed all the inspections and did an outstanding job of trouble shooting all the little issues that can happen with a new system until everything was functioning smoothing.  I can't say enough great things about this company and all the guys who work there. They even fixed a roof tile that they did not break because they saw it when they were on my roof!!!  Look no further, hire Altair Solar!!!  You'll be happy that you did.\n",
      "[0.0, 0.0, 0.0, 0.9704, 0.0, 0.4404, 0.4215, 0.3182, -0.5096, 0.0, -0.4724, 0.5719]\n",
      "0.9861\n",
      "9\n",
      "In April 2017 Solar Five Company installed 32 solar panels on our home.  We were nervous at first about investing in solar. When we met with Joshua and heard the proposal for the investment of this project we were impressed with what the company had to offer us.  Our frequent calls to Adam Olsen were always answered quickly. The team at Solar five treated us honestly and professionally which made us feel secure with our decision to go with this company. We are extremely pleased with our production of solar energy. We like the fact that we can view how much energy is being produced daily on the app on our iPad. We highly recommend the Solar Five team to anyone who is thinking about getting solar energy for their home.\n",
      "Joseph & Judith Monte \n",
      "Swansea, Ma.\n",
      "[0.0, -0.2732, 0.4767, 0.0, 0.6597, 0.6478, 0.5574, 0.5984, 0.0]\n",
      "0.9595\n",
      "2\n",
      "Pinnacle installed our solar panels and I couldn't have been happier with their professionalism, fair cost, and communication.  Great work!\n",
      "[-0.122, 0.6588]\n",
      "0.6015\n",
      "3\n",
      "I signed up with America Green back in February and I got installed 2 weeks ago. Quick turn-around time which as a customer, I really appreciate especially since I did not know too much about the product prior to all of this. \n",
      "\n",
      "Haven't had a single issue thus far and Customer Support team was superb assisting me with ALL my MANY questions haha.\n",
      "[0.0, 0.4576, 0.8689]\n",
      "0.9152\n"
     ]
    }
   ],
   "source": [
    "for index,row in reviews.tail().iterrows():\n",
    "    row_scores=[]\n",
    "    sentences=sent_tokenize(row.body)\n",
    "    for sentence in sentences:\n",
    "        #print(sentence)\n",
    "        ss = sid.polarity_scores(sentence)\n",
    "        #print(ss)\n",
    "        row_scores=row_scores+[ss['compound']]\n",
    "    print(len(sentences))\n",
    "    print(row.body)\n",
    "    print(row_scores)\n",
    "    paragraph_scores=sid.polarity_scores(row.body)['compound']\n",
    "    print(paragraph_scores)\n",
    "    #print(sent_score_picker_v2(row_scores,row.overall_rating))"
   ]
  },
  {
   "cell_type": "markdown",
   "metadata": {},
   "source": [
    "### Compute: compute two versions of sentiment scores \n",
    " - row_sent is the best score picked by sent_score_picker function, and paragraph score is the paragraph compute as a whole "
   ]
  },
  {
   "cell_type": "code",
   "execution_count": 37,
   "metadata": {},
   "outputs": [],
   "source": [
    "reviews=reviews[['id','installer_id','body','overall_rating']].dropna()"
   ]
  },
  {
   "cell_type": "code",
   "execution_count": 38,
   "metadata": {},
   "outputs": [],
   "source": [
    "collect_sent_score=[]\n",
    "for index,row in reviews.iterrows():\n",
    "    row_scores=[]\n",
    "    sentences=sent_tokenize(row.body)\n",
    "    for sentence in sentences:\n",
    "        #print(sentence)\n",
    "        ss = sid.polarity_scores(sentence)\n",
    "        #print(ss)\n",
    "        row_scores=row_scores+[ss['compound']]\n",
    "    row_sent=sent_score_picker_v2(row_scores,row.overall_rating)\n",
    "    paragraph_score=sid.polarity_scores(row.body)['compound']\n",
    "    collect_sent_score=collect_sent_score+[[row.id,row_sent,paragraph_score]]\n",
    "    collect_sent_score_df=pd.DataFrame(data=collect_sent_score,columns=['id','sent_score','paragraph_score'])  \n",
    "    reviews_withscore=pd.merge(left=reviews,right=collect_sent_score_df,on=['id'],how='inner')\n",
    "    #print(len(sentences))\n",
    "    #print(row.body)\n",
    "    #print(row_scores)\n",
    "    #print(sent_score_picker(row_scores))"
   ]
  },
  {
   "cell_type": "markdown",
   "metadata": {},
   "source": [
    "- we see that the sent_score has good correlation with the numerical rating. The paragraph_score, the sentiment of whole paragraph, is not so good ."
   ]
  },
  {
   "cell_type": "code",
   "execution_count": 43,
   "metadata": {},
   "outputs": [
    {
     "data": {
      "text/plain": [
       "0.823901017339747"
      ]
     },
     "execution_count": 43,
     "metadata": {},
     "output_type": "execute_result"
    }
   ],
   "source": [
    "reviews_withscore['overall_rating'].corr(reviews_withscore['sent_score'])"
   ]
  },
  {
   "cell_type": "code",
   "execution_count": 44,
   "metadata": {},
   "outputs": [
    {
     "data": {
      "text/plain": [
       "0.6075238017852049"
      ]
     },
     "execution_count": 44,
     "metadata": {},
     "output_type": "execute_result"
    }
   ],
   "source": [
    "reviews_withscore['overall_rating'].corr(reviews_withscore['paragraph_score'])"
   ]
  },
  {
   "cell_type": "markdown",
   "metadata": {},
   "source": [
    "## Output 2 "
   ]
  },
  {
   "cell_type": "code",
   "execution_count": 42,
   "metadata": {},
   "outputs": [],
   "source": [
    "reviews_withscore.to_csv('../2_pipeline/reviews_sent_score_jan17_2020.csv')"
   ]
  },
  {
   "cell_type": "markdown",
   "metadata": {},
   "source": [
    "# Visualization"
   ]
  },
  {
   "cell_type": "code",
   "execution_count": 45,
   "metadata": {},
   "outputs": [],
   "source": [
    "import seaborn as sns"
   ]
  },
  {
   "cell_type": "code",
   "execution_count": 46,
   "metadata": {},
   "outputs": [],
   "source": [
    "import pandas as pd \n",
    "reviews_withscore=pd.read_csv('../2_pipeline/reviews_sent_score_jan17_2020.csv')"
   ]
  },
  {
   "cell_type": "code",
   "execution_count": 47,
   "metadata": {},
   "outputs": [
    {
     "data": {
      "text/html": [
       "<div>\n",
       "<style scoped>\n",
       "    .dataframe tbody tr th:only-of-type {\n",
       "        vertical-align: middle;\n",
       "    }\n",
       "\n",
       "    .dataframe tbody tr th {\n",
       "        vertical-align: top;\n",
       "    }\n",
       "\n",
       "    .dataframe thead th {\n",
       "        text-align: right;\n",
       "    }\n",
       "</style>\n",
       "<table border=\"1\" class=\"dataframe\">\n",
       "  <thead>\n",
       "    <tr style=\"text-align: right;\">\n",
       "      <th></th>\n",
       "      <th>Unnamed: 0</th>\n",
       "      <th>id</th>\n",
       "      <th>installer_id</th>\n",
       "      <th>body</th>\n",
       "      <th>overall_rating</th>\n",
       "      <th>sent_score</th>\n",
       "      <th>paragraph_score</th>\n",
       "    </tr>\n",
       "  </thead>\n",
       "  <tbody>\n",
       "    <tr>\n",
       "      <th>0</th>\n",
       "      <td>0</td>\n",
       "      <td>1</td>\n",
       "      <td>494</td>\n",
       "      <td>The so called \"Solar Assisted Air Conditioning...</td>\n",
       "      <td>1</td>\n",
       "      <td>0.4939</td>\n",
       "      <td>0.8788</td>\n",
       "    </tr>\n",
       "    <tr>\n",
       "      <th>1</th>\n",
       "      <td>1</td>\n",
       "      <td>2</td>\n",
       "      <td>556</td>\n",
       "      <td>My take on solar installers is that they shoul...</td>\n",
       "      <td>5</td>\n",
       "      <td>0.7351</td>\n",
       "      <td>0.9520</td>\n",
       "    </tr>\n",
       "    <tr>\n",
       "      <th>2</th>\n",
       "      <td>2</td>\n",
       "      <td>3</td>\n",
       "      <td>857</td>\n",
       "      <td>These guys are awesome.  Check out even more g...</td>\n",
       "      <td>5</td>\n",
       "      <td>0.6893</td>\n",
       "      <td>0.8685</td>\n",
       "    </tr>\n",
       "    <tr>\n",
       "      <th>3</th>\n",
       "      <td>3</td>\n",
       "      <td>4</td>\n",
       "      <td>20292</td>\n",
       "      <td>3/12/2013\\r\\nWe just had a solar system instal...</td>\n",
       "      <td>5</td>\n",
       "      <td>0.7783</td>\n",
       "      <td>0.8622</td>\n",
       "    </tr>\n",
       "    <tr>\n",
       "      <th>4</th>\n",
       "      <td>4</td>\n",
       "      <td>5</td>\n",
       "      <td>857</td>\n",
       "      <td>I highly recommend Exact Solar.  Mark, the own...</td>\n",
       "      <td>5</td>\n",
       "      <td>0.8720</td>\n",
       "      <td>0.9865</td>\n",
       "    </tr>\n",
       "  </tbody>\n",
       "</table>\n",
       "</div>"
      ],
      "text/plain": [
       "   Unnamed: 0  id  installer_id  \\\n",
       "0           0   1           494   \n",
       "1           1   2           556   \n",
       "2           2   3           857   \n",
       "3           3   4         20292   \n",
       "4           4   5           857   \n",
       "\n",
       "                                                body  overall_rating  \\\n",
       "0  The so called \"Solar Assisted Air Conditioning...               1   \n",
       "1  My take on solar installers is that they shoul...               5   \n",
       "2  These guys are awesome.  Check out even more g...               5   \n",
       "3  3/12/2013\\r\\nWe just had a solar system instal...               5   \n",
       "4  I highly recommend Exact Solar.  Mark, the own...               5   \n",
       "\n",
       "   sent_score  paragraph_score  \n",
       "0      0.4939           0.8788  \n",
       "1      0.7351           0.9520  \n",
       "2      0.6893           0.8685  \n",
       "3      0.7783           0.8622  \n",
       "4      0.8720           0.9865  "
      ]
     },
     "execution_count": 47,
     "metadata": {},
     "output_type": "execute_result"
    }
   ],
   "source": [
    "reviews_withscore.head()"
   ]
  },
  {
   "cell_type": "code",
   "execution_count": 48,
   "metadata": {},
   "outputs": [
    {
     "data": {
      "image/png": "[encoded data removed]",
      "text/plain": [
       "<Figure size 432x288 with 1 Axes>"
      ]
     },
     "metadata": {
      "needs_background": "light"
     },
     "output_type": "display_data"
    }
   ],
   "source": [
    "ax = sns.violinplot(x=\"overall_rating\", y=\"sent_score\", data=reviews_withscore)"
   ]
  },
  {
   "cell_type": "markdown",
   "metadata": {},
   "source": [
    "- visualization of paragraph score - not so good "
   ]
  },
  {
   "cell_type": "code",
   "execution_count": 53,
   "metadata": {},
   "outputs": [
    {
     "data": {
      "image/png": "[encoded data removed]",
      "text/plain": [
       "<Figure size 432x288 with 1 Axes>"
      ]
     },
     "metadata": {
      "needs_background": "light"
     },
     "output_type": "display_data"
    }
   ],
   "source": [
    "ax = sns.violinplot(x=\"overall_rating\", y=\"paragraph_score\", data=reviews_withscore)"
   ]
  },
  {
   "cell_type": "code",
   "execution_count": 49,
   "metadata": {},
   "outputs": [],
   "source": [
    "reviews_withscore['Rating']=reviews_withscore['overall_rating']"
   ]
  },
  {
   "cell_type": "code",
   "execution_count": 50,
   "metadata": {},
   "outputs": [],
   "source": [
    "reviews_withscore['Sentiment Score']=reviews_withscore['sent_score']"
   ]
  },
  {
   "cell_type": "code",
   "execution_count": 51,
   "metadata": {},
   "outputs": [
    {
     "data": {
      "image/png": "[encoded data removed]",
      "text/plain": [
       "<Figure size 432x288 with 1 Axes>"
      ]
     },
     "metadata": {
      "needs_background": "light"
     },
     "output_type": "display_data"
    }
   ],
   "source": [
    "ax = sns.violinplot(x=\"Rating\", y=\"Sentiment Score\", data=reviews_withscore,scale=\"width\", palette=\"Set3\")"
   ]
  },
  {
   "cell_type": "markdown",
   "metadata": {},
   "source": [
    "## output - visualization violin graph"
   ]
  },
  {
   "cell_type": "code",
   "execution_count": 52,
   "metadata": {},
   "outputs": [],
   "source": [
    "ax.figure.savefig(\"../3_output/sentscore_violin.png\")"
   ]
  }
 ],
 "metadata": {
  "kernelspec": {
   "display_name": "Python 3",
   "language": "python",
   "name": "python3"
  },
  "language_info": {
   "codemirror_mode": {
    "name": "ipython",
    "version": 3
   },
   "file_extension": ".py",
   "mimetype": "text/x-python",
   "name": "python",
   "nbconvert_exporter": "python",
   "pygments_lexer": "ipython3",
   "version": "3.7.3"
  },
  "toc-autonumbering": true
 },
 "nbformat": 4,
 "nbformat_minor": 4
}
