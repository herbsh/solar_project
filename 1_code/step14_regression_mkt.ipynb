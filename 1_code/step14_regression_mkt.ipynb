{
 "cells": [
  {
   "cell_type": "markdown",
   "metadata": {},
   "source": [
    "# Overview\n",
    "1. Entropy Market (use avgmean_mkt - quantitative measure) \n",
    "2. Entropy market ( use sentiment score ) \n",
    "3. Text_d_market and use sentiment score"
   ]
  },
  {
   "cell_type": "markdown",
   "metadata": {},
   "source": [
    "use regression_analysis_mkt_with_ent_sent_jan18.dta, clear"
   ]
  },
  {
   "cell_type": "markdown",
   "metadata": {},
   "source": [
    "## Note - use june9 version to include text dispersion measured by mean and p50 "
   ]
  },
  {
   "cell_type": "code",
   "execution_count": 28,
   "metadata": {},
   "outputs": [],
   "source": [
    "use regression_analysis_mkt_with_ent_sent_june9.dta, clear"
   ]
  },
  {
   "cell_type": "code",
   "execution_count": 29,
   "metadata": {},
   "outputs": [
    {
     "name": "stdout",
     "output_type": "stream",
     "text": [
      "\n",
      "    Variable |        Obs        Mean    Std. Dev.       Min        Max\n",
      "-------------+---------------------------------------------------------\n",
      "avg_sent_s~t |      1,528    .4637286    .3349317          0    .886075\n"
     ]
    }
   ],
   "source": [
    "su avg_sent*"
   ]
  },
  {
   "cell_type": "code",
   "execution_count": 5,
   "metadata": {},
   "outputs": [
    {
     "name": "stdout",
     "output_type": "stream",
     "text": [
      "\n",
      "                     (first) sum_quotes\n",
      "-------------------------------------------------------------\n",
      "      Percentiles      Smallest\n",
      " 1%            0              0\n",
      " 5%            0              0\n",
      "10%            0              0       Obs               1,528\n",
      "25%            0              0       Sum of Wgt.       1,528\n",
      "\n",
      "50%            0                      Mean           2.388089\n",
      "                        Largest       Std. Dev.      6.625488\n",
      "75%            2             61\n",
      "90%            6             68       Variance       43.89709\n",
      "95%           12             71       Skewness       6.146999\n",
      "99%           36             91       Kurtosis       54.01926\n"
     ]
    }
   ],
   "source": [
    "su  sum_quotes,d"
   ]
  },
  {
   "cell_type": "code",
   "execution_count": 6,
   "metadata": {},
   "outputs": [
    {
     "name": "stdout",
     "output_type": "stream",
     "text": [
      "\n",
      "                     Market Transaction\n",
      "-------------------------------------------------------------\n",
      "      Percentiles      Smallest\n",
      " 1%            0              0\n",
      " 5%            0              0\n",
      "10%            0              0       Obs               1,528\n",
      "25%            0              0       Sum of Wgt.       1,528\n",
      "\n",
      "50%            0                      Mean           .6238486\n",
      "                        Largest       Std. Dev.      .8885453\n",
      "75%     1.098612       4.127134\n",
      "90%      1.94591       4.234107       Variance       .7895127\n",
      "95%     2.564949       4.276666       Skewness         1.5069\n",
      "99%     3.610918       4.521789       Kurtosis       4.834784\n"
     ]
    }
   ],
   "source": [
    "su log_sum_quotes,d"
   ]
  },
  {
   "cell_type": "markdown",
   "metadata": {},
   "source": [
    "# Market Level Use Winning Quotes and Quantitative Dispersion Measures"
   ]
  },
  {
   "cell_type": "markdown",
   "metadata": {},
   "source": [
    "## 0. Without Entropy, only Average "
   ]
  },
  {
   "cell_type": "code",
   "execution_count": 8,
   "metadata": {},
   "outputs": [
    {
     "name": "stdout",
     "output_type": "stream",
     "text": [
      "(obs=1,027)\n",
      "\n",
      "             | log_su.. l~give~s avgmea~t log_zi~v experi~e\n",
      "-------------+---------------------------------------------\n",
      "log_sum_qu~s |   1.0000\n",
      "log_sum_gi~s |   0.7331   1.0000\n",
      " avgmean_mkt |  -0.0285  -0.1410   1.0000\n",
      " log_zip_rev |   0.3045   0.2374  -0.0407   1.0000\n",
      "  experience |   0.2296   0.2733  -0.1060   0.5228   1.0000\n",
      "\n"
     ]
    }
   ],
   "source": [
    "corr log_sum_quotes log_sum_givenquotes avgmean_mkt log_zip_rev experience "
   ]
  },
  {
   "cell_type": "code",
   "execution_count": 11,
   "metadata": {},
   "outputs": [
    {
     "name": "stdout",
     "output_type": "stream",
     "text": [
      "\n",
      "                         Rating Avg\n",
      "-------------------------------------------------------------\n",
      "      Percentiles      Smallest\n",
      " 1%            4              3\n",
      " 5%     4.333333       3.645833\n",
      "10%     4.666667       3.666667       Obs               1,027\n",
      "25%     4.888889       3.666667       Sum of Wgt.       1,027\n",
      "\n",
      "50%            5                      Mean           4.887787\n",
      "                        Largest       Std. Dev.      .2379249\n",
      "75%            5              5\n",
      "90%            5              5       Variance       .0566083\n",
      "95%            5              5       Skewness      -3.094295\n",
      "99%            5              5       Kurtosis       13.93316\n"
     ]
    }
   ],
   "source": [
    "su avgmean_mkt, d"
   ]
  },
  {
   "cell_type": "code",
   "execution_count": 22,
   "metadata": {},
   "outputs": [
    {
     "name": "stdout",
     "output_type": "stream",
     "text": [
      "\n",
      "\n",
      "\n",
      "\n",
      "\n",
      "  Variables that uniquely identify margins: ent_mkt\n"
     ]
    },
    {
     "data": {
      "image/png": "[encoded data removed]",
      "text/plain": [
       "This front-end cannot display the desired image type."
      ]
     },
     "metadata": {
      "image/png": {
       "height": 437,
       "width": 600
      }
     },
     "output_type": "display_data"
    },
    {
     "name": "stdout",
     "output_type": "stream",
     "text": [
      "\n",
      "\n"
     ]
    }
   ],
   "source": [
    "set scheme sj\n",
    "qui:xtreg f.log_sum_quotes ent_mkt c.ent_mkt#c.ent_mkt  avgmean_mkt log_zip_rev c.log_zip_rev#c.log_zip_rev  experience temp_* dummy*  , fe vce(cluster market)\n",
    "qui: margins , at(ent_mkt=(0.05(0.05)0.95))\n",
    "marginsplot"
   ]
  },
  {
   "cell_type": "markdown",
   "metadata": {},
   "source": [
    "## Use Hausman test to determine which (FE, RE) to use - Turns out it's Fixed Effect "
   ]
  },
  {
   "cell_type": "code",
   "execution_count": 8,
   "metadata": {},
   "outputs": [
    {
     "name": "stdout",
     "output_type": "stream",
     "text": [
      "\n",
      "\n",
      "\n",
      "\n",
      "\n",
      "\n",
      "Note: the rank of the differenced variance matrix (18) does not equal the number of coefficients being tested\n",
      "        (19); be sure this is what you expect, or there may be problems computing the test.  Examine the output of\n",
      "        your estimators for anything unexpected and possibly consider scaling your variables so that the\n",
      "        coefficients are on a similar scale.\n",
      "\n",
      "                 ---- Coefficients ----\n",
      "             |      (b)          (B)            (b-B)     sqrt(diag(V_b-V_B))\n",
      "             |     fixed        random       Difference          S.E.\n",
      "-------------+----------------------------------------------------------------\n",
      "     ent_mkt |     1.89164     3.772197       -1.880557        .1006757\n",
      "   c.ent_mkt#|\n",
      "   c.ent_mkt |   -1.892698    -4.056505        2.163807        .0601549\n",
      " avgmean_mkt |   -.0517693    -.0437709       -.0079984               .\n",
      " log_zip_rev |   -.1185435    -.0815356       -.0370079        .0082764\n",
      "          c. |\n",
      " log_zip_rev#|\n",
      "          c. |\n",
      " log_zip_rev |     .006167     .0049275        .0012395        .0003032\n",
      "  experience |    .0179289    -.0358589        .0537878        .0032787\n",
      "temp_own_p~r |     .313203     .0481914        .2650117               .\n",
      "dummy_state4 |   -4.094659    -.3388053       -3.755854        4.165495\n",
      "dummy_state5 |   -1.109532     2.938001       -4.047533         3.63826\n",
      "dummy_state6 |    2.538119     10.77356       -8.235444        7.043047\n",
      "dummy_sta~12 |   -3.239742     .7888256       -4.028568        5.044338\n",
      "dummy_sta~13 |   -3.445133     1.408951       -4.854085        3.622174\n",
      "dummy_sta~17 |    .8304309     .3914461        .4389848        .8456613\n",
      "dummy_sta~18 |     4.65086     9.444947       -4.794086        4.544385\n",
      "dummy_sta~19 |   -3.077173     1.751723       -4.828895        4.377081\n",
      "dummy_sta~22 |   -2.543265     .8989743       -3.442239        4.043011\n",
      "dummy_sta~25 |   -4.622996     .2746625       -4.897658        4.698452\n",
      "dummy_sta~26 |     4.96473     7.222752       -2.258022        5.062551\n",
      "dummy_sta~30 |   -5.145691     .5979803       -5.743671        4.241033\n",
      "------------------------------------------------------------------------------\n",
      "                           b = consistent under Ho and Ha; obtained from xtreg\n",
      "            B = inconsistent under Ha, efficient under Ho; obtained from xtreg\n",
      "\n",
      "    Test:  Ho:  difference in coefficients not systematic\n",
      "\n",
      "                 chi2(18) = (b-B)'[(V_b-V_B)^(-1)](b-B)\n",
      "                          =      403.30\n",
      "                Prob>chi2 =      0.0000\n",
      "                (V_b-V_B is not positive definite)\n"
     ]
    }
   ],
   "source": [
    "qui:xtreg f.log_sum_quotes ent_mkt c.ent_mkt#c.ent_mkt  avgmean_mkt log_zip_rev c.log_zip_rev#c.log_zip_rev  experience temp_* dummy*  ,fe\n",
    "\n",
    "estimates store fixed\n",
    "qui:xtreg f.log_sum_quotes ent_mkt c.ent_mkt#c.ent_mkt  avgmean_mkt log_zip_rev c.log_zip_rev#c.log_zip_rev  experience temp_* dummy*  , re\n",
    "estimates store random \n",
    "hausman fixed random"
   ]
  },
  {
   "cell_type": "code",
   "execution_count": 9,
   "metadata": {},
   "outputs": [
    {
     "name": "stdout",
     "output_type": "stream",
     "text": [
      "\n",
      "    Variable |        Obs        Mean    Std. Dev.       Min        Max\n",
      "-------------+---------------------------------------------------------\n",
      "      market |      1,528    18.64725    11.41016          0         36\n"
     ]
    }
   ],
   "source": [
    "su market"
   ]
  },
  {
   "cell_type": "markdown",
   "metadata": {},
   "source": [
    "### Test whether we should use Fixed effect \n",
    "by including i.marcket and see if F-test "
   ]
  },
  {
   "cell_type": "code",
   "execution_count": 11,
   "metadata": {},
   "outputs": [
    {
     "name": "stdout",
     "output_type": "stream",
     "text": [
      "\n",
      "\n",
      "\n",
      " ( 1)  2.market = 0\n",
      " ( 2)  3.market = 0\n",
      " ( 3)  6.market = 0\n",
      " ( 4)  15.market = 0\n",
      " ( 5)  17.market = 0\n",
      " ( 6)  18.market = 0\n",
      " ( 7)  20.market = 0\n",
      " ( 8)  21.market = 0\n",
      " ( 9)  25.market = 0\n",
      " (10)  28.market = 0\n",
      " (11)  29.market = 0\n",
      " (12)  30.market = 0\n",
      " (13)  33.market = 0\n",
      " (14)  34.market = 0\n",
      " (15)  35.market = 0\n",
      "\n",
      "           chi2( 15) =  239.35\n",
      "         Prob > chi2 =    0.0000\n"
     ]
    }
   ],
   "source": [
    "qui:xtreg f.log_sum_quotes ent_mkt c.ent_mkt#c.ent_mkt  avgmean_mkt log_zip_rev c.log_zip_rev#c.log_zip_rev  experience temp_* dummy*  i.market\n",
    "testparm i.market\n"
   ]
  },
  {
   "cell_type": "markdown",
   "metadata": {},
   "source": [
    "## Label variables "
   ]
  },
  {
   "cell_type": "code",
   "execution_count": 23,
   "metadata": {},
   "outputs": [
    {
     "name": "stdout",
     "output_type": "stream",
     "text": [
      "\n",
      "                     Rating_Entropy_Mkt\n",
      "-------------------------------------------------------------\n",
      "      Percentiles      Smallest\n",
      " 1%            0              0\n",
      " 5%            0              0\n",
      "10%            0              0       Obs                 808\n",
      "25%            0              0       Sum of Wgt.         808\n",
      "\n",
      "50%     .1169069                      Mean           .1855405\n",
      "                        Largest       Std. Dev.      .2326058\n",
      "75%     .3046361       1.011404\n",
      "90%     .5091373        1.05492       Variance       .0541054\n",
      "95%     .6365142        1.05492       Skewness       1.321511\n",
      "99%     .9556999        1.05492       Kurtosis       4.451168\n"
     ]
    }
   ],
   "source": [
    "su ent_mkt,d"
   ]
  },
  {
   "cell_type": "code",
   "execution_count": 24,
   "metadata": {},
   "outputs": [
    {
     "name": "stdout",
     "output_type": "stream",
     "text": [
      "(4 real changes made)\n"
     ]
    }
   ],
   "source": [
    "replace ent_mkt=1 if (ent_mkt!=.&ent_mkt>1)"
   ]
  },
  {
   "cell_type": "code",
   "execution_count": 25,
   "metadata": {},
   "outputs": [
    {
     "name": "stdout",
     "output_type": "stream",
     "text": [
      "(720 missing values generated)\n"
     ]
    }
   ],
   "source": [
    "gen ent_mkt_demean=ent_mkt-.1763819\n"
   ]
  },
  {
   "cell_type": "code",
   "execution_count": 26,
   "metadata": {},
   "outputs": [],
   "source": [
    "label variable ent_mkt \"Rating_Entropy_Mkt\"\n",
    "label variable ent_mkt_demean \"Rating_Entropy_Mkt\"\n",
    "label variable log_sum_quotes \"Market_Transaction\"\n",
    "label variable avgmean_mkt \"Average_Rating_Mkt\"\n",
    "label variable log_zip_rev \"Market_LogRevenue\"\n",
    "label variable experience \"Experience\"\n",
    "label variable temp_own_price_diff_other \"Price_Difference\""
   ]
  },
  {
   "cell_type": "markdown",
   "metadata": {},
   "source": [
    "# Produce a simplified table to collect all market level results "
   ]
  },
  {
   "cell_type": "code",
   "execution_count": 25,
   "metadata": {},
   "outputs": [],
   "source": [
    "restore"
   ]
  },
  {
   "cell_type": "code",
   "execution_count": 41,
   "metadata": {},
   "outputs": [
    {
     "name": "stdout",
     "output_type": "stream",
     "text": [
      "\n",
      "\n",
      "(724 observations deleted)\n",
      "\n",
      "\n",
      "\n",
      "(est1 stored)\n",
      "\n",
      "\n",
      "(est2 stored)\n",
      "\n",
      "\n",
      "----------------------------------------------------\n",
      "                              (1)             (2)   \n",
      "                     F.Market_T~n    F.Market_T~n   \n",
      "----------------------------------------------------\n",
      "Rating_Entropy_Mkt                          1.628** \n",
      "                                          (0.010)   \n",
      "\n",
      "Rating_Entropy_Mkt~r                       -1.610** \n",
      "                                          (0.009)   \n",
      "\n",
      "Average_Rating_Mkt         -0.273          -0.185   \n",
      "                          (0.071)         (0.410)   \n",
      "\n",
      "Experience                 0.0197*         0.0138   \n",
      "                          (0.013)         (0.142)   \n",
      "\n",
      "Price_Difference            0.239           0.287   \n",
      "                          (0.282)         (0.284)   \n",
      "\n",
      "Market_LogRevenue         -0.0846         -0.0663   \n",
      "                          (0.057)         (0.140)   \n",
      "\n",
      "Constant                    3.443**         2.672*  \n",
      "                          (0.009)         (0.021)   \n",
      "----------------------------------------------------\n",
      "Observations                  642             642   \n",
      "r2                          0.739           0.747   \n",
      "aic                        1075.6          1037.6   \n",
      "bic                        1156.0          1077.8   \n",
      "----------------------------------------------------\n",
      "p-values in parentheses\n",
      "* p<0.05, ** p<0.01, *** p<0.001\n",
      "\n"
     ]
    }
   ],
   "source": [
    "\n",
    "\n",
    "preserve\n",
    "drop  if ent_mkt==.\n",
    "eststo clear\n",
    "qui:areg f.log_sum_quotes   avgmean_mkt  log_zip_rev c.log_zip_rev#c.log_zip_rev  experience temp_* dummy*  , absorb(market) vce(robust)\n",
    "eststo\n",
    "qui:areg f.log_sum_quotes ent_mkt c.ent_mkt#c.ent_mkt  avgmean_mkt    log_zip_rev c.log_zip_rev#c.log_zip_rev  experience temp_* dummy*  , absorb(market) vce(cluster market)\n",
    "eststo\n",
    "esttab, order( ent* c.ent*  avg* experience temp_own_price_diff_other log_zip_rev )  drop(dummy* c.log_zip_rev#c.log_zip_rev) p label scalars(r2 aic bic) \n",
    "restore \n",
    "//esttab using reg_mkt_simplified.csv,  drop(dummy* c.log_zip_rev#c.log_zip_rev) p label scalars(r2 aic bic) replace\n",
    "//esttab using reg_mkt_simplified.csv, replace order( ent* c.ent*  avg* experience temp_own_price_diff_other log_zip_rev )  drop(dummy* c.log_zip_rev#c.log_zip_rev) p label scalars(r2 aic bic) \n"
   ]
  },
  {
   "cell_type": "markdown",
   "metadata": {},
   "source": [
    "## still demean the entropy_mkt "
   ]
  },
  {
   "cell_type": "code",
   "execution_count": 41,
   "metadata": {},
   "outputs": [
    {
     "name": "stdout",
     "output_type": "stream",
     "text": [
      "\n",
      "                           Entropy\n",
      "-------------------------------------------------------------\n",
      "      Percentiles      Smallest\n",
      " 1%            0              0\n",
      " 5%            0              0\n",
      "10%            0              0       Obs                 804\n",
      "25%            0              0       Sum of Wgt.         804\n",
      "\n",
      "50%            0                      Mean           .1763819\n",
      "                        Largest       Std. Dev.      .2290538\n",
      "75%     .2945485       1.011404\n",
      "90%     .5011469        1.05492       Variance       .0524656\n",
      "95%     .6365142        1.05492       Skewness       1.392854\n",
      "99%     .9556999        1.05492       Kurtosis       4.669032\n"
     ]
    }
   ],
   "source": [
    "su ent_mkt,d"
   ]
  },
  {
   "cell_type": "markdown",
   "metadata": {},
   "source": [
    "## Hausman test "
   ]
  },
  {
   "cell_type": "code",
   "execution_count": 4,
   "metadata": {},
   "outputs": [
    {
     "name": "stdout",
     "output_type": "stream",
     "text": [
      "\n",
      "\n",
      "\n",
      "\n",
      "\n",
      "\n",
      "Note: the rank of the differenced variance matrix (17) does not equal the number of coefficients being tested (18); be sure this is what you expect, or there may be problems computing the test.  Examine the output of your estimators for anything\n",
      "        unexpected and possibly consider scaling your variables so that the coefficients are on a similar scale.\n",
      "\n",
      "                 ---- Coefficients ----\n",
      "             |      (b)          (B)            (b-B)     sqrt(diag(V_b-V_B))\n",
      "             |     fixed        random       Difference          S.E.\n",
      "-------------+----------------------------------------------------------------\n",
      "     ent_mkt |    2.054345     2.796286       -.7419414        .0810702\n",
      "   c.ent_mkt#|\n",
      "   c.ent_mkt |   -2.041724     -2.89956         .857836        .0741859\n",
      " avgmean_mkt |   -.0324186     -.037557        .0051384               .\n",
      " log_zip_rev |   -.0174255    -.0111728       -.0062527        .0012036\n",
      "  experience |    .0147442    -.0051912        .0199354        .0020019\n",
      "temp_own_p~r |    .2339768     .1384463        .0955304         .015749\n",
      "dummy_state4 |   -4.255273     .3440919       -4.599365        4.151847\n",
      "dummy_state5 |   -1.404163     2.824328       -4.228491        3.655401\n",
      "dummy_state6 |   -.2393292      6.06901       -6.308339        7.550277\n",
      "dummy_sta~12 |   -3.360315     .8223705       -4.182686        5.069346\n",
      "dummy_sta~13 |   -3.647955     .9796402       -4.627595        3.631253\n",
      "dummy_sta~17 |    .7697184      .307011        .4627074         .809852\n",
      "dummy_sta~18 |    4.078203     8.173744        -4.09554        4.851396\n",
      "dummy_sta~19 |   -3.639343     1.837492       -5.476835        4.389234\n",
      "dummy_sta~22 |   -2.806065     .7831319       -3.589197        4.058178\n",
      "dummy_sta~25 |    -5.08524     .1357702       -5.221011        4.717316\n",
      "dummy_sta~26 |    4.566179     7.998378       -3.432199           5.101\n",
      "dummy_sta~30 |   -4.092779     .5075153       -4.600294         4.24505\n",
      "------------------------------------------------------------------------------\n",
      "                           b = consistent under Ho and Ha; obtained from xtreg\n",
      "            B = inconsistent under Ha, efficient under Ho; obtained from xtreg\n",
      "\n",
      "    Test:  Ho:  difference in coefficients not systematic\n",
      "\n",
      "                 chi2(17) = (b-B)'[(V_b-V_B)^(-1)](b-B)\n",
      "                          =      200.00\n",
      "                Prob>chi2 =      0.0000\n",
      "                (V_b-V_B is not positive definite)\n"
     ]
    }
   ],
   "source": [
    "qui:xtreg f.log_sum_quotes ent_mkt c.ent_mkt#c.ent_mkt  avgmean_mkt    log_zip_rev   experience temp_* dummy*  , fe  \n",
    "estimates store fixed\n",
    "qui:xtreg f.log_sum_quotes ent_mkt c.ent_mkt#c.ent_mkt  avgmean_mkt    log_zip_rev   experience temp_* dummy*  , re  \n",
    "estimates store random\n",
    "hausman fixed random"
   ]
  },
  {
   "cell_type": "markdown",
   "metadata": {},
   "source": [
    "## marginsplot"
   ]
  },
  {
   "cell_type": "code",
   "execution_count": 27,
   "metadata": {},
   "outputs": [
    {
     "name": "stdout",
     "output_type": "stream",
     "text": [
      "\n",
      "                     Rating_Entropy_Mkt\n",
      "-------------------------------------------------------------\n",
      "      Percentiles      Smallest\n",
      " 1%    -.1763819      -.1763819\n",
      " 5%    -.1763819      -.1763819\n",
      "10%    -.1763819      -.1763819       Obs                 808\n",
      "25%    -.1763819      -.1763819       Sum of Wgt.         808\n",
      "\n",
      "50%     -.059475                      Mean           .0089405\n",
      "                        Largest       Std. Dev.      .2318155\n",
      "75%     .1282542       .8236181\n",
      "90%     .3327554       .8236181       Variance       .0537384\n",
      "95%     .4601323       .8236181       Skewness       1.300719\n",
      "99%      .779318       .8236181       Kurtosis       4.337099\n"
     ]
    }
   ],
   "source": [
    "su ent_mkt_demean,d"
   ]
  },
  {
   "cell_type": "code",
   "execution_count": 29,
   "metadata": {},
   "outputs": [
    {
     "name": "stdout",
     "output_type": "stream",
     "text": [
      "\n",
      "\n",
      "\n",
      "\n",
      "  Variables that uniquely identify margins: ent_mkt_demean\n"
     ]
    },
    {
     "data": {
      "image/png": "[encoded data removed]",
      "text/plain": [
       "This front-end cannot display the desired image type."
      ]
     },
     "metadata": {
      "image/png": {
       "height": 436,
       "width": 600
      }
     },
     "output_type": "display_data"
    },
    {
     "name": "stdout",
     "output_type": "stream",
     "text": [
      "\n",
      "\n"
     ]
    }
   ],
   "source": [
    "qui:areg f.log_sum_quotes ent_mkt_demean c.ent_mkt_demean#c.ent_mkt_demean  avgmean_mkt    log_zip_rev c.log_zip_rev#c.log_zip_rev  experience temp_* dummy*  ,vce(robust) absorb(market)\n",
    "qui: margins , at(ent_mkt_demean=(-0.2(0.05)0.75))\n",
    "marginsplot,ytitle(\"Market Transaction\") title(\"\")"
   ]
  },
  {
   "cell_type": "markdown",
   "metadata": {},
   "source": [
    "## VIF "
   ]
  },
  {
   "cell_type": "code",
   "execution_count": 39,
   "metadata": {},
   "outputs": [
    {
     "name": "stdout",
     "output_type": "stream",
     "text": [
      "\n",
      "\n",
      "\n",
      "    Variable |       VIF       1/VIF  \n",
      "-------------+----------------------\n",
      "     ent_mkt |      6.67    0.149965\n",
      "   c.ent_mkt#|\n",
      "   c.ent_mkt |      6.21    0.160950\n",
      " avgmean_mkt |      1.58    0.632615\n",
      " log_zip_rev |      1.45    0.690279\n",
      "  experience |      1.46    0.685113\n",
      "temp_own_p~r |      1.01    0.986885\n",
      "-------------+----------------------\n",
      "    Mean VIF |      3.06\n"
     ]
    }
   ],
   "source": [
    "qui:reg f.log_sum_quotes ent_mkt c.ent_mkt#c.ent_mkt  avgmean_mkt    log_zip_rev   experience temp_*  ,vce(robust)  \n",
    "vif"
   ]
  },
  {
   "cell_type": "code",
   "execution_count": 14,
   "metadata": {},
   "outputs": [
    {
     "name": "stdout",
     "output_type": "stream",
     "text": [
      "\n",
      "                           Entropy\n",
      "-------------------------------------------------------------\n",
      "      Percentiles      Smallest\n",
      " 1%            0              0\n",
      " 5%            0              0\n",
      "10%            0              0       Obs                 804\n",
      "25%            0              0       Sum of Wgt.         804\n",
      "\n",
      "50%            0                      Mean           .1763819\n",
      "                        Largest       Std. Dev.      .2290538\n",
      "75%     .2945485       1.011404\n",
      "90%     .5011469        1.05492       Variance       .0524656\n",
      "95%     .6365142        1.05492       Skewness       1.392854\n",
      "99%     .9556999        1.05492       Kurtosis       4.669032\n"
     ]
    }
   ],
   "source": [
    "su ent_mkt,d"
   ]
  },
  {
   "cell_type": "code",
   "execution_count": 15,
   "metadata": {},
   "outputs": [
    {
     "name": "stdout",
     "output_type": "stream",
     "text": [
      "(724 missing values generated)\n"
     ]
    }
   ],
   "source": [
    "gen ent_mkt_demean=ent_mkt-.1763819"
   ]
  },
  {
   "cell_type": "code",
   "execution_count": 17,
   "metadata": {},
   "outputs": [],
   "source": [
    "label variable ent_mkt_demean \"Entropy\""
   ]
  },
  {
   "cell_type": "code",
   "execution_count": 19,
   "metadata": {},
   "outputs": [
    {
     "name": "stdout",
     "output_type": "stream",
     "text": [
      "\n",
      "\n",
      "\n",
      "(724 observations deleted)\n",
      "\n",
      "\n",
      "(est1 stored)\n",
      "\n",
      "\n",
      "(est2 stored)\n",
      "\n",
      "\n",
      "----------------------------------------------------\n",
      "                              (1)             (2)   \n",
      "                     F.Transact~n    F.Transact~n   \n",
      "----------------------------------------------------\n",
      "Rating Avg                 -0.273          -0.185   \n",
      "                          (0.071)         (0.212)   \n",
      "\n",
      "Mkt Revenue               -0.0846         -0.0663   \n",
      "                          (0.057)         (0.123)   \n",
      "\n",
      "Experience(Avg)            0.0197*         0.0138   \n",
      "                          (0.013)         (0.073)   \n",
      "\n",
      "Price Diff(Avg)             0.239           0.287   \n",
      "                          (0.282)         (0.194)   \n",
      "\n",
      "Entropy                                     1.060***\n",
      "                                          (0.000)   \n",
      "\n",
      "Entropy # Entropy                          -1.610***\n",
      "                                          (0.000)   \n",
      "\n",
      "Constant                    3.443**         2.909*  \n",
      "                          (0.009)         (0.025)   \n",
      "----------------------------------------------------\n",
      "Observations                  642             642   \n",
      "r2                          0.739           0.747   \n",
      "aic                        1075.6          1059.6   \n",
      "bic                        1156.0          1148.9   \n",
      "----------------------------------------------------\n",
      "p-values in parentheses\n",
      "* p<0.05, ** p<0.01, *** p<0.001\n",
      "\n",
      "(output written to reg_mkt_simplified.csv)\n",
      "\n"
     ]
    }
   ],
   "source": [
    "eststo clear\n",
    "\n",
    "preserve\n",
    "drop  if ent_mkt==.\n",
    "qui:areg f.log_sum_quotes   avgmean_mkt  log_zip_rev c.log_zip_rev#c.log_zip_rev  experience temp_* dummy*  ,  vce(robust) absorb(market)\n",
    "eststo\n",
    "qui:areg f.log_sum_quotes ent_mkt_demean c.ent_mkt_demean#c.ent_mkt_demean  avgmean_mkt    log_zip_rev c.log_zip_rev#c.log_zip_rev  experience temp_* dummy*  ,vce(robust) absorb(market)\n",
    "eststo\n",
    "\n",
    "\n",
    "esttab,  drop(dummy* c.log_zip_rev#c.log_zip_rev) p label scalars(r2 aic bic) \n",
    "esttab using reg_mkt_simplified.csv,  drop(dummy* c.log_zip_rev#c.log_zip_rev) p label scalars(r2 aic bic) replace\n",
    "\n",
    "restore "
   ]
  },
  {
   "cell_type": "markdown",
   "metadata": {},
   "source": [
    "## Dynamic Panel "
   ]
  },
  {
   "cell_type": "code",
   "execution_count": 4,
   "metadata": {},
   "outputs": [
    {
     "name": "stdout",
     "output_type": "stream",
     "text": [
      "nothing to restore\n"
     ]
    },
    {
     "name": "stderr",
     "output_type": "stream",
     "text": [
      "r(622);\n"
     ]
    },
    {
     "name": "stdout",
     "output_type": "stream",
     "text": [
      "\n"
     ]
    }
   ],
   "source": [
    "restore"
   ]
  },
  {
   "cell_type": "markdown",
   "metadata": {},
   "source": [
    "### First let's review the areg model resuls "
   ]
  },
  {
   "cell_type": "code",
   "execution_count": 5,
   "metadata": {},
   "outputs": [
    {
     "name": "stdout",
     "output_type": "stream",
     "text": [
      "\n",
      "\n",
      "\n",
      "(724 observations deleted)\n",
      "\n",
      "\n",
      "(est1 stored)\n",
      "\n",
      "\n",
      "(est2 stored)\n",
      "\n",
      "\n",
      "----------------------------------------------------\n",
      "                              (1)             (2)   \n",
      "                     F.Transact~n    F.Transact~n   \n",
      "----------------------------------------------------\n",
      "Rating Avg                 -0.273*         -0.185   \n",
      "                          (0.038)         (0.181)   \n",
      "\n",
      "Mkt Revenue               -0.0846*        -0.0663   \n",
      "                          (0.014)         (0.053)   \n",
      "\n",
      "Experience(Avg)            0.0197**        0.0138   \n",
      "                          (0.008)         (0.062)   \n",
      "\n",
      "Price Diff(Avg)             0.239           0.287   \n",
      "                          (0.195)         (0.124)   \n",
      "\n",
      "Entropy                                     1.628***\n",
      "                                          (0.000)   \n",
      "\n",
      "Entropy # Entropy                          -1.610***\n",
      "                                          (0.000)   \n",
      "\n",
      "Constant                    3.443*          2.672   \n",
      "                          (0.018)         (0.069)   \n",
      "----------------------------------------------------\n",
      "Observations                  642             642   \n",
      "r2                          0.739           0.747   \n",
      "aic                        1075.6          1059.6   \n",
      "bic                        1156.0          1148.9   \n",
      "----------------------------------------------------\n",
      "p-values in parentheses\n",
      "* p<0.05, ** p<0.01, *** p<0.001\n",
      "\n"
     ]
    }
   ],
   "source": [
    "eststo clear\n",
    "\n",
    "preserve\n",
    "drop  if ent_mkt==.\n",
    "qui:areg f.log_sum_quotes   avgmean_mkt  log_zip_rev c.log_zip_rev#c.log_zip_rev  experience temp_* dummy*  , absorb(market)\n",
    "eststo\n",
    "qui:areg f.log_sum_quotes ent_mkt c.ent_mkt#c.ent_mkt  avgmean_mkt    log_zip_rev c.log_zip_rev#c.log_zip_rev  experience temp_* dummy*  , absorb(market)\n",
    "eststo\n",
    "\n",
    "\n",
    "esttab,  drop(dummy* c.log_zip_rev#c.log_zip_rev) p label scalars(r2 aic bic) \n",
    "//esttab using reg_mkt_simplified.csv,  drop(dummy* c.log_zip_rev#c.log_zip_rev) p label scalars(r2 aic bic) replace\n",
    "\n",
    "restore "
   ]
  },
  {
   "cell_type": "markdown",
   "metadata": {},
   "source": [
    "### Dynamic Panel "
   ]
  },
  {
   "cell_type": "code",
   "execution_count": 12,
   "metadata": {},
   "outputs": [],
   "source": [
    "restore"
   ]
  },
  {
   "cell_type": "code",
   "execution_count": 92,
   "metadata": {},
   "outputs": [
    {
     "name": "stdout",
     "output_type": "stream",
     "text": [
      "variable ent_mkt_sq already defined\n"
     ]
    },
    {
     "name": "stderr",
     "output_type": "stream",
     "text": [
      "r(110);\n"
     ]
    },
    {
     "name": "stdout",
     "output_type": "stream",
     "text": [
      "\n"
     ]
    }
   ],
   "source": [
    "gen ent_mkt_sq=ent_mkt*ent_mkt"
   ]
  },
  {
   "cell_type": "code",
   "execution_count": 22,
   "metadata": {},
   "outputs": [],
   "source": [
    "label variable ent_mkt_sq \"Entropy^2\""
   ]
  },
  {
   "cell_type": "code",
   "execution_count": 83,
   "metadata": {},
   "outputs": [
    {
     "name": "stdout",
     "output_type": "stream",
     "text": [
      "\n",
      "    (first) |\n",
      "      month |      Freq.     Percent        Cum.\n",
      "------------+-----------------------------------\n",
      "          1 |         91        9.74        9.74\n",
      "          2 |         97       10.39       20.13\n",
      "          3 |         97       10.39       30.51\n",
      "          4 |         93        9.96       40.47\n",
      "          5 |         67        7.17       47.64\n",
      "          6 |         67        7.17       54.82\n",
      "          7 |         66        7.07       61.88\n",
      "          8 |         68        7.28       69.16\n",
      "          9 |         69        7.39       76.55\n",
      "         10 |         71        7.60       84.15\n",
      "         11 |         74        7.92       92.08\n",
      "         12 |         74        7.92      100.00\n",
      "------------+-----------------------------------\n",
      "      Total |        934      100.00\n"
     ]
    }
   ],
   "source": [
    "tab month"
   ]
  },
  {
   "cell_type": "code",
   "execution_count": 88,
   "metadata": {},
   "outputs": [
    {
     "name": "stdout",
     "output_type": "stream",
     "text": [
      "\n",
      "                           Entropy\n",
      "-------------------------------------------------------------\n",
      "      Percentiles      Smallest\n",
      " 1%            0              0\n",
      " 5%            0              0\n",
      "10%            0              0       Obs                 804\n",
      "25%            0              0       Sum of Wgt.         804\n",
      "\n",
      "50%            0                      Mean           .1763819\n",
      "                        Largest       Std. Dev.      .2290538\n",
      "75%     .2945485       1.011404\n",
      "90%     .5011469        1.05492       Variance       .0524656\n",
      "95%     .6365142        1.05492       Skewness       1.392854\n",
      "99%     .9556999        1.05492       Kurtosis       4.669032\n",
      "\n",
      "                          Entropy^2\n",
      "-------------------------------------------------------------\n",
      "      Percentiles      Smallest\n",
      " 1%            0              0\n",
      " 5%            0              0\n",
      "10%            0              0       Obs                 804\n",
      "25%            0              0       Sum of Wgt.         804\n",
      "\n",
      "50%            0                      Mean            .083511\n",
      "                        Largest       Std. Dev.      .1685767\n",
      "75%     .0867596       1.022939\n",
      "90%     .2511482       1.112857       Variance       .0284181\n",
      "95%     .4051503       1.112857       Skewness       3.383773\n",
      "99%     .9133623       1.112857       Kurtosis       16.25498\n"
     ]
    }
   ],
   "source": [
    "su ent*,d"
   ]
  },
  {
   "cell_type": "code",
   "execution_count": 90,
   "metadata": {},
   "outputs": [
    {
     "name": "stdout",
     "output_type": "stream",
     "text": [
      "(bin=28, start=0, width=.03767572)\n"
     ]
    },
    {
     "data": {
      "image/png": "[encoded data removed]",
      "text/plain": [
       "This front-end cannot display the desired image type."
      ]
     },
     "metadata": {
      "image/png": {
       "height": 436,
       "width": 600
      }
     },
     "output_type": "display_data"
    },
    {
     "name": "stdout",
     "output_type": "stream",
     "text": [
      "\n",
      "\n"
     ]
    }
   ],
   "source": [
    "histogram ent_mkt"
   ]
  },
  {
   "cell_type": "code",
   "execution_count": 24,
   "metadata": {},
   "outputs": [
    {
     "name": "stdout",
     "output_type": "stream",
     "text": [
      "(724 missing values generated)\n"
     ]
    }
   ],
   "source": [
    "//gen ent_mkt_demean=ent_mkt-.083511\n",
    "gen ent_mkt_demean_sq=ent_mkt_demean*ent_mkt_demean"
   ]
  },
  {
   "cell_type": "code",
   "execution_count": 25,
   "metadata": {},
   "outputs": [],
   "source": [
    "//label variable ent_mkt_demean \"Entropy\"\n",
    "label variable ent_mkt_demean_sq \"Rating_Entropy_Mkt_sq\""
   ]
  },
  {
   "cell_type": "code",
   "execution_count": 26,
   "metadata": {},
   "outputs": [
    {
     "name": "stdout",
     "output_type": "stream",
     "text": [
      "file regression_analysis_mkt_with_ent_sent_june1st.dta saved\n"
     ]
    }
   ],
   "source": [
    "save  regression_analysis_mkt_with_ent_sent_june1st.dta"
   ]
  },
  {
   "cell_type": "markdown",
   "metadata": {},
   "source": [
    "# Restart  wtih a saved data "
   ]
  },
  {
   "cell_type": "code",
   "execution_count": 4,
   "metadata": {},
   "outputs": [],
   "source": [
    "use   regression_analysis_mkt_with_ent_sent_june1st.dta, clear"
   ]
  },
  {
   "cell_type": "code",
   "execution_count": 11,
   "metadata": {},
   "outputs": [],
   "source": [
    "gen log_experience=log(1+experience)"
   ]
  },
  {
   "cell_type": "code",
   "execution_count": 12,
   "metadata": {},
   "outputs": [
    {
     "name": "stdout",
     "output_type": "stream",
     "text": [
      "\n",
      "    Variable |        Obs        Mean    Std. Dev.       Min        Max\n",
      "-------------+---------------------------------------------------------\n",
      "log_experi~e |      1,528    1.254828    1.102291          0   3.332205\n"
     ]
    }
   ],
   "source": [
    "su log_experience"
   ]
  },
  {
   "cell_type": "code",
   "execution_count": 29,
   "metadata": {},
   "outputs": [],
   "source": [
    "restore"
   ]
  },
  {
   "cell_type": "markdown",
   "metadata": {},
   "source": [
    "## Dynamic Panel "
   ]
  },
  {
   "cell_type": "code",
   "execution_count": 31,
   "metadata": {},
   "outputs": [
    {
     "name": "stdout",
     "output_type": "stream",
     "text": [
      "\n",
      "\n",
      "\n",
      "(724 observations deleted)\n",
      "\n",
      "\n",
      "\n",
      "(est1 stored)\n",
      "\n",
      "\n",
      "(est2 stored)\n",
      "\n",
      "\n",
      "----------------------------------------------------\n",
      "                              (1)             (2)   \n",
      "                     F.Market_T~n    F.Market_T~n   \n",
      "----------------------------------------------------\n",
      "Rating_Entropy_Mkt          1.501***        0.751*  \n",
      "                          (0.000)         (0.016)   \n",
      "\n",
      "Rating_Entropy_Mkt~q       -2.456***       -1.609***\n",
      "                          (0.000)         (0.000)   \n",
      "\n",
      "Average_Rating_Mkt         -0.207          -0.141   \n",
      "                          (0.169)         (0.476)   \n",
      "\n",
      "Market_LogRevenue         -0.0264          0.0403   \n",
      "                          (0.502)         (0.051)   \n",
      "\n",
      "Experience                 0.0102        -0.00118   \n",
      "                          (0.157)         (0.882)   \n",
      "\n",
      "Price_Difference           0.0349          -0.313   \n",
      "                          (0.865)         (0.089)   \n",
      "\n",
      "Market_Transaction                         0.0238   \n",
      "                                          (0.685)   \n",
      "\n",
      "L.Market_Transaction                     -0.00533   \n",
      "                                          (0.917)   \n",
      "\n",
      "L2.Market_Transact~n                        0.198** \n",
      "                                          (0.001)   \n",
      "\n",
      "Constant                    2.176**                 \n",
      "                          (0.003)                   \n",
      "----------------------------------------------------\n",
      "Observations                  642             421   \n",
      "r2                          0.726                   \n",
      "----------------------------------------------------\n",
      "p-values in parentheses\n",
      "* p<0.05, ** p<0.01, *** p<0.001\n",
      "\n",
      "(output written to reg_mkt_dynamicpanel.csv)\n",
      "\n"
     ]
    }
   ],
   "source": [
    "eststo clear\n",
    "\n",
    "preserve\n",
    "drop  if ent_mkt==.\n",
    "gen log_zip_rev_sq=log_zip_rev*log_zip_rev \n",
    "qui:areg f.log_sum_quotes   ent_mkt_demean ent_mkt_demean_sq    avgmean_mkt  log_zip_rev  log_zip_rev_sq experience temp_*    , absorb(market) vce(robust)\n",
    "eststo\n",
    "\n",
    "qui:xtabond f.log_sum_quotes ent_mkt_demean ent_mkt_demean_sq  avgmean_mkt    log_zip_rev    experience temp_*   log_zip_rev_sq,nocons vce(robust) lags(3) \n",
    "eststo\n",
    "\n",
    "\n",
    "esttab,    drop( log_zip_rev_sq) p label scalars(r2 )\n",
    "\n",
    "esttab using reg_mkt_dynamicpanel.csv,  drop( log_zip_rev_sq) p label scalars(r2 ) replace\n",
    "\n",
    "restore "
   ]
  },
  {
   "cell_type": "code",
   "execution_count": 93,
   "metadata": {},
   "outputs": [
    {
     "name": "stdout",
     "output_type": "stream",
     "text": [
      "\n",
      "\n",
      "\n",
      "Arellano-Bond test for zero autocorrelation in first-differenced errors\n",
      "  +-----------------------+\n",
      "  |Order |  z     Prob > z|\n",
      "  |------+----------------|\n",
      "  |   1  |-4.5326  0.0000 |\n",
      "  |   2  |-1.5535  0.1203 |\n",
      "  +-----------------------+\n",
      "   H0: no autocorrelation \n"
     ]
    }
   ],
   "source": [
    "qui:xtabond f.log_sum_quotes ent_mkt_demean ent_mkt_demean_sq  avgmean_mkt    log_zip_rev    experience temp_*   log_zip_rev_sq, vce(robust) lags(3) \n",
    "estat abond"
   ]
  },
  {
   "cell_type": "code",
   "execution_count": 97,
   "metadata": {},
   "outputs": [
    {
     "name": "stdout",
     "output_type": "stream",
     "text": [
      "\n",
      "\n",
      "Sargan test of overidentifying restrictions\n",
      "        H0: overidentifying restrictions are valid\n",
      "\n",
      "        chi2(544)    =  22.77427\n",
      "        Prob > chi2  =    1.0000\n"
     ]
    }
   ],
   "source": [
    "qui:xtabond f.log_sum_quotes ent_mkt_demean ent_mkt_demean_sq  avgmean_mkt    log_zip_rev    experience temp_*   log_zip_rev_sq, twostep lags(3) \n",
    "estat sargan"
   ]
  },
  {
   "cell_type": "code",
   "execution_count": 55,
   "metadata": {},
   "outputs": [
    {
     "name": "stdout",
     "output_type": "stream",
     "text": [
      "(594 missing values generated)\n"
     ]
    }
   ],
   "source": [
    "gen month_sq=month*month"
   ]
  },
  {
   "cell_type": "code",
   "execution_count": 61,
   "metadata": {},
   "outputs": [
    {
     "name": "stdout",
     "output_type": "stream",
     "text": [
      "\n",
      "\n",
      "Arellano-Bond dynamic panel-data estimation     Number of obs     =        375\n",
      "Group variable: market                          Number of groups  =         32\n",
      "Time variable: year_month~t\n",
      "                                                Obs per group:\n",
      "                                                              min =          1\n",
      "                                                              avg =   11.71875\n",
      "                                                              max =         33\n",
      "\n",
      "Number of instruments =    373                  Wald chi2(10)     =      70.91\n",
      "                                                Prob > chi2       =     0.0000\n",
      "One-step results\n",
      "                                              (Std. Err. adjusted for clustering on market)\n",
      "-------------------------------------------------------------------------------------------\n",
      "                          |               Robust\n",
      "         F.log_sum_quotes |      Coef.   Std. Err.      z    P>|z|     [95% Conf. Interval]\n",
      "--------------------------+----------------------------------------------------------------\n",
      "           log_sum_quotes |\n",
      "                      --. |  -.0109673   .0660207    -0.17   0.868    -.1403655    .1184309\n",
      "                      L1. |  -.0542443   .0558645    -0.97   0.332    -.1637367     .055248\n",
      "                          |\n",
      "                  ent_mkt |   .8608973   .5717705     1.51   0.132    -.2597524    1.981547\n",
      "               ent_mkt_sq |  -1.361345    .564967    -2.41   0.016     -2.46866   -.2540298\n",
      "              avgmean_mkt |  -.0985286    .294555    -0.33   0.738    -.6758457    .4787885\n",
      "              log_zip_rev |   .0455237    .028423     1.60   0.109    -.0101844    .1012318\n",
      "           log_zip_rev_sq |  -.0023647   .0014598    -1.62   0.105     -.005226    .0004965\n",
      "               experience |   .0000506   .0200192     0.00   0.998    -.0391863    .0392874\n",
      "temp_own_price_diff_other |  -.0376555    .196338    -0.19   0.848    -.4224709      .34716\n",
      "                     year |    .235217     .09344     2.52   0.012     .0520779     .418356\n",
      "-------------------------------------------------------------------------------------------\n",
      "Instruments for differenced equation\n",
      "        GMM-type: L(2/.).F.log_sum_quotes\n",
      "        Standard: D.ent_mkt D.ent_mkt_sq D.avgmean_mkt D.log_zip_rev D.log_zip_rev_sq\n",
      "                  D.experience D.temp_own_price_diff_other D.year\n",
      "\n",
      "\n",
      "Arellano-Bond test for zero autocorrelation in first-differenced errors\n",
      "  +-----------------------+\n",
      "  |Order |  z     Prob > z|\n",
      "  |------+----------------|\n",
      "  |   1  |-3.7606  0.0002 |\n",
      "  |   2  | -2.603  0.0092 |\n",
      "  +-----------------------+\n",
      "   H0: no autocorrelation \n"
     ]
    }
   ],
   "source": [
    "xtabond f.log_sum_quotes  ent_mkt ent_mkt_sq   avgmean_mkt   log_zip_rev log_zip_rev_sq  experience temp_*  year,nocons vce(robust) lags(2)\n",
    "estat abond"
   ]
  },
  {
   "cell_type": "code",
   "execution_count": 62,
   "metadata": {},
   "outputs": [
    {
     "name": "stdout",
     "output_type": "stream",
     "text": [
      "\n",
      "    (first) |\n",
      "       year |      Freq.     Percent        Cum.\n",
      "------------+-----------------------------------\n",
      "       2013 |         84        8.99        8.99\n",
      "       2014 |        161       17.24       26.23\n",
      "       2015 |        177       18.95       45.18\n",
      "       2016 |        192       20.56       65.74\n",
      "       2017 |        190       20.34       86.08\n",
      "       2018 |        130       13.92      100.00\n",
      "------------+-----------------------------------\n",
      "      Total |        934      100.00\n"
     ]
    }
   ],
   "source": [
    "tabulate year, gen(dummy_year)"
   ]
  },
  {
   "cell_type": "code",
   "execution_count": 69,
   "metadata": {},
   "outputs": [
    {
     "name": "stdout",
     "output_type": "stream",
     "text": [
      "\n",
      "\n",
      "Arellano-Bond dynamic panel-data estimation     Number of obs     =        585\n",
      "Group variable: market                          Number of groups  =         34\n",
      "Time variable: year_month~t\n",
      "                                                Obs per group:\n",
      "                                                              min =          2\n",
      "                                                              avg =   17.20588\n",
      "                                                              max =         33\n",
      "\n",
      "Number of instruments =    551                  Wald chi2(11)     =     119.27\n",
      "                                                Prob > chi2       =     0.0000\n",
      "One-step results\n",
      "                                              (Std. Err. adjusted for clustering on market)\n",
      "-------------------------------------------------------------------------------------------\n",
      "                          |               Robust\n",
      "         F.log_sum_quotes |      Coef.   Std. Err.      z    P>|z|     [95% Conf. Interval]\n",
      "--------------------------+----------------------------------------------------------------\n",
      "           log_sum_quotes |\n",
      "                      --. |   .0581868   .0469144     1.24   0.215    -.0337636    .1501373\n",
      "                      L1. |  -.0170047   .0488486    -0.35   0.728    -.1127461    .0787368\n",
      "                      L2. |   .2094057   .0410857     5.10   0.000     .1288791    .2899322\n",
      "                      L3. |  -.1368833   .0384354    -3.56   0.000    -.2122153   -.0615513\n",
      "                          |\n",
      "                  ent_mkt |   1.085275     .33832     3.21   0.001     .4221802     1.74837\n",
      "               ent_mkt_sq |  -1.328804   .2999182    -4.43   0.000    -1.916633    -.740975\n",
      "              avgmean_mkt |  -.2107722   .1671994    -1.26   0.207    -.5384769    .1169325\n",
      "              log_zip_rev |   .0166224   .0177417     0.94   0.349    -.0181508    .0513955\n",
      "           log_zip_rev_sq |  -.0013765   .0009914    -1.39   0.165    -.0033196    .0005665\n",
      "               experience |    .004176   .0070825     0.59   0.555    -.0097054    .0180573\n",
      "temp_own_price_diff_other |  -.2290638   .1310902    -1.75   0.081    -.4859958    .0278682\n",
      "-------------------------------------------------------------------------------------------\n",
      "Instruments for differenced equation\n",
      "        GMM-type: L(2/.).F.log_sum_quotes\n",
      "        Standard: D.ent_mkt D.ent_mkt_sq D.avgmean_mkt D.log_zip_rev D.log_zip_rev_sq\n",
      "                  D.experience D.temp_own_price_diff_other\n",
      "\n",
      "\n",
      "Arellano-Bond test for zero autocorrelation in first-differenced errors\n",
      "  +-----------------------+\n",
      "  |Order |  z     Prob > z|\n",
      "  |------+----------------|\n",
      "  |   1  | -4.525  0.0000 |\n",
      "  |   2  |-1.0248  0.3055 |\n",
      "  +-----------------------+\n",
      "   H0: no autocorrelation \n"
     ]
    }
   ],
   "source": [
    "xtabond f.log_sum_quotes  ent_mkt ent_mkt_sq   avgmean_mkt   log_zip_rev log_zip_rev_sq  experience temp_*  ,nocons vce(robust) lags(4)\n",
    "estat abond"
   ]
  },
  {
   "cell_type": "code",
   "execution_count": 79,
   "metadata": {},
   "outputs": [
    {
     "name": "stdout",
     "output_type": "stream",
     "text": [
      "\n",
      "\n",
      "Arellano-Bond dynamic panel-data estimation     Number of obs     =        941\n",
      "Group variable: market                          Number of groups  =         34\n",
      "Time variable: year_month~t\n",
      "                                                Obs per group:\n",
      "                                                              min =          5\n",
      "                                                              avg =   27.67647\n",
      "                                                              max =         56\n",
      "\n",
      "Number of instruments =    873                  Wald chi2(8)      =     346.76\n",
      "                                                Prob > chi2       =     0.0000\n",
      "One-step results\n",
      "                                              (Std. Err. adjusted for clustering on market)\n",
      "-------------------------------------------------------------------------------------------\n",
      "                          |               Robust\n",
      "         F.log_sum_quotes |      Coef.   Std. Err.      z    P>|z|     [95% Conf. Interval]\n",
      "--------------------------+----------------------------------------------------------------\n",
      "           log_sum_quotes |\n",
      "                      --. |    .274416   .0308849     8.89   0.000     .2138828    .3349493\n",
      "                      L1. |   .1633558   .0294038     5.56   0.000     .1057255    .2209861\n",
      "                      L2. |   .3140074   .0323544     9.71   0.000      .250594    .3774209\n",
      "                          |\n",
      "              avgmean_mkt |  -.0011667   .1182812    -0.01   0.992    -.2329936    .2306602\n",
      "              log_zip_rev |  -.0276368   .0153216    -1.80   0.071    -.0576665    .0023929\n",
      "           log_zip_rev_sq |   .0017979   .0009068     1.98   0.047     .0000206    .0035752\n",
      "               experience |   .0034619   .0066232     0.52   0.601    -.0095193    .0164432\n",
      "temp_own_price_diff_other |  -.1904907   .0983677    -1.94   0.053    -.3832879    .0023065\n",
      "-------------------------------------------------------------------------------------------\n",
      "Instruments for differenced equation\n",
      "        GMM-type: L(2/.).F.log_sum_quotes\n",
      "        Standard: D.avgmean_mkt D.log_zip_rev D.log_zip_rev_sq D.experience\n",
      "                  D.temp_own_price_diff_other\n",
      "\n",
      "\n",
      "Arellano-Bond test for zero autocorrelation in first-differenced errors\n",
      "  +-----------------------+\n",
      "  |Order |  z     Prob > z|\n",
      "  |------+----------------|\n",
      "  |   1  |-4.9226  0.0000 |\n",
      "  |   2  |-.82548  0.4091 |\n",
      "  +-----------------------+\n",
      "   H0: no autocorrelation \n"
     ]
    }
   ],
   "source": [
    "xtabond f.log_sum_quotes   avgmean_mkt   log_zip_rev log_zip_rev_sq  experience temp_*  ,nocons vce(robust) lags(3)\n",
    "estat abond"
   ]
  },
  {
   "cell_type": "code",
   "execution_count": 70,
   "metadata": {},
   "outputs": [
    {
     "name": "stdout",
     "output_type": "stream",
     "text": [
      "\n",
      "\n",
      "Arellano-Bond dynamic panel-data estimation     Number of obs     =        585\n",
      "Group variable: market                          Number of groups  =         34\n",
      "Time variable: year_month~t\n",
      "                                                Obs per group:\n",
      "                                                              min =          2\n",
      "                                                              avg =   17.20588\n",
      "                                                              max =         33\n",
      "\n",
      "Number of instruments =    551                  Wald chi2(11)     =      63.34\n",
      "                                                Prob > chi2       =     0.0000\n",
      "Two-step results\n",
      "                                              (Std. Err. adjusted for clustering on market)\n",
      "-------------------------------------------------------------------------------------------\n",
      "                          |              WC-Robust\n",
      "         F.log_sum_quotes |      Coef.   Std. Err.      z    P>|z|     [95% Conf. Interval]\n",
      "--------------------------+----------------------------------------------------------------\n",
      "           log_sum_quotes |\n",
      "                      --. |   .0500531   .1638697     0.31   0.760    -.2711256    .3712318\n",
      "                      L1. |  -.0391121   .1217662    -0.32   0.748    -.2777694    .1995452\n",
      "                      L2. |   .2175713   .0805665     2.70   0.007     .0596638    .3754788\n",
      "                      L3. |  -.1210795   .0844197    -1.43   0.151    -.2865391    .0443801\n",
      "                          |\n",
      "                  ent_mkt |  -3.683333   6.514867    -0.57   0.572    -16.45224    9.085571\n",
      "               ent_mkt_sq |   2.970836   7.297176     0.41   0.684    -11.33137    17.27304\n",
      "              avgmean_mkt |  -.3068578   .2888914    -1.06   0.288    -.8730745     .259359\n",
      "              log_zip_rev |  -.0059275   .0323475    -0.18   0.855    -.0693274    .0574724\n",
      "           log_zip_rev_sq |  -.0004894   .0017812    -0.27   0.784    -.0039804    .0030017\n",
      "               experience |   .0150924   .0196145     0.77   0.442    -.0233513    .0535362\n",
      "temp_own_price_diff_other |  -1.558511   1.252494    -1.24   0.213    -4.013355    .8963329\n",
      "-------------------------------------------------------------------------------------------\n",
      "Instruments for differenced equation\n",
      "        GMM-type: L(2/.).F.log_sum_quotes\n",
      "        Standard: D.ent_mkt D.ent_mkt_sq D.avgmean_mkt D.log_zip_rev D.log_zip_rev_sq\n",
      "                  D.experience D.temp_own_price_diff_other\n",
      "\n",
      "\n",
      "Arellano-Bond test for zero autocorrelation in first-differenced errors\n",
      "  +-----------------------+\n",
      "  |Order |  z     Prob > z|\n",
      "  |------+----------------|\n",
      "  |   1  |-2.7882  0.0053 |\n",
      "  |   2  | .04295  0.9657 |\n",
      "  +-----------------------+\n",
      "   H0: no autocorrelation \n"
     ]
    }
   ],
   "source": [
    "xtabond f.log_sum_quotes  ent_mkt ent_mkt_sq   avgmean_mkt   log_zip_rev log_zip_rev_sq  experience temp_*  ,nocons vce(robust) lags(4) twostep\n",
    "estat abond"
   ]
  },
  {
   "cell_type": "code",
   "execution_count": 75,
   "metadata": {},
   "outputs": [
    {
     "name": "stdout",
     "output_type": "stream",
     "text": [
      "\n",
      "Linear regression, absorbing indicators         Number of obs     =        724\n",
      "                                                F(  11,    679)   =      37.93\n",
      "                                                Prob > F          =     0.0000\n",
      "                                                R-squared         =     0.7675\n",
      "                                                Adj R-squared     =     0.7524\n",
      "                                                Root MSE          =     0.5180\n",
      "\n",
      "-------------------------------------------------------------------------------------------\n",
      "         F.log_sum_quotes |      Coef.   Std. Err.      t    P>|t|     [95% Conf. Interval]\n",
      "--------------------------+----------------------------------------------------------------\n",
      "           log_sum_quotes |\n",
      "                      --. |   .2626389   .0394106     6.66   0.000     .1852575    .3400203\n",
      "                      L1. |   .1253847   .0403468     3.11   0.002     .0461652    .2046042\n",
      "                      L2. |   .3069574   .0394625     7.78   0.000     .2294742    .3844405\n",
      "                      L3. |  -.0497994   .0402468    -1.24   0.216    -.1288225    .0292237\n",
      "                          |\n",
      "                  ent_mkt |    1.25329   .3037965     4.13   0.000     .6567969    1.849784\n",
      "               ent_mkt_sq |  -1.546832   .3667926    -4.22   0.000    -2.267016    -.826648\n",
      "              avgmean_mkt |  -.0377347   .1171591    -0.32   0.747    -.2677724     .192303\n",
      "              log_zip_rev |  -.0197453   .0287174    -0.69   0.492    -.0761308    .0366402\n",
      "           log_zip_rev_sq |   .0012277   .0017079     0.72   0.472    -.0021257    .0045811\n",
      "               experience |   .0024965   .0066931     0.37   0.709    -.0106451    .0156381\n",
      "temp_own_price_diff_other |  -.0128932   .1478447    -0.09   0.931     -.303181    .2773946\n",
      "                    _cons |   .4338612   .5857867     0.74   0.459    -.7163098    1.584032\n",
      "--------------------------+----------------------------------------------------------------\n",
      "                   market |        F(33, 679) =      1.853   0.003          (34 categories)\n"
     ]
    }
   ],
   "source": [
    "areg f.log_sum_quotes  log_sum_quotes l.log_sum_quotes l2.log_sum_quotes l3.log_sum_quotes ent_mkt ent_mkt_sq   avgmean_mkt   log_zip_rev log_zip_rev_sq  experience temp_*, absorb(market) \n"
   ]
  },
  {
   "cell_type": "markdown",
   "metadata": {},
   "source": [
    "## VIF test "
   ]
  },
  {
   "cell_type": "code",
   "execution_count": 24,
   "metadata": {},
   "outputs": [],
   "source": [
    "restore"
   ]
  },
  {
   "cell_type": "code",
   "execution_count": 25,
   "metadata": {},
   "outputs": [
    {
     "name": "stdout",
     "output_type": "stream",
     "text": [
      "\n",
      "\n",
      "\n",
      "(724 observations deleted)\n",
      "\n",
      "\n",
      "\n",
      "    Variable |       VIF       1/VIF  \n",
      "-------------+----------------------\n",
      "  experience |      1.38    0.725918\n",
      " log_zip_rev |      1.37    0.727806\n",
      " avgmean_mkt |      1.01    0.988286\n",
      "temp_own_p~r |      1.01    0.991246\n",
      "-------------+----------------------\n",
      "    Mean VIF |      1.19\n",
      "\n",
      "(est1 stored)\n",
      "\n",
      "\n",
      "(est2 stored)\n",
      "\n",
      "\n",
      "    Variable |       VIF       1/VIF  \n",
      "-------------+----------------------\n",
      "     ent_mkt |      6.60    0.151502\n",
      "   c.ent_mkt#|\n",
      "   c.ent_mkt |      6.17    0.162168\n",
      " avgmean_mkt |      1.61    0.622656\n",
      "  experience |      1.06    0.946285\n",
      "temp_own_p~r |      1.01    0.992599\n",
      "-------------+----------------------\n",
      "    Mean VIF |      3.29\n",
      "\n",
      "coefficient dummy* not found\n"
     ]
    },
    {
     "name": "stderr",
     "output_type": "stream",
     "text": [
      "r(111);\n",
      "r(111);\n"
     ]
    },
    {
     "name": "stdout",
     "output_type": "stream",
     "text": [
      "\n",
      "\n"
     ]
    }
   ],
   "source": [
    "eststo clear\n",
    "\n",
    "preserve\n",
    "drop  if ent_mkt==.\n",
    "qui:reg f.log_sum_quotes   avgmean_mkt  log_zip_rev   experience temp_* \n",
    "vif\n",
    "eststo\n",
    "qui:reg f.log_sum_quotes ent_mkt c.ent_mkt#c.ent_mkt  avgmean_mkt     experience temp_* \n",
    "eststo\n",
    "vif\n",
    "\n",
    "esttab,  drop(dummy* c.log_zip_rev#c.log_zip_rev) p label scalars(r2 aic bic) \n",
    "\n",
    "restore "
   ]
  },
  {
   "cell_type": "markdown",
   "metadata": {},
   "source": [
    "## 2. Market Level Use Use Sentiment Score and Text-based Dispersion"
   ]
  },
  {
   "cell_type": "code",
   "execution_count": 7,
   "metadata": {},
   "outputs": [],
   "source": [
    "br"
   ]
  },
  {
   "cell_type": "code",
   "execution_count": 8,
   "metadata": {},
   "outputs": [
    {
     "name": "stdout",
     "output_type": "stream",
     "text": [
      "\n",
      "                    Average_Sentiment_Mkt\n",
      "-------------------------------------------------------------\n",
      "      Percentiles      Smallest\n",
      " 1%            0              0\n",
      " 5%            0              0\n",
      "10%            0              0       Obs               1,528\n",
      "25%            0              0       Sum of Wgt.       1,528\n",
      "\n",
      "50%     .6514486                      Mean           .4637286\n",
      "                        Largest       Std. Dev.      .3349317\n",
      "75%        .7269          .8663\n",
      "90%        .7772       .8810667       Variance       .1121792\n",
      "95%       .81905        .886075       Skewness      -.5681164\n",
      "99%       .84945        .886075       Kurtosis       1.480154\n"
     ]
    }
   ],
   "source": [
    "su avg_sent_score_mkt,d"
   ]
  },
  {
   "cell_type": "code",
   "execution_count": 35,
   "metadata": {},
   "outputs": [],
   "source": [
    "restore"
   ]
  },
  {
   "cell_type": "code",
   "execution_count": 78,
   "metadata": {},
   "outputs": [
    {
     "name": "stdout",
     "output_type": "stream",
     "text": [
      "(530 missing values generated)\n"
     ]
    }
   ],
   "source": [
    "gen text_d_mkt_p50_sq=text_d_mkt_p50*text_d_mkt_p50"
   ]
  },
  {
   "cell_type": "code",
   "execution_count": 79,
   "metadata": {},
   "outputs": [],
   "source": [
    "gen log_zip_rev_sq=log_zip_rev*log_zip_rev"
   ]
  },
  {
   "cell_type": "code",
   "execution_count": 80,
   "metadata": {},
   "outputs": [],
   "source": [
    "label variable avg_sent_score_mkt \"Average_Sentiment_Mkt\""
   ]
  },
  {
   "cell_type": "code",
   "execution_count": 81,
   "metadata": {},
   "outputs": [
    {
     "name": "stdout",
     "output_type": "stream",
     "text": [
      "\n",
      "\n",
      "\n",
      "(724 observations deleted)\n",
      "\n",
      "\n",
      "(est1 stored)\n",
      "\n",
      "\n",
      "(est2 stored)\n",
      "\n",
      "\n",
      "(est3 stored)\n",
      "\n",
      "\n",
      "(est4 stored)\n",
      "\n",
      "\n",
      "------------------------------------------------------------------------------------\n",
      "                              (1)             (2)             (3)             (4)   \n",
      "                     F.Market_T~n    F.Market_T~n    F.Market_T~n    F.Market_T~n   \n",
      "------------------------------------------------------------------------------------\n",
      "Rating_Entropy_Mkt                                                          1.455***\n",
      "                                                                          (0.000)   \n",
      "\n",
      "Rating_Entropy_Mkt~r                                                       -1.384***\n",
      "                                                                          (0.001)   \n",
      "\n",
      "Average_Rating_Mkt         -0.273          -0.262                                   \n",
      "                          (0.071)         (0.095)                                   \n",
      "\n",
      "Average_Sentiment_~t                                       -0.546*         -0.551** \n",
      "                                                          (0.011)         (0.007)   \n",
      "\n",
      "Experience                 0.0197*         0.0127          0.0115         0.00728   \n",
      "                          (0.013)         (0.082)         (0.117)         (0.316)   \n",
      "\n",
      "Price_Difference            0.239          0.0877          0.0865           0.127   \n",
      "                          (0.282)         (0.746)         (0.730)         (0.592)   \n",
      "\n",
      "Market_LogRevenue         -0.0846         -0.0458         -0.0383         -0.0279   \n",
      "                          (0.057)         (0.253)         (0.332)         (0.471)   \n",
      "\n",
      "Text-based Entropy                          7.394           8.100           5.098   \n",
      "                                          (0.082)         (0.066)         (0.245)   \n",
      "\n",
      "Text-based Entropy~                        -19.33          -23.72*         -17.15   \n",
      "                                          (0.066)         (0.042)         (0.139)   \n",
      "\n",
      "Constant                    3.443**         2.900*          1.897           1.817   \n",
      "                          (0.009)         (0.045)         (0.111)         (0.117)   \n",
      "------------------------------------------------------------------------------------\n",
      "Observations                  642             611             623             623   \n",
      "r2                          0.739           0.752           0.752           0.758   \n",
      "aic                        1075.6          1010.3          1023.7          1011.9   \n",
      "bic                        1156.0          1098.6          1112.4          1109.5   \n",
      "------------------------------------------------------------------------------------\n",
      "p-values in parentheses\n",
      "* p<0.05, ** p<0.01, *** p<0.001\n",
      "\n"
     ]
    }
   ],
   "source": [
    "eststo clear \n",
    "preserve \n",
    "drop  if ent_mkt==.\n",
    "//keep if (avgmean_mkt!=.&avg_sent_score_mkt!=.)\n",
    "qui:areg f.log_sum_quotes   avgmean_mkt log_zip_rev c.log_zip_rev#c.log_zip_rev   experience temp_* dummy*, absorb(market) vce(robust)\n",
    "eststo\n",
    "qui:areg f.log_sum_quotes text_d_mkt_p50 c.text_d_mkt_p50#c.text_d_mkt_p50  avgmean_mkt log_zip_rev c.log_zip_rev#c.log_zip_rev   experience temp_* dummy*, absorb(market) vce(robust)\n",
    "eststo\n",
    "qui:areg f.log_sum_quotes text_d_mkt_p50 c.text_d_mkt_p50#c.text_d_mkt_p50  avg_sent_score_mkt log_zip_rev c.log_zip_rev#c.log_zip_rev   experience temp_* dummy* , absorb(market)   vce(robust)\n",
    "eststo\n",
    "qui:areg f.log_sum_quotes ent_mkt c.ent_mkt#c.ent_mkt text_d_mkt_p50 c.text_d_mkt_p50#c.text_d_mkt_p50  avg_sent_score_mkt log_zip_rev c.log_zip_rev#c.log_zip_rev  experience temp_* dummy* ,absorb(market)   vce(robust)\n",
    "eststo\n",
    "esttab,    scalars(r2 aic bic)   order(  ent* c.ent* avg* experience *price* *rev ) drop(dummy* c.log_zip_rev#c.log_zip_rev) p label\n",
    "//esttab using reg_mkt_withtext.csv, replace    scalars(r2 aic bic)   order(  ent* c.ent* avg* experience *price* *rev ) drop(dummy* c.log_zip_rev#c.log_zip_rev) p label\n",
    "\n",
    "restore"
   ]
  },
  {
   "cell_type": "markdown",
   "metadata": {},
   "source": [
    "## deal with missing data "
   ]
  },
  {
   "cell_type": "code",
   "execution_count": 82,
   "metadata": {},
   "outputs": [
    {
     "name": "stdout",
     "output_type": "stream",
     "text": [
      "\n",
      "\n",
      "(724 observations deleted)\n",
      "\n",
      "\n",
      "\n",
      "(est1 stored)\n",
      "\n",
      "\n",
      "(est2 stored)\n",
      "\n",
      "\n",
      "----------------------------------------------------\n",
      "                              (1)             (2)   \n",
      "                     F.Market_T~n    F.Market_T~n   \n",
      "----------------------------------------------------\n",
      "Rating_Entropy_Mkt                          1.628** \n",
      "                                          (0.010)   \n",
      "\n",
      "Rating_Entropy_Mkt~r                       -1.610** \n",
      "                                          (0.009)   \n",
      "\n",
      "Average_Rating_Mkt         -0.273          -0.185   \n",
      "                          (0.071)         (0.410)   \n",
      "\n",
      "Experience                 0.0197*         0.0138   \n",
      "                          (0.013)         (0.142)   \n",
      "\n",
      "Price_Difference            0.239           0.287   \n",
      "                          (0.282)         (0.284)   \n",
      "\n",
      "Market_LogRevenue         -0.0846         -0.0663   \n",
      "                          (0.057)         (0.140)   \n",
      "\n",
      "Constant                    3.443**         2.672*  \n",
      "                          (0.009)         (0.021)   \n",
      "----------------------------------------------------\n",
      "Observations                  642             642   \n",
      "r2                          0.739           0.747   \n",
      "aic                        1075.6          1037.6   \n",
      "bic                        1156.0          1077.8   \n",
      "----------------------------------------------------\n",
      "p-values in parentheses\n",
      "* p<0.05, ** p<0.01, *** p<0.001\n",
      "\n"
     ]
    }
   ],
   "source": [
    "\n",
    "\n",
    "preserve\n",
    "drop  if ent_mkt==.\n",
    "eststo clear\n",
    "qui:areg f.log_sum_quotes   avgmean_mkt  log_zip_rev c.log_zip_rev#c.log_zip_rev  experience temp_* dummy*  , absorb(market) vce(robust)\n",
    "eststo\n",
    "qui:areg f.log_sum_quotes ent_mkt c.ent_mkt#c.ent_mkt  avgmean_mkt    log_zip_rev c.log_zip_rev#c.log_zip_rev  experience temp_* dummy*  , absorb(market) vce(cluster market)\n",
    "eststo\n",
    "esttab, order( ent* c.ent*  avg* experience temp_own_price_diff_other log_zip_rev )  drop(dummy* c.log_zip_rev#c.log_zip_rev) p label scalars(r2 aic bic) \n",
    "restore \n",
    "//esttab using reg_mkt_simplified.csv,  drop(dummy* c.log_zip_rev#c.log_zip_rev) p label scalars(r2 aic bic) replace\n",
    "//esttab using reg_mkt_simplified.csv, replace order( ent* c.ent*  avg* experience temp_own_price_diff_other log_zip_rev )  drop(dummy* c.log_zip_rev#c.log_zip_rev) p label scalars(r2 aic bic) \n"
   ]
  },
  {
   "cell_type": "code",
   "execution_count": 12,
   "metadata": {},
   "outputs": [
    {
     "name": "stdout",
     "output_type": "stream",
     "text": [
      "\n",
      "    Variable |        Obs        Mean    Std. Dev.       Min        Max\n",
      "-------------+---------------------------------------------------------\n",
      "text_d_mk~50 |        770    .1317497    .0369256   .0689014   .3658786\n",
      "     ent_mkt |        808    .1855405    .2326058          0    1.05492\n"
     ]
    }
   ],
   "source": [
    "su text_d_mkt_p50 ent_mkt if ent_mkt!=."
   ]
  },
  {
   "cell_type": "code",
   "execution_count": 13,
   "metadata": {},
   "outputs": [
    {
     "name": "stdout",
     "output_type": "stream",
     "text": [
      "(38 real changes made)\n"
     ]
    }
   ],
   "source": [
    "replace text_d_mkt_p50=.1311258 if (text_d_mkt_p50==.&ent_mkt!=.)"
   ]
  },
  {
   "cell_type": "code",
   "execution_count": 16,
   "metadata": {},
   "outputs": [
    {
     "name": "stdout",
     "output_type": "stream",
     "text": [
      "\n",
      "    Variable |        Obs        Mean    Std. Dev.       Min        Max\n",
      "-------------+---------------------------------------------------------\n",
      "text_d_mk~50 |        808    .1317204     .036046   .0689014   .3658786\n",
      "text_d_mkt~n |        770    .1416026    .0339831   .0689014   .3658786\n",
      "     ent_mkt |        808    .1855405    .2326058          0    1.05492\n"
     ]
    }
   ],
   "source": [
    "su text_d_mkt_p50  text_d_mkt_mean ent_mkt if ent_mkt!=."
   ]
  },
  {
   "cell_type": "code",
   "execution_count": 17,
   "metadata": {},
   "outputs": [
    {
     "name": "stdout",
     "output_type": "stream",
     "text": [
      "(38 real changes made)\n"
     ]
    }
   ],
   "source": [
    "replace text_d_mkt_mean=.1416026 if (text_d_mkt_mean==.&ent_mkt!=.)"
   ]
  },
  {
   "cell_type": "code",
   "execution_count": 18,
   "metadata": {},
   "outputs": [
    {
     "name": "stdout",
     "output_type": "stream",
     "text": [
      "\n",
      "\n",
      "\n",
      "(720 observations deleted)\n",
      "\n",
      "(19 observations deleted)\n",
      "\n",
      "\n",
      "(est1 stored)\n",
      "\n",
      "\n",
      "(est2 stored)\n",
      "\n",
      "\n",
      "(est3 stored)\n",
      "\n",
      "\n",
      "--------------------------------------------------------------------\n",
      "                              (1)             (2)             (3)   \n",
      "                     F.Market T~n    F.Market T~n    F.Market T~n   \n",
      "--------------------------------------------------------------------\n",
      "Rating_Entropy_Mkt                                          1.008*  \n",
      "                                                          (0.023)   \n",
      "\n",
      "Rating_Entropy_Mkt~r                                       -1.092*  \n",
      "                                                          (0.019)   \n",
      "\n",
      "Average_Rating_Mkt         -0.159                                   \n",
      "                          (0.249)                                   \n",
      "\n",
      "Average_Sentiment_~t                       -1.353**        -1.344** \n",
      "                                          (0.006)         (0.006)   \n",
      "\n",
      "Experience                 0.0140          0.0106         0.00745   \n",
      "                          (0.115)         (0.224)         (0.378)   \n",
      "\n",
      "Price_Difference            0.411*          0.430*          0.436*  \n",
      "                          (0.037)         (0.024)         (0.033)   \n",
      "\n",
      "Market_LogRevenue         -0.0319         -0.0236         -0.0213   \n",
      "                          (0.474)         (0.584)         (0.615)   \n",
      "\n",
      "Text_Dispersion_Mkt         21.52*          17.70*          15.14   \n",
      "                          (0.013)         (0.036)         (0.080)   \n",
      "\n",
      "Text_Dispersion_Mk~e       -80.05**        -69.84**        -63.04*  \n",
      "                          (0.004)         (0.009)         (0.022)   \n",
      "\n",
      "Constant                    2.131           2.518           2.522   \n",
      "                          (0.165)         (0.063)         (0.060)   \n",
      "--------------------------------------------------------------------\n",
      "Observations                  639             639             639   \n",
      "r2                          0.746           0.751           0.753   \n",
      "aic                        1075.5          1064.4          1061.4   \n",
      "bic                        1164.7          1153.6          1159.6   \n",
      "--------------------------------------------------------------------\n",
      "p-values in parentheses\n",
      "* p<0.05, ** p<0.01, *** p<0.001\n",
      "\n",
      "(output written to reg_mkt_withtext.csv)\n",
      "\n"
     ]
    }
   ],
   "source": [
    "eststo clear \n",
    "preserve \n",
    "drop  if ent_mkt==.\n",
    "keep if (avgmean_mkt!=.&avg_sent_score_mkt!=.)\n",
    "qui:areg f.log_sum_quotes text_d_mkt_p50 c.text_d_mkt_p50#c.text_d_mkt_p50  avgmean_mkt log_zip_rev c.log_zip_rev#c.log_zip_rev   experience temp_* dummy*, absorb(market) vce(robust)\n",
    "eststo\n",
    "qui:areg f.log_sum_quotes text_d_mkt_p50 c.text_d_mkt_p50#c.text_d_mkt_p50  avg_sent_score_mkt log_zip_rev c.log_zip_rev#c.log_zip_rev   experience temp_* dummy* , absorb(market)   vce(robust)\n",
    "eststo\n",
    "qui:areg f.log_sum_quotes ent_mkt c.ent_mkt#c.ent_mkt text_d_mkt_p50 c.text_d_mkt_p50#c.text_d_mkt_p50  avg_sent_score_mkt log_zip_rev c.log_zip_rev#c.log_zip_rev  experience temp_* dummy* ,absorb(market)   vce(robust)\n",
    "eststo\n",
    "esttab,    scalars(r2 aic bic)   order(  ent* c.ent* avg* experience *price* *rev ) drop(dummy* c.log_zip_rev#c.log_zip_rev) p label\n",
    "esttab using reg_mkt_withtext.csv, replace    scalars(r2 aic bic)   order(  ent* c.ent* avg* experience *price* *rev ) drop(dummy* c.log_zip_rev#c.log_zip_rev) p label\n",
    "\n",
    "restore"
   ]
  },
  {
   "cell_type": "markdown",
   "metadata": {},
   "source": [
    "# 2 Robustness -  Market Level se Sentiment Score and Text-based Dispersion "
   ]
  },
  {
   "cell_type": "code",
   "execution_count": 20,
   "metadata": {},
   "outputs": [
    {
     "name": "stdout",
     "output_type": "stream",
     "text": [
      "\n",
      "\n",
      "\n",
      "(720 observations deleted)\n",
      "\n",
      "(19 observations deleted)\n",
      "\n",
      "\n",
      "(est1 stored)\n",
      "\n",
      "\n",
      "(est2 stored)\n",
      "\n",
      "\n",
      "(est3 stored)\n",
      "\n",
      "\n",
      "--------------------------------------------------------------------\n",
      "                              (1)             (2)             (3)   \n",
      "                     F.Market T~n    F.Market T~n    F.Market T~n   \n",
      "--------------------------------------------------------------------\n",
      "Rating_Entropy_Mkt                                          1.003*  \n",
      "                                                          (0.023)   \n",
      "\n",
      "Rating_Entropy_Mkt~r                                       -1.079*  \n",
      "                                                          (0.019)   \n",
      "\n",
      "Average_Rating_Mkt         -0.159                                   \n",
      "                          (0.252)                                   \n",
      "\n",
      "Average_Sentiment_~t                       -1.310**        -1.303** \n",
      "                                          (0.008)         (0.008)   \n",
      "\n",
      "Experience                 0.0139          0.0108         0.00768   \n",
      "                          (0.119)         (0.213)         (0.365)   \n",
      "\n",
      "Price_Difference            0.388           0.411*          0.425*  \n",
      "                          (0.055)         (0.035)         (0.043)   \n",
      "\n",
      "Market_LogRevenue         -0.0357         -0.0289         -0.0271   \n",
      "                          (0.423)         (0.504)         (0.526)   \n",
      "\n",
      "Text_Dispersion_Mkt         20.58**         16.65*          14.67*  \n",
      "                          (0.005)         (0.021)         (0.047)   \n",
      "\n",
      "Text_Dispersion_Mk~e       -73.10**        -62.38**        -57.62*  \n",
      "                          (0.002)         (0.008)         (0.016)   \n",
      "\n",
      "Constant                    2.174           2.553           2.517   \n",
      "                          (0.143)         (0.053)         (0.054)   \n",
      "--------------------------------------------------------------------\n",
      "Observations                  639             639             639   \n",
      "r2                          0.745           0.749           0.752   \n",
      "aic                        1077.6          1067.4          1064.6   \n",
      "bic                        1166.8          1156.6          1162.7   \n",
      "--------------------------------------------------------------------\n",
      "p-values in parentheses\n",
      "* p<0.05, ** p<0.01, *** p<0.001\n",
      "\n",
      "(note: file reg_mkt_rob_textmean.csv not found)\n",
      "(output written to reg_mkt_rob_textmean.csv)\n",
      "\n"
     ]
    }
   ],
   "source": [
    "eststo clear \n",
    "preserve \n",
    "drop  if ent_mkt==.\n",
    "keep if (avgmean_mkt!=.&avg_sent_score_mkt!=.)\n",
    "qui:areg f.log_sum_quotes text_d_mkt_mean c.text_d_mkt_mean#c.text_d_mkt_mean  avgmean_mkt log_zip_rev c.log_zip_rev#c.log_zip_rev   experience temp_* dummy*, absorb(market) vce(robust)\n",
    "eststo\n",
    "qui:areg f.log_sum_quotes text_d_mkt_mean c.text_d_mkt_mean#c.text_d_mkt_mean  avg_sent_score_mkt log_zip_rev c.log_zip_rev#c.log_zip_rev   experience temp_* dummy* , absorb(market)   vce(robust)\n",
    "eststo\n",
    "qui:areg f.log_sum_quotes ent_mkt c.ent_mkt#c.ent_mkt text_d_mkt_mean c.text_d_mkt_mean#c.text_d_mkt_mean  avg_sent_score_mkt log_zip_rev c.log_zip_rev#c.log_zip_rev  experience temp_* dummy* ,absorb(market)   vce(robust)\n",
    "eststo\n",
    "esttab,    scalars(r2 aic bic)   order(  ent* c.ent* avg* experience *price* *rev ) drop(dummy* c.log_zip_rev#c.log_zip_rev) p label\n",
    "esttab using reg_mkt_rob_textmean.csv, replace    scalars(r2 aic bic)   order(  ent* c.ent* avg* experience *price* *rev ) drop(dummy* c.log_zip_rev#c.log_zip_rev) p label\n",
    "\n",
    "restore"
   ]
  },
  {
   "cell_type": "markdown",
   "metadata": {},
   "source": [
    "# 3.Use Given Quotes instead of winning quotes "
   ]
  },
  {
   "cell_type": "markdown",
   "metadata": {},
   "source": [
    "# 4.Summary stats "
   ]
  },
  {
   "cell_type": "code",
   "execution_count": 36,
   "metadata": {},
   "outputs": [],
   "source": [
    "restore"
   ]
  },
  {
   "cell_type": "code",
   "execution_count": 13,
   "metadata": {},
   "outputs": [
    {
     "name": "stdout",
     "output_type": "stream",
     "text": [
      "\n",
      "\n",
      "(724 observations deleted)\n",
      "\n",
      "\n",
      "(21 missing values generated)\n",
      "\n",
      "(21 observations deleted)\n",
      "\n",
      "(141 observations deleted)\n",
      "\n",
      "\n",
      " : \n"
     ]
    }
   ],
   "source": [
    "preserve\n",
    "drop  if ent_mkt==.\n",
    "//keep if (avgmean_mkt!=.&avg_sent_score_mkt!=.)\n",
    "qui:  areg f.log_sum_quotes ent_mkt c.ent_mkt#c.ent_mkt  avgmean_mkt    log_zip_rev c.log_zip_rev#c.log_zip_rev  experience temp_* dummy*  , absorb(market)\n",
    "predict yhat_filter,xb\n",
    "drop if yhat_filter==.\n",
    "keep if f.log_sum_quotes!=.\n",
    "set matsize 2000\n",
    "qui: outreg2 using summarystats_mkt.doc, label replace sum(detail) keep( log_sum_quotes   ent_mkt   avgmean_mkt    log_zip_rev  log_experience temp_* ) eqkeep(N mean sd min max)\n",
    "restore"
   ]
  },
  {
   "cell_type": "code",
   "execution_count": 1,
   "metadata": {},
   "outputs": [
    {
     "name": "stdout",
     "output_type": "stream",
     "text": [
      "C:\\Users\\Herbie Huang\\Google Drive\\Current_SolarResearch\\working_2020\n"
     ]
    }
   ],
   "source": [
    "pwd"
   ]
  },
  {
   "cell_type": "code",
   "execution_count": null,
   "metadata": {},
   "outputs": [],
   "source": [
    "restore"
   ]
  },
  {
   "cell_type": "code",
   "execution_count": 30,
   "metadata": {},
   "outputs": [],
   "source": [
    "set matsize 2000"
   ]
  },
  {
   "cell_type": "code",
   "execution_count": 32,
   "metadata": {},
   "outputs": [
    {
     "name": "stdout",
     "output_type": "stream",
     "text": [
      "C:\\Users\\Herbie Huang\\Google Drive\\Current_SolarResearch\\working_2020\n"
     ]
    }
   ],
   "source": [
    "pwd"
   ]
  },
  {
   "cell_type": "code",
   "execution_count": 43,
   "metadata": {},
   "outputs": [
    {
     "name": "stdout",
     "output_type": "stream",
     "text": [
      "\n",
      "    Variable |        Obs        Mean    Std. Dev.       Min        Max\n",
      "-------------+---------------------------------------------------------\n",
      "text_d_mk~50 |        998    .1306127    .0404729   .0545641   .3658786\n",
      "     ent_mkt |        808    .1853224    .2318155          0          1\n"
     ]
    }
   ],
   "source": [
    "su text_d_mkt_p50 ent_mkt"
   ]
  },
  {
   "cell_type": "code",
   "execution_count": 3,
   "metadata": {},
   "outputs": [
    {
     "name": "stdout",
     "output_type": "stream",
     "text": [
      "no variables defined\n"
     ]
    },
    {
     "name": "stderr",
     "output_type": "stream",
     "text": [
      "r(111);\n"
     ]
    },
    {
     "name": "stdout",
     "output_type": "stream",
     "text": [
      "\n"
     ]
    }
   ],
   "source": [
    "su avg*"
   ]
  },
  {
   "cell_type": "code",
   "execution_count": 16,
   "metadata": {},
   "outputs": [],
   "source": [
    "restore"
   ]
  },
  {
   "cell_type": "code",
   "execution_count": 26,
   "metadata": {},
   "outputs": [
    {
     "name": "stdout",
     "output_type": "stream",
     "text": [
      "_est_filter not found\n"
     ]
    },
    {
     "name": "stderr",
     "output_type": "stream",
     "text": [
      "r(111);\n"
     ]
    },
    {
     "name": "stdout",
     "output_type": "stream",
     "text": [
      "\n"
     ]
    }
   ],
   "source": [
    "su avg_sent_* if _est_filter==1"
   ]
  },
  {
   "cell_type": "code",
   "execution_count": 23,
   "metadata": {},
   "outputs": [
    {
     "name": "stdout",
     "output_type": "stream",
     "text": [
      "\n",
      "    Variable |        Obs        Mean    Std. Dev.       Min        Max\n",
      "-------------+---------------------------------------------------------\n",
      "text_d_mk~50 |        998    .1306127    .0404729   .0545641   .3658786\n"
     ]
    }
   ],
   "source": [
    "su text_d_mkt_p50"
   ]
  },
  {
   "cell_type": "code",
   "execution_count": 27,
   "metadata": {},
   "outputs": [
    {
     "name": "stdout",
     "output_type": "stream",
     "text": [
      "\n",
      "\n",
      "(724 observations deleted)\n",
      "\n",
      "\n",
      "\n",
      "(181 observations deleted)\n",
      "\n",
      "\n",
      "    Variable |        Obs        Mean    Std. Dev.       Min        Max\n",
      "-------------+---------------------------------------------------------\n",
      "avg_sent_s~t |        623    .6587071    .1423955          0      .8663\n",
      "\n",
      "(obs=611)\n",
      "\n",
      "             | text_~50  ent_mkt avg_se~t avgmea~t experi~e temp_o~r log_zi~v\n",
      "-------------+---------------------------------------------------------------\n",
      "text_d_mk~50 |   1.0000\n",
      "     ent_mkt |   0.0676   1.0000\n",
      "avg_sent_s~t |  -0.4298   0.1177   1.0000\n",
      " avgmean_mkt |  -0.0971  -0.6241   0.1732   1.0000\n",
      "  experience |  -0.1135   0.1981   0.0534  -0.1073   1.0000\n",
      "temp_own_p~r |   0.1267  -0.0177   0.0166  -0.0410  -0.0120   1.0000\n",
      " log_zip_rev |  -0.0869   0.1569   0.2299  -0.0409   0.4985  -0.1257   1.0000\n",
      "\n",
      "(note: file Myfile.doc not found)\n",
      "Click to Open File:  Myfile.doc\n",
      "\n"
     ]
    }
   ],
   "source": [
    "preserve\n",
    "drop  if ent_mkt==.\n",
    "//keep if (avgmean_mkt!=.&avg_sent_score_mkt!=.)\n",
    "qui:xtreg f.log_sum_quotes text_d_mkt_p50 c.text_d_mkt_p50#c.text_d_mkt_p50  avg_sent_score_mkt c.avg_sent_score_mkt#c.avg_sent_score_mkt log_zip_rev c.log_zip_rev#c.log_zip_rev  experience temp_* dummy* , fe vce(cluster market)\n",
    "eststo filter\n",
    "drop if _est_filter==0\n",
    "su avg_sent*\n",
    "//su text_d_mkt_p50 text_d_mkt_mean avg_sent_score_mkt\n",
    "//qui: outreg2 using summarystats_text_mkt.doc, label replace sum(detail) keep( text_d_mkt_p50 avg_sent_score_mkt) eqkeep(N mean sd min max) \n",
    "asdoc cor     text_d_mkt_p50 ent_mkt avg_sent_score_mkt avgmean_mkt    experience temp_* log_zip_rev , label replace\n",
    "restore"
   ]
  },
  {
   "cell_type": "code",
   "execution_count": 20,
   "metadata": {},
   "outputs": [
    {
     "name": "stdout",
     "output_type": "stream",
     "text": [
      "(obs=1,027)\n",
      "\n",
      "             | avgmea~t avg_se~t\n",
      "-------------+------------------\n",
      " avgmean_mkt |   1.0000\n",
      "avg_sent_s~t |   0.1823   1.0000\n",
      "\n"
     ]
    }
   ],
   "source": [
    "corr avg*"
   ]
  },
  {
   "cell_type": "code",
   "execution_count": 30,
   "metadata": {},
   "outputs": [
    {
     "name": "stdout",
     "output_type": "stream",
     "text": [
      "checking asdoc consistency and verifying not already installed...\n",
      "installing into c:\\ado\\plus\\...\n",
      "installation complete.\n"
     ]
    }
   ],
   "source": [
    "ssc install asdoc"
   ]
  },
  {
   "cell_type": "markdown",
   "metadata": {},
   "source": [
    "# Robustness - Spline Regression"
   ]
  },
  {
   "cell_type": "code",
   "execution_count": 43,
   "metadata": {},
   "outputs": [
    {
     "name": "stdout",
     "output_type": "stream",
     "text": [
      "\n",
      "\n",
      "             |     knot1 \n",
      "-------------+-----------\n",
      "     ent_mkt |  .5274601 \n",
      "\n",
      "\n",
      "             |     knot1      knot2 \n",
      "-------------+----------------------\n",
      "     ent_mkt |  .3516401   .7032801 \n"
     ]
    }
   ],
   "source": [
    "mkspline ent_mkt_spl_2 2=ent_mkt,displayknots\n",
    "mkspline ent_mkt_spl_3 3=ent_mkt, displayknots"
   ]
  },
  {
   "cell_type": "code",
   "execution_count": 44,
   "metadata": {},
   "outputs": [],
   "source": [
    "label variable ent_mkt_spl_21 \"Rating_Entropy_Mkt_1\"\n",
    "label variable ent_mkt_spl_22 \"Rating_Entropy_Mkt_2\"\n",
    "label variable ent_mkt_spl_31 \"Rating_Entropy_Mkt_3\"\n",
    "label variable ent_mkt_spl_32 \"Rating_Entropy_Mkt_1\"\n",
    "label variable ent_mkt_spl_33 \"Rating_Entropy_Mkt_2\""
   ]
  },
  {
   "cell_type": "code",
   "execution_count": 46,
   "metadata": {},
   "outputs": [],
   "source": [
    "restore"
   ]
  },
  {
   "cell_type": "code",
   "execution_count": 47,
   "metadata": {},
   "outputs": [
    {
     "name": "stdout",
     "output_type": "stream",
     "text": [
      "\n",
      "\n",
      "\n",
      "(724 observations deleted)\n",
      "\n",
      "\n",
      "(est1 stored)\n",
      "\n",
      "\n",
      "(est2 stored)\n",
      "\n",
      "\n",
      "----------------------------------------------------\n",
      "                              (1)             (2)   \n",
      "                     F.Market_T~n    F.Market_T~n   \n",
      "----------------------------------------------------\n",
      "Rating_Entropy_Mkt_1        1.197***                \n",
      "                          (0.000)                   \n",
      "\n",
      "Rating_Entropy_Mkt_2       -1.144**                 \n",
      "                          (0.008)                   \n",
      "\n",
      "Rating_Entropy_Mkt_3                        2.157***\n",
      "                                          (0.000)   \n",
      "\n",
      "Rating_Entropy_Mkt_1                       -2.100***\n",
      "                                          (0.000)   \n",
      "\n",
      "Rating_Entropy_Mkt_2                        0.356   \n",
      "                                          (0.606)   \n",
      "----------------------------------------------------\n",
      "Observations                  642             642   \n",
      "r2                          0.720           0.732   \n",
      "aic                        1101.0          1074.3   \n",
      "bic                        1136.7          1114.4   \n",
      "----------------------------------------------------\n",
      "p-values in parentheses\n",
      "* p<0.05, ** p<0.01, *** p<0.001\n",
      "\n",
      "(output written to rob_spline_mkt.csv)\n",
      "\n"
     ]
    }
   ],
   "source": [
    "eststo clear\n",
    "\n",
    "preserve\n",
    "drop  if ent_mkt==.\n",
    " \n",
    "qui:areg f.log_sum_quotes ent_mkt_spl_2*  avgmean_mkt    log_zip_rev c.log_zip_rev#c.log_zip_rev  experience temp_*  , absorb(market)\n",
    "eststo\n",
    "qui:areg f.log_sum_quotes ent_mkt_spl_3*  avgmean_mkt    log_zip_rev c.log_zip_rev#c.log_zip_rev  experience temp_*   , absorb(market)\n",
    "eststo\n",
    "\n",
    "\n",
    "esttab,  keep(ent_mkt_spl_2* ent_mkt_spl_3*) p label scalars(r2 aic bic) \n",
    "esttab using rob_spline_mkt.csv,  replace keep(ent_mkt_spl_2* ent_mkt_spl_3*) p label scalars(r2 aic bic) \n",
    " \n",
    "restore "
   ]
  },
  {
   "cell_type": "code",
   "execution_count": 19,
   "metadata": {},
   "outputs": [
    {
     "name": "stdout",
     "output_type": "stream",
     "text": [
      "\n",
      "                         Transaction\n",
      "-------------------------------------------------------------\n",
      "      Percentiles      Smallest\n",
      " 1%            0              0\n",
      " 5%            0              0\n",
      "10%            0              0       Obs               1,528\n",
      "25%            0              0       Sum of Wgt.       1,528\n",
      "\n",
      "50%            0                      Mean           .6238486\n",
      "                        Largest       Std. Dev.      .8885453\n",
      "75%     1.098612       4.127134\n",
      "90%      1.94591       4.234107       Variance       .7895127\n",
      "95%     2.564949       4.276666       Skewness         1.5069\n",
      "99%     3.610918       4.521789       Kurtosis       4.834784\n"
     ]
    }
   ],
   "source": [
    "su log_sum_quotes,d"
   ]
  },
  {
   "cell_type": "code",
   "execution_count": 18,
   "metadata": {},
   "outputs": [
    {
     "name": "stdout",
     "output_type": "stream",
     "text": [
      "(bin=31, start=0, width=.14586415)\n"
     ]
    },
    {
     "data": {
      "image/png": "[encoded data removed]",
      "text/plain": [
       "This front-end cannot display the desired image type."
      ]
     },
     "metadata": {
      "image/png": {
       "height": 436,
       "width": 600
      }
     },
     "output_type": "display_data"
    },
    {
     "name": "stdout",
     "output_type": "stream",
     "text": [
      "\n",
      "\n"
     ]
    }
   ],
   "source": [
    "histogram log_sum_quotes"
   ]
  }
 ],
 "metadata": {
  "kernelspec": {
   "display_name": "Stata",
   "language": "stata",
   "name": "stata"
  },
  "language_info": {
   "codemirror_mode": "stata",
   "file_extension": ".do",
   "mimetype": "text/x-stata",
   "name": "stata",
   "version": "15.1"
  }
 },
 "nbformat": 4,
 "nbformat_minor": 4
}
