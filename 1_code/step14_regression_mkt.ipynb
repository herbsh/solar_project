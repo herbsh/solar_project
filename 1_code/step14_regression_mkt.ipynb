{
 "cells": [
  {
   "cell_type": "markdown",
   "metadata": {},
   "source": [
    "# Overview\n",
    "1. Entropy Market (use avgmean_mkt - quantitative measure) \n",
    "2. Entropy market ( use sentiment score ) \n",
    "3. Text_d_market and use sentiment score"
   ]
  },
  {
   "cell_type": "markdown",
   "metadata": {},
   "source": [
    "use regression_analysis_mkt_with_ent_sent_jan18.dta, clear"
   ]
  },
  {
   "cell_type": "markdown",
   "metadata": {},
   "source": [
    "## Note - use june9 version to include text dispersion measured by mean and p50 "
   ]
  },
  {
   "cell_type": "code",
   "execution_count": 8,
   "metadata": {},
   "outputs": [],
   "source": [
    "use \"../3_output/regression_analysis_mkt_with_ent_sent_june9.dta\", clear"
   ]
  },
  {
   "cell_type": "code",
   "execution_count": 9,
   "metadata": {},
   "outputs": [
    {
     "name": "stdout",
     "output_type": "stream",
     "text": [
      "\n",
      "    Variable |        Obs        Mean    Std. Dev.       Min        Max\n",
      "-------------+---------------------------------------------------------\n",
      "avg_sent_s~t |      1,528    .4637286    .3349317          0    .886075\n"
     ]
    }
   ],
   "source": [
    "su avg_sent*"
   ]
  },
  {
   "cell_type": "code",
   "execution_count": 10,
   "metadata": {},
   "outputs": [
    {
     "name": "stdout",
     "output_type": "stream",
     "text": [
      "\n",
      "                     (first) sum_quotes\n",
      "-------------------------------------------------------------\n",
      "      Percentiles      Smallest\n",
      " 1%            0              0\n",
      " 5%            0              0\n",
      "10%            0              0       Obs               1,528\n",
      "25%            0              0       Sum of Wgt.       1,528\n",
      "\n",
      "50%            0                      Mean           2.388089\n",
      "                        Largest       Std. Dev.      6.625488\n",
      "75%            2             61\n",
      "90%            6             68       Variance       43.89709\n",
      "95%           12             71       Skewness       6.146999\n",
      "99%           36             91       Kurtosis       54.01926\n"
     ]
    }
   ],
   "source": [
    "su  sum_quotes,d"
   ]
  },
  {
   "cell_type": "code",
   "execution_count": 11,
   "metadata": {},
   "outputs": [
    {
     "name": "stdout",
     "output_type": "stream",
     "text": [
      "\n",
      "                     Market Transaction\n",
      "-------------------------------------------------------------\n",
      "      Percentiles      Smallest\n",
      " 1%            0              0\n",
      " 5%            0              0\n",
      "10%            0              0       Obs               1,528\n",
      "25%            0              0       Sum of Wgt.       1,528\n",
      "\n",
      "50%            0                      Mean           .6238486\n",
      "                        Largest       Std. Dev.      .8885453\n",
      "75%     1.098612       4.127134\n",
      "90%      1.94591       4.234107       Variance       .7895127\n",
      "95%     2.564949       4.276666       Skewness         1.5069\n",
      "99%     3.610918       4.521789       Kurtosis       4.834784\n"
     ]
    }
   ],
   "source": [
    "su log_sum_quotes,d"
   ]
  },
  {
   "cell_type": "markdown",
   "metadata": {},
   "source": [
    "# Market Level Use Winning Quotes and Quantitative Dispersion Measures"
   ]
  },
  {
   "cell_type": "markdown",
   "metadata": {},
   "source": [
    "## 0. Without Entropy, only Average "
   ]
  },
  {
   "cell_type": "code",
   "execution_count": 12,
   "metadata": {},
   "outputs": [
    {
     "name": "stdout",
     "output_type": "stream",
     "text": [
      "(obs=1,027)\n",
      "\n",
      "             | log_su.. l~give~s avgmea~t log_zi~v experi~e\n",
      "-------------+---------------------------------------------\n",
      "log_sum_qu~s |   1.0000\n",
      "log_sum_gi~s |   0.7331   1.0000\n",
      " avgmean_mkt |  -0.0285  -0.1410   1.0000\n",
      " log_zip_rev |   0.3045   0.2374  -0.0407   1.0000\n",
      "  experience |   0.2296   0.2733  -0.1060   0.5228   1.0000\n",
      "\n"
     ]
    }
   ],
   "source": [
    "corr log_sum_quotes log_sum_givenquotes avgmean_mkt log_zip_rev experience "
   ]
  },
  {
   "cell_type": "code",
   "execution_count": 13,
   "metadata": {},
   "outputs": [
    {
     "name": "stdout",
     "output_type": "stream",
     "text": [
      "\n",
      "                     Average_Rating_Mkt\n",
      "-------------------------------------------------------------\n",
      "      Percentiles      Smallest\n",
      " 1%            4              3\n",
      " 5%     4.333333       3.645833\n",
      "10%     4.666667       3.666667       Obs               1,027\n",
      "25%     4.888889       3.666667       Sum of Wgt.       1,027\n",
      "\n",
      "50%            5                      Mean           4.887787\n",
      "                        Largest       Std. Dev.      .2379249\n",
      "75%            5              5\n",
      "90%            5              5       Variance       .0566083\n",
      "95%            5              5       Skewness      -3.094295\n",
      "99%            5              5       Kurtosis       13.93316\n"
     ]
    }
   ],
   "source": [
    "su avgmean_mkt, d"
   ]
  },
  {
   "cell_type": "code",
   "execution_count": 14,
   "metadata": {},
   "outputs": [
    {
     "name": "stdout",
     "output_type": "stream",
     "text": [
      "\n",
      "\n",
      "\n",
      "\n",
      "\n",
      "  Variables that uniquely identify margins: ent_mkt\n"
     ]
    },
    {
     "data": {
      "image/png": "[encoded data removed]",
      "text/plain": [
       "This front-end cannot display the desired image type."
      ]
     },
     "metadata": {
      "image/png": {
       "height": 437,
       "width": 600
      }
     },
     "output_type": "display_data"
    },
    {
     "name": "stdout",
     "output_type": "stream",
     "text": [
      "\n",
      "\n"
     ]
    }
   ],
   "source": [
    "set scheme sj\n",
    "qui:xtreg f.log_sum_quotes ent_mkt c.ent_mkt#c.ent_mkt  avgmean_mkt log_zip_rev c.log_zip_rev#c.log_zip_rev  experience temp_* dummy*  , fe vce(cluster market)\n",
    "qui: margins , at(ent_mkt=(0.05(0.05)0.95))\n",
    "marginsplot"
   ]
  },
  {
   "cell_type": "markdown",
   "metadata": {},
   "source": [
    "## Use Hausman test to determine which (FE, RE) to use - Turns out it's Fixed Effect "
   ]
  },
  {
   "cell_type": "code",
   "execution_count": 15,
   "metadata": {},
   "outputs": [
    {
     "name": "stdout",
     "output_type": "stream",
     "text": [
      "\n",
      "\n",
      "\n",
      "\n",
      "\n",
      "\n",
      "Note: the rank of the differenced variance matrix (18) does not equal the number of coefficients being tested (19); be sure this is what you expect, or there may be problems computing the test.  Examine the output of your estimators for anything\n",
      "        unexpected and possibly consider scaling your variables so that the coefficients are on a similar scale.\n",
      "\n",
      "                 ---- Coefficients ----\n",
      "             |      (b)          (B)            (b-B)     sqrt(diag(V_b-V_B))\n",
      "             |     fixed        random       Difference          S.E.\n",
      "-------------+----------------------------------------------------------------\n",
      "     ent_mkt |    1.895053     3.704192       -1.809139        .1203293\n",
      "   c.ent_mkt#|\n",
      "   c.ent_mkt |   -1.841374    -3.923564         2.08219        .0724499\n",
      " avgmean_mkt |   -.0283131    -.0151712       -.0131419               .\n",
      " log_zip_rev |   -.0441948    -.0538589        .0096641        .0060836\n",
      "          c. |\n",
      " log_zip_rev#|\n",
      "          c. |\n",
      " log_zip_rev |    .0015096     .0030145       -.0015049               .\n",
      "  experience |    .0113372    -.0387715        .0501088        .0033076\n",
      "temp_own_p~r |     .105334    -.1724584        .2777924               .\n",
      "dummy_state4 |   -3.723068     .2591952       -3.982263        4.456054\n",
      "dummy_state5 |   -.1747704     2.287682       -2.462452         3.59017\n",
      "dummy_state6 |    2.191671     10.13909       -7.947422        8.252109\n",
      "dummy_sta~12 |   -2.247826     .5292412       -2.777067        7.122379\n",
      "dummy_sta~13 |   -2.067361     1.329475       -3.396836        3.571603\n",
      "dummy_sta~17 |     .599114     .1811114        .4180026        .7920133\n",
      "dummy_sta~18 |    6.404126     10.12938       -3.725257        5.021094\n",
      "dummy_sta~19 |   -2.739026     1.524639       -4.263665        4.429436\n",
      "dummy_sta~22 |    -2.17062     .5979166       -2.768536        4.289053\n",
      "dummy_sta~25 |   -7.162836     .0073174       -7.170153         4.73776\n",
      "dummy_sta~26 |    6.294777     7.432913       -1.138135        7.143026\n",
      "dummy_sta~30 |   -3.336822     .3410002       -3.677822        4.277647\n",
      "------------------------------------------------------------------------------\n",
      "                           b = consistent under Ho and Ha; obtained from xtreg\n",
      "            B = inconsistent under Ha, efficient under Ho; obtained from xtreg\n",
      "\n",
      "    Test:  Ho:  difference in coefficients not systematic\n",
      "\n",
      "                 chi2(18) = (b-B)'[(V_b-V_B)^(-1)](b-B)\n",
      "                          =      326.63\n",
      "                Prob>chi2 =      0.0000\n",
      "                (V_b-V_B is not positive definite)\n"
     ]
    }
   ],
   "source": [
    "qui:xtreg f.log_sum_quotes ent_mkt c.ent_mkt#c.ent_mkt  avgmean_mkt log_zip_rev c.log_zip_rev#c.log_zip_rev  experience temp_* dummy*  ,fe\n",
    "\n",
    "estimates store fixed\n",
    "qui:xtreg f.log_sum_quotes ent_mkt c.ent_mkt#c.ent_mkt  avgmean_mkt log_zip_rev c.log_zip_rev#c.log_zip_rev  experience temp_* dummy*  , re\n",
    "estimates store random \n",
    "hausman fixed random"
   ]
  },
  {
   "cell_type": "code",
   "execution_count": 16,
   "metadata": {},
   "outputs": [
    {
     "name": "stdout",
     "output_type": "stream",
     "text": [
      "\n",
      "    Variable |        Obs        Mean    Std. Dev.       Min        Max\n",
      "-------------+---------------------------------------------------------\n",
      "      market |      1,528    18.64725    11.41016          0         36\n"
     ]
    }
   ],
   "source": [
    "su market"
   ]
  },
  {
   "cell_type": "markdown",
   "metadata": {},
   "source": [
    "### Test whether we should use Fixed effect \n",
    "by including i.marcket and see if F-test "
   ]
  },
  {
   "cell_type": "code",
   "execution_count": 17,
   "metadata": {},
   "outputs": [
    {
     "name": "stdout",
     "output_type": "stream",
     "text": [
      "\n",
      "\n",
      "\n",
      " ( 1)  2.market = 0\n",
      " ( 2)  3.market = 0\n",
      " ( 3)  6.market = 0\n",
      " ( 4)  15.market = 0\n",
      " ( 5)  17.market = 0\n",
      " ( 6)  18.market = 0\n",
      " ( 7)  20.market = 0\n",
      " ( 8)  21.market = 0\n",
      " ( 9)  25.market = 0\n",
      " (10)  28.market = 0\n",
      " (11)  29.market = 0\n",
      " (12)  30.market = 0\n",
      " (13)  33.market = 0\n",
      " (14)  34.market = 0\n",
      " (15)  35.market = 0\n",
      "\n",
      "           chi2( 15) =  222.27\n",
      "         Prob > chi2 =    0.0000\n"
     ]
    }
   ],
   "source": [
    "qui:xtreg f.log_sum_quotes ent_mkt c.ent_mkt#c.ent_mkt  avgmean_mkt log_zip_rev c.log_zip_rev#c.log_zip_rev  experience temp_* dummy*  i.market\n",
    "testparm i.market\n"
   ]
  },
  {
   "cell_type": "markdown",
   "metadata": {},
   "source": [
    "## Label variables "
   ]
  },
  {
   "cell_type": "code",
   "execution_count": 18,
   "metadata": {},
   "outputs": [
    {
     "name": "stdout",
     "output_type": "stream",
     "text": [
      "\n",
      "                     Rating_Entropy_Mkt\n",
      "-------------------------------------------------------------\n",
      "      Percentiles      Smallest\n",
      " 1%            0              0\n",
      " 5%            0              0\n",
      "10%            0              0       Obs                 804\n",
      "25%            0              0       Sum of Wgt.         804\n",
      "\n",
      "50%     .1146653                      Mean           .1851868\n",
      "                        Largest       Std. Dev.      .2336162\n",
      "75%     .3020831       1.011404\n",
      "90%     .5099633        1.05492       Variance       .0545765\n",
      "95%     .6365142        1.05492       Skewness       1.324274\n",
      "99%     .9556999        1.05492       Kurtosis       4.434083\n"
     ]
    }
   ],
   "source": [
    "su ent_mkt,d"
   ]
  },
  {
   "cell_type": "code",
   "execution_count": 19,
   "metadata": {},
   "outputs": [
    {
     "name": "stdout",
     "output_type": "stream",
     "text": [
      "(4 real changes made)\n"
     ]
    }
   ],
   "source": [
    "replace ent_mkt=1 if (ent_mkt!=.&ent_mkt>1)"
   ]
  },
  {
   "cell_type": "code",
   "execution_count": 20,
   "metadata": {},
   "outputs": [
    {
     "name": "stdout",
     "output_type": "stream",
     "text": [
      "(724 missing values generated)\n"
     ]
    }
   ],
   "source": [
    "gen ent_mkt_demean=ent_mkt-.1763819\n"
   ]
  },
  {
   "cell_type": "code",
   "execution_count": 21,
   "metadata": {},
   "outputs": [],
   "source": [
    "label variable ent_mkt \"Rating_Entropy_Mkt\"\n",
    "label variable ent_mkt_demean \"Rating_Entropy_Mkt\"\n",
    "label variable log_sum_quotes \"Market_Transaction\"\n",
    "label variable avgmean_mkt \"Average_Rating_Mkt\"\n",
    "label variable log_zip_rev \"Market_LogRevenue\"\n",
    "label variable experience \"Experience\"\n",
    "label variable temp_own_price_diff_other \"Price_Difference\""
   ]
  },
  {
   "cell_type": "markdown",
   "metadata": {},
   "source": [
    "# Produce a simplified table to collect all market level results "
   ]
  },
  {
   "cell_type": "code",
   "execution_count": 22,
   "metadata": {},
   "outputs": [
    {
     "name": "stdout",
     "output_type": "stream",
     "text": [
      "nothing to restore\n"
     ]
    },
    {
     "name": "stderr",
     "output_type": "stream",
     "text": [
      "r(622);\n"
     ]
    },
    {
     "name": "stdout",
     "output_type": "stream",
     "text": [
      "\n"
     ]
    }
   ],
   "source": [
    "restore"
   ]
  },
  {
   "cell_type": "code",
   "execution_count": null,
   "metadata": {},
   "outputs": [],
   "source": [
    "\n",
    "\n",
    "preserve\n",
    "drop  if ent_mkt==.\n",
    "eststo clear\n",
    "qui:areg f.log_sum_quotes   avgmean_mkt  log_zip_rev c.log_zip_rev#c.log_zip_rev  experience temp_* dummy*  , absorb(market) vce(robust)\n",
    "eststo\n",
    "qui:areg f.log_sum_quotes ent_mkt c.ent_mkt#c.ent_mkt  avgmean_mkt    log_zip_rev c.log_zip_rev#c.log_zip_rev  experience temp_* dummy*  , absorb(market) vce(cluster market)\n",
    "eststo\n",
    "esttab, order( ent* c.ent*  avg* experience temp_own_price_diff_other log_zip_rev )  drop(dummy* c.log_zip_rev#c.log_zip_rev) p label scalars(r2 aic bic) \n",
    "restore \n",
    "//esttab using reg_mkt_simplified.csv,  drop(dummy* c.log_zip_rev#c.log_zip_rev) p label scalars(r2 aic bic) replace\n",
    "//esttab using reg_mkt_simplified.csv, replace order( ent* c.ent*  avg* experience temp_own_price_diff_other log_zip_rev )  drop(dummy* c.log_zip_rev#c.log_zip_rev) p label scalars(r2 aic bic) \n"
   ]
  },
  {
   "cell_type": "markdown",
   "metadata": {},
   "source": [
    "## still demean the entropy_mkt "
   ]
  },
  {
   "cell_type": "code",
   "execution_count": null,
   "metadata": {},
   "outputs": [],
   "source": [
    "su ent_mkt,d"
   ]
  },
  {
   "cell_type": "markdown",
   "metadata": {},
   "source": [
    "## Hausman test "
   ]
  },
  {
   "cell_type": "code",
   "execution_count": null,
   "metadata": {},
   "outputs": [],
   "source": [
    "qui:xtreg f.log_sum_quotes ent_mkt c.ent_mkt#c.ent_mkt  avgmean_mkt    log_zip_rev   experience temp_* dummy*  , fe  \n",
    "estimates store fixed\n",
    "qui:xtreg f.log_sum_quotes ent_mkt c.ent_mkt#c.ent_mkt  avgmean_mkt    log_zip_rev   experience temp_* dummy*  , re  \n",
    "estimates store random\n",
    "hausman fixed random"
   ]
  },
  {
   "cell_type": "markdown",
   "metadata": {},
   "source": [
    "## marginsplot"
   ]
  },
  {
   "cell_type": "code",
   "execution_count": null,
   "metadata": {},
   "outputs": [],
   "source": [
    "su ent_mkt_demean,d"
   ]
  },
  {
   "cell_type": "code",
   "execution_count": null,
   "metadata": {},
   "outputs": [],
   "source": [
    "qui:areg f.log_sum_quotes ent_mkt_demean c.ent_mkt_demean#c.ent_mkt_demean  avgmean_mkt    log_zip_rev c.log_zip_rev#c.log_zip_rev  experience temp_* dummy*  ,vce(robust) absorb(market)\n",
    "qui: margins , at(ent_mkt_demean=(-0.2(0.05)0.75))\n",
    "marginsplot,ytitle(\"Market Transaction\") title(\"\")"
   ]
  },
  {
   "cell_type": "markdown",
   "metadata": {},
   "source": [
    "## VIF "
   ]
  },
  {
   "cell_type": "code",
   "execution_count": null,
   "metadata": {},
   "outputs": [],
   "source": [
    "qui:reg f.log_sum_quotes ent_mkt c.ent_mkt#c.ent_mkt  avgmean_mkt    log_zip_rev   experience temp_*  ,vce(robust)  \n",
    "vif"
   ]
  },
  {
   "cell_type": "code",
   "execution_count": null,
   "metadata": {},
   "outputs": [],
   "source": [
    "su ent_mkt,d"
   ]
  },
  {
   "cell_type": "code",
   "execution_count": null,
   "metadata": {},
   "outputs": [],
   "source": [
    "gen ent_mkt_demean=ent_mkt-.1763819"
   ]
  },
  {
   "cell_type": "code",
   "execution_count": null,
   "metadata": {},
   "outputs": [],
   "source": [
    "label variable ent_mkt_demean \"Entropy\""
   ]
  },
  {
   "cell_type": "code",
   "execution_count": null,
   "metadata": {},
   "outputs": [],
   "source": [
    "eststo clear\n",
    "\n",
    "preserve\n",
    "drop  if ent_mkt==.\n",
    "qui:areg f.log_sum_quotes   avgmean_mkt  log_zip_rev c.log_zip_rev#c.log_zip_rev  experience temp_* dummy*  ,  vce(robust) absorb(market)\n",
    "eststo\n",
    "qui:areg f.log_sum_quotes ent_mkt_demean c.ent_mkt_demean#c.ent_mkt_demean  avgmean_mkt    log_zip_rev c.log_zip_rev#c.log_zip_rev  experience temp_* dummy*  ,vce(robust) absorb(market)\n",
    "eststo\n",
    "\n",
    "\n",
    "esttab,  drop(dummy* c.log_zip_rev#c.log_zip_rev) p label scalars(r2 aic bic) \n",
    "esttab using reg_mkt_simplified.csv,  drop(dummy* c.log_zip_rev#c.log_zip_rev) p label scalars(r2 aic bic) replace\n",
    "\n",
    "restore "
   ]
  },
  {
   "cell_type": "markdown",
   "metadata": {},
   "source": [
    "## Dynamic Panel "
   ]
  },
  {
   "cell_type": "code",
   "execution_count": null,
   "metadata": {},
   "outputs": [],
   "source": [
    "restore"
   ]
  },
  {
   "cell_type": "markdown",
   "metadata": {},
   "source": [
    "### First let's review the areg model resuls "
   ]
  },
  {
   "cell_type": "code",
   "execution_count": null,
   "metadata": {},
   "outputs": [],
   "source": [
    "eststo clear\n",
    "\n",
    "preserve\n",
    "drop  if ent_mkt==.\n",
    "qui:areg f.log_sum_quotes   avgmean_mkt  log_zip_rev c.log_zip_rev#c.log_zip_rev  experience temp_* dummy*  , absorb(market)\n",
    "eststo\n",
    "qui:areg f.log_sum_quotes ent_mkt c.ent_mkt#c.ent_mkt  avgmean_mkt    log_zip_rev c.log_zip_rev#c.log_zip_rev  experience temp_* dummy*  , absorb(market)\n",
    "eststo\n",
    "\n",
    "\n",
    "esttab,  drop(dummy* c.log_zip_rev#c.log_zip_rev) p label scalars(r2 aic bic) \n",
    "//esttab using reg_mkt_simplified.csv,  drop(dummy* c.log_zip_rev#c.log_zip_rev) p label scalars(r2 aic bic) replace\n",
    "\n",
    "restore "
   ]
  },
  {
   "cell_type": "markdown",
   "metadata": {},
   "source": [
    "### Dynamic Panel "
   ]
  },
  {
   "cell_type": "code",
   "execution_count": null,
   "metadata": {},
   "outputs": [],
   "source": [
    "restore"
   ]
  },
  {
   "cell_type": "code",
   "execution_count": null,
   "metadata": {},
   "outputs": [],
   "source": [
    "gen ent_mkt_sq=ent_mkt*ent_mkt"
   ]
  },
  {
   "cell_type": "code",
   "execution_count": null,
   "metadata": {},
   "outputs": [],
   "source": [
    "label variable ent_mkt_sq \"Entropy^2\""
   ]
  },
  {
   "cell_type": "code",
   "execution_count": null,
   "metadata": {},
   "outputs": [],
   "source": [
    "tab month"
   ]
  },
  {
   "cell_type": "code",
   "execution_count": null,
   "metadata": {},
   "outputs": [],
   "source": [
    "su ent*,d"
   ]
  },
  {
   "cell_type": "code",
   "execution_count": null,
   "metadata": {},
   "outputs": [],
   "source": [
    "histogram ent_mkt"
   ]
  },
  {
   "cell_type": "code",
   "execution_count": null,
   "metadata": {},
   "outputs": [],
   "source": [
    "//gen ent_mkt_demean=ent_mkt-.083511\n",
    "gen ent_mkt_demean_sq=ent_mkt_demean*ent_mkt_demean"
   ]
  },
  {
   "cell_type": "code",
   "execution_count": null,
   "metadata": {},
   "outputs": [],
   "source": [
    "//label variable ent_mkt_demean \"Entropy\"\n",
    "label variable ent_mkt_demean_sq \"Rating_Entropy_Mkt_sq\""
   ]
  },
  {
   "cell_type": "code",
   "execution_count": null,
   "metadata": {},
   "outputs": [],
   "source": [
    "save  regression_analysis_mkt_with_ent_sent_june1st.dta"
   ]
  },
  {
   "cell_type": "markdown",
   "metadata": {},
   "source": [
    "# Restart  wtih a saved data "
   ]
  },
  {
   "cell_type": "code",
   "execution_count": 24,
   "metadata": {},
   "outputs": [],
   "source": [
    "use   \"../3_output/regression_analysis_mkt_with_ent_sent_june1st.dta\", clear"
   ]
  },
  {
   "cell_type": "code",
   "execution_count": 25,
   "metadata": {},
   "outputs": [],
   "source": [
    "gen log_experience=log(1+experience)"
   ]
  },
  {
   "cell_type": "code",
   "execution_count": 26,
   "metadata": {},
   "outputs": [
    {
     "name": "stdout",
     "output_type": "stream",
     "text": [
      "\n",
      "    Variable |        Obs        Mean    Std. Dev.       Min        Max\n",
      "-------------+---------------------------------------------------------\n",
      "log_experi~e |      1,528    1.254828    1.102291          0   3.332205\n"
     ]
    }
   ],
   "source": [
    "su log_experience"
   ]
  },
  {
   "cell_type": "code",
   "execution_count": null,
   "metadata": {},
   "outputs": [],
   "source": [
    "restore"
   ]
  },
  {
   "cell_type": "markdown",
   "metadata": {},
   "source": [
    "## Dynamic Panel "
   ]
  },
  {
   "cell_type": "code",
   "execution_count": null,
   "metadata": {},
   "outputs": [],
   "source": [
    "eststo clear\n",
    "\n",
    "preserve\n",
    "drop  if ent_mkt==.\n",
    "gen log_zip_rev_sq=log_zip_rev*log_zip_rev \n",
    "qui:areg f.log_sum_quotes   ent_mkt_demean ent_mkt_demean_sq    avgmean_mkt  log_zip_rev  log_zip_rev_sq experience temp_*    , absorb(market) vce(robust)\n",
    "eststo\n",
    "\n",
    "qui:xtabond f.log_sum_quotes ent_mkt_demean ent_mkt_demean_sq  avgmean_mkt    log_zip_rev    experience temp_*   log_zip_rev_sq,nocons vce(robust) lags(3) \n",
    "eststo\n",
    "\n",
    "\n",
    "esttab,    drop( log_zip_rev_sq) p label scalars(r2 )\n",
    "\n",
    "esttab using reg_mkt_dynamicpanel.csv,  drop( log_zip_rev_sq) p label scalars(r2 ) replace\n",
    "\n",
    "restore "
   ]
  },
  {
   "cell_type": "code",
   "execution_count": null,
   "metadata": {},
   "outputs": [],
   "source": [
    "qui:xtabond f.log_sum_quotes ent_mkt_demean ent_mkt_demean_sq  avgmean_mkt    log_zip_rev    experience temp_*   log_zip_rev_sq, vce(robust) lags(3) \n",
    "estat abond"
   ]
  },
  {
   "cell_type": "code",
   "execution_count": null,
   "metadata": {},
   "outputs": [],
   "source": [
    "qui:xtabond f.log_sum_quotes ent_mkt_demean ent_mkt_demean_sq  avgmean_mkt    log_zip_rev    experience temp_*   log_zip_rev_sq, twostep lags(3) \n",
    "estat sargan"
   ]
  },
  {
   "cell_type": "code",
   "execution_count": null,
   "metadata": {},
   "outputs": [],
   "source": [
    "gen month_sq=month*month"
   ]
  },
  {
   "cell_type": "code",
   "execution_count": null,
   "metadata": {},
   "outputs": [],
   "source": [
    "xtabond f.log_sum_quotes  ent_mkt ent_mkt_sq   avgmean_mkt   log_zip_rev log_zip_rev_sq  experience temp_*  year,nocons vce(robust) lags(2)\n",
    "estat abond"
   ]
  },
  {
   "cell_type": "code",
   "execution_count": null,
   "metadata": {},
   "outputs": [],
   "source": [
    "tabulate year, gen(dummy_year)"
   ]
  },
  {
   "cell_type": "code",
   "execution_count": null,
   "metadata": {},
   "outputs": [],
   "source": [
    "xtabond f.log_sum_quotes  ent_mkt ent_mkt_sq   avgmean_mkt   log_zip_rev log_zip_rev_sq  experience temp_*  ,nocons vce(robust) lags(4)\n",
    "estat abond"
   ]
  },
  {
   "cell_type": "code",
   "execution_count": null,
   "metadata": {},
   "outputs": [],
   "source": [
    "xtabond f.log_sum_quotes   avgmean_mkt   log_zip_rev log_zip_rev_sq  experience temp_*  ,nocons vce(robust) lags(3)\n",
    "estat abond"
   ]
  },
  {
   "cell_type": "code",
   "execution_count": null,
   "metadata": {},
   "outputs": [],
   "source": [
    "xtabond f.log_sum_quotes  ent_mkt ent_mkt_sq   avgmean_mkt   log_zip_rev log_zip_rev_sq  experience temp_*  ,nocons vce(robust) lags(4) twostep\n",
    "estat abond"
   ]
  },
  {
   "cell_type": "code",
   "execution_count": null,
   "metadata": {},
   "outputs": [],
   "source": [
    "areg f.log_sum_quotes  log_sum_quotes l.log_sum_quotes l2.log_sum_quotes l3.log_sum_quotes ent_mkt ent_mkt_sq   avgmean_mkt   log_zip_rev log_zip_rev_sq  experience temp_*, absorb(market) \n"
   ]
  },
  {
   "cell_type": "markdown",
   "metadata": {},
   "source": [
    "## VIF test "
   ]
  },
  {
   "cell_type": "code",
   "execution_count": null,
   "metadata": {},
   "outputs": [],
   "source": [
    "restore"
   ]
  },
  {
   "cell_type": "code",
   "execution_count": null,
   "metadata": {},
   "outputs": [],
   "source": [
    "eststo clear\n",
    "\n",
    "preserve\n",
    "drop  if ent_mkt==.\n",
    "qui:reg f.log_sum_quotes   avgmean_mkt  log_zip_rev   experience temp_* \n",
    "vif\n",
    "eststo\n",
    "qui:reg f.log_sum_quotes ent_mkt c.ent_mkt#c.ent_mkt  avgmean_mkt     experience temp_* \n",
    "eststo\n",
    "vif\n",
    "\n",
    "esttab,  drop(dummy* c.log_zip_rev#c.log_zip_rev) p label scalars(r2 aic bic) \n",
    "\n",
    "restore "
   ]
  },
  {
   "cell_type": "markdown",
   "metadata": {},
   "source": [
    "## 2. Market Level Use Use Sentiment Score and Text-based Dispersion"
   ]
  },
  {
   "cell_type": "code",
   "execution_count": null,
   "metadata": {},
   "outputs": [],
   "source": [
    "br"
   ]
  },
  {
   "cell_type": "code",
   "execution_count": null,
   "metadata": {},
   "outputs": [],
   "source": [
    "su avg_sent_score_mkt,d"
   ]
  },
  {
   "cell_type": "code",
   "execution_count": null,
   "metadata": {},
   "outputs": [],
   "source": [
    "restore"
   ]
  },
  {
   "cell_type": "code",
   "execution_count": 27,
   "metadata": {},
   "outputs": [
    {
     "name": "stdout",
     "output_type": "stream",
     "text": [
      "(530 missing values generated)\n"
     ]
    }
   ],
   "source": [
    "gen text_d_mkt_p50_sq=text_d_mkt_p50*text_d_mkt_p50"
   ]
  },
  {
   "cell_type": "code",
   "execution_count": 28,
   "metadata": {},
   "outputs": [],
   "source": [
    "gen log_zip_rev_sq=log_zip_rev*log_zip_rev"
   ]
  },
  {
   "cell_type": "code",
   "execution_count": 29,
   "metadata": {},
   "outputs": [],
   "source": [
    "label variable avg_sent_score_mkt \"Average_Sentiment_Mkt\""
   ]
  },
  {
   "cell_type": "code",
   "execution_count": null,
   "metadata": {},
   "outputs": [],
   "source": [
    "eststo clear \n",
    "preserve \n",
    "drop  if ent_mkt==.\n",
    "//keep if (avgmean_mkt!=.&avg_sent_score_mkt!=.)\n",
    "qui:areg f.log_sum_quotes   avgmean_mkt log_zip_rev c.log_zip_rev#c.log_zip_rev   experience temp_* dummy*, absorb(market) vce(robust)\n",
    "eststo\n",
    "qui:areg f.log_sum_quotes text_d_mkt_p50 c.text_d_mkt_p50#c.text_d_mkt_p50  avgmean_mkt log_zip_rev c.log_zip_rev#c.log_zip_rev   experience temp_* dummy*, absorb(market) vce(robust)\n",
    "eststo\n",
    "qui:areg f.log_sum_quotes text_d_mkt_p50 c.text_d_mkt_p50#c.text_d_mkt_p50  avg_sent_score_mkt log_zip_rev c.log_zip_rev#c.log_zip_rev   experience temp_* dummy* , absorb(market)   vce(robust)\n",
    "eststo\n",
    "qui:areg f.log_sum_quotes ent_mkt c.ent_mkt#c.ent_mkt text_d_mkt_p50 c.text_d_mkt_p50#c.text_d_mkt_p50  avg_sent_score_mkt log_zip_rev c.log_zip_rev#c.log_zip_rev  experience temp_* dummy* ,absorb(market)   vce(robust)\n",
    "eststo\n",
    "esttab,    scalars(r2 aic bic)   order(  ent* c.ent* avg* experience *price* *rev ) drop(dummy* c.log_zip_rev#c.log_zip_rev) p label\n",
    "//esttab using reg_mkt_withtext.csv, replace    scalars(r2 aic bic)   order(  ent* c.ent* avg* experience *price* *rev ) drop(dummy* c.log_zip_rev#c.log_zip_rev) p label\n",
    "\n",
    "restore"
   ]
  },
  {
   "cell_type": "markdown",
   "metadata": {},
   "source": [
    "## deal with missing data "
   ]
  },
  {
   "cell_type": "code",
   "execution_count": null,
   "metadata": {},
   "outputs": [],
   "source": [
    "\n",
    "\n",
    "preserve\n",
    "drop  if ent_mkt==.\n",
    "eststo clear\n",
    "qui:areg f.log_sum_quotes   avgmean_mkt  log_zip_rev c.log_zip_rev#c.log_zip_rev  experience temp_* dummy*  , absorb(market) vce(robust)\n",
    "eststo\n",
    "qui:areg f.log_sum_quotes ent_mkt c.ent_mkt#c.ent_mkt  avgmean_mkt    log_zip_rev c.log_zip_rev#c.log_zip_rev  experience temp_* dummy*  , absorb(market) vce(cluster market)\n",
    "eststo\n",
    "esttab, order( ent* c.ent*  avg* experience temp_own_price_diff_other log_zip_rev )  drop(dummy* c.log_zip_rev#c.log_zip_rev) p label scalars(r2 aic bic) \n",
    "restore \n",
    "//esttab using reg_mkt_simplified.csv,  drop(dummy* c.log_zip_rev#c.log_zip_rev) p label scalars(r2 aic bic) replace\n",
    "//esttab using reg_mkt_simplified.csv, replace order( ent* c.ent*  avg* experience temp_own_price_diff_other log_zip_rev )  drop(dummy* c.log_zip_rev#c.log_zip_rev) p label scalars(r2 aic bic) \n"
   ]
  },
  {
   "cell_type": "code",
   "execution_count": null,
   "metadata": {},
   "outputs": [],
   "source": [
    "su text_d_mkt_p50 ent_mkt if ent_mkt!=."
   ]
  },
  {
   "cell_type": "code",
   "execution_count": 30,
   "metadata": {},
   "outputs": [
    {
     "name": "stdout",
     "output_type": "stream",
     "text": [
      "(46 real changes made)\n"
     ]
    }
   ],
   "source": [
    "replace text_d_mkt_p50=.1311258 if (text_d_mkt_p50==.&ent_mkt!=.)"
   ]
  },
  {
   "cell_type": "code",
   "execution_count": 31,
   "metadata": {},
   "outputs": [
    {
     "name": "stdout",
     "output_type": "stream",
     "text": [
      "variable text_d_mkt_mean not found\n"
     ]
    },
    {
     "name": "stderr",
     "output_type": "stream",
     "text": [
      "r(111);\n"
     ]
    },
    {
     "name": "stdout",
     "output_type": "stream",
     "text": [
      "\n"
     ]
    }
   ],
   "source": [
    "su text_d_mkt_p50  text_d_mkt_mean ent_mkt if ent_mkt!=."
   ]
  },
  {
   "cell_type": "code",
   "execution_count": 32,
   "metadata": {},
   "outputs": [
    {
     "name": "stdout",
     "output_type": "stream",
     "text": [
      "variable text_d_mkt_mean not found\n"
     ]
    },
    {
     "name": "stderr",
     "output_type": "stream",
     "text": [
      "r(111);\n"
     ]
    },
    {
     "name": "stdout",
     "output_type": "stream",
     "text": [
      "\n"
     ]
    }
   ],
   "source": [
    "replace text_d_mkt_mean=.1416026 if (text_d_mkt_mean==.&ent_mkt!=.)"
   ]
  },
  {
   "cell_type": "code",
   "execution_count": null,
   "metadata": {},
   "outputs": [],
   "source": [
    "eststo clear \n",
    "preserve \n",
    "drop  if ent_mkt==.\n",
    "keep if (avgmean_mkt!=.&avg_sent_score_mkt!=.)\n",
    "qui:areg f.log_sum_quotes text_d_mkt_p50 c.text_d_mkt_p50#c.text_d_mkt_p50  avgmean_mkt log_zip_rev c.log_zip_rev#c.log_zip_rev   experience temp_* dummy*, absorb(market) vce(robust)\n",
    "eststo\n",
    "qui:areg f.log_sum_quotes text_d_mkt_p50 c.text_d_mkt_p50#c.text_d_mkt_p50  avg_sent_score_mkt log_zip_rev c.log_zip_rev#c.log_zip_rev   experience temp_* dummy* , absorb(market)   vce(robust)\n",
    "eststo\n",
    "qui:areg f.log_sum_quotes ent_mkt c.ent_mkt#c.ent_mkt text_d_mkt_p50 c.text_d_mkt_p50#c.text_d_mkt_p50  avg_sent_score_mkt log_zip_rev c.log_zip_rev#c.log_zip_rev  experience temp_* dummy* ,absorb(market)   vce(robust)\n",
    "eststo\n",
    "esttab,    scalars(r2 aic bic)   order(  ent* c.ent* avg* experience *price* *rev ) drop(dummy* c.log_zip_rev#c.log_zip_rev) p label\n",
    "esttab using reg_mkt_withtext.csv, replace    scalars(r2 aic bic)   order(  ent* c.ent* avg* experience *price* *rev ) drop(dummy* c.log_zip_rev#c.log_zip_rev) p label\n",
    "\n",
    "restore"
   ]
  },
  {
   "cell_type": "markdown",
   "metadata": {},
   "source": [
    "# 2 Robustness -  Market Level se Sentiment Score and Text-based Dispersion "
   ]
  },
  {
   "cell_type": "code",
   "execution_count": null,
   "metadata": {},
   "outputs": [],
   "source": [
    "eststo clear \n",
    "preserve \n",
    "drop  if ent_mkt==.\n",
    "keep if (avgmean_mkt!=.&avg_sent_score_mkt!=.)\n",
    "qui:areg f.log_sum_quotes text_d_mkt_mean c.text_d_mkt_mean#c.text_d_mkt_mean  avgmean_mkt log_zip_rev c.log_zip_rev#c.log_zip_rev   experience temp_* dummy*, absorb(market) vce(robust)\n",
    "eststo\n",
    "qui:areg f.log_sum_quotes text_d_mkt_mean c.text_d_mkt_mean#c.text_d_mkt_mean  avg_sent_score_mkt log_zip_rev c.log_zip_rev#c.log_zip_rev   experience temp_* dummy* , absorb(market)   vce(robust)\n",
    "eststo\n",
    "qui:areg f.log_sum_quotes ent_mkt c.ent_mkt#c.ent_mkt text_d_mkt_mean c.text_d_mkt_mean#c.text_d_mkt_mean  avg_sent_score_mkt log_zip_rev c.log_zip_rev#c.log_zip_rev  experience temp_* dummy* ,absorb(market)   vce(robust)\n",
    "eststo\n",
    "esttab,    scalars(r2 aic bic)   order(  ent* c.ent* avg* experience *price* *rev ) drop(dummy* c.log_zip_rev#c.log_zip_rev) p label\n",
    "esttab using reg_mkt_rob_textmean.csv, replace    scalars(r2 aic bic)   order(  ent* c.ent* avg* experience *price* *rev ) drop(dummy* c.log_zip_rev#c.log_zip_rev) p label\n",
    "\n",
    "restore"
   ]
  },
  {
   "cell_type": "markdown",
   "metadata": {},
   "source": [
    "# 3.Use Given Quotes instead of winning quotes "
   ]
  },
  {
   "cell_type": "markdown",
   "metadata": {},
   "source": [
    "# 4.Summary stats "
   ]
  },
  {
   "cell_type": "code",
   "execution_count": null,
   "metadata": {},
   "outputs": [],
   "source": [
    "restore"
   ]
  },
  {
   "cell_type": "code",
   "execution_count": 36,
   "metadata": {},
   "outputs": [
    {
     "name": "stdout",
     "output_type": "stream",
     "text": [
      "\n",
      "\n",
      "(724 observations deleted)\n",
      "\n",
      "\n",
      "(21 missing values generated)\n",
      "\n",
      "(21 observations deleted)\n",
      "\n",
      "(141 observations deleted)\n",
      "\n",
      "\n",
      " : \n",
      "\n",
      "             |  ent_mkt avgmea~t experi~e temp_o~r log_zi~v\n",
      "-------------+---------------------------------------------\n",
      "     ent_mkt |   1.0000 \n",
      " avgmean_mkt |  -0.6084*  1.0000 \n",
      "  experience |   0.2132* -0.1070*  1.0000 \n",
      "temp_own_p~r |  -0.0452  -0.0171   0.0049   1.0000 \n",
      " log_zip_rev |   0.1652* -0.0540   0.5157* -0.0762   1.0000 \n",
      "\n"
     ]
    }
   ],
   "source": [
    "preserve\n",
    "drop  if ent_mkt==.\n",
    "//keep if (avgmean_mkt!=.&avg_sent_score_mkt!=.)\n",
    "qui:  areg f.log_sum_quotes ent_mkt c.ent_mkt#c.ent_mkt  avgmean_mkt    log_zip_rev c.log_zip_rev#c.log_zip_rev  experience temp_* dummy*  , absorb(market)\n",
    "predict yhat_filter,xb\n",
    "drop if yhat_filter==.\n",
    "keep if f.log_sum_quotes!=.\n",
    "set matsize 2000\n",
    "qui: outreg2 using summarystats_mkt.doc, label replace sum(detail) keep( log_sum_quotes   ent_mkt   avgmean_mkt    log_zip_rev  log_experience temp_* ) eqkeep(N mean sd min max)\n",
    "pwcorr   ent_mkt avgmean_mkt experience   temp_* log_zip_rev      ,star(0.01)\n",
    "restore"
   ]
  },
  {
   "cell_type": "code",
   "execution_count": null,
   "metadata": {},
   "outputs": [],
   "source": [
    "pwd"
   ]
  },
  {
   "cell_type": "code",
   "execution_count": null,
   "metadata": {},
   "outputs": [],
   "source": [
    "restore"
   ]
  },
  {
   "cell_type": "code",
   "execution_count": null,
   "metadata": {},
   "outputs": [],
   "source": [
    "set matsize 2000"
   ]
  },
  {
   "cell_type": "code",
   "execution_count": null,
   "metadata": {},
   "outputs": [],
   "source": [
    "pwd"
   ]
  },
  {
   "cell_type": "code",
   "execution_count": null,
   "metadata": {},
   "outputs": [],
   "source": [
    "su text_d_mkt_p50 ent_mkt"
   ]
  },
  {
   "cell_type": "code",
   "execution_count": null,
   "metadata": {},
   "outputs": [],
   "source": [
    "su avg*"
   ]
  },
  {
   "cell_type": "code",
   "execution_count": null,
   "metadata": {},
   "outputs": [],
   "source": [
    "restore"
   ]
  },
  {
   "cell_type": "code",
   "execution_count": null,
   "metadata": {},
   "outputs": [],
   "source": [
    "su avg_sent_* if _est_filter==1"
   ]
  },
  {
   "cell_type": "code",
   "execution_count": null,
   "metadata": {},
   "outputs": [],
   "source": [
    "su text_d_mkt_p50"
   ]
  },
  {
   "cell_type": "code",
   "execution_count": 38,
   "metadata": {},
   "outputs": [
    {
     "name": "stdout",
     "output_type": "stream",
     "text": [
      "\n",
      "\n",
      "(724 observations deleted)\n",
      "\n",
      "\n",
      "\n",
      "(146 observations deleted)\n",
      "\n",
      "\n",
      "    Variable |        Obs        Mean    Std. Dev.       Min        Max\n",
      "-------------+---------------------------------------------------------\n",
      "avg_sent_s~t |        658    .6570011    .1492006          0      .8663\n",
      "\n",
      "(note: file Myfile.doc not found)\n",
      "\n",
      "             | text_~50  ent_mkt avg_se~t avgmea~t experi~e temp_o~r log_zi~v\n",
      "-------------+---------------------------------------------------------------\n",
      "text_d_mk~50 |   1.0000 \n",
      "     ent_mkt |   0.0436   1.0000 \n",
      "avg_sent_s~t |  -0.3894*  0.1592*  1.0000 \n",
      " avgmean_mkt |  -0.0945  -0.6084*  0.1541*  1.0000 \n",
      "  experience |  -0.1107*  0.2227*  0.1059* -0.1070*  1.0000 \n",
      "temp_own_p~r |   0.1049* -0.0538  -0.0104  -0.0171   0.0077   1.0000 \n",
      " log_zip_rev |  -0.0768   0.1706*  0.2076* -0.0540   0.5226* -0.0665   1.0000 \n",
      "Click to Open File:  Myfile.doc\n",
      "\n"
     ]
    }
   ],
   "source": [
    "preserve\n",
    "drop  if ent_mkt==.\n",
    "//keep if (avgmean_mkt!=.&avg_sent_score_mkt!=.)\n",
    "qui:xtreg f.log_sum_quotes text_d_mkt_p50 c.text_d_mkt_p50#c.text_d_mkt_p50  avg_sent_score_mkt c.avg_sent_score_mkt#c.avg_sent_score_mkt log_zip_rev c.log_zip_rev#c.log_zip_rev  experience temp_* dummy* , fe vce(cluster market)\n",
    "eststo filter\n",
    "drop if _est_filter==0\n",
    "su avg_sent*\n",
    "//su text_d_mkt_p50 text_d_mkt_mean avg_sent_score_mkt\n",
    "//qui: outreg2 using summarystats_text_mkt.doc, label replace sum(detail) keep( text_d_mkt_p50 avg_sent_score_mkt) eqkeep(N mean sd min max) \n",
    "asdoc pwcorr text_d_mkt_p50 ent_mkt avg_sent_score_mkt avgmean_mkt    experience temp_* log_zip_rev , label replace star(0.01)\n",
    "restore"
   ]
  },
  {
   "cell_type": "code",
   "execution_count": null,
   "metadata": {},
   "outputs": [],
   "source": [
    "corr avg*"
   ]
  },
  {
   "cell_type": "code",
   "execution_count": null,
   "metadata": {},
   "outputs": [],
   "source": [
    "ssc install asdoc"
   ]
  },
  {
   "cell_type": "markdown",
   "metadata": {},
   "source": [
    "# Robustness - Spline Regression"
   ]
  },
  {
   "cell_type": "code",
   "execution_count": null,
   "metadata": {},
   "outputs": [],
   "source": [
    "mkspline ent_mkt_spl_2 2=ent_mkt,displayknots\n",
    "mkspline ent_mkt_spl_3 3=ent_mkt, displayknots"
   ]
  },
  {
   "cell_type": "code",
   "execution_count": null,
   "metadata": {},
   "outputs": [],
   "source": [
    "label variable ent_mkt_spl_21 \"Rating_Entropy_Mkt_1\"\n",
    "label variable ent_mkt_spl_22 \"Rating_Entropy_Mkt_2\"\n",
    "label variable ent_mkt_spl_31 \"Rating_Entropy_Mkt_3\"\n",
    "label variable ent_mkt_spl_32 \"Rating_Entropy_Mkt_1\"\n",
    "label variable ent_mkt_spl_33 \"Rating_Entropy_Mkt_2\""
   ]
  },
  {
   "cell_type": "code",
   "execution_count": null,
   "metadata": {},
   "outputs": [],
   "source": [
    "restore"
   ]
  },
  {
   "cell_type": "code",
   "execution_count": null,
   "metadata": {},
   "outputs": [],
   "source": [
    "eststo clear\n",
    "\n",
    "preserve\n",
    "drop  if ent_mkt==.\n",
    " \n",
    "qui:areg f.log_sum_quotes ent_mkt_spl_2*  avgmean_mkt    log_zip_rev c.log_zip_rev#c.log_zip_rev  experience temp_*  , absorb(market)\n",
    "eststo\n",
    "qui:areg f.log_sum_quotes ent_mkt_spl_3*  avgmean_mkt    log_zip_rev c.log_zip_rev#c.log_zip_rev  experience temp_*   , absorb(market)\n",
    "eststo\n",
    "\n",
    "\n",
    "esttab,  keep(ent_mkt_spl_2* ent_mkt_spl_3*) p label scalars(r2 aic bic) \n",
    "esttab using rob_spline_mkt.csv,  replace keep(ent_mkt_spl_2* ent_mkt_spl_3*) p label scalars(r2 aic bic) \n",
    " \n",
    "restore "
   ]
  },
  {
   "cell_type": "code",
   "execution_count": null,
   "metadata": {},
   "outputs": [],
   "source": [
    "su log_sum_quotes,d"
   ]
  },
  {
   "cell_type": "code",
   "execution_count": null,
   "metadata": {},
   "outputs": [],
   "source": [
    "histogram log_sum_quotes"
   ]
  }
 ],
 "metadata": {
  "kernelspec": {
   "display_name": "Stata",
   "language": "stata",
   "name": "stata"
  },
  "language_info": {
   "codemirror_mode": "stata",
   "file_extension": ".do",
   "mimetype": "text/x-stata",
   "name": "stata",
   "version": "15.1"
  }
 },
 "nbformat": 4,
 "nbformat_minor": 4
}
