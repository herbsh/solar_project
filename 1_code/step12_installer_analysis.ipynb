{
 "cells": [
  {
   "cell_type": "code",
   "execution_count": 1,
   "metadata": {},
   "outputs": [],
   "source": [
    "use \"../3_output/regression_analysis_ind_with_ent_sent_june2020.dta\", clear"
   ]
  },
  {
   "cell_type": "code",
   "execution_count": 2,
   "metadata": {},
   "outputs": [
    {
     "name": "stdout",
     "output_type": "stream",
     "text": [
      "\n",
      "    Variable |        Obs        Mean    Std. Dev.       Min        Max\n",
      "-------------+---------------------------------------------------------\n",
      "avg_sent_s~e |      8,113    .4171853      .35676     -.8268      .9576\n",
      "avg_sent_s~t |      8,113    .5971259    .2507234          0    .886075\n",
      "avg_sent_s~s |      8,113    .5662764    .2792114     -.5994      .9576\n"
     ]
    }
   ],
   "source": [
    "su avg_sen*"
   ]
  },
  {
   "cell_type": "code",
   "execution_count": 3,
   "metadata": {},
   "outputs": [
    {
     "name": "stdout",
     "output_type": "stream",
     "text": [
      "\n",
      "    Variable |        Obs        Mean    Std. Dev.       Min        Max\n",
      "-------------+---------------------------------------------------------\n",
      "     ent_mkt |      5,340    .2376226    .1857222          0    1.05492\n",
      "  ent_others |      5,340    .2247373    .1915538          0   1.070593\n",
      "    ent_self |      5,340    .0981426    .2199734          0   1.209574\n"
     ]
    }
   ],
   "source": [
    "su ent_*"
   ]
  },
  {
   "cell_type": "markdown",
   "metadata": {},
   "source": [
    "## make labels and create demeaned vars"
   ]
  },
  {
   "cell_type": "code",
   "execution_count": 4,
   "metadata": {},
   "outputs": [
    {
     "name": "stdout",
     "output_type": "stream",
     "text": [
      "\n",
      "\n",
      "(2,773 missing values generated)\n"
     ]
    }
   ],
   "source": [
    "egen mean_ent_others = mean(ent_others)\n",
    "gen ent_others_demean=ent_others-mean_ent_others"
   ]
  },
  {
   "cell_type": "code",
   "execution_count": 5,
   "metadata": {},
   "outputs": [
    {
     "name": "stdout",
     "output_type": "stream",
     "text": [
      "\n",
      "\n",
      "(2,773 missing values generated)\n"
     ]
    }
   ],
   "source": [
    "egen mean_ent_self = mean(ent_self)\n",
    "gen ent_self_demean=ent_self-mean_ent_self"
   ]
  },
  {
   "cell_type": "code",
   "execution_count": 6,
   "metadata": {},
   "outputs": [],
   "source": [
    "egen mean_avg_v2=mean(avg_v2)\n",
    "gen avg_v2_demean=avg_v2-mean_avg_v2"
   ]
  },
  {
   "cell_type": "code",
   "execution_count": 7,
   "metadata": {},
   "outputs": [
    {
     "name": "stdout",
     "output_type": "stream",
     "text": [
      "\n",
      "\n",
      "(1,479 missing values generated)\n"
     ]
    }
   ],
   "source": [
    "egen mean_avgmean_others=mean(avgmean_others)\n",
    "gen avgmean_others_demean=avgmean_others-mean_avgmean_others"
   ]
  },
  {
   "cell_type": "code",
   "execution_count": 8,
   "metadata": {},
   "outputs": [
    {
     "name": "stdout",
     "output_type": "stream",
     "text": [
      "\n",
      "(2,773 missing values generated)\n",
      "\n",
      "(2,773 missing values generated)\n"
     ]
    }
   ],
   "source": [
    "gen ent_others_sq=ent_others*ent_others\n",
    "gen ent_self_demean_sq=ent_self_demean*ent_self_demean"
   ]
  },
  {
   "cell_type": "code",
   "execution_count": 9,
   "metadata": {},
   "outputs": [],
   "source": [
    "\n",
    "label variable ent_self_demean \"Rating_Entropy_Self\"\n",
    "label variable ent_self \"Rating_Entropy_Self\"\n",
    "label variable ent_others_demean \"Rating_Entropy_Others\"\n",
    "label variable ent_others \"Rating_Entropy_Others\"\n",
    "label variable avg_v2_demean \"Average_Rating_Self\"\n",
    "label variable avg_v2 \"Average_Rating_Self\"\n",
    "label variable avgmean_others_demean \"Average_Rating_Others\"\n",
    "label variable avgmean_others \"Average_Rating_Others\"\n",
    "label variable reviews_ct \"Review_Count\"\n",
    "label variable log_experience \"Experience\"\n",
    "label variable temp_own_price_diff_other \"Price_Difference\"\n",
    "label variable log_zip_rev \"Market_LogRevenue\"\n",
    "label variable ent_others_sq  \"Rating_Entropy_Others^2\"\n",
    "label variable ent_self_demean_sq \"Rating_Entropy_Self^2\"\n",
    "label variable log_quotes \"Installer Activity Level\""
   ]
  },
  {
   "cell_type": "code",
   "execution_count": 10,
   "metadata": {},
   "outputs": [
    {
     "name": "stdout",
     "output_type": "stream",
     "text": [
      "\n",
      "    Variable |        Obs        Mean    Std. Dev.       Min        Max\n",
      "-------------+---------------------------------------------------------\n",
      "avg_sent_s~e |      8,113    .4171853      .35676     -.8268      .9576\n"
     ]
    }
   ],
   "source": [
    "su avg_sent_score"
   ]
  },
  {
   "cell_type": "code",
   "execution_count": 11,
   "metadata": {},
   "outputs": [
    {
     "name": "stdout",
     "output_type": "stream",
     "text": [
      "\n",
      "    Variable |        Obs        Mean    Std. Dev.       Min        Max\n",
      "-------------+---------------------------------------------------------\n",
      "avg_sent_s~e |      8,113    .4171853      .35676     -.8268      .9576\n",
      "avg_sent_s~t |      8,113    .5971259    .2507234          0    .886075\n",
      "avg_sent_s~s |      8,113    .5662764    .2792114     -.5994      .9576\n"
     ]
    }
   ],
   "source": [
    "su avg_sent*"
   ]
  },
  {
   "cell_type": "code",
   "execution_count": 12,
   "metadata": {},
   "outputs": [
    {
     "name": "stdout",
     "output_type": "stream",
     "text": [
      "\n",
      "\n",
      "\n",
      "\n",
      "\n",
      "(4,113 missing values generated)\n",
      "\n",
      "\n",
      "(1,535 missing values generated)\n",
      "\n"
     ]
    }
   ],
   "source": [
    "gen avg_sent_score_demean=avg_sent_score-.4119695\n",
    "label variable avg_sent_score_demean \"Average_Sentiment_Self\"\n",
    "gen avg_sent_score_others_demean=avg_sent_score_others- .5615071\n",
    "label variable avg_sent_score_others_demean \"Average_Sentiment_Others\"\n",
    "gen text_d_self_p50_demean=text_d_self_p50-0.0635868\n",
    "label variable text_d_self_p50_demean  \"Text-based_Entropy_Self\"\n",
    "gen text_d_others_p50_demean=text_d_others_p50-0.1245589\n",
    "label variable text_d_others_p50_demean \"Text-based_Entropy_Others\""
   ]
  },
  {
   "cell_type": "markdown",
   "metadata": {},
   "source": [
    "# regular regression , quantitative measures, demeaned\n",
    "- with areg (stata command), demeaned,  to get better R-square "
   ]
  },
  {
   "cell_type": "markdown",
   "metadata": {},
   "source": [
    "## Hausman for regular regression"
   ]
  },
  {
   "cell_type": "code",
   "execution_count": 13,
   "metadata": {},
   "outputs": [
    {
     "name": "stdout",
     "output_type": "stream",
     "text": [
      "       panel variable:  installer_id (unbalanced)\n",
      "        time variable:  year_month_~t, 1 to 64\n",
      "                delta:  1 unit\n"
     ]
    }
   ],
   "source": [
    "xtset"
   ]
  },
  {
   "cell_type": "code",
   "execution_count": 14,
   "metadata": {},
   "outputs": [
    {
     "name": "stdout",
     "output_type": "stream",
     "text": [
      "\n",
      "\n",
      "\n",
      "\n",
      "\n",
      "\n",
      "\n",
      "                 ---- Coefficients ----\n",
      "             |      (b)          (B)            (b-B)     sqrt(diag(V_b-V_B))\n",
      "             |     fixed        random       Difference          S.E.\n",
      "-------------+----------------------------------------------------------------\n",
      "avg_v2_dem~n |   -.3034748    -.2661759       -.0372989        .0192533\n",
      " missing_avg |   -1.225582    -1.049137       -.1764453        .0928478\n",
      "  reviews_ct |     .045321     .0463437       -.0010228        .0013836\n",
      "avgmean_ot~n |   -.0070184    -.0331942        .0261758        .0184437\n",
      "ent_others~n |    .6294955     .6882106       -.0587151        .0565503\n",
      "ent_self_d~n |    .9359336     .9314591        .0044745        .1037552\n",
      "          c. |\n",
      "ent_others~n#|\n",
      "          c. |\n",
      "ent_others~n |   -2.478502    -2.506337        .0278346        .1207212\n",
      "          c. |\n",
      "ent_self_d~n#|\n",
      "          c. |\n",
      "ent_self_d~n |    -1.30135    -1.080349       -.2210017        .1737559\n",
      "log_experi~e |    .2210942      .225913       -.0048188        .0184084\n",
      "temp_own_p~r |    .0699603    -.0031397           .0731        .0314212\n",
      "missing_pr~o |    -.076305    -.0234582       -.0528468        .0532286\n",
      " log_zip_rev |   -.0154798    -.0151279       -.0003519        .0015936\n",
      "------------------------------------------------------------------------------\n",
      "                           b = consistent under Ho and Ha; obtained from xtreg\n",
      "            B = inconsistent under Ha, efficient under Ho; obtained from xtreg\n",
      "\n",
      "    Test:  Ho:  difference in coefficients not systematic\n",
      "\n",
      "                 chi2(12) = (b-B)'[(V_b-V_B)^(-1)](b-B)\n",
      "                          =       24.18\n",
      "                Prob>chi2 =      0.0192\n"
     ]
    }
   ],
   "source": [
    "global iv_12_demean \"avg_v2_demean missing_avg reviews_ct  avgmean_others_demean  ent_others_demean ent_self_demean  c.ent_others_demean#c.ent_others_demean  c.ent_self_demean#c.ent_self_demean log_experience temp_own_price_diff_other missing_price_info log_zip_rev i.state_n \"  \n",
    "\n",
    "qui:xtreg f.log_quotes  $iv_12_demean  , fe\n",
    "estimates store fixed \n",
    "qui:xtreg f.log_quotes $iv_12_demean   , re \n",
    "estimates store random\n",
    "hausman fixed random"
   ]
  },
  {
   "cell_type": "code",
   "execution_count": 15,
   "metadata": {},
   "outputs": [
    {
     "name": "stdout",
     "output_type": "stream",
     "text": [
      "\n",
      "\n",
      "\n",
      "\n",
      "\n",
      "\n",
      "(2,773 observations deleted)\n",
      "\n",
      "\n",
      "(est1 stored)\n",
      "\n",
      "\n",
      "(est2 stored)\n",
      "\n",
      "\n",
      "(est3 stored)\n",
      "\n",
      "\n",
      "\n",
      "--------------------------------------------------------------------\n",
      "                              (1)             (2)             (3)   \n",
      "                     F.Installe~l    F.Installe~l    F.Installe~l   \n",
      "--------------------------------------------------------------------\n",
      "Rating_Entropy_Self                                         0.936*  \n",
      "                                                          (0.011)   \n",
      "\n",
      "Rating_Entropy_Sel~t                                       -1.301*  \n",
      "                                                          (0.034)   \n",
      "\n",
      "Rating_Entropy_Oth~s                        0.644**         0.629** \n",
      "                                          (0.001)         (0.001)   \n",
      "\n",
      "Rating_Entropy_Oth~E                       -2.487***       -2.479***\n",
      "                                          (0.000)         (0.000)   \n",
      "\n",
      "Average_Rating_Self        -0.364***       -0.349***       -0.303** \n",
      "                          (0.000)         (0.000)         (0.001)   \n",
      "\n",
      "Average_Rating_Oth~s      -0.0441        -0.00785        -0.00702   \n",
      "                          (0.659)         (0.941)         (0.948)   \n",
      "\n",
      "Review_Count               0.0513***       0.0482***       0.0453***\n",
      "                          (0.000)         (0.000)         (0.000)   \n",
      "\n",
      "Experience                  0.215***        0.225***        0.221***\n",
      "                          (0.000)         (0.000)         (0.000)   \n",
      "\n",
      "Price_Difference           0.0780          0.0751          0.0700   \n",
      "                          (0.378)         (0.401)         (0.433)   \n",
      "\n",
      "Market_LogRevenue         -0.0167***      -0.0162***      -0.0155** \n",
      "                          (0.001)         (0.001)         (0.001)   \n",
      "\n",
      "Constant                    2.673***        2.720***        2.714***\n",
      "                          (0.000)         (0.000)         (0.000)   \n",
      "--------------------------------------------------------------------\n",
      "Observations                 4605            4605            4605   \n",
      "r2                          0.646           0.648           0.649   \n",
      "aic                       13329.4         13297.8         13292.3   \n",
      "bic                       13387.3         13368.6         13375.9   \n",
      "--------------------------------------------------------------------\n",
      "p-values in parentheses\n",
      "* p<0.05, ** p<0.01, *** p<0.001\n"
     ]
    }
   ],
   "source": [
    "global iv_0_demean \"avg_v2_demean missing_avg reviews_ct  avgmean_others_demean   log_experience temp_own_price_diff_other missing_price_info log_zip_rev i.state_n \"  \n",
    "global iv_11_demean \"avg_v2_demean missing_avg reviews_ct  avgmean_others_demean  ent_others_demean c.ent_others_demean#c.ent_others_demean  log_experience temp_own_price_diff_other missing_price_info log_zip_rev i.state_n \"  \n",
    "global iv_12_demean \"avg_v2_demean missing_avg reviews_ct  avgmean_others_demean  ent_others_demean ent_self_demean  c.ent_others_demean#c.ent_others_demean  c.ent_self_demean#c.ent_self_demean log_experience temp_own_price_diff_other missing_price_info log_zip_rev i.state_n \"  \n",
    "\n",
    "eststo clear \n",
    "preserve\n",
    "drop if ent_others_demean==.\n",
    "\n",
    "\n",
    "qui:areg f.log_quotes  $iv_0_demean   , absorb( installer_id) vce(robust)\n",
    "eststo\n",
    "qui:areg f.log_quotes $iv_11_demean    , absorb( installer_id) vce(robust)\n",
    "eststo\n",
    "qui:areg f.log_quotes  $iv_12_demean  , absorb( installer_id) vce(robust)\n",
    "eststo\n",
    "restore\n",
    "esttab est1 est2 est3 ,  order(  ent_self* c.ent_self* ent_other* c.ent_other* avg_v2_demean avgmean_others_demean) drop(*state* missing* ) p  label  scalars(r2 aic bic)\n",
    "\n",
    "//esttab est1 est2 est3 using reg_ind_bigtable_areg.csv ,  order(  ent_self* c.ent_self* ent_other* c.ent_other* avg_v2_demean avgmean_others_demean) drop(*state* missing* ) p  label  scalars(r2 aic bic)"
   ]
  },
  {
   "cell_type": "code",
   "execution_count": 16,
   "metadata": {},
   "outputs": [
    {
     "name": "stdout",
     "output_type": "stream",
     "text": [
      "\n",
      "---------------------------------------------------------------------------------------------------------------------------------------------------------------------------------------------------------------------------------------------------------------\n",
      "http://www.marco-sunder.de/stata/\n",
      "Stata program directory at www.marco-sunder.de/stata/\n",
      "---------------------------------------------------------------------------------------------------------------------------------------------------------------------------------------------------------------------------------------------------------------\n",
      "\n",
      "PACKAGES you could -net describe-:\n",
      "    rego              Decomposition of R-squared\n",
      "    armaspect         Spectrum of an ARMA(p,q) process\n",
      "    varspect          Spectrum of a VAR process\n",
      "    nardl             Estimation of non-linear ARDL models advanced by Shin et al. (2011)\n",
      "    dfuller3          ADF unit root test test with automatic lag order selection\n",
      "---------------------------------------------------------------------------------------------------------------------------------------------------------------------------------------------------------------------------------------------------------------\n",
      "\n",
      "checking rego consistency and verifying not already installed...\n",
      "all files already exist and are up to date.\n"
     ]
    }
   ],
   "source": [
    " net from http://www.marco-sunder.de/stata/\n",
    "net install rego"
   ]
  },
  {
   "cell_type": "code",
   "execution_count": 17,
   "metadata": {},
   "outputs": [
    {
     "name": "stdout",
     "output_type": "stream",
     "text": [
      "checking shapley2 consistency and verifying not already installed...\n",
      "all files already exist and are up to date.\n"
     ]
    }
   ],
   "source": [
    "ssc install shapley2"
   ]
  },
  {
   "cell_type": "code",
   "execution_count": 18,
   "metadata": {},
   "outputs": [],
   "source": [
    "help shapley2"
   ]
  },
  {
   "cell_type": "markdown",
   "metadata": {},
   "source": [
    "# R Square Sharpley Decomp "
   ]
  },
  {
   "cell_type": "code",
   "execution_count": 20,
   "metadata": {},
   "outputs": [
    {
     "name": "stdout",
     "output_type": "stream",
     "text": [
      "       panel variable:  installer_id (unbalanced)\n",
      "        time variable:  year_month_~t, 1 to 64\n",
      "                delta:  1 unit\n"
     ]
    }
   ],
   "source": [
    "xtset"
   ]
  },
  {
   "cell_type": "code",
   "execution_count": 22,
   "metadata": {},
   "outputs": [
    {
     "name": "stdout",
     "output_type": "stream",
     "text": [
      "\n",
      "(2,773 missing values generated)\n",
      "\n",
      "variable ent_self_demean_sq already defined\n"
     ]
    },
    {
     "name": "stderr",
     "output_type": "stream",
     "text": [
      "r(110);\n",
      "r(110);\n"
     ]
    },
    {
     "name": "stdout",
     "output_type": "stream",
     "text": [
      "\n",
      "\n"
     ]
    }
   ],
   "source": [
    "gen ent_others_demean_sq=ent_others_demean*ent_others_demean\n",
    "gen ent_self_demean_sq=ent_self_demean*ent_self_demean"
   ]
  },
  {
   "cell_type": "code",
   "execution_count": 28,
   "metadata": {},
   "outputs": [],
   "source": [
    "qui: xtreg f.log_quotes avg_v2_demean missing_avg reviews_ct avgmean_others_demean ent_others_demean ent_self_demean ent_others_demean_sq ent_self_demean_sq log_experience temp_own_price_diff_other missing_price_info log_zip_rev,   vce(robust)\n"
   ]
  },
  {
   "cell_type": "code",
   "execution_count": 29,
   "metadata": {},
   "outputs": [
    {
     "name": "stdout",
     "output_type": "stream",
     "text": [
      "missing_avg reviews_ct avgmean_others_demean ent_others_demean ent_self_demean ent_others_demean_sq ent_self_demean_sq log_experience temp_own_price_diff_other missing_price_info log_zip_rev\n",
      "too many variables specified\n"
     ]
    },
    {
     "name": "stderr",
     "output_type": "stream",
     "text": [
      "r(103);\n"
     ]
    },
    {
     "name": "stdout",
     "output_type": "stream",
     "text": [
      "\n"
     ]
    }
   ],
   "source": [
    "shapley2, stat(r2) "
   ]
  },
  {
   "cell_type": "markdown",
   "metadata": {},
   "source": [
    "## Marginsplot "
   ]
  },
  {
   "cell_type": "code",
   "execution_count": null,
   "metadata": {},
   "outputs": [],
   "source": [
    "qui: areg  f.log_quotes    avg_v2     reviews_ct  avgmean_others ent_others_demean c.ent_others_demean#c.ent_others_demean ent_self_demean ent_self_demean_sq  log_experience temp_own_price_diff_other missing_price_info log_zip_rev i.state_n*, absorb(installer_id)\n",
    "qui: margins , at(ent_others_demean=(-0.3(0.05)0.6))\n",
    "marginsplot,ytitle(\"Installer Activity Level\") title(\"\") "
   ]
  },
  {
   "cell_type": "code",
   "execution_count": null,
   "metadata": {},
   "outputs": [],
   "source": [
    "su ent_self"
   ]
  },
  {
   "cell_type": "code",
   "execution_count": null,
   "metadata": {},
   "outputs": [],
   "source": [
    "su ent_self_demean"
   ]
  },
  {
   "cell_type": "code",
   "execution_count": null,
   "metadata": {},
   "outputs": [],
   "source": [
    "qui: areg  f.log_quotes    avg_v2     reviews_ct  avgmean_others ent_others_demean c.ent_others_demean#c.ent_others_demean ent_self_demean c.ent_self_demean#c.ent_self_demean  log_experience temp_own_price_diff_other missing_price_info log_zip_rev, absorb(installer_id)\n",
    "qui: margins , at(ent_self_demean=(-0.1(0.05)0.95))\n",
    "marginsplot, ytitle(\"Installer Activity Level\")  title(\"\") "
   ]
  },
  {
   "cell_type": "markdown",
   "metadata": {},
   "source": [
    "## summary stats associated with regular regressions "
   ]
  },
  {
   "cell_type": "code",
   "execution_count": null,
   "metadata": {},
   "outputs": [],
   "source": [
    "set matsize 2000"
   ]
  },
  {
   "cell_type": "code",
   "execution_count": null,
   "metadata": {},
   "outputs": [],
   "source": [
    "restore"
   ]
  },
  {
   "cell_type": "code",
   "execution_count": null,
   "metadata": {},
   "outputs": [],
   "source": [
    "global iv_0_demean \"avg_v2_demean missing_avg reviews_ct  avgmean_others_demean   log_experience temp_own_price_diff_other missing_price_info log_zip_rev i.state_n \"  \n",
    " \n",
    "eststo clear \n",
    "preserve\n",
    "drop if ent_others_demean==.\n",
    "qui:areg f.log_quotes  $iv_12_demean  , absorb( installer_id) vce(robust)\n",
    "eststo filter\n",
    "keep if _est_filter==1\n",
    "keep  ent_self ent_others avg_v2 avgmean_others reviews_ct log_experience temp_own_price_diff_other log_zip_rev \n",
    "outreg2 using summarystats_ind.doc, replace label sum(log) keep (ent_self ent_others avg_v2 avgmean_others reviews_ct log_experience temp_own_price_diff_other log_zip_rev)\n",
    "asdoc cor   ent_self ent_others avg_v2 avgmean_others reviews_ct log_experience temp_own_price_diff_other log_zip_rev,label replace\n",
    "restore"
   ]
  },
  {
   "cell_type": "markdown",
   "metadata": {},
   "source": [
    "# with text-based measures"
   ]
  },
  {
   "cell_type": "code",
   "execution_count": null,
   "metadata": {},
   "outputs": [],
   "source": [
    "replace text_d_others_p50_demean=0 if (text_d_others_p50_demean==.&ent_others_demean!=.)"
   ]
  },
  {
   "cell_type": "code",
   "execution_count": null,
   "metadata": {},
   "outputs": [],
   "source": [
    "replace avgmean_others_demean=avg_sent_score_others_demean if avgmean_others_demean==."
   ]
  },
  {
   "cell_type": "code",
   "execution_count": null,
   "metadata": {},
   "outputs": [],
   "source": [
    "restore"
   ]
  },
  {
   "cell_type": "markdown",
   "metadata": {},
   "source": [
    "## Text-based measures regression"
   ]
  },
  {
   "cell_type": "code",
   "execution_count": null,
   "metadata": {},
   "outputs": [],
   "source": [
    "su avg_v2"
   ]
  },
  {
   "cell_type": "code",
   "execution_count": null,
   "metadata": {},
   "outputs": [],
   "source": [
    "su avg_v2_demean"
   ]
  },
  {
   "cell_type": "code",
   "execution_count": null,
   "metadata": {},
   "outputs": [],
   "source": [
    "global iv_text1_demean \"avg_v2_demean  c.avg_v2_demean#c.avg_v2_demean  missing_avg reviews_ct  avgmean_others_demean  text_d_others_p50_demean text_d_self_p50_demean log_experience temp_own_price_diff_other missing_price_info log_zip_rev i.state_n \"  \n",
    "global iv_text2_demean \"avg_sent_score_demean  c.avg_sent_score_demean#c.avg_sent_score_demean  missing_avg_sent reviews_ct  avg_sent_score_others_demean  text_d_others_p50_demean text_d_self_p50_demean log_experience temp_own_price_diff_other missing_price_info log_zip_rev i.state_n \"  \n",
    "\n",
    "preserve\n",
    "drop if text_d_self_p50_demean==.\n",
    "drop if text_d_others_p50_demean==.\n",
    "drop if ent_others_demean==.\n",
    " \n",
    "eststo clear \n",
    "drop if ent_others_demean==.\n",
    " \n",
    "qui:areg f.log_quotes $iv_text1_demean c.text_d_others_p50_demean#c.text_d_others_p50_demean c.text_d_self_p50_demean#c.text_d_self_p50_demean,  absorb(installer_id) vce(robust)\n",
    "eststo\n",
    " \n",
    "qui:areg f.log_quotes $iv_text2_demean c.text_d_others_p50_demean#c.text_d_others_p50_demean  c.text_d_self_p50_demean#c.text_d_self_p50_demean , absorb(installer_id) vce(robust)\n",
    "eststo \n",
    " \n",
    "qui: areg f.log_quotes $iv_text2_demean c.text_d_others_p50_demean#c.text_d_others_p50_demean  c.text_d_self_p50_demean#c.text_d_self_p50_demean ent_self_demean c.ent_self_demean#c.ent_self_demean ent_others_demean c.ent_others_demean#c.ent_others_demean, absorb(installer_id) vce(robust)\n",
    "eststo\n",
    "\n",
    "qui: areg f.log_quotes $iv_text1_demean c.text_d_others_p50_demean#c.text_d_others_p50_demean  c.text_d_self_p50_demean#c.text_d_self_p50_demean ent_self_demean c.ent_self_demean#c.ent_self_demean ent_others_demean c.ent_others_demean#c.ent_others_demean, absorb(installer_id) vce(robust)\n",
    "eststo\n",
    "\n",
    "esttab est1 est2 est3 est4 ,  order(text_d_self_p50_demean* c.text_d_self_p50_demean* text_d_others_p50_demean c.text_d_others* ent_self* c.ent_self* ent_other* c.ent_other*   avg* ) p  scalars(r2 aic bic) label  drop(*state* missing* c.avg_v2* c.avg_sent* )\n",
    "restore \n",
    "esttab est1 est2 est3 est4 using reg_ind_withtext.csv , replace  order(text_d*self* c.text_d*self* text_d*other* c.text_d_others* avg* ent_self* c.ent_self* ent_other* c.ent_other* ) p  scalars(r2 aic bic) label  drop(*state* missing* c.avg_v2* c.avg_sent* )\n"
   ]
  },
  {
   "cell_type": "code",
   "execution_count": null,
   "metadata": {},
   "outputs": [],
   "source": [
    "global iv_text1  \"avg_v2   c.avg_v2#c.avg_v2  missing_avg reviews_ct  avgmean_others  text_d_others_p50_demean text_d_self_p50_demean log_experience temp_own_price_diff_other missing_price_info log_zip_rev i.state_n \"  \n",
    "global iv_text2  \"avg_sent_score   c.avg_sent_score#c.avg_sent_score  missing_avg_sent reviews_ct  avg_sent_score_others  text_d_others_p50_demean text_d_self_p50_demean log_experience temp_own_price_diff_other missing_price_info log_zip_rev i.state_n \"  \n",
    "\n",
    "preserve\n",
    "drop if text_d_self_p50_demean==.\n",
    "drop if text_d_others_p50_demean==.\n",
    "drop if ent_others_demean==.\n",
    " \n",
    "eststo clear \n",
    "drop if ent_others_demean==.\n",
    " \n",
    "qui:areg f.log_quotes $iv_text1 c.text_d_others_p50_demean#c.text_d_others_p50_demean c.text_d_self_p50_demean#c.text_d_self_p50_demean,  absorb(installer_id) vce(robust)\n",
    "eststo\n",
    " \n",
    "qui:areg f.log_quotes $iv_text2 c.text_d_others_p50_demean#c.text_d_others_p50_demean  c.text_d_self_p50_demean#c.text_d_self_p50_demean , absorb(installer_id) vce(robust)\n",
    "eststo \n",
    " \n",
    "qui: areg f.log_quotes $iv_text2 c.text_d_others_p50_demean#c.text_d_others_p50_demean  c.text_d_self_p50_demean#c.text_d_self_p50_demean ent_self_demean c.ent_self_demean#c.ent_self_demean ent_others_demean c.ent_others_demean#c.ent_others_demean, absorb(installer_id) vce(robust)\n",
    "eststo\n",
    "\n",
    "qui: areg f.log_quotes $iv_text1 c.text_d_others_p50_demean#c.text_d_others_p50_demean  c.text_d_self_p50_demean#c.text_d_self_p50_demean ent_self_demean c.ent_self_demean#c.ent_self_demean ent_others_demean c.ent_others_demean#c.ent_others_demean, absorb(installer_id) vce(robust)\n",
    "eststo\n",
    "\n",
    "esttab est1 est2 est3 est4 ,  order(text_d_self_p50_demean* c.text_d_self_p50_demean* text_d_others_p50_demean c.text_d_others* ent_self* c.ent_self* ent_other* c.ent_other*   avg* ) p  scalars(r2 aic bic) label  drop(*state* missing* c.avg_v2* c.avg_sent* )\n",
    "restore \n",
    "//esttab est1 est2 est3 est4 using reg_ind_withtext.csv , replace  order(text_d*self* c.text_d*self* text_d*other* c.text_d_others* avg* ent_self* c.ent_self* ent_other* c.ent_other* ) p  scalars(r2 aic bic) label  drop(*state* missing* c.avg_v2* c.avg_sent* )\n"
   ]
  },
  {
   "cell_type": "markdown",
   "metadata": {},
   "source": [
    "## Hausman for Text-based "
   ]
  },
  {
   "cell_type": "code",
   "execution_count": null,
   "metadata": {},
   "outputs": [],
   "source": [
    "xtset"
   ]
  },
  {
   "cell_type": "code",
   "execution_count": null,
   "metadata": {},
   "outputs": [],
   "source": [
    "eststo clear\n",
    "\n",
    "qui: xtreg f.log_quotes $iv_text1_demean c.text_d_others_p50_demean#c.text_d_others_p50_demean  c.text_d_self_p50_demean#c.text_d_self_p50_demean ent_self_demean c.ent_self_demean#c.ent_self_demean ent_others_demean c.ent_others_demean#c.ent_others_demean, fe\n",
    "estimates store fixed \n",
    "qui: xtreg f.log_quotes $iv_text1_demean c.text_d_others_p50_demean#c.text_d_others_p50_demean  c.text_d_self_p50_demean#c.text_d_self_p50_demean ent_self_demean c.ent_self_demean#c.ent_self_demean ent_others_demean c.ent_others_demean#c.ent_others_demean, re\n",
    "estimates store random\n",
    "hausman fixed random"
   ]
  },
  {
   "cell_type": "markdown",
   "metadata": {},
   "source": [
    "## Text-based measures summary stats "
   ]
  },
  {
   "cell_type": "code",
   "execution_count": null,
   "metadata": {},
   "outputs": [],
   "source": [
    "restore"
   ]
  },
  {
   "cell_type": "code",
   "execution_count": null,
   "metadata": {},
   "outputs": [],
   "source": [
    "tab _est_filter"
   ]
  },
  {
   "cell_type": "code",
   "execution_count": null,
   "metadata": {},
   "outputs": [],
   "source": [
    "restore"
   ]
  },
  {
   "cell_type": "code",
   "execution_count": null,
   "metadata": {},
   "outputs": [],
   "source": [
    "xtset"
   ]
  },
  {
   "cell_type": "code",
   "execution_count": null,
   "metadata": {},
   "outputs": [],
   "source": [
    "restore"
   ]
  },
  {
   "cell_type": "code",
   "execution_count": null,
   "metadata": {},
   "outputs": [],
   "source": [
    "su avg_sent*"
   ]
  },
  {
   "cell_type": "code",
   "execution_count": null,
   "metadata": {},
   "outputs": [],
   "source": [
    "su avg_sent_score avg_sent_score_others if ent_mkt!=."
   ]
  },
  {
   "cell_type": "code",
   "execution_count": null,
   "metadata": {},
   "outputs": [],
   "source": [
    "br"
   ]
  },
  {
   "cell_type": "code",
   "execution_count": null,
   "metadata": {},
   "outputs": [],
   "source": [
    "global iv_text1_demean \"avg_v2_demean  c.avg_v2_demean#c.avg_v2_demean  missing_avg reviews_ct  avgmean_others_demean  text_d_others_p50_demean text_d_self_p50_demean log_experience temp_own_price_diff_other missing_price_info log_zip_rev i.state_n \"  \n",
    "global iv_text2_demean \"avg_sent_score_demean  c.avg_sent_score_demean#c.avg_sent_score_demean  missing_avg_sent reviews_ct  avg_sent_score_others_demean  text_d_others_p50_demean text_d_self_p50_demean log_experience temp_own_price_diff_other missing_price_info log_zip_rev i.state_n \"  \n",
    "\n",
    "preserve\n",
    "drop if text_d_self_p50_demean==.\n",
    "drop if text_d_others_p50_demean==.\n",
    "drop if ent_others_demean==.\n",
    "eststo clear\n",
    "qui: areg f.log_quotes $iv_text2_demean c.text_d_others_p50_demean#c.text_d_others_p50_demean  c.text_d_self_p50_demean#c.text_d_self_p50_demean ent_self_demean c.ent_self_demean#c.ent_self_demean ent_others_demean c.ent_others_demean#c.ent_others_demean, absorb(installer_id) vce(robust)\n",
    "eststo filter\n",
    "keep if _est_filter==1 \n",
    "outreg2 using summarystats_ind_textbased.doc, replace label sum(log) keep (avg_sent_score_demean avg_sent_score_others_demean  text_d_others_p50_demean text_d_self_p50_demean reviews_ct log_experience temp_own_price_diff_other log_zip_rev)\n",
    "asdoc cor avg_sent_score_demean avg_sent_score_others_demean  text_d_others_p50_demean text_d_self_p50_demean reviews_ct log_experience temp_own_price_diff_other log_zip_rev,label replace\n",
    "restore"
   ]
  },
  {
   "cell_type": "code",
   "execution_count": null,
   "metadata": {},
   "outputs": [],
   "source": [
    "global iv_text1_demean \"avg_v2_demean  c.avg_v2_demean#c.avg_v2_demean  missing_avg reviews_ct  avgmean_others_demean  text_d_others_p50_demean text_d_self_p50_demean log_experience temp_own_price_diff_other missing_price_info log_zip_rev i.state_n \"  \n",
    "global iv_text2_demean \"avg_sent_score_demean  c.avg_sent_score_demean#c.avg_sent_score_demean  missing_avg_sent reviews_ct  avg_sent_score_others_demean  text_d_others_p50_demean text_d_self_p50_demean log_experience temp_own_price_diff_other missing_price_info log_zip_rev i.state_n \"  \n",
    "\n",
    "preserve\n",
    "drop if text_d_self_p50_demean==.\n",
    "drop if text_d_others_p50_demean==.\n",
    "drop if ent_others_demean==.\n",
    "eststo clear\n",
    "su \n",
    "qui: areg f.log_quotes $iv_text2_demean c.text_d_others_p50_demean#c.text_d_others_p50_demean  c.text_d_self_p50_demean#c.text_d_self_p50_demean ent_self_demean c.ent_self_demean#c.ent_self_demean ent_others_demean c.ent_others_demean#c.ent_others_demean, absorb(installer_id) vce(robust)\n",
    "eststo filter\n",
    "keep if _est_filter==1 \n",
    "//outreg2 using summarystats_ind_textbased.doc, replace label sum(log) keep (avg_sent_score_demean avg_sent_score_others_demean  text_d_others_p50_demean text_d_self_p50_demean reviews_ct log_experience temp_own_price_diff_other log_zip_rev)\n",
    "asdoc cor avg_sent_score_demean avg_v2 avg_sent_score_others_demean avgmean_others  text_d_others_p50_demean ent_others_demean text_d_self_p50_demean ent_self_demean ,label replace\n",
    "restore"
   ]
  },
  {
   "cell_type": "code",
   "execution_count": null,
   "metadata": {},
   "outputs": [],
   "source": [
    "corr ent_others text_d_others_p50"
   ]
  },
  {
   "cell_type": "markdown",
   "metadata": {},
   "source": [
    "## Make variables for spline regression"
   ]
  },
  {
   "cell_type": "markdown",
   "metadata": {},
   "source": [
    "- three knots "
   ]
  },
  {
   "cell_type": "code",
   "execution_count": null,
   "metadata": {},
   "outputs": [],
   "source": [
    "drop ent_*spl*"
   ]
  },
  {
   "cell_type": "code",
   "execution_count": null,
   "metadata": {},
   "outputs": [],
   "source": [
    "mkspline ent_other_spl_2 2=ent_others,displayknots\n",
    "mkspline ent_self_spl_2 2=ent_self, displayknots"
   ]
  },
  {
   "cell_type": "code",
   "execution_count": null,
   "metadata": {},
   "outputs": [],
   "source": [
    "mkspline ent_other_spl_3 3=ent_others,displayknots\n",
    "mkspline ent_self_spl_3 3=ent_self, displayknots"
   ]
  },
  {
   "cell_type": "code",
   "execution_count": null,
   "metadata": {},
   "outputs": [],
   "source": [
    "label variable ent_other_spl_31 \"Rating_Entropy_Others_1\"\n",
    "label variable ent_other_spl_32 \"Rating_Entropy_Others_2\"\n",
    "label variable ent_other_spl_33 \"Rating_Entropy_Others_3\"\n",
    "label variable ent_other_spl_21 \"Rating_Entropy_Others_1\"\n",
    "label variable ent_other_spl_22 \"Rating_Entropy_Others_2\""
   ]
  },
  {
   "cell_type": "code",
   "execution_count": null,
   "metadata": {},
   "outputs": [],
   "source": [
    "label variable ent_self_spl_31 \"Rating_Entropy_Self_1\"\n",
    "label variable ent_self_spl_32 \"Rating_Entropy_Self_2\"\n",
    "label variable ent_self_spl_33 \"Rating_Entropy_Self_3\"\n",
    "label variable ent_self_spl_21 \"Rating_Entropy_Self_1\"\n",
    "label variable ent_self_spl_22 \"Rating_Entropy_Self_2\""
   ]
  },
  {
   "cell_type": "code",
   "execution_count": null,
   "metadata": {},
   "outputs": [],
   "source": [
    "su ent_other_spl_3*"
   ]
  },
  {
   "cell_type": "code",
   "execution_count": null,
   "metadata": {},
   "outputs": [],
   "source": [
    "eststo clear\n",
    "qui: areg f.log_quotes avg_v2_demean missing_avg reviews_ct  avgmean_others_demean   ent_other_spl_2* ent_self_demean    c.ent_self_demean#c.ent_self_demean log_experience temp_own_price_diff_other missing_price_info log_zip_rev i.state_n, absorb( installer_id) vce(robust) \n",
    "eststo\n",
    "qui: areg f.log_quotes avg_v2_demean missing_avg reviews_ct  avgmean_others_demean   ent_self_spl_2* ent_others_demean c.ent_others_demean#c.ent_others_demean   log_experience temp_own_price_diff_other missing_price_info log_zip_rev i.state_n, absorb( installer_id) vce(robust) \n",
    "eststo\n",
    "qui: areg f.log_quotes avg_v2_demean missing_avg reviews_ct  avgmean_others_demean   ent_other_spl_3* ent_self_demean    c.ent_self_demean#c.ent_self_demean log_experience temp_own_price_diff_other missing_price_info log_zip_rev i.state_n, absorb( installer_id) vce(robust) \n",
    "eststo\n",
    "qui: areg f.log_quotes avg_v2_demean missing_avg reviews_ct  avgmean_others_demean   ent_self_spl_3* ent_others_demean c.ent_others_demean#c.ent_others_demean   log_experience temp_own_price_diff_other missing_price_info log_zip_rev i.state_n, absorb( installer_id) vce(robust) \n",
    "eststo\n",
    "esttab,  keep(ent*spl*) order( ent_other_spl_2* ent_self_spl_2*)  p  label  scalars(r2 aic bic)\n",
    "esttab using spline_reg.csv,  keep(ent*spl*) order( ent_other_spl_2* ent_self_spl_2*)  p    label  scalars(r2 aic bic) replace"
   ]
  },
  {
   "cell_type": "markdown",
   "metadata": {},
   "source": [
    "## Dynamic Panel "
   ]
  },
  {
   "cell_type": "markdown",
   "metadata": {},
   "source": [
    " \n",
    "xtabond  f.log_quotes l(0/1).avg_v2 l(0/2).reviews_ct  l(0/2).avgmean_others ent_others ent_others_sq ent_self_demean ent_self_demean_sq  log_experience temp_own_price_diff_other missing_price_info log_zip_rev  , lags(2)  twostep noconstant"
   ]
  },
  {
   "cell_type": "code",
   "execution_count": null,
   "metadata": {},
   "outputs": [],
   "source": [
    "estat sargan"
   ]
  },
  {
   "cell_type": "code",
   "execution_count": null,
   "metadata": {},
   "outputs": [],
   "source": [
    " \n",
    "xtabond  f.log_quotes l(0/1).avg_v2 l(0/2).reviews_ct  l(0/2).avgmean_others  , lags(2) pre( ent_others_demean ent_others_demean_sq ent_self_demean ent_self_demean_sq  log_experience temp_own_price_diff_other missing_price_info log_zip_rev) twostep noconstant"
   ]
  },
  {
   "cell_type": "code",
   "execution_count": null,
   "metadata": {},
   "outputs": [],
   "source": [
    "br"
   ]
  },
  {
   "cell_type": "code",
   "execution_count": null,
   "metadata": {},
   "outputs": [],
   "source": []
  },
  {
   "cell_type": "code",
   "execution_count": null,
   "metadata": {},
   "outputs": [],
   "source": [
    "eststo clear\n",
    "xtabond  f.log_quotes   avg_v2     reviews_ct  avgmean_others     log_experience temp_own_price_diff_other missing_price_info log_zip_rev , nocons vce(robust) lags(2) two \n",
    "eststo \n",
    "xtabond  f.log_quotes   avg_v2     reviews_ct  avgmean_others   ent_self_demean ent_self_demean_sq log_experience temp_own_price_diff_other missing_price_info log_zip_rev , nocons vce(robust) lags(2) two \n",
    "eststo \n",
    "xtabond  f.log_quotes   avg_v2     reviews_ct  avgmean_others  ent_others_demean ent_others_demean_sq ent_self_demean ent_self_demean_sq log_experience temp_own_price_diff_other missing_price_info log_zip_rev , nocons vce(robust) lags(2) two \n",
    "eststo \n"
   ]
  },
  {
   "cell_type": "code",
   "execution_count": null,
   "metadata": {},
   "outputs": [],
   "source": [
    "xtabond  f.log_quotes   avg_v2     reviews_ct  avgmean_others     log_experience temp_own_price_diff_other missing_price_info log_zip_rev if (ent_others_demean!=.&ent_self_demean!=.), nocons vce(robust) lags(2) two \n",
    "eststo"
   ]
  },
  {
   "cell_type": "code",
   "execution_count": null,
   "metadata": {},
   "outputs": [],
   "source": [
    "xtabond  f.log_quotes   avg_v2     reviews_ct  avgmean_others    ent_others_demean ent_others_demean_sq log_experience temp_own_price_diff_other missing_price_info log_zip_rev if (ent_others_demean!=.&ent_self_demean!=.), nocons vce(robust) lags(2) two \n",
    "eststo"
   ]
  },
  {
   "cell_type": "code",
   "execution_count": null,
   "metadata": {},
   "outputs": [],
   "source": [
    "xtabond  f.log_quotes   avg_v2     reviews_ct  avgmean_others    ent_self_demean ent_self_demean_sq ent_others  ent_others_sq log_experience temp_own_price_diff_other missing_price_info log_zip_rev if (ent_others_demean!=.&ent_self_demean!=.), nocons vce(robust) lags(2) two \n",
    "eststo"
   ]
  },
  {
   "cell_type": "code",
   "execution_count": null,
   "metadata": {},
   "outputs": [],
   "source": [
    "esttab,  order(  log_quotes l.log_quotes ent_self* c.ent_self* ent_other* c.ent_other* avg_v2  avgmean_others ) drop(  missing* ) p  label    \n"
   ]
  },
  {
   "cell_type": "code",
   "execution_count": null,
   "metadata": {},
   "outputs": [],
   "source": [
    "esttab using ind_dynamic2.csv,  order(  log_quotes l.log_quotes ent_self* c.ent_self* ent_other* c.ent_other* avg_v2  avgmean_others ) drop(  missing* ) p  label    \n"
   ]
  },
  {
   "cell_type": "markdown",
   "metadata": {},
   "source": [
    "## IV 2sls "
   ]
  },
  {
   "cell_type": "code",
   "execution_count": null,
   "metadata": {},
   "outputs": [],
   "source": [
    "ivregress 2sls  f.log_quotes (log_quotes l.log_quotes  = l.avg_v2 l.reviews_ct l.temp_own_price_diff_other l.missing_price_info l.log_zip_rev )  avg_v2 reviews_ct temp_own_price_diff_other missing_price_info  avgmean_others ent_others ent_others_sq ent_self_demean ent_self_demean_sq  log_experience   ,    noconstant"
   ]
  },
  {
   "cell_type": "code",
   "execution_count": null,
   "metadata": {},
   "outputs": [],
   "source": [
    "estat overid"
   ]
  },
  {
   "cell_type": "markdown",
   "metadata": {},
   "source": [
    "## Dynamic Panel - overidentifying test"
   ]
  },
  {
   "cell_type": "code",
   "execution_count": null,
   "metadata": {},
   "outputs": [],
   "source": [
    " \n",
    "xtdpd  f.log_quotes avg_v2  reviews_ct  avgmean_others ent_others ent_others_sq ent_self_demean ent_self_demean_sq  log_experience temp_own_price_diff_other missing_price_info log_zip_rev  , twostep  noconstant   dgmmiv(l2.(log_quotes reviews_ct)) lgmmiv(l.log_quotes l2.log_quotes)\n",
    "\n",
    "estat sargan"
   ]
  },
  {
   "cell_type": "code",
   "execution_count": null,
   "metadata": {},
   "outputs": [],
   "source": [
    " \n",
    "xtdpd  f.log_quotes avg_v2  reviews_ct  avgmean_others ent_others ent_others_sq ent_self_demean ent_self_demean_sq  log_experience temp_own_price_diff_other missing_price_info log_zip_rev  , twostep  noconstant dgmmiv(l2.(log_quotes)) lgmmiv(l.log_quotes l2.log_quotes l.reviews_ct avgmean_others ent_others ent_others_sq ent_self_demean ent_self_demean_sq  log_experience temp_own_price_diff_other)\n",
    "\n",
    "estat sargan"
   ]
  },
  {
   "cell_type": "code",
   "execution_count": null,
   "metadata": {},
   "outputs": [],
   "source": [
    "xtabond f.log_quotes  ent_others ent_others_sq ent_self_demean ent_self_demean_sq avg_v2  reviews_ct  avgmean_others  log_experience temp_own_price_diff_other missing_price_info log_zip_re ,lags(2) noconstant maxlag(2) "
   ]
  },
  {
   "cell_type": "code",
   "execution_count": null,
   "metadata": {},
   "outputs": [],
   "source": [
    "xtabond f.log_quotes  ent_others_demean ent_others_demean_sq ent_self_demean ent_self_demean_sq avg_v2  reviews_ct  avgmean_others  log_experience temp_own_price_diff_other missing_price_info log_zip_re ,lags(2) noconstant "
   ]
  },
  {
   "cell_type": "code",
   "execution_count": null,
   "metadata": {},
   "outputs": [],
   "source": [
    "xtabond f.log_quotes  ent_others_demean ent_others_demean_sq ent_self_demean ent_self_demean_sq avg_v2  reviews_ct  avgmean_others  log_experience temp_own_price_diff_other missing_price_info log_zip_re ,lags(2) noconstant  twostep\n",
    "estat sargan"
   ]
  },
  {
   "cell_type": "code",
   "execution_count": null,
   "metadata": {},
   "outputs": [],
   "source": [
    "estat sargan"
   ]
  },
  {
   "cell_type": "code",
   "execution_count": null,
   "metadata": {},
   "outputs": [],
   "source": [
    "estat abond"
   ]
  },
  {
   "cell_type": "code",
   "execution_count": null,
   "metadata": {},
   "outputs": [],
   "source": [
    "reg f.log_quotes  l.log_quotes l.avg_v2 l.reviews_ct  l.avgmean_others  l.log_experience l.temp_own_price_diff_other l.missing_price_info l.log_zip_rev l2.log_zip_rev ,noconstant "
   ]
  },
  {
   "cell_type": "code",
   "execution_count": null,
   "metadata": {},
   "outputs": [],
   "source": [
    "test  l.log_quotes"
   ]
  },
  {
   "cell_type": "code",
   "execution_count": null,
   "metadata": {},
   "outputs": [],
   "source": [
    "test l.reviews_ct"
   ]
  },
  {
   "cell_type": "code",
   "execution_count": null,
   "metadata": {},
   "outputs": [],
   "source": [
    "test l.avgmean_others"
   ]
  },
  {
   "cell_type": "code",
   "execution_count": null,
   "metadata": {},
   "outputs": [],
   "source": [
    "test l.log_experience"
   ]
  },
  {
   "cell_type": "code",
   "execution_count": null,
   "metadata": {},
   "outputs": [],
   "source": [
    "test l.temp_own_price_diff_other"
   ]
  },
  {
   "cell_type": "code",
   "execution_count": null,
   "metadata": {},
   "outputs": [],
   "source": [
    "test l.log_zip_rev l2.log_zip_rev"
   ]
  },
  {
   "cell_type": "code",
   "execution_count": null,
   "metadata": {},
   "outputs": [],
   "source": [
    "xtabond f.log_quotes  ent_others_demean ent_others_demean_sq ent_self_demean ent_self_demean_sq avg_v2  reviews_ct   ///\n",
    "avgmean_others  log_experience temp_own_price_diff_other missing_price_info log_zip_re ,lags(2) noconstant  twostep\n",
    "estat sargan"
   ]
  },
  {
   "cell_type": "code",
   "execution_count": null,
   "metadata": {},
   "outputs": [],
   "source": [
    "xtabond f.log_quotes  ent_others_demean ent_others_demean_sq ent_self_demean ent_self_demean_sq      ///\n",
    "   temp_own_price_diff_other missing_price_info log_zip_rev ,lags(2) noconstant  twostep pre(reviews_ct avg_v2 avgmean_others log_experience)\n",
    "estat sargan"
   ]
  },
  {
   "cell_type": "code",
   "execution_count": null,
   "metadata": {},
   "outputs": [],
   "source": [
    "xtabond f.log_quotes  ent_others_demean ent_others_demean_sq ent_self_demean ent_self_demean_sq      ///\n",
    "   temp_own_price_diff_other missing_price_info log_zip_rev ,lags(2) noconstant  twostep pre(reviews_ct avg_v2 avgmean_others log_experience) maxlags(3)\n",
    "estat sargan"
   ]
  }
 ],
 "metadata": {
  "kernelspec": {
   "display_name": "Stata",
   "language": "stata",
   "name": "stata"
  },
  "language_info": {
   "codemirror_mode": "stata",
   "file_extension": ".do",
   "mimetype": "text/x-stata",
   "name": "stata",
   "version": "15.1"
  }
 },
 "nbformat": 4,
 "nbformat_minor": 4
}
