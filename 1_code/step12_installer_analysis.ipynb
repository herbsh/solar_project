{
 "cells": [
  {
   "cell_type": "code",
   "execution_count": 1,
   "metadata": {},
   "outputs": [],
   "source": [
    "use \"../3_output/regression_analysis_ind_with_ent_sent_june2020.dta\", clear"
   ]
  },
  {
   "cell_type": "code",
   "execution_count": 2,
   "metadata": {},
   "outputs": [
    {
     "name": "stdout",
     "output_type": "stream",
     "text": [
      "\n",
      "    Variable |        Obs        Mean    Std. Dev.       Min        Max\n",
      "-------------+---------------------------------------------------------\n",
      "avg_sent_s~e |      8,113    .4171853      .35676     -.8268      .9576\n",
      "avg_sent_s~t |      8,113    .5971259    .2507234          0    .886075\n",
      "avg_sent_s~s |      8,113    .5662764    .2792114     -.5994      .9576\n"
     ]
    }
   ],
   "source": [
    "su avg_sen*"
   ]
  },
  {
   "cell_type": "code",
   "execution_count": 3,
   "metadata": {},
   "outputs": [
    {
     "name": "stdout",
     "output_type": "stream",
     "text": [
      "\n",
      "    Variable |        Obs        Mean    Std. Dev.       Min        Max\n",
      "-------------+---------------------------------------------------------\n",
      "     ent_mkt |      5,340    .2376226    .1857222          0    1.05492\n",
      "  ent_others |      5,340    .2247373    .1915538          0   1.070593\n",
      "    ent_self |      5,340    .0981426    .2199734          0   1.209574\n"
     ]
    }
   ],
   "source": [
    "su ent_*"
   ]
  },
  {
   "cell_type": "markdown",
   "metadata": {},
   "source": [
    "## make labels and create demeaned vars"
   ]
  },
  {
   "cell_type": "code",
   "execution_count": 4,
   "metadata": {},
   "outputs": [
    {
     "name": "stdout",
     "output_type": "stream",
     "text": [
      "\n",
      "\n",
      "(2,773 missing values generated)\n"
     ]
    }
   ],
   "source": [
    "egen mean_ent_others = mean(ent_others)\n",
    "gen ent_others_demean=ent_others-mean_ent_others"
   ]
  },
  {
   "cell_type": "code",
   "execution_count": 5,
   "metadata": {},
   "outputs": [
    {
     "name": "stdout",
     "output_type": "stream",
     "text": [
      "\n",
      "\n",
      "(2,773 missing values generated)\n"
     ]
    }
   ],
   "source": [
    "egen mean_ent_self = mean(ent_self)\n",
    "gen ent_self_demean=ent_self-mean_ent_self"
   ]
  },
  {
   "cell_type": "code",
   "execution_count": 6,
   "metadata": {},
   "outputs": [],
   "source": [
    "egen mean_avg_v2=mean(avg_v2)\n",
    "gen avg_v2_demean=avg_v2-mean_avg_v2"
   ]
  },
  {
   "cell_type": "code",
   "execution_count": 7,
   "metadata": {},
   "outputs": [
    {
     "name": "stdout",
     "output_type": "stream",
     "text": [
      "\n",
      "\n",
      "(1,479 missing values generated)\n"
     ]
    }
   ],
   "source": [
    "egen mean_avgmean_others=mean(avgmean_others)\n",
    "gen avgmean_others_demean=avgmean_others-mean_avgmean_others"
   ]
  },
  {
   "cell_type": "code",
   "execution_count": 8,
   "metadata": {},
   "outputs": [
    {
     "name": "stdout",
     "output_type": "stream",
     "text": [
      "\n",
      "(2,773 missing values generated)\n",
      "\n",
      "(2,773 missing values generated)\n"
     ]
    }
   ],
   "source": [
    "gen ent_others_sq=ent_others*ent_others\n",
    "gen ent_self_demean_sq=ent_self_demean*ent_self_demean"
   ]
  },
  {
   "cell_type": "code",
   "execution_count": 9,
   "metadata": {},
   "outputs": [],
   "source": [
    "\n",
    "label variable ent_self_demean \"Rating_Entropy_Self\"\n",
    "label variable ent_self \"Rating_Entropy_Self\"\n",
    "label variable ent_others_demean \"Rating_Entropy_Others\"\n",
    "label variable ent_others \"Rating_Entropy_Others\"\n",
    "label variable avg_v2_demean \"Average_Rating_Self\"\n",
    "label variable avg_v2 \"Average_Rating_Self\"\n",
    "label variable avgmean_others_demean \"Average_Rating_Others\"\n",
    "label variable avgmean_others \"Average_Rating_Others\"\n",
    "label variable reviews_ct \"Review_Count\"\n",
    "label variable log_experience \"Experience\"\n",
    "label variable temp_own_price_diff_other \"Price_Difference\"\n",
    "label variable log_zip_rev \"Market_LogRevenue\"\n",
    "label variable ent_others_sq  \"Rating_Entropy_Others^2\"\n",
    "label variable ent_self_demean_sq \"Rating_Entropy_Self^2\"\n",
    "label variable log_quotes \"Installer Activity Level\""
   ]
  },
  {
   "cell_type": "code",
   "execution_count": 10,
   "metadata": {},
   "outputs": [
    {
     "name": "stdout",
     "output_type": "stream",
     "text": [
      "\n",
      "    Variable |        Obs        Mean    Std. Dev.       Min        Max\n",
      "-------------+---------------------------------------------------------\n",
      "avg_sent_s~e |      8,113    .4171853      .35676     -.8268      .9576\n"
     ]
    }
   ],
   "source": [
    "su avg_sent_score"
   ]
  },
  {
   "cell_type": "code",
   "execution_count": 11,
   "metadata": {},
   "outputs": [
    {
     "name": "stdout",
     "output_type": "stream",
     "text": [
      "\n",
      "    Variable |        Obs        Mean    Std. Dev.       Min        Max\n",
      "-------------+---------------------------------------------------------\n",
      "avg_sent_s~e |      8,113    .4171853      .35676     -.8268      .9576\n",
      "avg_sent_s~t |      8,113    .5971259    .2507234          0    .886075\n",
      "avg_sent_s~s |      8,113    .5662764    .2792114     -.5994      .9576\n"
     ]
    }
   ],
   "source": [
    "su avg_sent*"
   ]
  },
  {
   "cell_type": "code",
   "execution_count": 12,
   "metadata": {},
   "outputs": [
    {
     "name": "stdout",
     "output_type": "stream",
     "text": [
      "\n",
      "\n",
      "\n",
      "\n",
      "\n",
      "(4,113 missing values generated)\n",
      "\n",
      "\n",
      "(1,535 missing values generated)\n",
      "\n"
     ]
    }
   ],
   "source": [
    "gen avg_sent_score_demean=avg_sent_score-.4119695\n",
    "label variable avg_sent_score_demean \"Average_Sentiment_Self\"\n",
    "gen avg_sent_score_others_demean=avg_sent_score_others- .5615071\n",
    "label variable avg_sent_score_others_demean \"Average_Sentiment_Others\"\n",
    "gen text_d_self_p50_demean=text_d_self_p50-0.0635868\n",
    "label variable text_d_self_p50_demean  \"Text-based_Entropy_Self\"\n",
    "gen text_d_others_p50_demean=text_d_others_p50-0.1245589\n",
    "label variable text_d_others_p50_demean \"Text-based_Entropy_Others\""
   ]
  },
  {
   "cell_type": "markdown",
   "metadata": {},
   "source": [
    "# regular regression , quantitative measures, demeaned\n",
    "- with areg (stata command), demeaned,  to get better R-square "
   ]
  },
  {
   "cell_type": "markdown",
   "metadata": {},
   "source": [
    "## Hausman for regular regression"
   ]
  },
  {
   "cell_type": "code",
   "execution_count": 13,
   "metadata": {},
   "outputs": [
    {
     "name": "stdout",
     "output_type": "stream",
     "text": [
      "       panel variable:  installer_id (unbalanced)\n",
      "        time variable:  year_month_~t, 1 to 64\n",
      "                delta:  1 unit\n"
     ]
    }
   ],
   "source": [
    "xtset"
   ]
  },
  {
   "cell_type": "code",
   "execution_count": 14,
   "metadata": {},
   "outputs": [
    {
     "name": "stdout",
     "output_type": "stream",
     "text": [
      "\n",
      "\n",
      "\n",
      "\n",
      "\n",
      "\n",
      "\n",
      "                 ---- Coefficients ----\n",
      "             |      (b)          (B)            (b-B)     sqrt(diag(V_b-V_B))\n",
      "             |     fixed        random       Difference          S.E.\n",
      "-------------+----------------------------------------------------------------\n",
      "avg_v2_dem~n |   -.3034748    -.2661759       -.0372989        .0192533\n",
      " missing_avg |   -1.225582    -1.049137       -.1764453        .0928478\n",
      "  reviews_ct |     .045321     .0463437       -.0010228        .0013836\n",
      "avgmean_ot~n |   -.0070184    -.0331942        .0261758        .0184437\n",
      "ent_others~n |    .6294955     .6882106       -.0587151        .0565503\n",
      "ent_self_d~n |    .9359336     .9314591        .0044745        .1037552\n",
      "          c. |\n",
      "ent_others~n#|\n",
      "          c. |\n",
      "ent_others~n |   -2.478502    -2.506337        .0278346        .1207212\n",
      "          c. |\n",
      "ent_self_d~n#|\n",
      "          c. |\n",
      "ent_self_d~n |    -1.30135    -1.080349       -.2210017        .1737559\n",
      "log_experi~e |    .2210942      .225913       -.0048188        .0184084\n",
      "temp_own_p~r |    .0699603    -.0031397           .0731        .0314212\n",
      "missing_pr~o |    -.076305    -.0234582       -.0528468        .0532286\n",
      " log_zip_rev |   -.0154798    -.0151279       -.0003519        .0015936\n",
      "------------------------------------------------------------------------------\n",
      "                           b = consistent under Ho and Ha; obtained from xtreg\n",
      "            B = inconsistent under Ha, efficient under Ho; obtained from xtreg\n",
      "\n",
      "    Test:  Ho:  difference in coefficients not systematic\n",
      "\n",
      "                 chi2(12) = (b-B)'[(V_b-V_B)^(-1)](b-B)\n",
      "                          =       24.18\n",
      "                Prob>chi2 =      0.0192\n"
     ]
    }
   ],
   "source": [
    "global iv_12_demean \"avg_v2_demean missing_avg reviews_ct  avgmean_others_demean  ent_others_demean ent_self_demean  c.ent_others_demean#c.ent_others_demean  c.ent_self_demean#c.ent_self_demean log_experience temp_own_price_diff_other missing_price_info log_zip_rev i.state_n \"  \n",
    "\n",
    "qui:xtreg f.log_quotes  $iv_12_demean  , fe\n",
    "estimates store fixed \n",
    "qui:xtreg f.log_quotes $iv_12_demean   , re \n",
    "estimates store random\n",
    "hausman fixed random"
   ]
  },
  {
   "cell_type": "code",
   "execution_count": 15,
   "metadata": {},
   "outputs": [
    {
     "name": "stdout",
     "output_type": "stream",
     "text": [
      "\n",
      "\n",
      "\n",
      "\n",
      "\n",
      "\n",
      "(2,773 observations deleted)\n",
      "\n",
      "\n",
      "(est1 stored)\n",
      "\n",
      "\n",
      "(est2 stored)\n",
      "\n",
      "\n",
      "(est3 stored)\n",
      "\n",
      "\n",
      "\n",
      "--------------------------------------------------------------------\n",
      "                              (1)             (2)             (3)   \n",
      "                     F.Installe~l    F.Installe~l    F.Installe~l   \n",
      "--------------------------------------------------------------------\n",
      "Rating_Entropy_Self                                         0.936*  \n",
      "                                                          (0.011)   \n",
      "\n",
      "Rating_Entropy_Sel~t                                       -1.301*  \n",
      "                                                          (0.034)   \n",
      "\n",
      "Rating_Entropy_Oth~s                        0.644**         0.629** \n",
      "                                          (0.001)         (0.001)   \n",
      "\n",
      "Rating_Entropy_Oth~E                       -2.487***       -2.479***\n",
      "                                          (0.000)         (0.000)   \n",
      "\n",
      "Average_Rating_Self        -0.364***       -0.349***       -0.303** \n",
      "                          (0.000)         (0.000)         (0.001)   \n",
      "\n",
      "Average_Rating_Oth~s      -0.0441        -0.00785        -0.00702   \n",
      "                          (0.659)         (0.941)         (0.948)   \n",
      "\n",
      "Review_Count               0.0513***       0.0482***       0.0453***\n",
      "                          (0.000)         (0.000)         (0.000)   \n",
      "\n",
      "Experience                  0.215***        0.225***        0.221***\n",
      "                          (0.000)         (0.000)         (0.000)   \n",
      "\n",
      "Price_Difference           0.0780          0.0751          0.0700   \n",
      "                          (0.378)         (0.401)         (0.433)   \n",
      "\n",
      "Market_LogRevenue         -0.0167***      -0.0162***      -0.0155** \n",
      "                          (0.001)         (0.001)         (0.001)   \n",
      "\n",
      "Constant                    2.673***        2.720***        2.714***\n",
      "                          (0.000)         (0.000)         (0.000)   \n",
      "--------------------------------------------------------------------\n",
      "Observations                 4605            4605            4605   \n",
      "r2                          0.646           0.648           0.649   \n",
      "aic                       13329.4         13297.8         13292.3   \n",
      "bic                       13387.3         13368.6         13375.9   \n",
      "--------------------------------------------------------------------\n",
      "p-values in parentheses\n",
      "* p<0.05, ** p<0.01, *** p<0.001\n"
     ]
    }
   ],
   "source": [
    "global iv_0_demean \"avg_v2_demean missing_avg reviews_ct  avgmean_others_demean   log_experience temp_own_price_diff_other missing_price_info log_zip_rev i.state_n \"  \n",
    "global iv_11_demean \"avg_v2_demean missing_avg reviews_ct  avgmean_others_demean  ent_others_demean c.ent_others_demean#c.ent_others_demean  log_experience temp_own_price_diff_other missing_price_info log_zip_rev i.state_n \"  \n",
    "global iv_12_demean \"avg_v2_demean missing_avg reviews_ct  avgmean_others_demean  ent_others_demean ent_self_demean  c.ent_others_demean#c.ent_others_demean  c.ent_self_demean#c.ent_self_demean log_experience temp_own_price_diff_other missing_price_info log_zip_rev i.state_n \"  \n",
    "\n",
    "eststo clear \n",
    "preserve\n",
    "drop if ent_others_demean==.\n",
    "\n",
    "\n",
    "qui:areg f.log_quotes  $iv_0_demean   , absorb( installer_id) vce(robust)\n",
    "eststo\n",
    "qui:areg f.log_quotes $iv_11_demean    , absorb( installer_id) vce(robust)\n",
    "eststo\n",
    "qui:areg f.log_quotes  $iv_12_demean  , absorb( installer_id) vce(robust)\n",
    "eststo\n",
    "restore\n",
    "esttab est1 est2 est3 ,  order(  ent_self* c.ent_self* ent_other* c.ent_other* avg_v2_demean avgmean_others_demean) drop(*state* missing* ) p  label  scalars(r2 aic bic)\n",
    "\n",
    "//esttab est1 est2 est3 using reg_ind_all.csv ,  order(  ent_self* c.ent_self* ent_other* c.ent_other* avg_v2_demean avgmean_others_demean) drop(*state* missing* ) p  label  scalars(r2 aic bic)\n",
    "//esttab est1 est2 est3 using reg_ind_bigtable_areg.csv ,  order(  ent_self* c.ent_self* ent_other* c.ent_other* avg_v2_demean avgmean_others_demean) drop(*state* missing* ) p  label  scalars(r2 aic bic)"
   ]
  },
  {
   "cell_type": "markdown",
   "metadata": {},
   "source": [
    "## Marginsplot "
   ]
  },
  {
   "cell_type": "code",
   "execution_count": 16,
   "metadata": {},
   "outputs": [
    {
     "name": "stdout",
     "output_type": "stream",
     "text": [
      "\n",
      "\n",
      "\n",
      "\n",
      "  Variables that uniquely identify margins: ent_others_demean\n"
     ]
    },
    {
     "data": {
      "image/png": "[encoded data removed]",
      "text/plain": [
       "This front-end cannot display the desired image type."
      ]
     },
     "metadata": {
      "image/png": {
       "height": 436,
       "width": 600
      }
     },
     "output_type": "display_data"
    },
    {
     "name": "stdout",
     "output_type": "stream",
     "text": [
      "\n",
      "\n"
     ]
    }
   ],
   "source": [
    "qui: areg  f.log_quotes    avg_v2     reviews_ct  avgmean_others ent_others_demean c.ent_others_demean#c.ent_others_demean ent_self_demean ent_self_demean_sq  log_experience temp_own_price_diff_other missing_price_info log_zip_rev i.state_n*, absorb(installer_id)\n",
    "qui: margins , at(ent_others_demean=(-0.3(0.05)0.6))\n",
    "marginsplot,ytitle(\"Installer Activity Level\") title(\"\") "
   ]
  },
  {
   "cell_type": "code",
   "execution_count": 17,
   "metadata": {},
   "outputs": [
    {
     "name": "stdout",
     "output_type": "stream",
     "text": [
      "\n",
      "    Variable |        Obs        Mean    Std. Dev.       Min        Max\n",
      "-------------+---------------------------------------------------------\n",
      "    ent_self |      5,340    .0981426    .2199734          0   1.209574\n"
     ]
    }
   ],
   "source": [
    "su ent_self"
   ]
  },
  {
   "cell_type": "code",
   "execution_count": 18,
   "metadata": {},
   "outputs": [
    {
     "name": "stdout",
     "output_type": "stream",
     "text": [
      "\n",
      "    Variable |        Obs        Mean    Std. Dev.       Min        Max\n",
      "-------------+---------------------------------------------------------\n",
      "ent_self_d~n |      5,340   -1.38e-09    .2199734  -.0981426   1.111431\n"
     ]
    }
   ],
   "source": [
    "su ent_self_demean"
   ]
  },
  {
   "cell_type": "code",
   "execution_count": 19,
   "metadata": {},
   "outputs": [
    {
     "name": "stdout",
     "output_type": "stream",
     "text": [
      "\n",
      "\n",
      "\n",
      "\n",
      "  Variables that uniquely identify margins: ent_self_demean\n"
     ]
    },
    {
     "data": {
      "image/png": "[encoded data removed]",
      "text/plain": [
       "This front-end cannot display the desired image type."
      ]
     },
     "metadata": {
      "image/png": {
       "height": 436,
       "width": 600
      }
     },
     "output_type": "display_data"
    },
    {
     "name": "stdout",
     "output_type": "stream",
     "text": [
      "\n",
      "\n"
     ]
    }
   ],
   "source": [
    "qui: areg  f.log_quotes    avg_v2     reviews_ct  avgmean_others ent_others_demean c.ent_others_demean#c.ent_others_demean ent_self_demean c.ent_self_demean#c.ent_self_demean  log_experience temp_own_price_diff_other missing_price_info log_zip_rev, absorb(installer_id)\n",
    "qui: margins , at(ent_self_demean=(-0.1(0.05)0.95))\n",
    "marginsplot, ytitle(\"Installer Activity Level\")  title(\"\") "
   ]
  },
  {
   "cell_type": "markdown",
   "metadata": {},
   "source": [
    "# R Square Sharpley Decomp "
   ]
  },
  {
   "cell_type": "code",
   "execution_count": 20,
   "metadata": {},
   "outputs": [
    {
     "name": "stdout",
     "output_type": "stream",
     "text": [
      "       panel variable:  installer_id (unbalanced)\n",
      "        time variable:  year_month_~t, 1 to 64\n",
      "                delta:  1 unit\n"
     ]
    }
   ],
   "source": [
    "xtset"
   ]
  },
  {
   "cell_type": "code",
   "execution_count": 22,
   "metadata": {},
   "outputs": [
    {
     "name": "stdout",
     "output_type": "stream",
     "text": [
      "\n",
      "(2,773 missing values generated)\n",
      "\n",
      "variable ent_self_demean_sq already defined\n"
     ]
    },
    {
     "name": "stderr",
     "output_type": "stream",
     "text": [
      "r(110);\n",
      "r(110);\n"
     ]
    },
    {
     "name": "stdout",
     "output_type": "stream",
     "text": [
      "\n",
      "\n"
     ]
    }
   ],
   "source": [
    "gen ent_others_demean_sq=ent_others_demean*ent_others_demean\n",
    "gen ent_self_demean_sq=ent_self_demean*ent_self_demean"
   ]
  },
  {
   "cell_type": "code",
   "execution_count": 28,
   "metadata": {},
   "outputs": [],
   "source": [
    "qui: xtreg f.log_quotes avg_v2_demean missing_avg reviews_ct avgmean_others_demean ent_others_demean ent_self_demean ent_others_demean_sq ent_self_demean_sq log_experience temp_own_price_diff_other missing_price_info log_zip_rev,   vce(robust)\n"
   ]
  },
  {
   "cell_type": "code",
   "execution_count": null,
   "metadata": {},
   "outputs": [],
   "source": [
    "shapley2, stat(r2) "
   ]
  },
  {
   "cell_type": "markdown",
   "metadata": {},
   "source": [
    "## summary stats associated with regular regressions "
   ]
  },
  {
   "cell_type": "code",
   "execution_count": 15,
   "metadata": {},
   "outputs": [],
   "source": [
    "set matsize 2000"
   ]
  },
  {
   "cell_type": "code",
   "execution_count": null,
   "metadata": {},
   "outputs": [],
   "source": [
    "restore"
   ]
  },
  {
   "cell_type": "code",
   "execution_count": 21,
   "metadata": {},
   "outputs": [
    {
     "name": "stdout",
     "output_type": "stream",
     "text": [
      "\n",
      "\n",
      "\n",
      "\n",
      "(2,773 observations deleted)\n",
      "\n",
      "\n",
      "\n",
      "(735 observations deleted)\n",
      "\n",
      "\n",
      "\n",
      "    Variable |        Obs        Mean    Std. Dev.       Min        Max\n",
      "-------------+---------------------------------------------------------\n",
      "  reviews_ct |      4,605     5.22975    6.515319          0         51\n",
      "avgmean_ot~s |      4,605    4.883561    .1932303          1          5\n",
      "  ent_others |      4,605    .2394583    .1873842          0   1.070593\n",
      "    ent_self |      4,605    .1017694    .2227714          0   1.209574\n",
      "log_experi~e |      4,605    1.608695    1.016364          0    3.78419\n",
      "-------------+---------------------------------------------------------\n",
      "temp_own_p~r |      4,605   -.0309957     .381567  -2.171179   3.211889\n",
      "      avg_v2 |      4,605    4.525429    1.327224          0          5\n",
      " log_zip_rev |      4,605    11.60099    8.157138          0   22.30267\n",
      "\n",
      "\n",
      "summarystats_ind.doc\n",
      "dir : seeout\n",
      "\n",
      "(obs=4,605)\n",
      "\n",
      "             | ent_self ent_ot~s   avg_v2 avgmea~s review~t log_ex~e temp_o~r log_zi~v\n",
      "-------------+------------------------------------------------------------------------\n",
      "    ent_self |   1.0000\n",
      "  ent_others |  -0.0749   1.0000\n",
      "      avg_v2 |  -0.0838   0.0628   1.0000\n",
      "avgmean_ot~s |   0.0234  -0.5110  -0.0167   1.0000\n",
      "  reviews_ct |   0.2569   0.0548   0.2103  -0.0399   1.0000\n",
      "log_experi~e |  -0.0173   0.0514   0.0205  -0.0942   0.1227   1.0000\n",
      "temp_own_p~r |  -0.0106  -0.0373   0.0045   0.0178  -0.0302  -0.0348   1.0000\n",
      " log_zip_rev |  -0.0417  -0.0960  -0.0226   0.0174  -0.0435   0.5879  -0.0603   1.0000\n",
      "\n",
      "(note: file Myfile.doc not found)\n",
      "Click to Open File:  Myfile.doc\n",
      "\n",
      "\n",
      "             | ent_self ent_ot~s   avg_v2 avgmea~s review~t log_ex~e temp_o~r\n",
      "-------------+---------------------------------------------------------------\n",
      "    ent_self |   1.0000 \n",
      "  ent_others |  -0.0749*  1.0000 \n",
      "      avg_v2 |  -0.0838*  0.0628*  1.0000 \n",
      "avgmean_ot~s |   0.0234  -0.5110* -0.0167   1.0000 \n",
      "  reviews_ct |   0.2569*  0.0548*  0.2103* -0.0399*  1.0000 \n",
      "log_experi~e |  -0.0173   0.0514*  0.0205  -0.0942*  0.1227*  1.0000 \n",
      "temp_own_p~r |  -0.0106  -0.0373*  0.0045   0.0178  -0.0302* -0.0348*  1.0000 \n",
      " log_zip_rev |  -0.0417* -0.0960* -0.0226   0.0174  -0.0435*  0.5879* -0.0603*\n",
      "\n",
      "             | log_zi~v\n",
      "-------------+---------\n",
      " log_zip_rev |   1.0000 \n",
      "\n"
     ]
    }
   ],
   "source": [
    "global iv_0_demean \"avg_v2_demean missing_avg reviews_ct  avgmean_others_demean   log_experience temp_own_price_diff_other missing_price_info log_zip_rev i.state_n \"  \n",
    " \n",
    "eststo clear \n",
    "preserve\n",
    "drop if ent_others_demean==.\n",
    "qui:areg f.log_quotes  $iv_12_demean  , absorb( installer_id) vce(robust)\n",
    "eststo filter\n",
    "keep if _est_filter==1\n",
    "keep  ent_self ent_others avg_v2 avgmean_others reviews_ct log_experience temp_own_price_diff_other log_zip_rev \n",
    "outreg2 using summarystats_ind.doc, replace label sum(log) keep (ent_self ent_others avg_v2 avgmean_others reviews_ct log_experience temp_own_price_diff_other log_zip_rev)\n",
    "asdoc cor   ent_self ent_others avg_v2 avgmean_others reviews_ct log_experience temp_own_price_diff_other log_zip_rev,label replace\n",
    "pwcorr  ent_self ent_others avg_v2 avgmean_others reviews_ct log_experience temp_own_price_diff_other log_zip_rev ,star(.05) \n",
    "restore"
   ]
  },
  {
   "cell_type": "markdown",
   "metadata": {},
   "source": [
    "# with text-based measures"
   ]
  },
  {
   "cell_type": "code",
   "execution_count": null,
   "metadata": {},
   "outputs": [],
   "source": [
    "replace text_d_others_p50_demean=0 if (text_d_others_p50_demean==.&ent_others_demean!=.)"
   ]
  },
  {
   "cell_type": "code",
   "execution_count": null,
   "metadata": {},
   "outputs": [],
   "source": [
    "replace avgmean_others_demean=avg_sent_score_others_demean if avgmean_others_demean==."
   ]
  },
  {
   "cell_type": "code",
   "execution_count": null,
   "metadata": {},
   "outputs": [],
   "source": [
    "restore"
   ]
  },
  {
   "cell_type": "markdown",
   "metadata": {},
   "source": [
    "## Text-based measures regression"
   ]
  },
  {
   "cell_type": "code",
   "execution_count": null,
   "metadata": {},
   "outputs": [],
   "source": [
    "su avg_v2"
   ]
  },
  {
   "cell_type": "code",
   "execution_count": null,
   "metadata": {},
   "outputs": [],
   "source": [
    "su avg_v2_demean"
   ]
  },
  {
   "cell_type": "code",
   "execution_count": null,
   "metadata": {},
   "outputs": [],
   "source": [
    "global iv_text1_demean \"avg_v2_demean  c.avg_v2_demean#c.avg_v2_demean  missing_avg reviews_ct  avgmean_others_demean  text_d_others_p50_demean text_d_self_p50_demean log_experience temp_own_price_diff_other missing_price_info log_zip_rev i.state_n \"  \n",
    "global iv_text2_demean \"avg_sent_score_demean  c.avg_sent_score_demean#c.avg_sent_score_demean  missing_avg_sent reviews_ct  avg_sent_score_others_demean  text_d_others_p50_demean text_d_self_p50_demean log_experience temp_own_price_diff_other missing_price_info log_zip_rev i.state_n \"  \n",
    "\n",
    "preserve\n",
    "drop if text_d_self_p50_demean==.\n",
    "drop if text_d_others_p50_demean==.\n",
    "drop if ent_others_demean==.\n",
    " \n",
    "eststo clear \n",
    "drop if ent_others_demean==.\n",
    " \n",
    "qui:areg f.log_quotes $iv_text1_demean c.text_d_others_p50_demean#c.text_d_others_p50_demean c.text_d_self_p50_demean#c.text_d_self_p50_demean,  absorb(installer_id) vce(robust)\n",
    "eststo\n",
    " \n",
    "qui:areg f.log_quotes $iv_text2_demean c.text_d_others_p50_demean#c.text_d_others_p50_demean  c.text_d_self_p50_demean#c.text_d_self_p50_demean , absorb(installer_id) vce(robust)\n",
    "eststo \n",
    " \n",
    "qui: areg f.log_quotes $iv_text2_demean c.text_d_others_p50_demean#c.text_d_others_p50_demean  c.text_d_self_p50_demean#c.text_d_self_p50_demean ent_self_demean c.ent_self_demean#c.ent_self_demean ent_others_demean c.ent_others_demean#c.ent_others_demean, absorb(installer_id) vce(robust)\n",
    "eststo\n",
    "\n",
    "qui: areg f.log_quotes $iv_text1_demean c.text_d_others_p50_demean#c.text_d_others_p50_demean  c.text_d_self_p50_demean#c.text_d_self_p50_demean ent_self_demean c.ent_self_demean#c.ent_self_demean ent_others_demean c.ent_others_demean#c.ent_others_demean, absorb(installer_id) vce(robust)\n",
    "eststo\n",
    "\n",
    "esttab est1 est2 est3 est4 ,  order(text_d_self_p50_demean* c.text_d_self_p50_demean* text_d_others_p50_demean c.text_d_others* ent_self* c.ent_self* ent_other* c.ent_other*   avg* ) p  scalars(r2 aic bic) label  drop(*state* missing* c.avg_v2* c.avg_sent* )\n",
    "restore \n",
    "esttab est1 est2 est3 est4 using reg_ind_withtext.csv , replace  order(text_d*self* c.text_d*self* text_d*other* c.text_d_others* avg* ent_self* c.ent_self* ent_other* c.ent_other* ) p  scalars(r2 aic bic) label  drop(*state* missing* c.avg_v2* c.avg_sent* )\n"
   ]
  },
  {
   "cell_type": "code",
   "execution_count": null,
   "metadata": {},
   "outputs": [],
   "source": [
    "global iv_text1  \"avg_v2   c.avg_v2#c.avg_v2  missing_avg reviews_ct  avgmean_others  text_d_others_p50_demean text_d_self_p50_demean log_experience temp_own_price_diff_other missing_price_info log_zip_rev i.state_n \"  \n",
    "global iv_text2  \"avg_sent_score   c.avg_sent_score#c.avg_sent_score  missing_avg_sent reviews_ct  avg_sent_score_others  text_d_others_p50_demean text_d_self_p50_demean log_experience temp_own_price_diff_other missing_price_info log_zip_rev i.state_n \"  \n",
    "\n",
    "preserve\n",
    "drop if text_d_self_p50_demean==.\n",
    "drop if text_d_others_p50_demean==.\n",
    "drop if ent_others_demean==.\n",
    " \n",
    "eststo clear \n",
    "drop if ent_others_demean==.\n",
    " \n",
    "qui:areg f.log_quotes $iv_text1 c.text_d_others_p50_demean#c.text_d_others_p50_demean c.text_d_self_p50_demean#c.text_d_self_p50_demean,  absorb(installer_id) vce(robust)\n",
    "eststo\n",
    " \n",
    "qui:areg f.log_quotes $iv_text2 c.text_d_others_p50_demean#c.text_d_others_p50_demean  c.text_d_self_p50_demean#c.text_d_self_p50_demean , absorb(installer_id) vce(robust)\n",
    "eststo \n",
    " \n",
    "qui: areg f.log_quotes $iv_text2 c.text_d_others_p50_demean#c.text_d_others_p50_demean  c.text_d_self_p50_demean#c.text_d_self_p50_demean ent_self_demean c.ent_self_demean#c.ent_self_demean ent_others_demean c.ent_others_demean#c.ent_others_demean, absorb(installer_id) vce(robust)\n",
    "eststo\n",
    "\n",
    "qui: areg f.log_quotes $iv_text1 c.text_d_others_p50_demean#c.text_d_others_p50_demean  c.text_d_self_p50_demean#c.text_d_self_p50_demean ent_self_demean c.ent_self_demean#c.ent_self_demean ent_others_demean c.ent_others_demean#c.ent_others_demean, absorb(installer_id) vce(robust)\n",
    "eststo\n",
    "\n",
    "esttab est1 est2 est3 est4 ,  order(text_d_self_p50_demean* c.text_d_self_p50_demean* text_d_others_p50_demean c.text_d_others* ent_self* c.ent_self* ent_other* c.ent_other*   avg* ) p  scalars(r2 aic bic) label  drop(*state* missing* c.avg_v2* c.avg_sent* )\n",
    "restore \n",
    "//esttab est1 est2 est3 est4 using reg_ind_withtext.csv , replace  order(text_d*self* c.text_d*self* text_d*other* c.text_d_others* avg* ent_self* c.ent_self* ent_other* c.ent_other* ) p  scalars(r2 aic bic) label  drop(*state* missing* c.avg_v2* c.avg_sent* )\n"
   ]
  },
  {
   "cell_type": "markdown",
   "metadata": {},
   "source": [
    "## Hausman for Text-based "
   ]
  },
  {
   "cell_type": "code",
   "execution_count": null,
   "metadata": {},
   "outputs": [],
   "source": [
    "xtset"
   ]
  },
  {
   "cell_type": "code",
   "execution_count": null,
   "metadata": {},
   "outputs": [],
   "source": [
    "eststo clear\n",
    "\n",
    "qui: xtreg f.log_quotes $iv_text1_demean c.text_d_others_p50_demean#c.text_d_others_p50_demean  c.text_d_self_p50_demean#c.text_d_self_p50_demean ent_self_demean c.ent_self_demean#c.ent_self_demean ent_others_demean c.ent_others_demean#c.ent_others_demean, fe\n",
    "estimates store fixed \n",
    "qui: xtreg f.log_quotes $iv_text1_demean c.text_d_others_p50_demean#c.text_d_others_p50_demean  c.text_d_self_p50_demean#c.text_d_self_p50_demean ent_self_demean c.ent_self_demean#c.ent_self_demean ent_others_demean c.ent_others_demean#c.ent_others_demean, re\n",
    "estimates store random\n",
    "hausman fixed random"
   ]
  },
  {
   "cell_type": "markdown",
   "metadata": {},
   "source": [
    "## Text-based measures summary stats "
   ]
  },
  {
   "cell_type": "code",
   "execution_count": null,
   "metadata": {},
   "outputs": [],
   "source": [
    "restore"
   ]
  },
  {
   "cell_type": "code",
   "execution_count": null,
   "metadata": {},
   "outputs": [],
   "source": [
    "tab _est_filter"
   ]
  },
  {
   "cell_type": "code",
   "execution_count": null,
   "metadata": {},
   "outputs": [],
   "source": [
    "restore"
   ]
  },
  {
   "cell_type": "code",
   "execution_count": null,
   "metadata": {},
   "outputs": [],
   "source": [
    "xtset"
   ]
  },
  {
   "cell_type": "code",
   "execution_count": null,
   "metadata": {},
   "outputs": [],
   "source": [
    "restore"
   ]
  },
  {
   "cell_type": "code",
   "execution_count": null,
   "metadata": {},
   "outputs": [],
   "source": [
    "su avg_sent*"
   ]
  },
  {
   "cell_type": "code",
   "execution_count": null,
   "metadata": {},
   "outputs": [],
   "source": [
    "su avg_sent_score avg_sent_score_others if ent_mkt!=."
   ]
  },
  {
   "cell_type": "code",
   "execution_count": null,
   "metadata": {},
   "outputs": [],
   "source": [
    "br"
   ]
  },
  {
   "cell_type": "code",
   "execution_count": null,
   "metadata": {},
   "outputs": [
    {
     "name": "stdout",
     "output_type": "stream",
     "text": [
      "\n",
      "\n",
      "\n",
      "\n",
      "(4,113 observations deleted)\n",
      "\n",
      "(246 observations deleted)\n",
      "\n",
      "(0 observations deleted)\n",
      "\n",
      "\n",
      "\n",
      "\n",
      "(275 observations deleted)\n",
      "\n",
      "\n",
      "    Variable |        Obs        Mean    Std. Dev.       Min        Max\n",
      "-------------+---------------------------------------------------------\n",
      "         avg |      3,339    4.866287    .3649865          1          5\n",
      "avg_sent_s~e |      3,479    .6563698    .1843458     -.8268      .9576\n",
      "        five |      3,479      6.1785    6.478082          0         46\n",
      "        four |      3,479    .2457603     .695189          0          5\n",
      "installer_id |      3,479    18521.82    6551.237        363      22992\n",
      "-------------+---------------------------------------------------------\n",
      "      market |      3,479    17.84248    13.97718         -1         36\n",
      "         one |      3,479    .1063524    .4526612          0          5\n",
      "quotes_count |      3,479    52.71055    117.3589          0       1417\n",
      "  reviews_ct |      3,479    6.612532    6.921761          0         51\n",
      "       three |      3,479    .0477149    .2198327          0          2\n",
      "-------------+---------------------------------------------------------\n",
      "         two |      3,479    .0342052     .222982          0          3\n",
      "winning_qu~t |      2,939    1.022797    2.203675          0         43\n",
      "year_month~t |      3,479    50.62662    8.741544          8         63\n",
      " avgmean_mkt |      3,478    4.875113    .1683843          3          5\n",
      "avgmean_ot~s |      3,409    4.879767    .1904149          1          5\n",
      "-------------+---------------------------------------------------------\n",
      "avg_sent_s~t |      3,479    .6852534    .0603314          0    .886075\n",
      "avg_sent_s~s |      3,479     .672438    .1197945     -.5994      .9576\n",
      "     ent_mkt |      3,479    .2577287    .1695594          0    1.05492\n",
      "  ent_others |      3,479    .2432968    .1782401          0   1.070593\n",
      "    ent_self |      3,479    .1372168    .2493131          0   1.209574\n",
      "-------------+---------------------------------------------------------\n",
      "       since |      3,405    2007.597    6.092543       1975       2017\n",
      "    unnamed0 |      2,399     783.183    443.9138          5       1337\n",
      "       month |      2,839    6.351532    3.649996          1         12\n",
      "        year |      2,839    2016.699    .8372718       2013       2018\n",
      "zipcode_to~v |      3,479    4.37e+07    1.26e+08          0   4.85e+09\n",
      "-------------+---------------------------------------------------------\n",
      "   own_price |        982    3.653232    .5674521   1.581735   5.601217\n",
      "other_prices |      2,386    3.753963    .3033665   2.499707   5.247587\n",
      "  log_quotes |      3,479    2.638131    1.734887          0   7.257003\n",
      "  experience |      3,479    6.756539    5.610585          0         43\n",
      "     state_n |      3,479    13.46536    9.732618          1         32\n",
      "-------------+---------------------------------------------------------\n",
      "log_experi~e |      3,479    1.689331    .9773812          0    3.78419\n",
      "temp_own_p~r |      3,479    -.044801    .3299334  -2.171179   1.857366\n",
      "missing_pr~o |      3,479    .7191722    .4494682          0          1\n",
      "      avg_v2 |      3,479    4.670461    1.021134          0          5\n",
      " missing_avg |      3,479    .0402414    .1965532          0          1\n",
      "-------------+---------------------------------------------------------\n",
      " log_zip_rev |      3,479    11.80423    8.060833          0   22.30267\n",
      "text_d_mk~an |      3,479    .1371948      .01265   .0851596   .2113086\n",
      "text_d_mkt~d |      3,479    .0636416    .0135157   .0158695   .1368445\n",
      "text_d_mk~in |      3,479    .0263544    .0228135  -1.19e-07   .1272612\n",
      "text_d_mk~25 |      3,479    .0931047     .010687   .0696086   .1650673\n",
      "-------------+---------------------------------------------------------\n",
      "text_d_mk~50 |      3,479    .1227711    .0121269   .0826495   .2043765\n",
      "text_d_mk~75 |      3,479    .1658056    .0218374   .0918022   .3664199\n",
      "text_d_mkt~x |      3,479    .4472817    .1382507   .1076363   .7564847\n",
      "text_~f_mean |      3,479     .132744    .0458185          0   .3812145\n",
      "text_d_sel~d |      2,687    .0488782    .0316991   .0029742   .1935145\n",
      "-------------+---------------------------------------------------------\n",
      "text_d_se~in |      3,479    .0801795    .0471021  -1.19e-07   .3812145\n",
      "text_d_se~25 |      3,479    .1071132    .0413716          0   .3812145\n",
      "text_d_se~50 |      3,479    .1292651    .0477921          0   .3812145\n",
      "text_d_se~75 |      3,479    .1567658     .063455          0   .4086581\n",
      "text_d_sel~x |      3,479    .2031734    .0957189          0   .5335009\n",
      "-------------+---------------------------------------------------------\n",
      "text_~s_mean |      3,479    .1369006      .01715   .0664724   .2817027\n",
      "text_d_oth~d |      3,409    .0630101    .0145095   .0101559   .1592438\n",
      "text_d_ot~in |      3,479     .029959     .029501  -1.19e-07   .2325439\n",
      "text_d_ot~25 |      3,479    .0943871    .0161954   .0601393   .2360758\n",
      "text_d_ot~50 |      3,479    .1236347    .0196743   .0664724   .3658786\n",
      "-------------+---------------------------------------------------------\n",
      "text_d_ot~75 |      3,479    .1643058    .0249177   .0664724   .3718792\n",
      "text_d_oth~x |      3,479    .4324716    .1509241   .0664724   .7564847\n",
      "missing_a~nt |      3,479    .0408163    .1978929          0          1\n",
      "missing_av~s |      3,479    .0201207    .1404334          0          1\n",
      "missing_a~kt |      3,479    .0002874     .016954          0          1\n",
      "-------------+---------------------------------------------------------\n",
      "mean_ent_o~s |      3,479    .2247373           0   .2247373   .2247373\n",
      "ent_others~n |      3,479    .0185595    .1782401  -.2247373   .8458561\n",
      "mean_ent_s~f |      3,479    .0981426           0   .0981426   .0981426\n",
      "ent_self_d~n |      3,479    .0390743    .2493131  -.0981426   1.111431\n",
      " mean_avg_v2 |      3,479     2.97946           0    2.97946    2.97946\n",
      "-------------+---------------------------------------------------------\n",
      "avg_v2_dem~n |      3,479    1.691001    1.021134   -2.97946    2.02054\n",
      "mean_avgme~s |      3,479    4.891381           0   4.891381   4.891381\n",
      "avgmean_ot~n |      3,409   -.0116141    .1904149  -3.891381   .1086187\n",
      "ent_others~q |      3,479    .0909537    .1302896          0    1.14617\n",
      "ent_self_d~q |      3,479     .063666    .1336175   .0002066    1.23528\n",
      "-------------+---------------------------------------------------------\n",
      "avg~e_demean |      3,479    .2444003    .1843458   -1.23877   .5456305\n",
      "avg_sent_s.. |      3,479    .1109309    .1197945  -1.160907   .3960929\n",
      "text_d_sel.. |      3,479    .0656783    .0477921  -.0635868   .3176277\n",
      "text_d_oth.. |      3,479   -.0009242    .0196743  -.0580865   .2413197\n",
      "  _est_fixed |      3,479    .9798793    .1404334          0          1\n",
      "-------------+---------------------------------------------------------\n",
      " _est_random |      3,479    .9798793    .1404334          0          1\n",
      " _est_filter |      3,479           1           0          1          1\n",
      "\n",
      "Following variable is string, not included:  \n",
      "state  \n",
      "summarystats_ind_textbased.doc\n",
      "dir : seeout\n",
      "\n",
      "(note: file Myfile.doc not found)\n",
      "\n",
      "             | avg_se.. avg_se.. text_d.. text_d.. review~t log_ex~e temp_o~r log_zi~v\n",
      "-------------+------------------------------------------------------------------------\n",
      "avg~e_demean |   1.0000 \n",
      "avg_sent_s.. |  -0.0421   1.0000 \n",
      "text_d_oth.. |  -0.0349  -0.0982*  1.0000 \n",
      "text_d_sel.. |  -0.1309* -0.0443* -0.1343*  1.0000 \n",
      "  reviews_ct |   0.1361*  0.0352  -0.0164  -0.1107*  1.0000 \n",
      "log_experi~e |   0.0507*  0.0146  -0.0160  -0.0282   0.1031*  1.0000 \n",
      "temp_own_p~r |  -0.0179   0.0179  -0.0044  -0.0142  -0.0104  -0.0679*  1.0000 \n",
      " log_zip_rev |   0.0086   0.1069* -0.1182* -0.0461* -0.0659*  0.5372* -0.1031*  1.0000 \n",
      "Click to Open File:  Myfile.doc\n",
      "\n"
     ]
    }
   ],
   "source": [
    "global iv_text1_demean \"avg_v2_demean  c.avg_v2_demean#c.avg_v2_demean  missing_avg reviews_ct  avgmean_others_demean  text_d_others_p50_demean text_d_self_p50_demean log_experience temp_own_price_diff_other missing_price_info log_zip_rev i.state_n \"  \n",
    "global iv_text2_demean \"avg_sent_score_demean  c.avg_sent_score_demean#c.avg_sent_score_demean  missing_avg_sent reviews_ct  avg_sent_score_others_demean  text_d_others_p50_demean text_d_self_p50_demean log_experience temp_own_price_diff_other missing_price_info log_zip_rev i.state_n \"  \n",
    "\n",
    "preserve\n",
    "drop if text_d_self_p50_demean==.\n",
    "drop if text_d_others_p50_demean==.\n",
    "drop if ent_others_demean==.\n",
    "eststo clear\n",
    "qui: areg f.log_quotes $iv_text2_demean c.text_d_others_p50_demean#c.text_d_others_p50_demean  c.text_d_self_p50_demean#c.text_d_self_p50_demean ent_self_demean c.ent_self_demean#c.ent_self_demean ent_others_demean c.ent_others_demean#c.ent_others_demean, absorb(installer_id) vce(robust)\n",
    "eststo filter\n",
    "keep if _est_filter==1 \n",
    "outreg2 using summarystats_ind_textbased.doc, replace label sum(log) keep (avg_sent_score_demean avg_sent_score_others_demean  text_d_others_p50_demean text_d_self_p50_demean reviews_ct log_experience temp_own_price_diff_other log_zip_rev)\n",
    "asdoc pwcorr avg_sent_score_demean avg_sent_score_others_demean  text_d_others_p50_demean text_d_self_p50_demean reviews_ct log_experience temp_own_price_diff_other log_zip_rev,label replace star(0.01)\n",
    "restore"
   ]
  },
  {
   "cell_type": "code",
   "execution_count": null,
   "metadata": {},
   "outputs": [
    {
     "name": "stdout",
     "output_type": "stream",
     "text": [
      "\n",
      "\n",
      "\n",
      "\n",
      "(4,113 observations deleted)\n",
      "\n",
      "(246 observations deleted)\n",
      "\n",
      "(0 observations deleted)\n",
      "\n",
      "\n",
      "\n",
      "    Variable |        Obs        Mean    Std. Dev.       Min        Max\n",
      "-------------+---------------------------------------------------------\n",
      "         avg |      3,612    4.863811    .3695918          1          5\n",
      "avg_sent_s~e |      3,754    .6564492    .1820967     -.8268      .9576\n",
      "        five |      3,754    6.273841    6.607703          0         47\n",
      "        four |      3,754    .2466702    .7012576          0          6\n",
      "installer_id |      3,754    18589.71    6511.627        363      22992\n",
      "-------------+---------------------------------------------------------\n",
      "      market |      3,754    17.78023    13.94494         -1         36\n",
      "         one |      3,754    .1116143    .4652123          0          5\n",
      "quotes_count |      3,754    50.63133      114.04          0       1417\n",
      "  reviews_ct |      3,754    6.714438    7.056241          0         52\n",
      "       three |      3,754    .0466169    .2182959          0          2\n",
      "-------------+---------------------------------------------------------\n",
      "         two |      3,754    .0356953    .2280706          0          3\n",
      "winning_qu~t |      3,214    .9688861    2.136261          0         43\n",
      "year_month~t |      3,754    51.28982    8.909598          8         64\n",
      " avgmean_mkt |      3,753    4.871829    .1710963          3          5\n",
      "avgmean_ot~s |      3,678    4.876126    .1951193          1          5\n",
      "-------------+---------------------------------------------------------\n",
      "avg_sent_s~t |      3,754    .6839115    .0609076          0    .886075\n",
      "avg_sent_s~s |      3,754    .6709965    .1207861     -.5994      .9576\n",
      "     ent_mkt |      3,754    .2601511    .1706298          0    1.05492\n",
      "  ent_others |      3,754    .2454124    .1788154          0   1.070593\n",
      "    ent_self |      3,754    .1383266    .2503221          0   1.209574\n",
      "-------------+---------------------------------------------------------\n",
      "       state |          0\n",
      "       since |      3,671     2007.64     6.09824       1975       2017\n",
      "    unnamed0 |      2,476      780.54    443.9062          5       1337\n",
      "       month |      3,097    6.206006    3.610321          1         12\n",
      "        year |      3,097    2016.776    .8609821       2013       2018\n",
      "-------------+---------------------------------------------------------\n",
      "zipcode_to~v |      3,754    4.16e+07    1.22e+08          0   4.85e+09\n",
      "   own_price |      1,015    3.652181    .5686856   1.581735   5.601217\n",
      "other_prices |      2,462     3.75163    .3032817   2.499707   5.247587\n",
      "  log_quotes |      3,754    2.617043    1.705102          0   7.257003\n",
      "  experience |      3,754    6.891849    5.707454          0         43\n",
      "-------------+---------------------------------------------------------\n",
      "     state_n |      3,754    13.44592     9.74795          1         32\n",
      "log_experi~e |      3,754    1.712354    .9696832          0    3.78419\n",
      "temp_own_p~r |      3,754   -.0423033    .3239826  -2.171179   1.857366\n",
      "missing_pr~o |      3,754      .73122    .4433843          0          1\n",
      "      avg_v2 |      3,754    4.679831    .9963207          0          5\n",
      "-------------+---------------------------------------------------------\n",
      " missing_avg |      3,754    .0378263    .1908014          0          1\n",
      " log_zip_rev |      3,754    11.28757    8.241823          0   22.30267\n",
      "text_d_mk~an |      3,754    .1374126    .0126715   .0851596   .2113086\n",
      "text_d_mkt~d |      3,754    .0637785    .0134413   .0158695   .1368445\n",
      "text_d_mk~in |      3,754    .0258604     .022814  -1.19e-07   .1272612\n",
      "-------------+---------------------------------------------------------\n",
      "text_d_mk~25 |      3,754    .0932111    .0106368   .0696086   .1650673\n",
      "text_d_mk~50 |      3,754    .1229153    .0120584   .0826495   .2043765\n",
      "text_d_mk~75 |      3,754    .1661232     .021953   .0918022   .3664199\n",
      "text_d_mkt~x |      3,754    .4506079    .1388212   .1076363   .7564847\n",
      "text_~f_mean |      3,754    .1331514    .0462241          0   .3812145\n",
      "-------------+---------------------------------------------------------\n",
      "text_d_sel~d |      2,915    .0489305    .0316651   .0029742   .2048007\n",
      "text_d_se~in |      3,754    .0801085    .0475373  -1.19e-07   .3812145\n",
      "text_d_se~25 |      3,754    .1073476    .0417432          0   .3812145\n",
      "text_d_se~50 |      3,754    .1296118    .0480625          0   .3812145\n",
      "text_d_se~75 |      3,754    .1573653    .0638857          0   .4301152\n",
      "-------------+---------------------------------------------------------\n",
      "text_d_sel~x |      3,754    .2042504    .0961437          0   .6048386\n",
      "text_~s_mean |      3,754    .1371353    .0171841   .0664724   .2817027\n",
      "text_d_oth~d |      3,678    .0631575    .0143899   .0101559   .1592438\n",
      "text_d_ot~in |      3,754    .0294377     .029603  -1.19e-07   .2325439\n",
      "text_d_ot~25 |      3,754    .0945068    .0162918   .0601393   .2360758\n",
      "-------------+---------------------------------------------------------\n",
      "text_d_ot~50 |      3,754    .1237907    .0197739   .0664724   .3658786\n",
      "text_d_ot~75 |      3,754    .1646568    .0248447   .0664724   .3718792\n",
      "text_d_oth~x |      3,754    .4358896    .1514388   .0664724   .7564847\n",
      "missing_a~nt |      3,754    .0383591    .1920872          0          1\n",
      "missing_av~s |      3,754    .0202451    .1408563          0          1\n",
      "-------------+---------------------------------------------------------\n",
      "missing_a~kt |      3,754    .0002664    .0163212          0          1\n",
      "mean_ent_o~s |      3,754    .2247373           0   .2247373   .2247373\n",
      "ent_others~n |      3,754    .0206752    .1788154  -.2247373   .8458561\n",
      "mean_ent_s~f |      3,754    .0981426           0   .0981426   .0981426\n",
      "ent_self_d~n |      3,754     .040184    .2503221  -.0981426   1.111431\n",
      "-------------+---------------------------------------------------------\n",
      " mean_avg_v2 |      3,754     2.97946           0    2.97946    2.97946\n",
      "avg_v2_dem~n |      3,754    1.700371    .9963207   -2.97946    2.02054\n",
      "mean_avgme~s |      3,754    4.891381           0   4.891381   4.891381\n",
      "avgmean_ot~n |      3,678   -.0152552    .1951193  -3.891381   .1086187\n",
      "ent_others~q |      3,754    .0921937    .1310511          0    1.14617\n",
      "-------------+---------------------------------------------------------\n",
      "ent_self_d~q |      3,754    .0642592    .1346798   .0001067    1.23528\n",
      "avg~e_demean |      3,754    .2444797    .1820967   -1.23877   .5456305\n",
      "avg_sent_s.. |      3,754    .1094894    .1207861  -1.160907   .3960929\n",
      "text_d_sel.. |      3,754     .066025    .0480625  -.0635868   .3176277\n",
      "text_d_oth.. |      3,754   -.0007682    .0197739  -.0580865   .2413197\n",
      "-------------+---------------------------------------------------------\n",
      "  _est_fixed |      3,754     .908098     .288926          0          1\n",
      " _est_random |      3,754     .908098     .288926          0          1\n",
      "\n",
      "\n",
      "\n",
      "(275 observations deleted)\n",
      "\n",
      "(note: file Myfile.doc not found)\n",
      "\n",
      "             | avg_se..   avg_v2 avg_se.. avgmea~s text_d.. ent_ot~n text_d.. ent_se~n\n",
      "-------------+------------------------------------------------------------------------\n",
      "avg~e_demean |   1.0000 \n",
      "      avg_v2 |   0.8288*  1.0000 \n",
      "avg_sent_s.. |  -0.0421  -0.0310   1.0000 \n",
      "avgmean_ot~s |  -0.0134   0.0203   0.6042*  1.0000 \n",
      "text_d_oth.. |  -0.0349  -0.0649* -0.0982* -0.0723*  1.0000 \n",
      "ent_others~n |   0.0217   0.0237   0.0454* -0.4840*  0.0552*  1.0000 \n",
      "text_d_sel.. |  -0.1309* -0.0531* -0.0443* -0.0073  -0.1343* -0.0133   1.0000 \n",
      "ent_self_d~n |  -0.1782* -0.2076*  0.0288   0.0388   0.0667* -0.1190*  0.1326*  1.0000 \n",
      "Click to Open File:  Myfile.doc\n",
      "\n"
     ]
    }
   ],
   "source": [
    "global iv_text1_demean \"avg_v2_demean  c.avg_v2_demean#c.avg_v2_demean  missing_avg reviews_ct  avgmean_others_demean  text_d_others_p50_demean text_d_self_p50_demean log_experience temp_own_price_diff_other missing_price_info log_zip_rev i.state_n \"  \n",
    "global iv_text2_demean \"avg_sent_score_demean  c.avg_sent_score_demean#c.avg_sent_score_demean  missing_avg_sent reviews_ct  avg_sent_score_others_demean  text_d_others_p50_demean text_d_self_p50_demean log_experience temp_own_price_diff_other missing_price_info log_zip_rev i.state_n \"  \n",
    "\n",
    "preserve\n",
    "drop if text_d_self_p50_demean==.\n",
    "drop if text_d_others_p50_demean==.\n",
    "drop if ent_others_demean==.\n",
    "eststo clear\n",
    "su \n",
    "qui: areg f.log_quotes $iv_text2_demean c.text_d_others_p50_demean#c.text_d_others_p50_demean  c.text_d_self_p50_demean#c.text_d_self_p50_demean ent_self_demean c.ent_self_demean#c.ent_self_demean ent_others_demean c.ent_others_demean#c.ent_others_demean, absorb(installer_id) vce(robust)\n",
    "eststo filter\n",
    "keep if _est_filter==1 \n",
    "//outreg2 using summarystats_ind_textbased.doc, replace label sum(log) keep (avg_sent_score_demean avg_sent_score_others_demean  text_d_others_p50_demean text_d_self_p50_demean reviews_ct log_experience temp_own_price_diff_other log_zip_rev)\n",
    "asdoc pwcorr avg_sent_score_demean avg_v2 avg_sent_score_others_demean avgmean_others  text_d_others_p50_demean ent_others_demean text_d_self_p50_demean ent_self_demean ,label replace star(0.01)\n",
    "restore"
   ]
  },
  {
   "cell_type": "code",
   "execution_count": null,
   "metadata": {},
   "outputs": [],
   "source": [
    "corr ent_others text_d_others_p50"
   ]
  },
  {
   "cell_type": "markdown",
   "metadata": {},
   "source": [
    "## Make variables for spline regression"
   ]
  },
  {
   "cell_type": "markdown",
   "metadata": {},
   "source": [
    "- three knots "
   ]
  },
  {
   "cell_type": "code",
   "execution_count": null,
   "metadata": {},
   "outputs": [],
   "source": [
    "drop ent_*spl*"
   ]
  },
  {
   "cell_type": "code",
   "execution_count": null,
   "metadata": {},
   "outputs": [],
   "source": [
    "mkspline ent_other_spl_2 2=ent_others,displayknots\n",
    "mkspline ent_self_spl_2 2=ent_self, displayknots"
   ]
  },
  {
   "cell_type": "code",
   "execution_count": null,
   "metadata": {},
   "outputs": [],
   "source": [
    "mkspline ent_other_spl_3 3=ent_others,displayknots\n",
    "mkspline ent_self_spl_3 3=ent_self, displayknots"
   ]
  },
  {
   "cell_type": "code",
   "execution_count": null,
   "metadata": {},
   "outputs": [],
   "source": [
    "label variable ent_other_spl_31 \"Rating_Entropy_Others_1\"\n",
    "label variable ent_other_spl_32 \"Rating_Entropy_Others_2\"\n",
    "label variable ent_other_spl_33 \"Rating_Entropy_Others_3\"\n",
    "label variable ent_other_spl_21 \"Rating_Entropy_Others_1\"\n",
    "label variable ent_other_spl_22 \"Rating_Entropy_Others_2\""
   ]
  },
  {
   "cell_type": "code",
   "execution_count": null,
   "metadata": {},
   "outputs": [],
   "source": [
    "label variable ent_self_spl_31 \"Rating_Entropy_Self_1\"\n",
    "label variable ent_self_spl_32 \"Rating_Entropy_Self_2\"\n",
    "label variable ent_self_spl_33 \"Rating_Entropy_Self_3\"\n",
    "label variable ent_self_spl_21 \"Rating_Entropy_Self_1\"\n",
    "label variable ent_self_spl_22 \"Rating_Entropy_Self_2\""
   ]
  },
  {
   "cell_type": "code",
   "execution_count": null,
   "metadata": {},
   "outputs": [],
   "source": [
    "su ent_other_spl_3*"
   ]
  },
  {
   "cell_type": "code",
   "execution_count": null,
   "metadata": {},
   "outputs": [],
   "source": [
    "eststo clear\n",
    "qui: areg f.log_quotes avg_v2_demean missing_avg reviews_ct  avgmean_others_demean   ent_other_spl_2* ent_self_demean    c.ent_self_demean#c.ent_self_demean log_experience temp_own_price_diff_other missing_price_info log_zip_rev i.state_n, absorb( installer_id) vce(robust) \n",
    "eststo\n",
    "qui: areg f.log_quotes avg_v2_demean missing_avg reviews_ct  avgmean_others_demean   ent_self_spl_2* ent_others_demean c.ent_others_demean#c.ent_others_demean   log_experience temp_own_price_diff_other missing_price_info log_zip_rev i.state_n, absorb( installer_id) vce(robust) \n",
    "eststo\n",
    "qui: areg f.log_quotes avg_v2_demean missing_avg reviews_ct  avgmean_others_demean   ent_other_spl_3* ent_self_demean    c.ent_self_demean#c.ent_self_demean log_experience temp_own_price_diff_other missing_price_info log_zip_rev i.state_n, absorb( installer_id) vce(robust) \n",
    "eststo\n",
    "qui: areg f.log_quotes avg_v2_demean missing_avg reviews_ct  avgmean_others_demean   ent_self_spl_3* ent_others_demean c.ent_others_demean#c.ent_others_demean   log_experience temp_own_price_diff_other missing_price_info log_zip_rev i.state_n, absorb( installer_id) vce(robust) \n",
    "eststo\n",
    "esttab,  keep(ent*spl*) order( ent_other_spl_2* ent_self_spl_2*)  p  label  scalars(r2 aic bic)\n",
    "esttab using spline_reg.csv,  keep(ent*spl*) order( ent_other_spl_2* ent_self_spl_2*)  p    label  scalars(r2 aic bic) replace"
   ]
  },
  {
   "cell_type": "markdown",
   "metadata": {},
   "source": [
    "## Dynamic Panel "
   ]
  },
  {
   "cell_type": "markdown",
   "metadata": {},
   "source": [
    " \n",
    "xtabond  f.log_quotes l(0/1).avg_v2 l(0/2).reviews_ct  l(0/2).avgmean_others ent_others ent_others_sq ent_self_demean ent_self_demean_sq  log_experience temp_own_price_diff_other missing_price_info log_zip_rev  , lags(2)  twostep noconstant"
   ]
  },
  {
   "cell_type": "code",
   "execution_count": null,
   "metadata": {},
   "outputs": [],
   "source": [
    "estat sargan"
   ]
  },
  {
   "cell_type": "code",
   "execution_count": null,
   "metadata": {},
   "outputs": [],
   "source": [
    " \n",
    "xtabond  f.log_quotes l(0/1).avg_v2 l(0/2).reviews_ct  l(0/2).avgmean_others  , lags(2) pre( ent_others_demean ent_others_demean_sq ent_self_demean ent_self_demean_sq  log_experience temp_own_price_diff_other missing_price_info log_zip_rev) twostep noconstant"
   ]
  },
  {
   "cell_type": "code",
   "execution_count": null,
   "metadata": {},
   "outputs": [],
   "source": [
    "br"
   ]
  },
  {
   "cell_type": "code",
   "execution_count": null,
   "metadata": {},
   "outputs": [],
   "source": []
  },
  {
   "cell_type": "code",
   "execution_count": null,
   "metadata": {},
   "outputs": [],
   "source": [
    "eststo clear\n",
    "xtabond  f.log_quotes   avg_v2     reviews_ct  avgmean_others     log_experience temp_own_price_diff_other missing_price_info log_zip_rev , nocons vce(robust) lags(2) two \n",
    "eststo \n",
    "xtabond  f.log_quotes   avg_v2     reviews_ct  avgmean_others   ent_self_demean ent_self_demean_sq log_experience temp_own_price_diff_other missing_price_info log_zip_rev , nocons vce(robust) lags(2) two \n",
    "eststo \n",
    "xtabond  f.log_quotes   avg_v2     reviews_ct  avgmean_others  ent_others_demean ent_others_demean_sq ent_self_demean ent_self_demean_sq log_experience temp_own_price_diff_other missing_price_info log_zip_rev , nocons vce(robust) lags(2) two \n",
    "eststo \n"
   ]
  },
  {
   "cell_type": "code",
   "execution_count": null,
   "metadata": {},
   "outputs": [],
   "source": [
    "xtabond  f.log_quotes   avg_v2     reviews_ct  avgmean_others     log_experience temp_own_price_diff_other missing_price_info log_zip_rev if (ent_others_demean!=.&ent_self_demean!=.), nocons vce(robust) lags(2) two \n",
    "eststo"
   ]
  },
  {
   "cell_type": "code",
   "execution_count": null,
   "metadata": {},
   "outputs": [],
   "source": [
    "xtabond  f.log_quotes   avg_v2     reviews_ct  avgmean_others    ent_others_demean ent_others_demean_sq log_experience temp_own_price_diff_other missing_price_info log_zip_rev if (ent_others_demean!=.&ent_self_demean!=.), nocons vce(robust) lags(2) two \n",
    "eststo"
   ]
  },
  {
   "cell_type": "code",
   "execution_count": null,
   "metadata": {},
   "outputs": [],
   "source": [
    "xtabond  f.log_quotes   avg_v2     reviews_ct  avgmean_others    ent_self_demean ent_self_demean_sq ent_others  ent_others_sq log_experience temp_own_price_diff_other missing_price_info log_zip_rev if (ent_others_demean!=.&ent_self_demean!=.), nocons vce(robust) lags(2) two \n",
    "eststo"
   ]
  },
  {
   "cell_type": "code",
   "execution_count": null,
   "metadata": {},
   "outputs": [],
   "source": [
    "esttab,  order(  log_quotes l.log_quotes ent_self* c.ent_self* ent_other* c.ent_other* avg_v2  avgmean_others ) drop(  missing* ) p  label    \n"
   ]
  },
  {
   "cell_type": "code",
   "execution_count": null,
   "metadata": {},
   "outputs": [],
   "source": [
    "esttab using ind_dynamic2.csv,  order(  log_quotes l.log_quotes ent_self* c.ent_self* ent_other* c.ent_other* avg_v2  avgmean_others ) drop(  missing* ) p  label    \n"
   ]
  },
  {
   "cell_type": "markdown",
   "metadata": {},
   "source": [
    "## IV 2sls "
   ]
  },
  {
   "cell_type": "code",
   "execution_count": null,
   "metadata": {},
   "outputs": [],
   "source": [
    "ivregress 2sls  f.log_quotes (log_quotes l.log_quotes  = l.avg_v2 l.reviews_ct l.temp_own_price_diff_other l.missing_price_info l.log_zip_rev )  avg_v2 reviews_ct temp_own_price_diff_other missing_price_info  avgmean_others ent_others ent_others_sq ent_self_demean ent_self_demean_sq  log_experience   ,    noconstant"
   ]
  },
  {
   "cell_type": "code",
   "execution_count": null,
   "metadata": {},
   "outputs": [],
   "source": [
    "estat overid"
   ]
  },
  {
   "cell_type": "markdown",
   "metadata": {},
   "source": [
    "## Dynamic Panel - overidentifying test"
   ]
  },
  {
   "cell_type": "code",
   "execution_count": null,
   "metadata": {},
   "outputs": [],
   "source": [
    " \n",
    "xtdpd  f.log_quotes avg_v2  reviews_ct  avgmean_others ent_others ent_others_sq ent_self_demean ent_self_demean_sq  log_experience temp_own_price_diff_other missing_price_info log_zip_rev  , twostep  noconstant   dgmmiv(l2.(log_quotes reviews_ct)) lgmmiv(l.log_quotes l2.log_quotes)\n",
    "\n",
    "estat sargan"
   ]
  },
  {
   "cell_type": "code",
   "execution_count": null,
   "metadata": {},
   "outputs": [],
   "source": [
    " \n",
    "xtdpd  f.log_quotes avg_v2  reviews_ct  avgmean_others ent_others ent_others_sq ent_self_demean ent_self_demean_sq  log_experience temp_own_price_diff_other missing_price_info log_zip_rev  , twostep  noconstant dgmmiv(l2.(log_quotes)) lgmmiv(l.log_quotes l2.log_quotes l.reviews_ct avgmean_others ent_others ent_others_sq ent_self_demean ent_self_demean_sq  log_experience temp_own_price_diff_other)\n",
    "\n",
    "estat sargan"
   ]
  },
  {
   "cell_type": "code",
   "execution_count": null,
   "metadata": {},
   "outputs": [],
   "source": [
    "xtabond f.log_quotes  ent_others ent_others_sq ent_self_demean ent_self_demean_sq avg_v2  reviews_ct  avgmean_others  log_experience temp_own_price_diff_other missing_price_info log_zip_re ,lags(2) noconstant maxlag(2) "
   ]
  },
  {
   "cell_type": "code",
   "execution_count": null,
   "metadata": {},
   "outputs": [],
   "source": [
    "xtabond f.log_quotes  ent_others_demean ent_others_demean_sq ent_self_demean ent_self_demean_sq avg_v2  reviews_ct  avgmean_others  log_experience temp_own_price_diff_other missing_price_info log_zip_re ,lags(2) noconstant "
   ]
  },
  {
   "cell_type": "code",
   "execution_count": null,
   "metadata": {},
   "outputs": [],
   "source": [
    "xtabond f.log_quotes  ent_others_demean ent_others_demean_sq ent_self_demean ent_self_demean_sq avg_v2  reviews_ct  avgmean_others  log_experience temp_own_price_diff_other missing_price_info log_zip_re ,lags(2) noconstant  twostep\n",
    "estat sargan"
   ]
  },
  {
   "cell_type": "code",
   "execution_count": null,
   "metadata": {},
   "outputs": [],
   "source": [
    "estat sargan"
   ]
  },
  {
   "cell_type": "code",
   "execution_count": null,
   "metadata": {},
   "outputs": [],
   "source": [
    "estat abond"
   ]
  },
  {
   "cell_type": "code",
   "execution_count": null,
   "metadata": {},
   "outputs": [],
   "source": [
    "reg f.log_quotes  l.log_quotes l.avg_v2 l.reviews_ct  l.avgmean_others  l.log_experience l.temp_own_price_diff_other l.missing_price_info l.log_zip_rev l2.log_zip_rev ,noconstant "
   ]
  },
  {
   "cell_type": "code",
   "execution_count": null,
   "metadata": {},
   "outputs": [],
   "source": [
    "test  l.log_quotes"
   ]
  },
  {
   "cell_type": "code",
   "execution_count": null,
   "metadata": {},
   "outputs": [],
   "source": [
    "test l.reviews_ct"
   ]
  },
  {
   "cell_type": "code",
   "execution_count": null,
   "metadata": {},
   "outputs": [],
   "source": [
    "test l.avgmean_others"
   ]
  },
  {
   "cell_type": "code",
   "execution_count": null,
   "metadata": {},
   "outputs": [],
   "source": [
    "test l.log_experience"
   ]
  },
  {
   "cell_type": "code",
   "execution_count": null,
   "metadata": {},
   "outputs": [],
   "source": [
    "test l.temp_own_price_diff_other"
   ]
  },
  {
   "cell_type": "code",
   "execution_count": null,
   "metadata": {},
   "outputs": [],
   "source": [
    "test l.log_zip_rev l2.log_zip_rev"
   ]
  },
  {
   "cell_type": "code",
   "execution_count": null,
   "metadata": {},
   "outputs": [],
   "source": [
    "xtabond f.log_quotes  ent_others_demean ent_others_demean_sq ent_self_demean ent_self_demean_sq avg_v2  reviews_ct   ///\n",
    "avgmean_others  log_experience temp_own_price_diff_other missing_price_info log_zip_re ,lags(2) noconstant  twostep\n",
    "estat sargan"
   ]
  },
  {
   "cell_type": "code",
   "execution_count": null,
   "metadata": {},
   "outputs": [],
   "source": [
    "xtabond f.log_quotes  ent_others_demean ent_others_demean_sq ent_self_demean ent_self_demean_sq      ///\n",
    "   temp_own_price_diff_other missing_price_info log_zip_rev ,lags(2) noconstant  twostep pre(reviews_ct avg_v2 avgmean_others log_experience)\n",
    "estat sargan"
   ]
  },
  {
   "cell_type": "code",
   "execution_count": null,
   "metadata": {},
   "outputs": [],
   "source": [
    "xtabond f.log_quotes  ent_others_demean ent_others_demean_sq ent_self_demean ent_self_demean_sq      ///\n",
    "   temp_own_price_diff_other missing_price_info log_zip_rev ,lags(2) noconstant  twostep pre(reviews_ct avg_v2 avgmean_others log_experience) maxlags(3)\n",
    "estat sargan"
   ]
  }
 ],
 "metadata": {
  "kernelspec": {
   "display_name": "Stata",
   "language": "stata",
   "name": "stata"
  },
  "language_info": {
   "codemirror_mode": "stata",
   "file_extension": ".do",
   "mimetype": "text/x-stata",
   "name": "stata",
   "version": "15.1"
  }
 },
 "nbformat": 4,
 "nbformat_minor": 4
}
