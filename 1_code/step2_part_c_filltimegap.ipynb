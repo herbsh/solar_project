{
 "cells": [
  {
   "cell_type": "markdown",
   "metadata": {},
   "source": [
    "# step2 part c : fill time gap using stata \n",
    "update: June 25, 2020 "
   ]
  },
  {
   "cell_type": "markdown",
   "metadata": {},
   "source": [
    "## input: from pipeline - closerate with sentiment scores and ratings "
   ]
  },
  {
   "cell_type": "code",
   "execution_count": 1,
   "metadata": {},
   "outputs": [
    {
     "name": "stdout",
     "output_type": "stream",
     "text": [
      "C:\\Users\\Herbie Huang\\Google Drive\\Current_SolarResearch\\working_june2020\\solar_project\\1_code\n"
     ]
    }
   ],
   "source": [
    "pwd"
   ]
  },
  {
   "cell_type": "code",
   "execution_count": 3,
   "metadata": {},
   "outputs": [
    {
     "name": "stdout",
     "output_type": "stream",
     "text": [
      "(15 vars, 6,411 obs)\n"
     ]
    }
   ],
   "source": [
    "import delimited \"../2_pipeline/closerate_withratingcounts_sent_score.csv\" ,clear\n"
   ]
  },
  {
   "cell_type": "code",
   "execution_count": 4,
   "metadata": {},
   "outputs": [
    {
     "name": "stdout",
     "output_type": "stream",
     "text": [
      "\n",
      "    Variable |        Obs        Mean    Std. Dev.       Min        Max\n",
      "-------------+---------------------------------------------------------\n",
      "          v1 |      6,411        3205    1850.841          0       6410\n",
      "           i |      6,411        3205    1850.841          0       6410\n",
      "        five |      6,411    3.846826    5.965941          0         47\n",
      "        four |      6,411    .1481828     .558752          0          6\n",
      "       three |      6,411    .0249571    .1618954          0          2\n",
      "-------------+---------------------------------------------------------\n",
      "         two |      6,411    .0210576    .1758231          0          3\n",
      "         one |      6,411    .0642645    .3566885          0          5\n",
      "avg_sent_s~e |      4,393     .685525    .1616075     -.8268      .9576\n",
      "    unnamed0 |      6,411        3205    1850.841          0       6410\n",
      "installer_id |      6,411    18437.62    6381.602        108      23027\n",
      "-------------+---------------------------------------------------------\n",
      "  year_month |      6,411    201630.7    118.7565     201211     201804\n",
      "quotes_count |      6,411    37.99189    91.81771          1       1417\n",
      "winning_qu~t |      6,411    .6229917    1.636259          0         43\n",
      "         v14 |          0\n",
      "closerater~d |      6,411        3205    1850.841          0       6410\n"
     ]
    }
   ],
   "source": [
    "su"
   ]
  },
  {
   "cell_type": "markdown",
   "metadata": {},
   "source": [
    "## Prepare for a panel data structure ( need installer_id, and time index ( year_month_count) ) "
   ]
  },
  {
   "cell_type": "code",
   "execution_count": 5,
   "metadata": {},
   "outputs": [],
   "source": [
    "gen year=int(year_month/100)\n",
    "gen month=year_month-100*year\n",
    "gen year_month_count=12*(year-2013)+month\n",
    "label variable year_month_count `\"\"month since 2013\"\"'\n",
    "\n"
   ]
  },
  {
   "cell_type": "markdown",
   "metadata": {},
   "source": [
    "##  tsfill fills in the time gap"
   ]
  },
  {
   "cell_type": "code",
   "execution_count": 6,
   "metadata": {},
   "outputs": [
    {
     "name": "stdout",
     "output_type": "stream",
     "text": [
      "\n",
      "       panel variable:  installer_id (unbalanced)\n",
      "        time variable:  year_month_~t, -1 to 64, but with gaps\n",
      "                delta:  1 unit\n",
      "\n"
     ]
    }
   ],
   "source": [
    "xtset installer_id year_month_count\n",
    "tsfill\n"
   ]
  },
  {
   "cell_type": "code",
   "execution_count": 7,
   "metadata": {},
   "outputs": [],
   "source": [
    "br"
   ]
  },
  {
   "cell_type": "markdown",
   "metadata": {},
   "source": [
    "## carryforward(an external stata command) will carryforward the value of these specified variable "
   ]
  },
  {
   "cell_type": "code",
   "execution_count": 8,
   "metadata": {},
   "outputs": [
    {
     "name": "stdout",
     "output_type": "stream",
     "text": [
      "\n",
      "\n",
      "five:  (2,244 real changes made)\n",
      "four:  (2,244 real changes made)\n",
      "three:  (2,244 real changes made)\n",
      "two:  (2,244 real changes made)\n",
      "one:  (2,244 real changes made)\n",
      "avg_sent_score:  (874 real changes made)\n",
      "\n",
      "\n",
      "\n",
      "(3,388 missing values generated)\n",
      "\n"
     ]
    }
   ],
   "source": [
    "keep installer_id year_month_count five four three two one quotes_count winning_quotes_count avg_sent_score\n",
    "bysort installer_id: carryforward five four three two one avg_sent_score  , replace\n",
    "gen reviews_ct=(five+four+three+two+one)\n",
    "gen temp_numerator=5*five+4*four+3*three+2*two+one\n",
    "gen avg=temp_numerator/reviews_ct\n",
    "drop temp_numerator\n"
   ]
  },
  {
   "cell_type": "code",
   "execution_count": 9,
   "metadata": {},
   "outputs": [
    {
     "name": "stdout",
     "output_type": "stream",
     "text": [
      "\n",
      "Duplicates in terms of all variables\n",
      "\n",
      "--------------------------------------\n",
      "   copies | observations       surplus\n",
      "----------+---------------------------\n",
      "        1 |         8655             0\n",
      "--------------------------------------\n"
     ]
    }
   ],
   "source": [
    "duplicates report"
   ]
  },
  {
   "cell_type": "code",
   "execution_count": 11,
   "metadata": {},
   "outputs": [
    {
     "name": "stdout",
     "output_type": "stream",
     "text": [
      "\n",
      "    Variable |        Obs        Mean    Std. Dev.       Min        Max\n",
      "-------------+---------------------------------------------------------\n",
      "        five |      8,655    3.191912    5.474295          0         47\n",
      "        four |      8,655    .1192374    .4945914          0          6\n",
      "       three |      8,655     .021606    .1500942          0          2\n",
      "         two |      8,655    .0157135      .15197          0          3\n",
      "         one |      8,655    .0523397    .3176661          0          5\n",
      "-------------+---------------------------------------------------------\n",
      "avg_sent_s~e |      5,267    .6837752      .16615     -.8268      .9576\n",
      "installer_id |      8,655    18033.26    6656.861        108      23027\n",
      "quotes_count |      6,411    37.99189    91.81771          1       1417\n",
      "winning_qu~t |      6,411    .6229917    1.636259          0         43\n",
      "year_month~t |      8,655    43.11623    14.66923         -1         64\n",
      "-------------+---------------------------------------------------------\n",
      "  reviews_ct |      8,655    3.400809    5.832721          0         52\n",
      "         avg |      5,267    4.878823    .4043704          1          5\n"
     ]
    }
   ],
   "source": [
    "su"
   ]
  },
  {
   "cell_type": "markdown",
   "metadata": {},
   "source": [
    "## output: to pipeline: es_monthly_ind.dta "
   ]
  },
  {
   "cell_type": "code",
   "execution_count": 10,
   "metadata": {},
   "outputs": [
    {
     "name": "stdout",
     "output_type": "stream",
     "text": [
      "(note: file ../2_pipeline/es_monthly_ind.dta not found)\n",
      "file ../2_pipeline/es_monthly_ind.dta saved\n"
     ]
    }
   ],
   "source": [
    "save \"../2_pipeline/es_monthly_ind.dta\",replace"
   ]
  }
 ],
 "metadata": {
  "kernelspec": {
   "display_name": "Stata",
   "language": "stata",
   "name": "stata"
  },
  "language_info": {
   "codemirror_mode": "stata",
   "file_extension": ".do",
   "mimetype": "text/x-stata",
   "name": "stata",
   "version": "15.1"
  }
 },
 "nbformat": 4,
 "nbformat_minor": 4
}
