{
 "cells": [
  {
   "cell_type": "markdown",
   "metadata": {},
   "source": [
    "# Market level, change sampling frequency "
   ]
  },
  {
   "cell_type": "code",
   "execution_count": 1,
   "metadata": {},
   "outputs": [],
   "source": [
    "use \"../3_output/regression_analysis_mkt_with_ent_sent_june9.dta\", clear"
   ]
  },
  {
   "cell_type": "code",
   "execution_count": 2,
   "metadata": {},
   "outputs": [
    {
     "name": "stdout",
     "output_type": "stream",
     "text": [
      "\n",
      "\n",
      "\n",
      "\n",
      "\n",
      "  Variables that uniquely identify margins: ent_mkt\n"
     ]
    },
    {
     "data": {
      "image/png": "[encoded data removed]",
      "text/plain": [
       "This front-end cannot display the desired image type."
      ]
     },
     "metadata": {
      "image/png": {
       "height": 437,
       "width": 600
      }
     },
     "output_type": "display_data"
    },
    {
     "name": "stdout",
     "output_type": "stream",
     "text": [
      "\n",
      "\n"
     ]
    }
   ],
   "source": [
    "set scheme sj\n",
    "qui:xtreg f.log_sum_quotes ent_mkt c.ent_mkt#c.ent_mkt  avgmean_mkt log_zip_rev c.log_zip_rev#c.log_zip_rev  experience temp_* dummy*  , fe vce(cluster market)\n",
    "qui: margins , at(ent_mkt=(0.05(0.05)0.95))\n",
    "marginsplot"
   ]
  },
  {
   "cell_type": "code",
   "execution_count": 3,
   "metadata": {},
   "outputs": [
    {
     "name": "stdout",
     "output_type": "stream",
     "text": [
      "(4 real changes made)\n"
     ]
    }
   ],
   "source": [
    "replace ent_mkt=1 if (ent_mkt!=.&ent_mkt>1)"
   ]
  },
  {
   "cell_type": "code",
   "execution_count": 4,
   "metadata": {},
   "outputs": [
    {
     "name": "stdout",
     "output_type": "stream",
     "text": [
      "\n",
      "                     Rating_Entropy_Mkt\n",
      "-------------------------------------------------------------\n",
      "      Percentiles      Smallest\n",
      " 1%            0              0\n",
      " 5%            0              0\n",
      "10%            0              0       Obs                 804\n",
      "25%            0              0       Sum of Wgt.         804\n",
      "\n",
      "50%     .1146653                      Mean           .1849677\n",
      "                        Largest       Std. Dev.      .2328251\n",
      "75%     .3020831              1\n",
      "90%     .5099633              1       Variance       .0542075\n",
      "95%     .6365142              1       Skewness       1.303736\n",
      "99%     .9556999              1       Kurtosis       4.321588\n"
     ]
    }
   ],
   "source": [
    "su ent_mkt,d"
   ]
  },
  {
   "cell_type": "code",
   "execution_count": 5,
   "metadata": {},
   "outputs": [
    {
     "name": "stdout",
     "output_type": "stream",
     "text": [
      "\n",
      "(0 real changes made)\n",
      "\n",
      "(724 missing values generated)\n"
     ]
    }
   ],
   "source": [
    "replace ent_mkt=1 if (ent_mkt!=.&ent_mkt>1) \n",
    "gen ent_mkt_demean=ent_mkt-.1763819\n"
   ]
  },
  {
   "cell_type": "markdown",
   "metadata": {},
   "source": [
    "## label variables "
   ]
  },
  {
   "cell_type": "code",
   "execution_count": 6,
   "metadata": {},
   "outputs": [],
   "source": [
    "label variable ent_mkt \"Rating_Entropy_Mkt\"\n",
    "label variable ent_mkt_demean \"Rating_Entropy_Mkt\"\n",
    "label variable log_sum_quotes \"Market_Transaction\"\n",
    "label variable avgmean_mkt \"Average_Rating_Mkt\"\n",
    "label variable log_zip_rev \"Market_LogRevenue\"\n",
    "label variable experience \"Experience\"\n",
    "label variable temp_own_price_diff_other \"Price_Difference\""
   ]
  },
  {
   "cell_type": "markdown",
   "metadata": {},
   "source": [
    "## Original analysis - table "
   ]
  },
  {
   "cell_type": "code",
   "execution_count": 7,
   "metadata": {},
   "outputs": [
    {
     "name": "stdout",
     "output_type": "stream",
     "text": [
      "\n",
      "\n",
      "(724 observations deleted)\n",
      "\n",
      "\n",
      "\n",
      "(est1 stored)\n",
      "\n",
      "\n",
      "(est2 stored)\n",
      "\n",
      "\n",
      "----------------------------------------------------\n",
      "                              (1)             (2)   \n",
      "                     F.Market_T~n    F.Market_T~n   \n",
      "----------------------------------------------------\n",
      "Rating_Entropy_Mkt                          1.657** \n",
      "                                          (0.004)   \n",
      "\n",
      "Rating_Entropy_Mkt~r                       -1.568** \n",
      "                                          (0.009)   \n",
      "\n",
      "Average_Rating_Mkt        -0.0987          0.0176   \n",
      "                          (0.507)         (0.937)   \n",
      "\n",
      "Experience                 0.0118         0.00721   \n",
      "                          (0.133)         (0.394)   \n",
      "\n",
      "Price_Difference           0.0596         -0.0351   \n",
      "                          (0.844)         (0.922)   \n",
      "\n",
      "Market_LogRevenue         -0.0238         -0.0138   \n",
      "                          (0.525)         (0.726)   \n",
      "\n",
      "Constant                    2.862*          1.926   \n",
      "                          (0.035)         (0.091)   \n",
      "----------------------------------------------------\n",
      "Observations                  631             631   \n",
      "r2                          0.732           0.740   \n",
      "aic                        1073.6          1037.1   \n",
      "bic                        1153.6          1077.1   \n",
      "----------------------------------------------------\n",
      "p-values in parentheses\n",
      "* p<0.05, ** p<0.01, *** p<0.001\n",
      "\n"
     ]
    }
   ],
   "source": [
    "\n",
    "\n",
    "preserve\n",
    "drop  if ent_mkt==.\n",
    "eststo clear\n",
    "qui:areg f.log_sum_quotes   avgmean_mkt  log_zip_rev c.log_zip_rev#c.log_zip_rev  experience temp_* dummy*  , absorb(market) vce(robust)\n",
    "eststo\n",
    "qui:areg f.log_sum_quotes ent_mkt c.ent_mkt#c.ent_mkt  avgmean_mkt    log_zip_rev c.log_zip_rev#c.log_zip_rev  experience temp_* dummy*  , absorb(market) vce(cluster market)\n",
    "eststo\n",
    "esttab, order( ent* c.ent*  avg* experience temp_own_price_diff_other log_zip_rev )  drop(dummy* c.log_zip_rev#c.log_zip_rev) p label scalars(r2 aic bic) \n",
    "restore \n",
    "//esttab using reg_mkt_simplified.csv,  drop(dummy* c.log_zip_rev#c.log_zip_rev) p label scalars(r2 aic bic) replace\n",
    "//esttab using reg_mkt_simplified.csv, replace order( ent* c.ent*  avg* experience temp_own_price_diff_other log_zip_rev )  drop(dummy* c.log_zip_rev#c.log_zip_rev) p label scalars(r2 aic bic) \n"
   ]
  },
  {
   "cell_type": "markdown",
   "metadata": {},
   "source": [
    "## Subset to high sum_reviews "
   ]
  },
  {
   "cell_type": "code",
   "execution_count": 9,
   "metadata": {},
   "outputs": [
    {
     "name": "stdout",
     "output_type": "stream",
     "text": [
      "\n",
      "                     (first) sum_reviews\n",
      "-------------------------------------------------------------\n",
      "      Percentiles      Smallest\n",
      " 1%            0              0\n",
      " 5%            0              0\n",
      "10%            0              0       Obs               1,528\n",
      "25%            0              0       Sum of Wgt.       1,528\n",
      "\n",
      "50%            3                      Mean           16.71204\n",
      "                        Largest       Std. Dev.      37.07434\n",
      "75%           14            305\n",
      "90%           46            308       Variance       1374.506\n",
      "95%           90            312       Skewness       4.144905\n",
      "99%          191            314       Kurtosis       24.52422\n"
     ]
    }
   ],
   "source": [
    "su sum_reviews,d"
   ]
  },
  {
   "cell_type": "code",
   "execution_count": 53,
   "metadata": {},
   "outputs": [
    {
     "name": "stdout",
     "output_type": "stream",
     "text": [
      "\n",
      "                         Experience\n",
      "-------------------------------------------------------------\n",
      "      Percentiles      Smallest\n",
      " 1%            0              0\n",
      " 5%            0              0\n",
      "10%            0              0       Obs               1,528\n",
      "25%            0              0       Sum of Wgt.       1,528\n",
      "\n",
      "50%          4.5                      Mean           4.870216\n",
      "                        Largest       Std. Dev.      5.222168\n",
      "75%          8.5             27\n",
      "90%        10.75             27       Variance       27.27104\n",
      "95%           14             27       Skewness        1.09527\n",
      "99%         20.5             27       Kurtosis       4.476818\n"
     ]
    }
   ],
   "source": [
    "su experience,d"
   ]
  },
  {
   "cell_type": "code",
   "execution_count": 63,
   "metadata": {},
   "outputs": [
    {
     "name": "stdout",
     "output_type": "stream",
     "text": [
      "\n",
      "\n",
      "(724 observations deleted)\n",
      "\n",
      "(341 observations deleted)\n",
      "\n",
      "\n",
      "\n",
      "(est1 stored)\n",
      "\n",
      "\n",
      "\n",
      "(est2 stored)\n",
      "\n",
      "\n",
      "(est3 stored)\n",
      "\n",
      "(note: file rob_mkt_resample.csv not found)\n",
      "(output written to rob_mkt_resample.csv)\n",
      "\n",
      "\n",
      "--------------------------------------------------------------------\n",
      "                              (1)             (2)             (3)   \n",
      "                     F.Market_T~n    F.Market_T~n    F.Market_T~n   \n",
      "--------------------------------------------------------------------\n",
      "Rating_Entropy_Mkt          2.173**         1.720**         2.365** \n",
      "                          (0.001)         (0.001)         (0.004)   \n",
      "\n",
      "Rating_Entropy_Mkt~r       -2.487***       -1.928**        -2.498*  \n",
      "                          (0.001)         (0.004)         (0.013)   \n",
      "\n",
      "Average_Rating_Mkt         0.0923         -0.0596          -0.176   \n",
      "                          (0.640)         (0.730)         (0.524)   \n",
      "\n",
      "Experience                0.00331        -0.00602         0.00345   \n",
      "                          (0.780)         (0.559)         (0.829)   \n",
      "\n",
      "Price_Difference            0.357           0.278           0.577   \n",
      "                          (0.389)         (0.375)         (0.279)   \n",
      "\n",
      "Market_LogRevenue          0.0651          0.0372          0.0929   \n",
      "                          (0.178)         (0.408)         (0.123)   \n",
      "\n",
      "Constant                    0.793           2.196          -5.369   \n",
      "                          (0.435)         (0.239)         (0.484)   \n",
      "--------------------------------------------------------------------\n",
      "Observations                  390             365             173   \n",
      "r2                          0.735           0.708           0.787   \n",
      "aic                         697.1           642.9           272.7   \n",
      "bic                         728.9           720.9           335.8   \n",
      "--------------------------------------------------------------------\n",
      "p-values in parentheses\n",
      "* p<0.05, ** p<0.01, *** p<0.001\n"
     ]
    }
   ],
   "source": [
    "\n",
    "\n",
    "preserve \n",
    "drop  if ent_mkt==.\n",
    "keep if sum_reviews>=8\n",
    "eststo clear\n",
    "qui:areg f.log_sum_quotes ent_mkt c.ent_mkt#c.ent_mkt  avgmean_mkt    log_zip_rev c.log_zip_rev#c.log_zip_rev  experience  temp_* , absorb(market)  \n",
    "eststo\n",
    "restore \n",
    "qui:areg f.log_sum_quotes ent_mkt c.ent_mkt#c.ent_mkt  avgmean_mkt    log_zip_rev c.log_zip_rev#c.log_zip_rev  experience  temp_* dummy* if mod(year_month_count,2)==1 , absorb(market)  \n",
    "eststo\n",
    "qui:areg f.log_sum_quotes ent_mkt c.ent_mkt#c.ent_mkt  avgmean_mkt    log_zip_rev c.log_zip_rev#c.log_zip_rev  experience  temp_* dummy*  if mod(year_month_count,4)==1 , absorb(market)  \n",
    "eststo\n",
    "//qui:areg f.log_sum_quotes ent_mkt c.ent_mkt#c.ent_mkt  avgmean_mkt    log_zip_rev c.log_zip_rev#c.log_zip_rev  experience  temp_* dummy*  if experience>5 , absorb(market)  \n",
    "//eststo\n",
    "esttab using rob_mkt_resample.csv,  drop(dummy* c.log_zip_rev#c.log_zip_rev) p label scalars(r2 aic bic) replace\n",
    "esttab, order( ent* c.ent*  avg* experience temp_own_price_diff_other log_zip_rev )  drop(dummy* c.log_zip_rev#c.log_zip_rev) p label scalars(r2 aic bic) \n"
   ]
  }
 ],
 "metadata": {
  "kernelspec": {
   "display_name": "Stata",
   "language": "stata",
   "name": "stata"
  },
  "language_info": {
   "codemirror_mode": "stata",
   "file_extension": ".do",
   "mimetype": "text/x-stata",
   "name": "stata",
   "version": "15.1"
  }
 },
 "nbformat": 4,
 "nbformat_minor": 4
}
