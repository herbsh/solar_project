{
 "cells": [
  {
   "cell_type": "code",
   "execution_count": 2,
   "metadata": {},
   "outputs": [],
   "source": [
    "use \"../3_output/regression_analysis_ind_with_ent_sent_june2020.dta\", clear"
   ]
  },
  {
   "cell_type": "markdown",
   "metadata": {},
   "source": [
    "## make labels and create demeaned vars"
   ]
  },
  {
   "cell_type": "code",
   "execution_count": 3,
   "metadata": {},
   "outputs": [
    {
     "name": "stdout",
     "output_type": "stream",
     "text": [
      "\n",
      "\n",
      "(2,773 missing values generated)\n"
     ]
    }
   ],
   "source": [
    "egen mean_ent_others = mean(ent_others)\n",
    "gen ent_others_demean=ent_others-mean_ent_others"
   ]
  },
  {
   "cell_type": "code",
   "execution_count": 4,
   "metadata": {},
   "outputs": [
    {
     "name": "stdout",
     "output_type": "stream",
     "text": [
      "\n",
      "\n",
      "(2,773 missing values generated)\n"
     ]
    }
   ],
   "source": [
    "egen mean_ent_self = mean(ent_self)\n",
    "gen ent_self_demean=ent_self-mean_ent_self"
   ]
  },
  {
   "cell_type": "code",
   "execution_count": 5,
   "metadata": {},
   "outputs": [],
   "source": [
    "egen mean_avg_v2=mean(avg_v2)\n",
    "gen avg_v2_demean=avg_v2-mean_avg_v2"
   ]
  },
  {
   "cell_type": "code",
   "execution_count": 6,
   "metadata": {},
   "outputs": [
    {
     "name": "stdout",
     "output_type": "stream",
     "text": [
      "\n",
      "\n",
      "(1,479 missing values generated)\n"
     ]
    }
   ],
   "source": [
    "egen mean_avgmean_others=mean(avgmean_others)\n",
    "gen avgmean_others_demean=avgmean_others-mean_avgmean_others"
   ]
  },
  {
   "cell_type": "code",
   "execution_count": 7,
   "metadata": {},
   "outputs": [
    {
     "name": "stdout",
     "output_type": "stream",
     "text": [
      "\n",
      "(2,773 missing values generated)\n",
      "\n",
      "(2,773 missing values generated)\n"
     ]
    }
   ],
   "source": [
    "gen ent_others_sq=ent_others*ent_others\n",
    "gen ent_self_demean_sq=ent_self_demean*ent_self_demean"
   ]
  },
  {
   "cell_type": "code",
   "execution_count": 8,
   "metadata": {},
   "outputs": [],
   "source": [
    "\n",
    "label variable ent_self_demean \"Rating_Entropy_Self\"\n",
    "label variable ent_self \"Rating_Entropy_Self\"\n",
    "label variable ent_others_demean \"Rating_Entropy_Others\"\n",
    "label variable ent_others \"Rating_Entropy_Others\"\n",
    "label variable avg_v2_demean \"Average_Rating_Self\"\n",
    "label variable avg_v2 \"Average_Rating_Self\"\n",
    "label variable avgmean_others_demean \"Average_Rating_Others\"\n",
    "label variable avgmean_others \"Average_Rating_Others\"\n",
    "label variable reviews_ct \"Review_Count\"\n",
    "label variable log_experience \"Experience\"\n",
    "label variable temp_own_price_diff_other \"Price_Difference\"\n",
    "label variable log_zip_rev \"Market_LogRevenue\"\n",
    "label variable ent_others_sq  \"Rating_Entropy_Others^2\"\n",
    "label variable ent_self_demean_sq \"Rating_Entropy_Self^2\"\n",
    "label variable log_quotes \"Installer Activity Level\""
   ]
  },
  {
   "cell_type": "code",
   "execution_count": 9,
   "metadata": {},
   "outputs": [
    {
     "name": "stdout",
     "output_type": "stream",
     "text": [
      "\n",
      "    Variable |        Obs        Mean    Std. Dev.       Min        Max\n",
      "-------------+---------------------------------------------------------\n",
      "avg_sent_s~e |      8,113    .4171853      .35676     -.8268      .9576\n"
     ]
    }
   ],
   "source": [
    "su avg_sent_score"
   ]
  },
  {
   "cell_type": "code",
   "execution_count": 10,
   "metadata": {},
   "outputs": [
    {
     "name": "stdout",
     "output_type": "stream",
     "text": [
      "\n",
      "    Variable |        Obs        Mean    Std. Dev.       Min        Max\n",
      "-------------+---------------------------------------------------------\n",
      "avg_sent_s~e |      8,113    .4171853      .35676     -.8268      .9576\n",
      "avg_sent_s~t |      8,113    .5971259    .2507234          0    .886075\n",
      "avg_sent_s~s |      8,113    .5662764    .2792114     -.5994      .9576\n"
     ]
    }
   ],
   "source": [
    "su avg_sent*"
   ]
  },
  {
   "cell_type": "code",
   "execution_count": 11,
   "metadata": {},
   "outputs": [
    {
     "name": "stdout",
     "output_type": "stream",
     "text": [
      "\n",
      "\n",
      "\n",
      "\n",
      "\n",
      "(4,113 missing values generated)\n",
      "\n",
      "\n",
      "(1,535 missing values generated)\n",
      "\n"
     ]
    }
   ],
   "source": [
    "gen avg_sent_score_demean=avg_sent_score-.4119695\n",
    "label variable avg_sent_score_demean \"Average_Sentiment_Self\"\n",
    "gen avg_sent_score_others_demean=avg_sent_score_others- .5615071\n",
    "label variable avg_sent_score_others_demean \"Average_Sentiment_Others\"\n",
    "gen text_d_self_p50_demean=text_d_self_p50-0.0635868\n",
    "label variable text_d_self_p50_demean  \"Text-based_Entropy_Self\"\n",
    "gen text_d_others_p50_demean=text_d_others_p50-0.1245589\n",
    "label variable text_d_others_p50_demean \"Text-based_Entropy_Others\""
   ]
  },
  {
   "cell_type": "markdown",
   "metadata": {},
   "source": [
    "## Subsetting observations used for the model "
   ]
  },
  {
   "cell_type": "code",
   "execution_count": 17,
   "metadata": {},
   "outputs": [
    {
     "name": "stdout",
     "output_type": "stream",
     "text": [
      "       panel variable:  installer_id (unbalanced)\n",
      "        time variable:  year_month_~t, 1 to 64\n",
      "                delta:  1 unit\n"
     ]
    }
   ],
   "source": [
    "xtset"
   ]
  },
  {
   "cell_type": "code",
   "execution_count": 28,
   "metadata": {
    "collapsed": true,
    "jupyter": {
     "outputs_hidden": true
    }
   },
   "outputs": [
    {
     "name": "stdout",
     "output_type": "stream",
     "text": [
      "\n",
      "---------------------------------------------------------------------------------------------------------------------------------------------------------------------------------------------------------------------------------------------------------------\n",
      "installer_id                                                                                                                                                                                                                                        (unlabeled)\n",
      "---------------------------------------------------------------------------------------------------------------------------------------------------------------------------------------------------------------------------------------------------------------\n",
      "\n",
      "                  type:  numeric (int)\n",
      "\n",
      "                 range:  [363,23027]                  units:  1\n",
      "         unique values:  364                      missing .:  0/5,340\n",
      "\n",
      "                  mean:   18516.3\n",
      "              std. dev:   6433.68\n",
      "\n",
      "           percentiles:        10%       25%       50%       75%       90%\n",
      "                              6270     20348     20931     21438     21837\n"
     ]
    }
   ],
   "source": [
    "codebook installer_id"
   ]
  },
  {
   "cell_type": "code",
   "execution_count": 25,
   "metadata": {
    "collapsed": true,
    "jupyter": {
     "outputs_hidden": true
    }
   },
   "outputs": [
    {
     "name": "stdout",
     "output_type": "stream",
     "text": [
      "\n",
      "                        Review_Count\n",
      "-------------------------------------------------------------\n",
      "      Percentiles      Smallest\n",
      " 1%            0              0\n",
      " 5%            0              0\n",
      "10%            1              0       Obs               5,340\n",
      "25%            1              0       Sum of Wgt.       5,340\n",
      "\n",
      "50%            3                      Mean            5.16161\n",
      "                        Largest       Std. Dev.      6.484259\n",
      "75%            6             48\n",
      "90%           12             48       Variance       42.04561\n",
      "95%           19             51       Skewness       2.652859\n",
      "99%           32             52       Kurtosis       11.56258\n"
     ]
    }
   ],
   "source": [
    "su reviews_ct,d"
   ]
  },
  {
   "cell_type": "code",
   "execution_count": 30,
   "metadata": {
    "collapsed": true,
    "jupyter": {
     "outputs_hidden": true
    }
   },
   "outputs": [
    {
     "name": "stdout",
     "output_type": "stream",
     "text": [
      "\n",
      "---------------------------------------------------------------------------------------------------------------------------------------------------------------------------------------------------------------------------------------------------------------\n",
      "installer_id                                                                                                                                                                                                                                        (unlabeled)\n",
      "---------------------------------------------------------------------------------------------------------------------------------------------------------------------------------------------------------------------------------------------------------------\n",
      "\n",
      "                  type:  numeric (int)\n",
      "\n",
      "                 range:  [363,22992]                  units:  1\n",
      "         unique values:  186                      missing .:  0/2,287\n",
      "\n",
      "                  mean:   18779.4\n",
      "              std. dev:   6295.21\n",
      "\n",
      "           percentiles:        10%       25%       50%       75%       90%\n",
      "                              6200     20380     21113     21448     21817\n"
     ]
    }
   ],
   "source": [
    "codebook installer_id if reviews_ct>3"
   ]
  },
  {
   "cell_type": "code",
   "execution_count": 31,
   "metadata": {},
   "outputs": [
    {
     "name": "stdout",
     "output_type": "stream",
     "text": [
      "\n",
      "    Variable |        Obs        Mean    Std. Dev.       Min        Max\n",
      "-------------+---------------------------------------------------------\n",
      "     ent_mkt |      5,340    .2376226    .1857222          0    1.05492\n",
      "  ent_others |      5,340    .2247373    .1915538          0   1.070593\n",
      "    ent_self |      5,340    .0981426    .2199734          0   1.209574\n",
      "ent_others~n |      5,340    2.79e-09    .1915538  -.2247373   .8458561\n",
      "ent_self_d~n |      5,340   -1.38e-09    .2199734  -.0981426   1.111431\n",
      "-------------+---------------------------------------------------------\n",
      "ent_others~q |      5,340    .0871928    .1348904          0    1.14617\n",
      "ent_self_d~q |      5,340    .0483792    .1159573   .0001067    1.23528\n"
     ]
    }
   ],
   "source": [
    "su ent*"
   ]
  },
  {
   "cell_type": "code",
   "execution_count": 32,
   "metadata": {},
   "outputs": [
    {
     "name": "stdout",
     "output_type": "stream",
     "text": [
      "       panel variable:  installer_id (unbalanced)\n",
      "        time variable:  year_month_~t, 7 to 64\n",
      "                delta:  1 unit\n"
     ]
    }
   ],
   "source": [
    "xtset"
   ]
  },
  {
   "cell_type": "markdown",
   "metadata": {},
   "source": [
    "## Simply subset to high-reviews_ct obs"
   ]
  },
  {
   "cell_type": "code",
   "execution_count": 34,
   "metadata": {},
   "outputs": [
    {
     "name": "stdout",
     "output_type": "stream",
     "text": [
      "\n",
      "\n",
      "\n",
      "\n",
      "\n",
      "(0 observations deleted)\n",
      "\n",
      "\n",
      "(est1 stored)\n",
      "\n",
      "\n",
      "(est2 stored)\n",
      "\n",
      "\n",
      "(est3 stored)\n",
      "\n",
      "\n",
      "(est4 stored)\n",
      "\n",
      "\n",
      "(est5 stored)\n",
      "\n",
      "\n",
      "(est6 stored)\n",
      "\n",
      "\n",
      "(est7 stored)\n",
      "\n",
      "\n",
      "(est8 stored)\n",
      "\n",
      "\n",
      "(est9 stored)\n",
      "\n",
      "\n",
      "--------------------------------------------------------------------------------------------------------------------\n",
      "                              (1)             (2)             (3)             (4)             (5)             (6)   \n",
      "                     F.Installe~l    F.Installe~l    F.Installe~l    F.Installe~l    F.Installe~l    F.Installe~l   \n",
      "--------------------------------------------------------------------------------------------------------------------\n",
      "Rating_Entropy_Self                                         0.936*                                          0.865   \n",
      "                                                          (0.011)                                         (0.087)   \n",
      "\n",
      "Rating_Entropy_Sel~t                                       -1.301*                                         -0.904   \n",
      "                                                          (0.034)                                         (0.164)   \n",
      "\n",
      "Rating_Entropy_Oth~s                        0.644**         0.629**                         0.658*          0.639*  \n",
      "                                          (0.001)         (0.001)                         (0.033)         (0.038)   \n",
      "\n",
      "Rating_Entropy_Oth~E                       -2.487***       -2.479***                       -1.413*         -1.424*  \n",
      "                                          (0.000)         (0.000)                         (0.018)         (0.017)   \n",
      "\n",
      "Average_Rating_Self        -0.364***       -0.349***       -0.303**        -0.394          -0.333          -0.145   \n",
      "                          (0.000)         (0.000)         (0.001)         (0.101)         (0.165)         (0.677)   \n",
      "\n",
      "Average_Rating_Oth~s      -0.0441        -0.00785        -0.00702          -0.279*         -0.192          -0.190   \n",
      "                          (0.659)         (0.941)         (0.948)         (0.044)         (0.172)         (0.182)   \n",
      "\n",
      "Review_Count               0.0513***       0.0482***       0.0453***       0.0524***       0.0507***       0.0489***\n",
      "                          (0.000)         (0.000)         (0.000)         (0.000)         (0.000)         (0.000)   \n",
      "\n",
      "Experience                  0.215***        0.225***        0.221***     -0.00439        0.000769         0.00141   \n",
      "                          (0.000)         (0.000)         (0.000)         (0.940)         (0.989)         (0.981)   \n",
      "\n",
      "Price_Difference           0.0780          0.0751          0.0700          0.0727          0.0739          0.0868   \n",
      "                          (0.378)         (0.401)         (0.433)         (0.574)         (0.567)         (0.500)   \n",
      "\n",
      "Market_LogRevenue         -0.0167***      -0.0162***      -0.0155**       0.00140         0.00125         0.00188   \n",
      "                          (0.001)         (0.001)         (0.001)         (0.791)         (0.813)         (0.722)   \n",
      "\n",
      "Constant                    2.673***        2.720***        2.714***        3.105***        3.039***        2.712***\n",
      "                          (0.000)         (0.000)         (0.000)         (0.000)         (0.000)         (0.000)   \n",
      "--------------------------------------------------------------------------------------------------------------------\n",
      "Observations                 4605            4605            4605            2488            2488            2488   \n",
      "r2                          0.646           0.648           0.649           0.710           0.711           0.711   \n",
      "aic                       13329.4         13297.8         13292.3          6807.7          6804.6          6803.5   \n",
      "bic                       13387.3         13368.6         13375.9          6854.2          6862.8          6873.4   \n",
      "--------------------------------------------------------------------------------------------------------------------\n",
      "p-values in parentheses\n",
      "* p<0.05, ** p<0.01, *** p<0.001\n",
      "\n",
      "\n",
      "--------------------------------------------------------------------------------------------------------------------\n",
      "                              (1)             (2)             (3)             (4)             (5)             (6)   \n",
      "                     F.Installe~l    F.Installe~l    F.Installe~l    F.Installe~l    F.Installe~l    F.Installe~l   \n",
      "--------------------------------------------------------------------------------------------------------------------\n",
      "Rating_Entropy_Self                                         0.936*                                          1.418   \n",
      "                                                          (0.011)                                         (0.059)   \n",
      "\n",
      "Rating_Entropy_Sel~t                                       -1.301*                                         -2.723***\n",
      "                                                          (0.034)                                         (0.001)   \n",
      "\n",
      "Rating_Entropy_Oth~s                        0.644**         0.629**                         0.916*          0.884*  \n",
      "                                          (0.001)         (0.001)                         (0.013)         (0.016)   \n",
      "\n",
      "Rating_Entropy_Oth~E                       -2.487***       -2.479***                       -1.691          -2.046*  \n",
      "                                          (0.000)         (0.000)                         (0.077)         (0.037)   \n",
      "\n",
      "Average_Rating_Self        -0.364***       -0.349***       -0.303**        -0.467          -0.396          -0.513   \n",
      "                          (0.000)         (0.000)         (0.001)         (0.110)         (0.182)         (0.285)   \n",
      "\n",
      "Average_Rating_Oth~s      -0.0441        -0.00785        -0.00702          -0.512**        -0.381*         -0.367*  \n",
      "                          (0.659)         (0.941)         (0.948)         (0.004)         (0.026)         (0.036)   \n",
      "\n",
      "Review_Count               0.0513***       0.0482***       0.0453***       0.0581***       0.0570***       0.0555***\n",
      "                          (0.000)         (0.000)         (0.000)         (0.000)         (0.000)         (0.000)   \n",
      "\n",
      "Experience                  0.215***        0.225***        0.221***      -0.0631         -0.0552         -0.0432   \n",
      "                          (0.000)         (0.000)         (0.000)         (0.334)         (0.387)         (0.499)   \n",
      "\n",
      "Price_Difference           0.0780          0.0751          0.0700          0.0704          0.0480          0.0975   \n",
      "                          (0.378)         (0.401)         (0.433)         (0.677)         (0.779)         (0.567)   \n",
      "\n",
      "Market_LogRevenue         -0.0167***      -0.0162***      -0.0155**       0.00651         0.00677         0.00828   \n",
      "                          (0.001)         (0.001)         (0.001)         (0.297)         (0.278)         (0.185)   \n",
      "\n",
      "Constant                    2.673***        2.720***        2.714***        3.262***        3.154***        3.458***\n",
      "                          (0.000)         (0.000)         (0.000)         (0.000)         (0.000)         (0.000)   \n",
      "--------------------------------------------------------------------------------------------------------------------\n",
      "Observations                 4605            4605            4605            1647            1647            1647   \n",
      "r2                          0.646           0.648           0.649           0.722           0.723           0.725   \n",
      "aic                       13329.4         13297.8         13292.3          4509.9          4506.7          4498.5   \n",
      "bic                       13387.3         13368.6         13375.9          4553.2          4560.8          4563.4   \n",
      "--------------------------------------------------------------------------------------------------------------------\n",
      "p-values in parentheses\n",
      "* p<0.05, ** p<0.01, *** p<0.001\n"
     ]
    }
   ],
   "source": [
    "global iv_0_demean \"avg_v2_demean missing_avg reviews_ct  avgmean_others_demean   log_experience temp_own_price_diff_other missing_price_info log_zip_rev i.state_n \"  \n",
    "global iv_11_demean \"avg_v2_demean missing_avg reviews_ct  avgmean_others_demean  ent_others_demean c.ent_others_demean#c.ent_others_demean  log_experience temp_own_price_diff_other missing_price_info log_zip_rev i.state_n \"  \n",
    "global iv_12_demean \"avg_v2_demean missing_avg reviews_ct  avgmean_others_demean  ent_others_demean ent_self_demean  c.ent_others_demean#c.ent_others_demean  c.ent_self_demean#c.ent_self_demean log_experience temp_own_price_diff_other missing_price_info log_zip_rev i.state_n \"  \n",
    "\n",
    "eststo clear \n",
    "\n",
    "drop if ent_others_demean==.\n",
    "\n",
    "\n",
    "qui:areg f.log_quotes  $iv_0_demean  , absorb( installer_id) vce(robust)\n",
    "eststo\n",
    "qui:areg f.log_quotes $iv_11_demean    , absorb( installer_id) vce(robust)\n",
    "eststo\n",
    "qui:areg f.log_quotes  $iv_12_demean  , absorb( installer_id) vce(robust)\n",
    "eststo\n",
    "qui:areg f.log_quotes  $iv_0_demean if reviews_ct>=3 , absorb( installer_id) vce(robust)\n",
    "eststo\n",
    "qui:areg f.log_quotes $iv_11_demean if reviews_ct>=3   , absorb( installer_id) vce(robust)\n",
    "eststo\n",
    "qui:areg f.log_quotes  $iv_12_demean if reviews_ct>=3 , absorb( installer_id) vce(robust)\n",
    "eststo\n",
    "qui:areg f.log_quotes  $iv_0_demean if reviews_ct>=5 , absorb( installer_id) vce(robust)\n",
    "eststo\n",
    "qui:areg f.log_quotes $iv_11_demean if reviews_ct>=5  , absorb( installer_id) vce(robust)\n",
    "eststo\n",
    "qui:areg f.log_quotes  $iv_12_demean if reviews_ct>=5 , absorb( installer_id) vce(robust)\n",
    "eststo\n",
    "esttab est1 est2 est3 est4 est5 est6 ,  order(  ent_self* c.ent_self* ent_other* c.ent_other* avg_v2_demean avgmean_others_demean) drop(*state* missing* ) p  label  scalars(r2 aic bic)\n",
    "esttab est1 est2 est3 est7 est8 est9 ,  order(  ent_self* c.ent_self* ent_other* c.ent_other* avg_v2_demean avgmean_others_demean) drop(*state* missing* ) p  label  scalars(r2 aic bic)\n",
    " "
   ]
  },
  {
   "cell_type": "code",
   "execution_count": 35,
   "metadata": {},
   "outputs": [
    {
     "name": "stdout",
     "output_type": "stream",
     "text": [
      "       panel variable:  installer_id (unbalanced)\n",
      "        time variable:  year_month_~t, 7 to 64\n",
      "                delta:  1 unit\n"
     ]
    }
   ],
   "source": [
    "xtset"
   ]
  },
  {
   "cell_type": "code",
   "execution_count": 38,
   "metadata": {},
   "outputs": [],
   "source": [
    "drop diff_reviews_ct"
   ]
  },
  {
   "cell_type": "markdown",
   "metadata": {},
   "source": [
    "## Examine the monthly and quarterly additions"
   ]
  },
  {
   "cell_type": "code",
   "execution_count": 39,
   "metadata": {},
   "outputs": [
    {
     "name": "stdout",
     "output_type": "stream",
     "text": [
      "(364 missing values generated)\n"
     ]
    }
   ],
   "source": [
    "gen diff_reviews_ct_monthly=reviews_ct-l.reviews_ct"
   ]
  },
  {
   "cell_type": "code",
   "execution_count": 42,
   "metadata": {},
   "outputs": [
    {
     "name": "stdout",
     "output_type": "stream",
     "text": [
      "(1,335 missing values generated)\n"
     ]
    }
   ],
   "source": [
    "gen diff_reviews_ct_quarterly=reviews_ct-l4.reviews_ct"
   ]
  },
  {
   "cell_type": "code",
   "execution_count": 43,
   "metadata": {},
   "outputs": [
    {
     "name": "stdout",
     "output_type": "stream",
     "text": [
      "\n",
      "                   diff_reviews_ct_monthly\n",
      "-------------------------------------------------------------\n",
      "      Percentiles      Smallest\n",
      " 1%            0              0\n",
      " 5%            0              0\n",
      "10%            0              0       Obs               4,976\n",
      "25%            0              0       Sum of Wgt.       4,976\n",
      "\n",
      "50%            0                      Mean           .4240354\n",
      "                        Largest       Std. Dev.      1.362918\n",
      "75%            0             21\n",
      "90%            1             22       Variance       1.857545\n",
      "95%            2             25       Skewness       8.061613\n",
      "99%            6             25       Kurtosis       104.0344\n",
      "\n",
      "                  diff_reviews_ct_quarterly\n",
      "-------------------------------------------------------------\n",
      "      Percentiles      Smallest\n",
      " 1%            0              0\n",
      " 5%            0              0\n",
      "10%            0              0       Obs               4,005\n",
      "25%            0              0       Sum of Wgt.       4,005\n",
      "\n",
      "50%            0                      Mean           1.257928\n",
      "                        Largest       Std. Dev.      2.697566\n",
      "75%            1             27\n",
      "90%            4             27       Variance       7.276863\n",
      "95%            6             31       Skewness        4.50047\n",
      "99%           12             31       Kurtosis       32.46583\n"
     ]
    }
   ],
   "source": [
    "su diff_reviews_ct*,d"
   ]
  },
  {
   "cell_type": "code",
   "execution_count": 44,
   "metadata": {},
   "outputs": [
    {
     "name": "stdout",
     "output_type": "stream",
     "text": [
      "(bin=36, start=0, width=.86111111)\n"
     ]
    },
    {
     "data": {
      "image/png": "[encoded data removed]",
      "text/plain": [
       "This front-end cannot display the desired image type."
      ]
     },
     "metadata": {
      "image/png": {
       "height": 436,
       "width": 600
      }
     },
     "output_type": "display_data"
    },
    {
     "name": "stdout",
     "output_type": "stream",
     "text": [
      "\n",
      "\n"
     ]
    }
   ],
   "source": [
    "histogram diff_reviews_ct_quarterly"
   ]
  },
  {
   "cell_type": "code",
   "execution_count": 45,
   "metadata": {},
   "outputs": [
    {
     "name": "stdout",
     "output_type": "stream",
     "text": [
      "       panel variable:  installer_id (unbalanced)\n",
      "        time variable:  year_month_~t, 7 to 64\n",
      "                delta:  1 unit\n"
     ]
    }
   ],
   "source": [
    "xtset"
   ]
  },
  {
   "cell_type": "code",
   "execution_count": 50,
   "metadata": {},
   "outputs": [
    {
     "name": "stdout",
     "output_type": "stream",
     "text": [
      "\n",
      "    Variable |        Obs        Mean    Std. Dev.       Min        Max\n",
      "-------------+---------------------------------------------------------\n",
      "year_month~t |      1,384    50.16474    10.42032          8         64\n"
     ]
    }
   ],
   "source": [
    "su year_month_count if mod(year_month_count,4)==0"
   ]
  },
  {
   "cell_type": "code",
   "execution_count": 54,
   "metadata": {},
   "outputs": [
    {
     "name": "stdout",
     "output_type": "stream",
     "text": [
      "\n",
      "\n",
      "\n",
      "\n",
      "\n",
      "(0 observations deleted)\n",
      "\n",
      "\n",
      "(est1 stored)\n",
      "\n",
      "\n",
      "(est2 stored)\n",
      "\n",
      "\n",
      "(est3 stored)\n",
      "\n",
      "\n",
      "(est4 stored)\n",
      "\n",
      "\n",
      "(est5 stored)\n",
      "\n",
      "\n",
      "(est6 stored)\n",
      "\n",
      "\n",
      "(est7 stored)\n",
      "\n",
      "\n",
      "(est8 stored)\n",
      "\n",
      "\n",
      "(est9 stored)\n",
      "\n",
      "\n",
      "--------------------------------------------------------------------------------------------------------------------\n",
      "                              (1)             (2)             (3)             (4)             (5)             (6)   \n",
      "                     F.Installe~l    F.Installe~l    F.Installe~l    F.Installe~l    F.Installe~l    F.Installe~l   \n",
      "--------------------------------------------------------------------------------------------------------------------\n",
      "Rating_Entropy_Self                                         0.936*                                          0.956   \n",
      "                                                          (0.011)                                         (0.085)   \n",
      "\n",
      "Rating_Entropy_Sel~t                                       -1.301*                                         -1.021   \n",
      "                                                          (0.034)                                         (0.265)   \n",
      "\n",
      "Rating_Entropy_Oth~s                        0.644**         0.629**                         0.707*          0.691*  \n",
      "                                          (0.001)         (0.001)                         (0.011)         (0.013)   \n",
      "\n",
      "Rating_Entropy_Oth~E                       -2.487***       -2.479***                       -2.691***       -2.653***\n",
      "                                          (0.000)         (0.000)                         (0.000)         (0.000)   \n",
      "\n",
      "Average_Rating_Self        -0.364***       -0.349***       -0.303**        -0.302**        -0.292**        -0.211   \n",
      "                          (0.000)         (0.000)         (0.001)         (0.005)         (0.006)         (0.067)   \n",
      "\n",
      "Average_Rating_Oth~s      -0.0441        -0.00785        -0.00702          -0.169          -0.125          -0.128   \n",
      "                          (0.659)         (0.941)         (0.948)         (0.217)         (0.384)         (0.376)   \n",
      "\n",
      "Review_Count               0.0513***       0.0482***       0.0453***       0.0421***       0.0390***       0.0359***\n",
      "                          (0.000)         (0.000)         (0.000)         (0.000)         (0.000)         (0.000)   \n",
      "\n",
      "Experience                  0.215***        0.225***        0.221***        0.167**         0.175**         0.168** \n",
      "                          (0.000)         (0.000)         (0.000)         (0.006)         (0.004)         (0.006)   \n",
      "\n",
      "Price_Difference           0.0780          0.0751          0.0700          0.0964          0.0919          0.0799   \n",
      "                          (0.378)         (0.401)         (0.433)         (0.429)         (0.454)         (0.516)   \n",
      "\n",
      "Market_LogRevenue         -0.0167***      -0.0162***      -0.0155**       -0.0159*        -0.0154*        -0.0147*  \n",
      "                          (0.001)         (0.001)         (0.001)         (0.013)         (0.016)         (0.021)   \n",
      "\n",
      "Constant                    2.673***        2.720***        2.714***        2.720***        2.793***        2.713***\n",
      "                          (0.000)         (0.000)         (0.000)         (0.000)         (0.000)         (0.000)   \n",
      "--------------------------------------------------------------------------------------------------------------------\n",
      "Observations                 4605            4605            4605            2328            2328            2328   \n",
      "r2                          0.646           0.648           0.649           0.650           0.654           0.654   \n",
      "aic                       13329.4         13297.8         13292.3          6678.5          6660.8          6658.6   \n",
      "bic                       13387.3         13368.6         13375.9          6730.3          6724.0          6733.4   \n",
      "--------------------------------------------------------------------------------------------------------------------\n",
      "p-values in parentheses\n",
      "* p<0.05, ** p<0.01, *** p<0.001\n",
      "\n",
      "\n",
      "--------------------------------------------------------------------------------------------------------------------\n",
      "                              (1)             (2)             (3)             (4)             (5)             (6)   \n",
      "                     F.Installe~l    F.Installe~l    F.Installe~l    F.Installe~l    F.Installe~l    F.Installe~l   \n",
      "--------------------------------------------------------------------------------------------------------------------\n",
      "Rating_Entropy_Self                                         0.936*                                          1.529   \n",
      "                                                          (0.011)                                         (0.094)   \n",
      "\n",
      "Rating_Entropy_Sel~t                                       -1.301*                                         -1.872   \n",
      "                                                          (0.034)                                         (0.226)   \n",
      "\n",
      "Rating_Entropy_Oth~s                        0.644**         0.629**                         0.628           0.648   \n",
      "                                          (0.001)         (0.001)                         (0.212)         (0.194)   \n",
      "\n",
      "Rating_Entropy_Oth~E                       -2.487***       -2.479***                       -2.785**        -2.831** \n",
      "                                          (0.000)         (0.000)                         (0.007)         (0.005)   \n",
      "\n",
      "Average_Rating_Self        -0.364***       -0.349***       -0.303**        -0.350          -0.323          -0.172   \n",
      "                          (0.000)         (0.000)         (0.001)         (0.094)         (0.116)         (0.458)   \n",
      "\n",
      "Average_Rating_Oth~s      -0.0441        -0.00785        -0.00702         -0.0759        -0.00244          0.0488   \n",
      "                          (0.659)         (0.941)         (0.948)         (0.767)         (0.994)         (0.870)   \n",
      "\n",
      "Review_Count               0.0513***       0.0482***       0.0453***       0.0432***       0.0406***       0.0367***\n",
      "                          (0.000)         (0.000)         (0.000)         (0.000)         (0.000)         (0.000)   \n",
      "\n",
      "Experience                  0.215***        0.225***        0.221***        0.287***        0.297***        0.295***\n",
      "                          (0.000)         (0.000)         (0.000)         (0.000)         (0.000)         (0.000)   \n",
      "\n",
      "Price_Difference           0.0780          0.0751          0.0700           0.237           0.249           0.235   \n",
      "                          (0.378)         (0.401)         (0.433)         (0.183)         (0.158)         (0.185)   \n",
      "\n",
      "Market_LogRevenue         -0.0167***      -0.0162***      -0.0155**       -0.0338***      -0.0333***      -0.0319***\n",
      "                          (0.001)         (0.001)         (0.001)         (0.000)         (0.000)         (0.001)   \n",
      "\n",
      "Constant                    2.673***        2.720***        2.714***        2.925***        2.972***        2.790***\n",
      "                          (0.000)         (0.000)         (0.000)         (0.000)         (0.000)         (0.000)   \n",
      "--------------------------------------------------------------------------------------------------------------------\n",
      "Observations                 4605            4605            4605            1129            1129            1129   \n",
      "r2                          0.646           0.648           0.649           0.702           0.705           0.707   \n",
      "aic                       13329.4         13297.8         13292.3          3119.5          3111.5          3108.7   \n",
      "bic                       13387.3         13368.6         13375.9          3164.8          3166.8          3174.1   \n",
      "--------------------------------------------------------------------------------------------------------------------\n",
      "p-values in parentheses\n",
      "* p<0.05, ** p<0.01, *** p<0.001\n"
     ]
    }
   ],
   "source": [
    "global iv_0_demean \"avg_v2_demean missing_avg reviews_ct  avgmean_others_demean   log_experience temp_own_price_diff_other missing_price_info log_zip_rev i.state_n \"  \n",
    "global iv_11_demean \"avg_v2_demean missing_avg reviews_ct  avgmean_others_demean  ent_others_demean c.ent_others_demean#c.ent_others_demean  log_experience temp_own_price_diff_other missing_price_info log_zip_rev i.state_n \"  \n",
    "global iv_12_demean \"avg_v2_demean missing_avg reviews_ct  avgmean_others_demean  ent_others_demean ent_self_demean  c.ent_others_demean#c.ent_others_demean  c.ent_self_demean#c.ent_self_demean log_experience temp_own_price_diff_other missing_price_info log_zip_rev i.state_n \"  \n",
    "\n",
    "eststo clear \n",
    "\n",
    "drop if ent_others_demean==.\n",
    "\n",
    "\n",
    "qui:areg f.log_quotes  $iv_0_demean  , absorb( installer_id) vce(robust)\n",
    "eststo\n",
    "qui:areg f.log_quotes $iv_11_demean    , absorb( installer_id) vce(robust)\n",
    "eststo\n",
    "qui:areg f.log_quotes  $iv_12_demean  , absorb( installer_id) vce(robust)\n",
    "eststo\n",
    "qui:areg f.log_quotes  $iv_0_demean if mod(year_month_count,2)==1 , absorb( installer_id) vce(robust)\n",
    "eststo\n",
    "qui:areg f.log_quotes $iv_11_demean if mod(year_month_count,2)==1   , absorb( installer_id) vce(robust)\n",
    "eststo\n",
    "qui:areg f.log_quotes  $iv_12_demean if mod(year_month_count,2)==1 , absorb( installer_id) vce(robust)\n",
    "eststo\n",
    "qui:areg f.log_quotes  $iv_0_demean if mod(year_month_count,4)==1 , absorb( installer_id) vce(robust)\n",
    "eststo\n",
    "qui:areg f.log_quotes $iv_11_demean if mod(year_month_count,4)==1   , absorb( installer_id) vce(robust)\n",
    "eststo\n",
    "qui:areg f.log_quotes  $iv_12_demean if mod(year_month_count,4)==1 , absorb( installer_id) vce(robust)\n",
    "eststo\n",
    "\n",
    "esttab est1 est2 est3 est4 est5 est6 ,  order(  ent_self* c.ent_self* ent_other* c.ent_other* avg_v2_demean avgmean_others_demean) drop(*state* missing* ) p  label  scalars(r2 aic bic)\n",
    "esttab est1 est2 est3 est7 est8 est9 ,  order(  ent_self* c.ent_self* ent_other* c.ent_other* avg_v2_demean avgmean_others_demean) drop(*state* missing* ) p  label  scalars(r2 aic bic)\n"
   ]
  }
 ],
 "metadata": {
  "kernelspec": {
   "display_name": "Stata",
   "language": "stata",
   "name": "stata"
  },
  "language_info": {
   "codemirror_mode": "stata",
   "file_extension": ".do",
   "mimetype": "text/x-stata",
   "name": "stata",
   "version": "15.1"
  }
 },
 "nbformat": 4,
 "nbformat_minor": 4
}
