{
 "cells": [
  {
   "cell_type": "markdown",
   "metadata": {},
   "source": [
    "# Step 2 ES Feature Individual Level\n",
    "## Reviws and Rating Extraction \n",
    "\n",
    "Right now we recover a historic snapshot of ratings.   \n",
    "In the future we can add NLP pieces(such as count of certain words). \n",
    "\n",
    "Input:\n",
    "- close rate, monthly:  installer_close_rates.csv \n",
    "- reviews, by piece: installer_review_data_20180410.csv \n",
    "- reviews sentiment score, per each review \n",
    "\n",
    "Output: \n",
    "- 'oct29_closerate_withratingcounts.csv' \n",
    "\n",
    "Uplate: June25 , 2020\n",
    "\n",
    "\n"
   ]
  },
  {
   "cell_type": "markdown",
   "metadata": {},
   "source": [
    "## Get the Input data "
   ]
  },
  {
   "cell_type": "code",
   "execution_count": 1,
   "metadata": {},
   "outputs": [
    {
     "data": {
      "text/plain": [
       "'C:\\\\Users\\\\Herbie Huang\\\\Google Drive\\\\Current_SolarResearch\\\\working_june2020\\\\solar_project\\\\1_code'"
      ]
     },
     "execution_count": 1,
     "metadata": {},
     "output_type": "execute_result"
    }
   ],
   "source": [
    "pwd"
   ]
  },
  {
   "cell_type": "code",
   "execution_count": 2,
   "metadata": {},
   "outputs": [],
   "source": [
    "# -*- coding: utf-8 -*-\n",
    "\n",
    "import pandas as pd\n",
    "import numpy as np\n",
    "import os\n",
    " "
   ]
  },
  {
   "cell_type": "markdown",
   "metadata": {},
   "source": [
    "## Input : installer_close_rates and installer_review_data_20180410"
   ]
  },
  {
   "cell_type": "code",
   "execution_count": 3,
   "metadata": {},
   "outputs": [],
   "source": [
    "\n",
    "close=pd.read_csv('../0_data/Lock_ES_RawData/installer_close_rates.csv',sep=',')\n",
    "\n",
    "#%%\n",
    "reviews=pd.read_csv('../0_data/Lock_ES_RawData/installer_review_data_20180410.csv',sep=',',escapechar='\\\\')\n"
   ]
  },
  {
   "cell_type": "markdown",
   "metadata": {},
   "source": [
    "Close Rate (ES Installers)"
   ]
  },
  {
   "cell_type": "code",
   "execution_count": 5,
   "metadata": {},
   "outputs": [],
   "source": [
    "#%%\n",
    "#close rate have many NAs, and year_month are not integer \n",
    "\n",
    "close = close[np.isfinite(close['Year_month'])]\n",
    "close['Year_month']=pd.to_numeric(arg=close['Year_month'],downcast='integer')\n",
    "#%%\n",
    "close['year_month']=close['Year_month']\n",
    "#%% relace na with 0 \n",
    "close[['quotes_count','winning_quotes_count']]=close[['quotes_count','winning_quotes_count']].fillna(0)\n",
    "#%%\n",
    "close['year_month']=pd.to_datetime(close['Year_month'],format='%Y%m',errors='coerce')\n",
    "close['closeraterecord_id']=close.index\n",
    "#now the year _month colun are set to the correct time format "
   ]
  },
  {
   "cell_type": "code",
   "execution_count": 6,
   "metadata": {
    "scrolled": true
   },
   "outputs": [
    {
     "data": {
      "text/html": [
       "<div>\n",
       "<style scoped>\n",
       "    .dataframe tbody tr th:only-of-type {\n",
       "        vertical-align: middle;\n",
       "    }\n",
       "\n",
       "    .dataframe tbody tr th {\n",
       "        vertical-align: top;\n",
       "    }\n",
       "\n",
       "    .dataframe thead th {\n",
       "        text-align: right;\n",
       "    }\n",
       "</style>\n",
       "<table border=\"1\" class=\"dataframe\">\n",
       "  <thead>\n",
       "    <tr style=\"text-align: right;\">\n",
       "      <th></th>\n",
       "      <th>Unnamed: 0</th>\n",
       "      <th>installer_id</th>\n",
       "      <th>Year_month</th>\n",
       "      <th>quotes_count</th>\n",
       "      <th>winning_quotes_count</th>\n",
       "      <th>year_month</th>\n",
       "      <th>closeraterecord_id</th>\n",
       "    </tr>\n",
       "  </thead>\n",
       "  <tbody>\n",
       "    <tr>\n",
       "      <th>50</th>\n",
       "      <td>50</td>\n",
       "      <td>424</td>\n",
       "      <td>201710</td>\n",
       "      <td>238.0</td>\n",
       "      <td>4.0</td>\n",
       "      <td>2017-10-01</td>\n",
       "      <td>50</td>\n",
       "    </tr>\n",
       "    <tr>\n",
       "      <th>51</th>\n",
       "      <td>51</td>\n",
       "      <td>424</td>\n",
       "      <td>201711</td>\n",
       "      <td>211.0</td>\n",
       "      <td>3.0</td>\n",
       "      <td>2017-11-01</td>\n",
       "      <td>51</td>\n",
       "    </tr>\n",
       "    <tr>\n",
       "      <th>52</th>\n",
       "      <td>52</td>\n",
       "      <td>424</td>\n",
       "      <td>201712</td>\n",
       "      <td>134.0</td>\n",
       "      <td>4.0</td>\n",
       "      <td>2017-12-01</td>\n",
       "      <td>52</td>\n",
       "    </tr>\n",
       "    <tr>\n",
       "      <th>53</th>\n",
       "      <td>53</td>\n",
       "      <td>424</td>\n",
       "      <td>201801</td>\n",
       "      <td>227.0</td>\n",
       "      <td>0.0</td>\n",
       "      <td>2018-01-01</td>\n",
       "      <td>53</td>\n",
       "    </tr>\n",
       "    <tr>\n",
       "      <th>54</th>\n",
       "      <td>54</td>\n",
       "      <td>424</td>\n",
       "      <td>201802</td>\n",
       "      <td>245.0</td>\n",
       "      <td>0.0</td>\n",
       "      <td>2018-02-01</td>\n",
       "      <td>54</td>\n",
       "    </tr>\n",
       "    <tr>\n",
       "      <th>55</th>\n",
       "      <td>55</td>\n",
       "      <td>424</td>\n",
       "      <td>201803</td>\n",
       "      <td>306.0</td>\n",
       "      <td>3.0</td>\n",
       "      <td>2018-03-01</td>\n",
       "      <td>55</td>\n",
       "    </tr>\n",
       "    <tr>\n",
       "      <th>56</th>\n",
       "      <td>56</td>\n",
       "      <td>424</td>\n",
       "      <td>201804</td>\n",
       "      <td>78.0</td>\n",
       "      <td>0.0</td>\n",
       "      <td>2018-04-01</td>\n",
       "      <td>56</td>\n",
       "    </tr>\n",
       "    <tr>\n",
       "      <th>57</th>\n",
       "      <td>57</td>\n",
       "      <td>551</td>\n",
       "      <td>201312</td>\n",
       "      <td>1.0</td>\n",
       "      <td>1.0</td>\n",
       "      <td>2013-12-01</td>\n",
       "      <td>57</td>\n",
       "    </tr>\n",
       "    <tr>\n",
       "      <th>58</th>\n",
       "      <td>58</td>\n",
       "      <td>551</td>\n",
       "      <td>201403</td>\n",
       "      <td>2.0</td>\n",
       "      <td>0.0</td>\n",
       "      <td>2014-03-01</td>\n",
       "      <td>58</td>\n",
       "    </tr>\n",
       "    <tr>\n",
       "      <th>59</th>\n",
       "      <td>59</td>\n",
       "      <td>551</td>\n",
       "      <td>201404</td>\n",
       "      <td>1.0</td>\n",
       "      <td>0.0</td>\n",
       "      <td>2014-04-01</td>\n",
       "      <td>59</td>\n",
       "    </tr>\n",
       "  </tbody>\n",
       "</table>\n",
       "</div>"
      ],
      "text/plain": [
       "    Unnamed: 0  installer_id  Year_month  quotes_count  winning_quotes_count  \\\n",
       "50          50           424      201710         238.0                   4.0   \n",
       "51          51           424      201711         211.0                   3.0   \n",
       "52          52           424      201712         134.0                   4.0   \n",
       "53          53           424      201801         227.0                   0.0   \n",
       "54          54           424      201802         245.0                   0.0   \n",
       "55          55           424      201803         306.0                   3.0   \n",
       "56          56           424      201804          78.0                   0.0   \n",
       "57          57           551      201312           1.0                   1.0   \n",
       "58          58           551      201403           2.0                   0.0   \n",
       "59          59           551      201404           1.0                   0.0   \n",
       "\n",
       "   year_month  closeraterecord_id  \n",
       "50 2017-10-01                  50  \n",
       "51 2017-11-01                  51  \n",
       "52 2017-12-01                  52  \n",
       "53 2018-01-01                  53  \n",
       "54 2018-02-01                  54  \n",
       "55 2018-03-01                  55  \n",
       "56 2018-04-01                  56  \n",
       "57 2013-12-01                  57  \n",
       "58 2014-03-01                  58  \n",
       "59 2014-04-01                  59  "
      ]
     },
     "execution_count": 6,
     "metadata": {},
     "output_type": "execute_result"
    }
   ],
   "source": [
    "close[50:60]"
   ]
  },
  {
   "cell_type": "markdown",
   "metadata": {},
   "source": [
    "Note this still has gaps in time. When we append the reviews score it will also have gap. "
   ]
  },
  {
   "cell_type": "markdown",
   "metadata": {},
   "source": [
    "## Input: sent_score from data pipeline "
   ]
  },
  {
   "cell_type": "code",
   "execution_count": 12,
   "metadata": {},
   "outputs": [],
   "source": [
    "reviews_sent_scores=pd.read_csv('../2_pipeline/reviews_sent_score_jan16_2020.csv')"
   ]
  },
  {
   "cell_type": "code",
   "execution_count": 14,
   "metadata": {},
   "outputs": [],
   "source": [
    "reviews_sent_scores=reviews_sent_scores[['id','installer_id','overall_rating','sent_score']]"
   ]
  },
  {
   "cell_type": "markdown",
   "metadata": {},
   "source": [
    "## Merge Reviews data with sentiment scores "
   ]
  },
  {
   "cell_type": "code",
   "execution_count": 15,
   "metadata": {},
   "outputs": [],
   "source": [
    "reviews=pd.merge(left=reviews,right=reviews_sent_scores,on=['id','installer_id','overall_rating'],how='inner')"
   ]
  },
  {
   "cell_type": "code",
   "execution_count": 16,
   "metadata": {},
   "outputs": [
    {
     "data": {
      "text/html": [
       "<div>\n",
       "<style scoped>\n",
       "    .dataframe tbody tr th:only-of-type {\n",
       "        vertical-align: middle;\n",
       "    }\n",
       "\n",
       "    .dataframe tbody tr th {\n",
       "        vertical-align: top;\n",
       "    }\n",
       "\n",
       "    .dataframe thead th {\n",
       "        text-align: right;\n",
       "    }\n",
       "</style>\n",
       "<table border=\"1\" class=\"dataframe\">\n",
       "  <thead>\n",
       "    <tr style=\"text-align: right;\">\n",
       "      <th></th>\n",
       "      <th>id</th>\n",
       "      <th>installer_id</th>\n",
       "      <th>subject</th>\n",
       "      <th>body</th>\n",
       "      <th>active</th>\n",
       "      <th>authenticated</th>\n",
       "      <th>date_created</th>\n",
       "      <th>overall_rating</th>\n",
       "      <th>number_quotes_submitted</th>\n",
       "      <th>number_winning_quotes</th>\n",
       "      <th>sent_score</th>\n",
       "    </tr>\n",
       "  </thead>\n",
       "  <tbody>\n",
       "    <tr>\n",
       "      <th>3382</th>\n",
       "      <td>3392</td>\n",
       "      <td>3247</td>\n",
       "      <td>AVOID this company</td>\n",
       "      <td>Terrible service, difficult to deal with, wait...</td>\n",
       "      <td>1</td>\n",
       "      <td>1</td>\n",
       "      <td>2018-04-09 15:34:12</td>\n",
       "      <td>1</td>\n",
       "      <td>0</td>\n",
       "      <td>0</td>\n",
       "      <td>-0.6808</td>\n",
       "    </tr>\n",
       "    <tr>\n",
       "      <th>3383</th>\n",
       "      <td>3393</td>\n",
       "      <td>21242</td>\n",
       "      <td>Altair is amazing!  Look no further.</td>\n",
       "      <td>This was our second solar installation. After ...</td>\n",
       "      <td>1</td>\n",
       "      <td>1</td>\n",
       "      <td>2018-04-09 16:05:47</td>\n",
       "      <td>5</td>\n",
       "      <td>842</td>\n",
       "      <td>14</td>\n",
       "      <td>0.9704</td>\n",
       "    </tr>\n",
       "    <tr>\n",
       "      <th>3384</th>\n",
       "      <td>3394</td>\n",
       "      <td>21269</td>\n",
       "      <td>Installation  of Solar Pqnels</td>\n",
       "      <td>In April 2017 Solar Five Company installed 32 ...</td>\n",
       "      <td>1</td>\n",
       "      <td>1</td>\n",
       "      <td>2018-04-09 19:49:58</td>\n",
       "      <td>5</td>\n",
       "      <td>276</td>\n",
       "      <td>3</td>\n",
       "      <td>0.6597</td>\n",
       "    </tr>\n",
       "    <tr>\n",
       "      <th>3385</th>\n",
       "      <td>3395</td>\n",
       "      <td>21711</td>\n",
       "      <td>Professional, cost-effective and easy for me</td>\n",
       "      <td>Pinnacle installed our solar panels and I coul...</td>\n",
       "      <td>1</td>\n",
       "      <td>0</td>\n",
       "      <td>2018-04-09 21:57:33</td>\n",
       "      <td>5</td>\n",
       "      <td>10</td>\n",
       "      <td>0</td>\n",
       "      <td>0.6588</td>\n",
       "    </tr>\n",
       "    <tr>\n",
       "      <th>3386</th>\n",
       "      <td>3396</td>\n",
       "      <td>21866</td>\n",
       "      <td>Quality Install</td>\n",
       "      <td>I signed up with America Green back in Februar...</td>\n",
       "      <td>1</td>\n",
       "      <td>1</td>\n",
       "      <td>2018-04-10 19:04:47</td>\n",
       "      <td>4</td>\n",
       "      <td>0</td>\n",
       "      <td>0</td>\n",
       "      <td>0.8689</td>\n",
       "    </tr>\n",
       "  </tbody>\n",
       "</table>\n",
       "</div>"
      ],
      "text/plain": [
       "        id  installer_id                                       subject  \\\n",
       "3382  3392          3247                            AVOID this company   \n",
       "3383  3393         21242          Altair is amazing!  Look no further.   \n",
       "3384  3394         21269                 Installation  of Solar Pqnels   \n",
       "3385  3395         21711  Professional, cost-effective and easy for me   \n",
       "3386  3396         21866                               Quality Install   \n",
       "\n",
       "                                                   body  active  \\\n",
       "3382  Terrible service, difficult to deal with, wait...       1   \n",
       "3383  This was our second solar installation. After ...       1   \n",
       "3384  In April 2017 Solar Five Company installed 32 ...       1   \n",
       "3385  Pinnacle installed our solar panels and I coul...       1   \n",
       "3386  I signed up with America Green back in Februar...       1   \n",
       "\n",
       "      authenticated         date_created  overall_rating  \\\n",
       "3382              1  2018-04-09 15:34:12               1   \n",
       "3383              1  2018-04-09 16:05:47               5   \n",
       "3384              1  2018-04-09 19:49:58               5   \n",
       "3385              0  2018-04-09 21:57:33               5   \n",
       "3386              1  2018-04-10 19:04:47               4   \n",
       "\n",
       "      number_quotes_submitted  number_winning_quotes  sent_score  \n",
       "3382                        0                      0     -0.6808  \n",
       "3383                      842                     14      0.9704  \n",
       "3384                      276                      3      0.6597  \n",
       "3385                       10                      0      0.6588  \n",
       "3386                        0                      0      0.8689  "
      ]
     },
     "execution_count": 16,
     "metadata": {},
     "output_type": "execute_result"
    }
   ],
   "source": [
    "reviews.tail()"
   ]
  },
  {
   "cell_type": "markdown",
   "metadata": {},
   "source": [
    "## Reshape and Create the installer-monthly reviews rating and sentiment record "
   ]
  },
  {
   "cell_type": "code",
   "execution_count": 19,
   "metadata": {},
   "outputs": [
    {
     "data": {
      "text/plain": [
       "0    0\n",
       "1    1\n",
       "2    2\n",
       "3    3\n",
       "4    4\n",
       "5    5\n",
       "Name: closeraterecord_id, dtype: int64"
      ]
     },
     "execution_count": 19,
     "metadata": {},
     "output_type": "execute_result"
    }
   ],
   "source": [
    "close['closeraterecord_id'][:6]"
   ]
  },
  {
   "cell_type": "code",
   "execution_count": 18,
   "metadata": {},
   "outputs": [
    {
     "data": {
      "text/plain": [
       "0.49540000000000006"
      ]
     },
     "execution_count": 18,
     "metadata": {},
     "output_type": "execute_result"
    }
   ],
   "source": [
    "reviews.tail().sent_score.mean()"
   ]
  },
  {
   "cell_type": "markdown",
   "metadata": {},
   "source": [
    "### Helper Function: count occurances of X star reviews in a list "
   ]
  },
  {
   "cell_type": "code",
   "execution_count": 20,
   "metadata": {},
   "outputs": [],
   "source": [
    "def countX(lst, x):\n",
    "    count = 0\n",
    "    for ele in lst:\n",
    "        if (ele == x):\n",
    "            count = count + 1\n",
    "    return count"
   ]
  },
  {
   "cell_type": "markdown",
   "metadata": {},
   "source": [
    "### Loop through the closerate data frame to collect the corresponding rating and sent_score \n",
    "For every piece of closerate record ( shaped like installer-month) \n",
    "- temp_seedate collects the year_month of that piece of record \n",
    "- temp_installer records the installer_id \n",
    "- temp_reviews_step1, temp_reviews_step2 : find the reviews set that belonged to that instaler, before and including that month \n",
    "- temp_count5, temp_count4..temp_count1: count how many pieces of 5-star , 4-star..1-star reviews in this set \n",
    "- temp_sent_scores, temp_sent_avg: find the set of relevant reviews and their sent_score - temp_sent_score. Take the average - temp_sent_avg \n",
    "- temp_dataexp: collect this row of data : i - closerrate index. temp_count5/4/3/2/1 , temp_avg_sent_score "
   ]
  },
  {
   "cell_type": "code",
   "execution_count": 21,
   "metadata": {
    "scrolled": true
   },
   "outputs": [
    {
     "name": "stderr",
     "output_type": "stream",
     "text": [
      "C:\\Anaconda\\lib\\site-packages\\ipykernel_launcher.py:17: UserWarning: Boolean Series key will be reindexed to match DataFrame index.\n"
     ]
    }
   ],
   "source": [
    "#%%\n",
    "#%%\n",
    "reviews['date_created']=pd.to_datetime(reviews['date_created'])\n",
    "#%%\n",
    "allratings=[]\n",
    "collect=close\n",
    "avgrating=[]\n",
    "count=[]\n",
    "data_exp=[]\n",
    "#%%\n",
    "\n",
    "for i in close['closeraterecord_id']:\n",
    "    temp_seedate=close['year_month'].loc[i]\n",
    "    temp_installer=close['installer_id'].loc[i]\n",
    "    temp_reviews_step1=reviews[reviews['installer_id']==temp_installer]\n",
    "    # step 1 is to slice the reviews that only relevant to this installer as temp_installer is the id \n",
    "    temp_reviews_step2=temp_reviews_step1[reviews['date_created']<=temp_seedate]\n",
    "    #step 2 is to slice the reviews that happened before the \"see date\" (temp_seedate)\n",
    "    temp_ratings=temp_reviews_step2['overall_rating']\n",
    "    # print(temp_ratings)\n",
    "    temp_sent_scores=temp_reviews_step2.sent_score\n",
    "    temp_count5=countX(temp_ratings,5)\n",
    "    temp_count4=countX(temp_ratings,4) \n",
    "    temp_count3=countX(temp_ratings,3)\n",
    "    temp_count2=countX(temp_ratings,2)\n",
    "    temp_count1=countX(temp_ratings,1)\n",
    "    temp_avg_sent_score=temp_sent_scores.mean()\n",
    "   # temp_countstars=[temp_count5,temp_count4,temp_count3,temp_count2,temp_count1]\n",
    "   # count.append(temp_countstars)\n",
    "    temp_dataexp=[i,temp_count5,temp_count4,temp_count3,temp_count2,temp_count1,temp_avg_sent_score]\n",
    "    data_exp.append(temp_dataexp)\n"
   ]
  },
  {
   "cell_type": "code",
   "execution_count": 22,
   "metadata": {},
   "outputs": [
    {
     "data": {
      "text/plain": [
       "[[6406, 6, 0, 0, 0, 0, 0.56655],\n",
       " [6407, 0, 0, 0, 0, 0, nan],\n",
       " [6408, 2, 0, 0, 0, 0, 0.655],\n",
       " [6409, 0, 0, 0, 0, 0, nan]]"
      ]
     },
     "execution_count": 22,
     "metadata": {},
     "output_type": "execute_result"
    }
   ],
   "source": [
    "data_exp[-5:-1]"
   ]
  },
  {
   "cell_type": "code",
   "execution_count": 23,
   "metadata": {},
   "outputs": [],
   "source": [
    "data_exp_df=pd.DataFrame(data=data_exp,columns=['i', 'five','four','three','two','one','avg_sent_score'])\n",
    "#%%"
   ]
  },
  {
   "cell_type": "markdown",
   "metadata": {},
   "source": [
    "Verify that data_exp_df is the same structure and length as closerate data "
   ]
  },
  {
   "cell_type": "code",
   "execution_count": 24,
   "metadata": {},
   "outputs": [
    {
     "data": {
      "text/html": [
       "<div>\n",
       "<style scoped>\n",
       "    .dataframe tbody tr th:only-of-type {\n",
       "        vertical-align: middle;\n",
       "    }\n",
       "\n",
       "    .dataframe tbody tr th {\n",
       "        vertical-align: top;\n",
       "    }\n",
       "\n",
       "    .dataframe thead th {\n",
       "        text-align: right;\n",
       "    }\n",
       "</style>\n",
       "<table border=\"1\" class=\"dataframe\">\n",
       "  <thead>\n",
       "    <tr style=\"text-align: right;\">\n",
       "      <th></th>\n",
       "      <th>i</th>\n",
       "      <th>five</th>\n",
       "      <th>four</th>\n",
       "      <th>three</th>\n",
       "      <th>two</th>\n",
       "      <th>one</th>\n",
       "      <th>avg_sent_score</th>\n",
       "    </tr>\n",
       "  </thead>\n",
       "  <tbody>\n",
       "    <tr>\n",
       "      <th>6406</th>\n",
       "      <td>6406</td>\n",
       "      <td>6</td>\n",
       "      <td>0</td>\n",
       "      <td>0</td>\n",
       "      <td>0</td>\n",
       "      <td>0</td>\n",
       "      <td>0.56655</td>\n",
       "    </tr>\n",
       "    <tr>\n",
       "      <th>6407</th>\n",
       "      <td>6407</td>\n",
       "      <td>0</td>\n",
       "      <td>0</td>\n",
       "      <td>0</td>\n",
       "      <td>0</td>\n",
       "      <td>0</td>\n",
       "      <td>NaN</td>\n",
       "    </tr>\n",
       "    <tr>\n",
       "      <th>6408</th>\n",
       "      <td>6408</td>\n",
       "      <td>2</td>\n",
       "      <td>0</td>\n",
       "      <td>0</td>\n",
       "      <td>0</td>\n",
       "      <td>0</td>\n",
       "      <td>0.65500</td>\n",
       "    </tr>\n",
       "    <tr>\n",
       "      <th>6409</th>\n",
       "      <td>6409</td>\n",
       "      <td>0</td>\n",
       "      <td>0</td>\n",
       "      <td>0</td>\n",
       "      <td>0</td>\n",
       "      <td>0</td>\n",
       "      <td>NaN</td>\n",
       "    </tr>\n",
       "    <tr>\n",
       "      <th>6410</th>\n",
       "      <td>6410</td>\n",
       "      <td>3</td>\n",
       "      <td>0</td>\n",
       "      <td>0</td>\n",
       "      <td>0</td>\n",
       "      <td>0</td>\n",
       "      <td>0.69600</td>\n",
       "    </tr>\n",
       "  </tbody>\n",
       "</table>\n",
       "</div>"
      ],
      "text/plain": [
       "         i  five  four  three  two  one  avg_sent_score\n",
       "6406  6406     6     0      0    0    0         0.56655\n",
       "6407  6407     0     0      0    0    0             NaN\n",
       "6408  6408     2     0      0    0    0         0.65500\n",
       "6409  6409     0     0      0    0    0             NaN\n",
       "6410  6410     3     0      0    0    0         0.69600"
      ]
     },
     "execution_count": 24,
     "metadata": {},
     "output_type": "execute_result"
    }
   ],
   "source": [
    "data_exp_df.tail()"
   ]
  },
  {
   "cell_type": "code",
   "execution_count": 25,
   "metadata": {},
   "outputs": [
    {
     "data": {
      "text/html": [
       "<div>\n",
       "<style scoped>\n",
       "    .dataframe tbody tr th:only-of-type {\n",
       "        vertical-align: middle;\n",
       "    }\n",
       "\n",
       "    .dataframe tbody tr th {\n",
       "        vertical-align: top;\n",
       "    }\n",
       "\n",
       "    .dataframe thead th {\n",
       "        text-align: right;\n",
       "    }\n",
       "</style>\n",
       "<table border=\"1\" class=\"dataframe\">\n",
       "  <thead>\n",
       "    <tr style=\"text-align: right;\">\n",
       "      <th></th>\n",
       "      <th>Unnamed: 0</th>\n",
       "      <th>installer_id</th>\n",
       "      <th>Year_month</th>\n",
       "      <th>quotes_count</th>\n",
       "      <th>winning_quotes_count</th>\n",
       "      <th>year_month</th>\n",
       "      <th>closeraterecord_id</th>\n",
       "    </tr>\n",
       "  </thead>\n",
       "  <tbody>\n",
       "    <tr>\n",
       "      <th>6406</th>\n",
       "      <td>6406</td>\n",
       "      <td>22992</td>\n",
       "      <td>201804</td>\n",
       "      <td>10.0</td>\n",
       "      <td>0.0</td>\n",
       "      <td>2018-04-01</td>\n",
       "      <td>6406</td>\n",
       "    </tr>\n",
       "    <tr>\n",
       "      <th>6407</th>\n",
       "      <td>6407</td>\n",
       "      <td>22997</td>\n",
       "      <td>201803</td>\n",
       "      <td>28.0</td>\n",
       "      <td>0.0</td>\n",
       "      <td>2018-03-01</td>\n",
       "      <td>6407</td>\n",
       "    </tr>\n",
       "    <tr>\n",
       "      <th>6408</th>\n",
       "      <td>6408</td>\n",
       "      <td>22997</td>\n",
       "      <td>201804</td>\n",
       "      <td>4.0</td>\n",
       "      <td>0.0</td>\n",
       "      <td>2018-04-01</td>\n",
       "      <td>6408</td>\n",
       "    </tr>\n",
       "    <tr>\n",
       "      <th>6409</th>\n",
       "      <td>6409</td>\n",
       "      <td>23027</td>\n",
       "      <td>201803</td>\n",
       "      <td>2.0</td>\n",
       "      <td>0.0</td>\n",
       "      <td>2018-03-01</td>\n",
       "      <td>6409</td>\n",
       "    </tr>\n",
       "    <tr>\n",
       "      <th>6410</th>\n",
       "      <td>6410</td>\n",
       "      <td>23027</td>\n",
       "      <td>201804</td>\n",
       "      <td>15.0</td>\n",
       "      <td>0.0</td>\n",
       "      <td>2018-04-01</td>\n",
       "      <td>6410</td>\n",
       "    </tr>\n",
       "  </tbody>\n",
       "</table>\n",
       "</div>"
      ],
      "text/plain": [
       "      Unnamed: 0  installer_id  Year_month  quotes_count  \\\n",
       "6406        6406         22992      201804          10.0   \n",
       "6407        6407         22997      201803          28.0   \n",
       "6408        6408         22997      201804           4.0   \n",
       "6409        6409         23027      201803           2.0   \n",
       "6410        6410         23027      201804          15.0   \n",
       "\n",
       "      winning_quotes_count year_month  closeraterecord_id  \n",
       "6406                   0.0 2018-04-01                6406  \n",
       "6407                   0.0 2018-03-01                6407  \n",
       "6408                   0.0 2018-04-01                6408  \n",
       "6409                   0.0 2018-03-01                6409  \n",
       "6410                   0.0 2018-04-01                6410  "
      ]
     },
     "execution_count": 25,
     "metadata": {},
     "output_type": "execute_result"
    }
   ],
   "source": [
    "close.tail()"
   ]
  },
  {
   "cell_type": "code",
   "execution_count": 26,
   "metadata": {},
   "outputs": [],
   "source": [
    "merged_new_closerecord=pd.merge(left=data_exp_df,right=close,left_on='i',right_on='closeraterecord_id',how='inner')"
   ]
  },
  {
   "cell_type": "code",
   "execution_count": 27,
   "metadata": {},
   "outputs": [
    {
     "data": {
      "text/html": [
       "<div>\n",
       "<style scoped>\n",
       "    .dataframe tbody tr th:only-of-type {\n",
       "        vertical-align: middle;\n",
       "    }\n",
       "\n",
       "    .dataframe tbody tr th {\n",
       "        vertical-align: top;\n",
       "    }\n",
       "\n",
       "    .dataframe thead th {\n",
       "        text-align: right;\n",
       "    }\n",
       "</style>\n",
       "<table border=\"1\" class=\"dataframe\">\n",
       "  <thead>\n",
       "    <tr style=\"text-align: right;\">\n",
       "      <th></th>\n",
       "      <th>i</th>\n",
       "      <th>five</th>\n",
       "      <th>four</th>\n",
       "      <th>three</th>\n",
       "      <th>two</th>\n",
       "      <th>one</th>\n",
       "      <th>avg_sent_score</th>\n",
       "      <th>Unnamed: 0</th>\n",
       "      <th>installer_id</th>\n",
       "      <th>Year_month</th>\n",
       "      <th>quotes_count</th>\n",
       "      <th>winning_quotes_count</th>\n",
       "      <th>year_month</th>\n",
       "      <th>closeraterecord_id</th>\n",
       "    </tr>\n",
       "  </thead>\n",
       "  <tbody>\n",
       "    <tr>\n",
       "      <th>0</th>\n",
       "      <td>0</td>\n",
       "      <td>0</td>\n",
       "      <td>0</td>\n",
       "      <td>0</td>\n",
       "      <td>0</td>\n",
       "      <td>0</td>\n",
       "      <td>NaN</td>\n",
       "      <td>0</td>\n",
       "      <td>108</td>\n",
       "      <td>201506</td>\n",
       "      <td>27.0</td>\n",
       "      <td>0.0</td>\n",
       "      <td>2015-06-01</td>\n",
       "      <td>0</td>\n",
       "    </tr>\n",
       "    <tr>\n",
       "      <th>1</th>\n",
       "      <td>1</td>\n",
       "      <td>0</td>\n",
       "      <td>0</td>\n",
       "      <td>0</td>\n",
       "      <td>0</td>\n",
       "      <td>0</td>\n",
       "      <td>NaN</td>\n",
       "      <td>1</td>\n",
       "      <td>108</td>\n",
       "      <td>201601</td>\n",
       "      <td>12.0</td>\n",
       "      <td>0.0</td>\n",
       "      <td>2016-01-01</td>\n",
       "      <td>1</td>\n",
       "    </tr>\n",
       "    <tr>\n",
       "      <th>2</th>\n",
       "      <td>2</td>\n",
       "      <td>0</td>\n",
       "      <td>0</td>\n",
       "      <td>0</td>\n",
       "      <td>0</td>\n",
       "      <td>0</td>\n",
       "      <td>NaN</td>\n",
       "      <td>2</td>\n",
       "      <td>108</td>\n",
       "      <td>201602</td>\n",
       "      <td>3.0</td>\n",
       "      <td>0.0</td>\n",
       "      <td>2016-02-01</td>\n",
       "      <td>2</td>\n",
       "    </tr>\n",
       "    <tr>\n",
       "      <th>3</th>\n",
       "      <td>3</td>\n",
       "      <td>0</td>\n",
       "      <td>0</td>\n",
       "      <td>0</td>\n",
       "      <td>0</td>\n",
       "      <td>0</td>\n",
       "      <td>NaN</td>\n",
       "      <td>3</td>\n",
       "      <td>363</td>\n",
       "      <td>201603</td>\n",
       "      <td>20.0</td>\n",
       "      <td>0.0</td>\n",
       "      <td>2016-03-01</td>\n",
       "      <td>3</td>\n",
       "    </tr>\n",
       "    <tr>\n",
       "      <th>4</th>\n",
       "      <td>4</td>\n",
       "      <td>0</td>\n",
       "      <td>0</td>\n",
       "      <td>0</td>\n",
       "      <td>0</td>\n",
       "      <td>0</td>\n",
       "      <td>NaN</td>\n",
       "      <td>4</td>\n",
       "      <td>363</td>\n",
       "      <td>201604</td>\n",
       "      <td>8.0</td>\n",
       "      <td>0.0</td>\n",
       "      <td>2016-04-01</td>\n",
       "      <td>4</td>\n",
       "    </tr>\n",
       "  </tbody>\n",
       "</table>\n",
       "</div>"
      ],
      "text/plain": [
       "   i  five  four  three  two  one  avg_sent_score  Unnamed: 0  installer_id  \\\n",
       "0  0     0     0      0    0    0             NaN           0           108   \n",
       "1  1     0     0      0    0    0             NaN           1           108   \n",
       "2  2     0     0      0    0    0             NaN           2           108   \n",
       "3  3     0     0      0    0    0             NaN           3           363   \n",
       "4  4     0     0      0    0    0             NaN           4           363   \n",
       "\n",
       "   Year_month  quotes_count  winning_quotes_count year_month  \\\n",
       "0      201506          27.0                   0.0 2015-06-01   \n",
       "1      201601          12.0                   0.0 2016-01-01   \n",
       "2      201602           3.0                   0.0 2016-02-01   \n",
       "3      201603          20.0                   0.0 2016-03-01   \n",
       "4      201604           8.0                   0.0 2016-04-01   \n",
       "\n",
       "   closeraterecord_id  \n",
       "0                   0  \n",
       "1                   1  \n",
       "2                   2  \n",
       "3                   3  \n",
       "4                   4  "
      ]
     },
     "execution_count": 27,
     "metadata": {},
     "output_type": "execute_result"
    }
   ],
   "source": [
    "merged_new_closerecord.head()"
   ]
  },
  {
   "cell_type": "code",
   "execution_count": 28,
   "metadata": {},
   "outputs": [
    {
     "data": {
      "text/plain": [
       "'C:\\\\Users\\\\Herbie Huang\\\\Google Drive\\\\Current_SolarResearch\\\\working_june2020\\\\solar_project\\\\1_code'"
      ]
     },
     "execution_count": 28,
     "metadata": {},
     "output_type": "execute_result"
    }
   ],
   "source": [
    "pwd"
   ]
  },
  {
   "cell_type": "markdown",
   "metadata": {},
   "source": [
    "## Output: closerate_withratingcounts_sent_score to 2_pipeline"
   ]
  },
  {
   "cell_type": "code",
   "execution_count": 30,
   "metadata": {},
   "outputs": [],
   "source": [
    "merged_new_closerecord.to_csv('../2_pipeline/closerate_withratingcounts_sent_score.csv')"
   ]
  }
 ],
 "metadata": {
  "kernelspec": {
   "display_name": "Python 3",
   "language": "python",
   "name": "python3"
  },
  "language_info": {
   "codemirror_mode": {
    "name": "ipython",
    "version": 3
   },
   "file_extension": ".py",
   "mimetype": "text/x-python",
   "name": "python",
   "nbconvert_exporter": "python",
   "pygments_lexer": "ipython3",
   "version": "3.7.3"
  },
  "varInspector": {
   "cols": {
    "lenName": 16,
    "lenType": 16,
    "lenVar": 40
   },
   "kernels_config": {
    "python": {
     "delete_cmd_postfix": "",
     "delete_cmd_prefix": "del ",
     "library": "var_list.py",
     "varRefreshCmd": "print(var_dic_list())"
    },
    "r": {
     "delete_cmd_postfix": ") ",
     "delete_cmd_prefix": "rm(",
     "library": "var_list.r",
     "varRefreshCmd": "cat(var_dic_list()) "
    }
   },
   "position": {
    "height": "242.979px",
    "left": "1224.51px",
    "right": "20px",
    "top": "395.992px",
    "width": "526.221px"
   },
   "types_to_exclude": [
    "module",
    "function",
    "builtin_function_or_method",
    "instance",
    "_Feature"
   ],
   "window_display": false
  }
 },
 "nbformat": 4,
 "nbformat_minor": 4
}
