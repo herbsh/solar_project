{
 "cells": [
  {
   "cell_type": "code",
   "execution_count": 2,
   "metadata": {},
   "outputs": [],
   "source": [
    "use regression_analysis_ind_with_ent_sent_march9.dta, clear"
   ]
  },
  {
   "cell_type": "code",
   "execution_count": 8,
   "metadata": {},
   "outputs": [
    {
     "name": "stdout",
     "output_type": "stream",
     "text": [
      "\n",
      "    Variable |        Obs        Mean    Std. Dev.       Min        Max\n",
      "-------------+---------------------------------------------------------\n",
      "avg_sent_s~e |      7,528    .4119695    .3577352     -.8268      .9576\n",
      "avg_sent_s~t |      7,528    .5938574    .2537537          0    .886075\n",
      "avg_sent_s~s |      7,528    .5615071    .2830419     -.5994      .9576\n"
     ]
    }
   ],
   "source": [
    "su avg_sen*"
   ]
  },
  {
   "cell_type": "code",
   "execution_count": 9,
   "metadata": {},
   "outputs": [
    {
     "name": "stdout",
     "output_type": "stream",
     "text": [
      "\n",
      "    Variable |        Obs        Mean    Std. Dev.       Min        Max\n",
      "-------------+---------------------------------------------------------\n",
      "     ent_mkt |      4,900    .2234176    .1815654          0    1.05492\n",
      "  ent_others |      4,900    .2098061    .1864398          0   1.070593\n",
      "    ent_self |      4,900    .0937851    .2147703          0   1.209574\n",
      "ent_others~n |      4,900   -.0149312    .1864398  -.2247373   .8458561\n",
      "ent_self_d~n |      4,900   -.0043575    .2147703  -.0981426   1.111431\n",
      "-------------+---------------------------------------------------------\n",
      "ent_oth~n_sq |      4,900    .0349756    .0697801   6.92e-10   .7154725\n",
      "ent_self_d~q |      4,900    .0461358    .1108806   .0001067    1.23528\n",
      "ent_oth~s_sq |      4,900    .0787713    .1317517          0    1.14617\n"
     ]
    }
   ],
   "source": [
    "su ent_*"
   ]
  },
  {
   "cell_type": "markdown",
   "metadata": {},
   "source": [
    "## solve some data irregularities "
   ]
  },
  {
   "cell_type": "code",
   "execution_count": 6,
   "metadata": {},
   "outputs": [
    {
     "name": "stdout",
     "output_type": "stream",
     "text": [
      "\n",
      "(16 real changes made)\n",
      "\n",
      "(17 real changes made)\n"
     ]
    }
   ],
   "source": [
    "replace ent_self=1 if (ent_self>=1&ent_self!=.)\n",
    "replace ent_others=1 if (ent_others>=1&ent_others!=.)\n",
    " "
   ]
  },
  {
   "cell_type": "code",
   "execution_count": 3,
   "metadata": {},
   "outputs": [
    {
     "name": "stdout",
     "output_type": "stream",
     "text": [
      "\n",
      "\n",
      "(4,900 real changes made)\n"
     ]
    }
   ],
   "source": [
    "egen mean_ent_self = mean(ent_self)\n",
    "replace ent_self_demean=ent_self-mean_ent_self"
   ]
  },
  {
   "cell_type": "code",
   "execution_count": 4,
   "metadata": {},
   "outputs": [
    {
     "name": "stdout",
     "output_type": "stream",
     "text": [
      "\n",
      "\n",
      "(4,900 real changes made)\n"
     ]
    }
   ],
   "source": [
    "egen mean_ent_others = mean(ent_others)\n",
    "replace ent_others_demean=ent_others-mean_ent_others"
   ]
  },
  {
   "cell_type": "markdown",
   "metadata": {},
   "source": [
    "## make labels and create demeaned vars"
   ]
  },
  {
   "cell_type": "code",
   "execution_count": 5,
   "metadata": {},
   "outputs": [],
   "source": [
    "\n",
    "label variable ent_self_demean \"Rating_Entropy_Self\"\n",
    "label variable ent_self \"Rating_Entropy_Self\"\n",
    "label variable ent_others_demean \"Rating_Entropy_Others\"\n",
    "label variable ent_others \"Rating_Entropy_Others\"\n",
    "label variable avg_v2_demean \"Average_Rating_Self\"\n",
    "label variable avg_v2 \"Average_Rating_Self\"\n",
    "label variable avgmean_others_demean \"Average_Rating_Others\"\n",
    "label variable avgmean_others \"Average_Rating_Others\"\n",
    "label variable reviews_ct \"Review_Count\"\n",
    "label variable log_experience \"Experience\"\n",
    "label variable temp_own_price_diff_other \"Price_Difference\"\n",
    "label variable log_zip_rev \"Market_LogRevenue\"\n",
    "label variable ent_others_sq  \"Rating_Entropy_Others^2\"\n",
    "label variable ent_self_demean_sq \"Rating_Entropy_Self^2\"\n",
    "label variable log_quotes \"Installer Activity Level\""
   ]
  },
  {
   "cell_type": "code",
   "execution_count": 6,
   "metadata": {},
   "outputs": [
    {
     "name": "stdout",
     "output_type": "stream",
     "text": [
      "\n",
      "    Variable |        Obs        Mean    Std. Dev.       Min        Max\n",
      "-------------+---------------------------------------------------------\n",
      "avg_sent_s~e |      7,528    .4119695    .3577352     -.8268      .9576\n"
     ]
    }
   ],
   "source": [
    "su avg_sent_score"
   ]
  },
  {
   "cell_type": "code",
   "execution_count": 6,
   "metadata": {},
   "outputs": [
    {
     "name": "stdout",
     "output_type": "stream",
     "text": [
      "\n",
      "\n",
      "\n",
      "\n",
      "\n",
      "\n",
      "\n",
      "(1,466 missing values generated)\n",
      "\n"
     ]
    }
   ],
   "source": [
    "gen avg_sent_score_demean=avg_sent_score-.4119695\n",
    "label variable avg_sent_score_demean \"Average_Sentiment_Self\"\n",
    "gen avg_sent_score_others_demean=avg_sent_score_others- .5615071\n",
    "label variable avg_sent_score_others_demean \"Average_Sentiment_Others\"\n",
    "gen text_d_self_p50_demean=text_d_self_p50-0.0635868\n",
    "label variable text_d_self_p50_demean  \"Text-based_Entropy_Self\"\n",
    "gen text_d_others_p50_demean=text_d_others_p50-0.1245589\n",
    "label variable text_d_others_p50_demean \"Text-based_Entropy_Others\""
   ]
  },
  {
   "cell_type": "markdown",
   "metadata": {},
   "source": [
    "# regular regression , quantitative measures, demeaned\n",
    "- with areg (stata command), demeaned,  to get better R-square "
   ]
  },
  {
   "cell_type": "markdown",
   "metadata": {},
   "source": [
    "## Hausman for regular regression"
   ]
  },
  {
   "cell_type": "code",
   "execution_count": 239,
   "metadata": {},
   "outputs": [
    {
     "name": "stdout",
     "output_type": "stream",
     "text": [
      "\n",
      "\n",
      "\n",
      "\n",
      "\n",
      "\n",
      "\n",
      "                 ---- Coefficients ----\n",
      "             |      (b)          (B)            (b-B)     sqrt(diag(V_b-V_B))\n",
      "             |     fixed        random       Difference          S.E.\n",
      "-------------+----------------------------------------------------------------\n",
      "avg_v2_dem~n |    -.799588     -.683297        -.116291        .0493315\n",
      " missing_avg |   -1.336865    -1.111367       -.2254975        .0985583\n",
      "  reviews_ct |    .0404208     .0423659       -.0019451        .0014523\n",
      "avgmean_ot~n |   -.0053489    -.0081832        .0028343        .0033711\n",
      "ent_others~n |    .5944657     .7339747        -.139509        .0555289\n",
      "ent_self_d~n |    2.153757     2.024333        .1294243        .1259038\n",
      "          c. |\n",
      "ent_others~n#|\n",
      "          c. |\n",
      "ent_others~n |   -2.731651    -2.818939        .0872877        .1224304\n",
      "          c. |\n",
      "ent_self_d~n#|\n",
      "          c. |\n",
      "ent_self_d~n |   -4.281216    -3.751661       -.5295548        .2433379\n",
      "log_experi~e |    .2131556     .1926724        .0204832        .0226193\n",
      "temp_own_p~r |    .0826584     .0075779        .0750805        .0321713\n",
      "missing_pr~o |   -.0840989    -.0282736       -.0558253        .0543167\n",
      " log_zip_rev |   -.0158502    -.0163936        .0005434        .0015465\n",
      "------------------------------------------------------------------------------\n",
      "                           b = consistent under Ho and Ha; obtained from xtreg\n",
      "            B = inconsistent under Ha, efficient under Ho; obtained from xtreg\n",
      "\n",
      "    Test:  Ho:  difference in coefficients not systematic\n",
      "\n",
      "                 chi2(12) = (b-B)'[(V_b-V_B)^(-1)](b-B)\n",
      "                          =       37.30\n",
      "                Prob>chi2 =      0.0002\n"
     ]
    }
   ],
   "source": [
    "global iv_12_demean \"avg_v2_demean missing_avg reviews_ct  avgmean_others_demean  ent_others_demean ent_self_demean  c.ent_others_demean#c.ent_others_demean  c.ent_self_demean#c.ent_self_demean log_experience temp_own_price_diff_other missing_price_info log_zip_rev i.state_n \"  \n",
    "\n",
    "qui:xtreg f.log_quotes  $iv_12_demean  , fe\n",
    "estimates store fixed \n",
    "qui:xtreg f.log_quotes $iv_12_demean   , re \n",
    "estimates store random\n",
    "hausman fixed random"
   ]
  },
  {
   "cell_type": "code",
   "execution_count": 6,
   "metadata": {},
   "outputs": [
    {
     "name": "stdout",
     "output_type": "stream",
     "text": [
      "\n",
      "\n",
      "\n",
      "\n",
      "\n",
      "\n",
      "(2,628 observations deleted)\n",
      "\n",
      "\n",
      "(est1 stored)\n",
      "\n",
      "\n",
      "(est2 stored)\n",
      "\n",
      "\n",
      "(est3 stored)\n",
      "\n",
      "\n",
      "\n",
      "--------------------------------------------------------------------\n",
      "                              (1)             (2)             (3)   \n",
      "                     F.Installe~l    F.Installe~l    F.Installe~l   \n",
      "--------------------------------------------------------------------\n",
      "Rating_Entropy_Self                                         1.772***\n",
      "                                                          (0.000)   \n",
      "\n",
      "Rating_Entropy_Sel~t                                       -3.356***\n",
      "                                                          (0.000)   \n",
      "\n",
      "Rating_Entropy_Oth~s                        0.662**         0.626** \n",
      "                                          (0.002)         (0.003)   \n",
      "\n",
      "Rating_Entropy_Oth~E                       -2.615***       -2.686***\n",
      "                                          (0.000)         (0.000)   \n",
      "\n",
      "Average_Rating_Self        -0.830***       -0.788***       -0.773** \n",
      "                          (0.000)         (0.000)         (0.001)   \n",
      "\n",
      "Average_Rating_Oth~s     -0.00976        -0.00613        -0.00491   \n",
      "                          (0.627)         (0.776)         (0.822)   \n",
      "\n",
      "Review_Count               0.0503***       0.0473***       0.0420***\n",
      "                          (0.000)         (0.000)         (0.000)   \n",
      "\n",
      "Experience                  0.220***        0.213***        0.213***\n",
      "                          (0.000)         (0.000)         (0.000)   \n",
      "\n",
      "Price_Difference           0.0785          0.0798          0.0856   \n",
      "                          (0.374)         (0.372)         (0.338)   \n",
      "\n",
      "Market_LogRevenue         -0.0172***      -0.0168***      -0.0160** \n",
      "                          (0.000)         (0.001)         (0.001)   \n",
      "\n",
      "Constant                    2.657***        2.735***        2.906***\n",
      "                          (0.000)         (0.000)         (0.000)   \n",
      "--------------------------------------------------------------------\n",
      "Observations                 4200            4200            4200   \n",
      "r2                          0.640           0.644           0.646   \n",
      "aic                       12189.1         12156.3         12131.6   \n",
      "bic                       12246.1         12226.0         12214.1   \n",
      "--------------------------------------------------------------------\n",
      "p-values in parentheses\n",
      "* p<0.05, ** p<0.01, *** p<0.001\n"
     ]
    }
   ],
   "source": [
    "global iv_0_demean \"avg_v2_demean missing_avg reviews_ct  avgmean_others_demean   log_experience temp_own_price_diff_other missing_price_info log_zip_rev i.state_n \"  \n",
    "global iv_11_demean \"avg_v2_demean missing_avg reviews_ct  avgmean_others_demean  ent_others_demean c.ent_others_demean#c.ent_others_demean  log_experience temp_own_price_diff_other missing_price_info log_zip_rev i.state_n \"  \n",
    "global iv_12_demean \"avg_v2_demean missing_avg reviews_ct  avgmean_others_demean  ent_others_demean ent_self_demean  c.ent_others_demean#c.ent_others_demean  c.ent_self_demean#c.ent_self_demean log_experience temp_own_price_diff_other missing_price_info log_zip_rev i.state_n \"  \n",
    "\n",
    "eststo clear \n",
    "preserve\n",
    "drop if ent_others_demean==.\n",
    "\n",
    "\n",
    "qui:areg f.log_quotes  $iv_0_demean   , absorb( installer_id) vce(robust)\n",
    "eststo\n",
    "qui:areg f.log_quotes $iv_11_demean    , absorb( installer_id) vce(robust)\n",
    "eststo\n",
    "qui:areg f.log_quotes  $iv_12_demean  , absorb( installer_id) vce(robust)\n",
    "eststo\n",
    "restore\n",
    "esttab est1 est2 est3 ,  order(  ent_self* c.ent_self* ent_other* c.ent_other* avg_v2_demean avgmean_others_demean) drop(*state* missing* ) p  label  scalars(r2 aic bic)\n",
    "\n",
    "//esttab est1 est2 est3 using reg_ind_bigtable_areg.csv ,  order(  ent_self* c.ent_self* ent_other* c.ent_other* avg_v2_demean avgmean_others_demean) drop(*state* missing* ) p  label  scalars(r2 aic bic)"
   ]
  },
  {
   "cell_type": "code",
   "execution_count": 7,
   "metadata": {},
   "outputs": [
    {
     "name": "stdout",
     "output_type": "stream",
     "text": [
      "\n",
      "-----------------------------------------------------------------------------------------------------------------\n",
      "http://www.marco-sunder.de/stata/\n",
      "Stata program directory at www.marco-sunder.de/stata/\n",
      "-----------------------------------------------------------------------------------------------------------------\n",
      "\n",
      "PACKAGES you could -net describe-:\n",
      "    rego              Decomposition of R-squared\n",
      "    armaspect         Spectrum of an ARMA(p,q) process\n",
      "    varspect          Spectrum of a VAR process\n",
      "    nardl             Estimation of non-linear ARDL models advanced by Shin et al. (2011)\n",
      "    dfuller3          ADF unit root test test with automatic lag order selection\n",
      "-----------------------------------------------------------------------------------------------------------------\n",
      "\n",
      "checking rego consistency and verifying not already installed...\n",
      "installing into c:\\ado\\plus\\...\n",
      "installation complete.\n"
     ]
    }
   ],
   "source": [
    " net from http://www.marco-sunder.de/stata/\n",
    "net install rego"
   ]
  },
  {
   "cell_type": "code",
   "execution_count": 40,
   "metadata": {},
   "outputs": [
    {
     "name": "stdout",
     "output_type": "stream",
     "text": [
      "checking shapley2 consistency and verifying not already installed...\n",
      "installing into c:\\ado\\plus\\...\n",
      "installation complete.\n"
     ]
    }
   ],
   "source": [
    "ssc install shapley2"
   ]
  },
  {
   "cell_type": "code",
   "execution_count": 41,
   "metadata": {},
   "outputs": [],
   "source": [
    "help shapley2"
   ]
  },
  {
   "cell_type": "markdown",
   "metadata": {},
   "source": [
    "# R Square Sharpley Decomp "
   ]
  },
  {
   "cell_type": "code",
   "execution_count": 30,
   "metadata": {},
   "outputs": [],
   "source": [
    "drop _mysample"
   ]
  },
  {
   "cell_type": "code",
   "execution_count": 19,
   "metadata": {},
   "outputs": [
    {
     "name": "stdout",
     "output_type": "stream",
     "text": [
      "       panel variable:  installer_id (unbalanced)\n",
      "        time variable:  year_month_~t, 1 to 64\n",
      "                delta:  1 unit\n"
     ]
    }
   ],
   "source": [
    "xtset"
   ]
  },
  {
   "cell_type": "code",
   "execution_count": 32,
   "metadata": {},
   "outputs": [],
   "source": [
    "qui: xtreg f.log_quotes avg_v2_demean missing_avg reviews_ct avgmean_others_demean ent_others_demean ent_self_demean ent_others_demean_sq ent_self_demean_sq log_experience temp_own_price_diff_other missing_price_info log_zip_rev,   vce(robust)\n"
   ]
  },
  {
   "cell_type": "code",
   "execution_count": null,
   "metadata": {},
   "outputs": [],
   "source": [
    "shapley2, stat(r2) "
   ]
  },
  {
   "cell_type": "markdown",
   "metadata": {},
   "source": [
    "## Marginsplot "
   ]
  },
  {
   "cell_type": "code",
   "execution_count": 8,
   "metadata": {},
   "outputs": [
    {
     "name": "stdout",
     "output_type": "stream",
     "text": [
      "\n",
      "\n",
      "\n",
      "\n",
      "  Variables that uniquely identify margins: ent_others_demean\n"
     ]
    },
    {
     "data": {
      "image/png": "[encoded data removed]",
      "text/plain": [
       "This front-end cannot display the desired image type."
      ]
     },
     "metadata": {
      "image/png": {
       "height": 436,
       "width": 600
      }
     },
     "output_type": "display_data"
    },
    {
     "name": "stdout",
     "output_type": "stream",
     "text": [
      "\n",
      "\n"
     ]
    }
   ],
   "source": [
    "qui: areg  f.log_quotes    avg_v2     reviews_ct  avgmean_others ent_others_demean c.ent_others_demean#c.ent_others_demean ent_self_demean ent_self_demean_sq  log_experience temp_own_price_diff_other missing_price_info log_zip_rev i.state_n*, absorb(installer_id)\n",
    "qui: margins , at(ent_others_demean=(-0.3(0.05)0.6))\n",
    "marginsplot,ytitle(\"Installer Activity Level\") title(\"\") "
   ]
  },
  {
   "cell_type": "code",
   "execution_count": 9,
   "metadata": {},
   "outputs": [
    {
     "name": "stdout",
     "output_type": "stream",
     "text": [
      "\n",
      "    Variable |        Obs        Mean    Std. Dev.       Min        Max\n",
      "-------------+---------------------------------------------------------\n",
      "    ent_self |      4,900    .0937851    .2147703          0   1.209574\n"
     ]
    }
   ],
   "source": [
    "su ent_self"
   ]
  },
  {
   "cell_type": "code",
   "execution_count": 10,
   "metadata": {},
   "outputs": [
    {
     "name": "stdout",
     "output_type": "stream",
     "text": [
      "\n",
      "    Variable |        Obs        Mean    Std. Dev.       Min        Max\n",
      "-------------+---------------------------------------------------------\n",
      "ent_self_d~n |      4,900   -1.96e-09    .2147703  -.0937851   1.115789\n"
     ]
    }
   ],
   "source": [
    "su ent_self_demean"
   ]
  },
  {
   "cell_type": "code",
   "execution_count": 11,
   "metadata": {},
   "outputs": [
    {
     "name": "stdout",
     "output_type": "stream",
     "text": [
      "\n",
      "\n",
      "\n",
      "\n",
      "  Variables that uniquely identify margins: ent_self_demean\n"
     ]
    },
    {
     "data": {
      "image/png": "[encoded data removed]",
      "text/plain": [
       "This front-end cannot display the desired image type."
      ]
     },
     "metadata": {
      "image/png": {
       "height": 436,
       "width": 600
      }
     },
     "output_type": "display_data"
    },
    {
     "name": "stdout",
     "output_type": "stream",
     "text": [
      "\n",
      "\n"
     ]
    }
   ],
   "source": [
    "qui: areg  f.log_quotes    avg_v2     reviews_ct  avgmean_others ent_others_demean c.ent_others_demean#c.ent_others_demean ent_self_demean c.ent_self_demean#c.ent_self_demean  log_experience temp_own_price_diff_other missing_price_info log_zip_rev, absorb(installer_id)\n",
    "qui: margins , at(ent_self_demean=(-0.1(0.05)0.95))\n",
    "marginsplot, ytitle(\"Installer Activity Level\")  title(\"\") "
   ]
  },
  {
   "cell_type": "markdown",
   "metadata": {},
   "source": [
    "## summary stats associated with regular regressions "
   ]
  },
  {
   "cell_type": "code",
   "execution_count": 166,
   "metadata": {},
   "outputs": [],
   "source": [
    "set matsize 2000"
   ]
  },
  {
   "cell_type": "code",
   "execution_count": 172,
   "metadata": {},
   "outputs": [],
   "source": [
    "restore"
   ]
  },
  {
   "cell_type": "code",
   "execution_count": 242,
   "metadata": {},
   "outputs": [
    {
     "name": "stdout",
     "output_type": "stream",
     "text": [
      "\n",
      "\n",
      "\n",
      "\n",
      "(2,628 observations deleted)\n",
      "\n",
      "\n",
      "\n",
      "(700 observations deleted)\n",
      "\n",
      "\n",
      "\n",
      "    Variable |        Obs        Mean    Std. Dev.       Min        Max\n",
      "-------------+---------------------------------------------------------\n",
      "  reviews_ct |      4,200    5.290476    6.696311          0         51\n",
      "avgmean_ot~s |      4,200    4.882565     .199749          1          5\n",
      "  ent_others |      4,200    .2253035    .1840557          0          1\n",
      "    ent_self |      4,200    .0971725    .2155222          0          1\n",
      "log_experi~e |      4,200    1.738595    .9378291          0   3.713572\n",
      "-------------+---------------------------------------------------------\n",
      "temp_own_p~r |      4,200   -.0360107    .4010961  -2.171179   3.139395\n",
      "      avg_v2 |      4,200    4.521695    1.334057          0          5\n",
      " log_zip_rev |      4,200    12.71966    7.663173          0   22.30267\n",
      "\n",
      "\n",
      "summarystats_ind.doc\n",
      "dir : seeout\n",
      "\n",
      "(obs=4,200)\n",
      "\n",
      "             | ent_self ent_ot~s   avg_v2 avgmea~s review~t log_ex~e temp_o~r log_zi~v\n",
      "-------------+------------------------------------------------------------------------\n",
      "    ent_self |   1.0000\n",
      "  ent_others |  -0.0897   1.0000\n",
      "      avg_v2 |  -0.0850   0.0700   1.0000\n",
      "avgmean_ot~s |   0.0225  -0.5274  -0.0232   1.0000\n",
      "  reviews_ct |   0.2455   0.0634   0.2097  -0.0399   1.0000\n",
      "log_experi~e |  -0.0061   0.1486   0.0330  -0.0684   0.1213   1.0000\n",
      "temp_own_p~r |  -0.0160  -0.0475   0.0042   0.0199  -0.0306  -0.0299   1.0000\n",
      " log_zip_rev |  -0.0184   0.0125  -0.0216   0.0279  -0.0644   0.5136  -0.0585   1.0000\n",
      "\n",
      "(note: file Myfile.doc not found)\n",
      "Click to Open File:  Myfile.doc\n",
      "\n"
     ]
    }
   ],
   "source": [
    "global iv_0_demean \"avg_v2_demean missing_avg reviews_ct  avgmean_others_demean   log_experience temp_own_price_diff_other missing_price_info log_zip_rev i.state_n \"  \n",
    " \n",
    "eststo clear \n",
    "preserve\n",
    "drop if ent_others_demean==.\n",
    "qui:areg f.log_quotes  $iv_12_demean  , absorb( installer_id) vce(robust)\n",
    "eststo filter\n",
    "keep if _est_filter==1\n",
    "keep  ent_self ent_others avg_v2 avgmean_others reviews_ct log_experience temp_own_price_diff_other log_zip_rev \n",
    "outreg2 using summarystats_ind.doc, replace label sum(log) keep (ent_self ent_others avg_v2 avgmean_others reviews_ct log_experience temp_own_price_diff_other log_zip_rev)\n",
    "asdoc cor   ent_self ent_others avg_v2 avgmean_others reviews_ct log_experience temp_own_price_diff_other log_zip_rev,label replace\n",
    "restore"
   ]
  },
  {
   "cell_type": "markdown",
   "metadata": {},
   "source": [
    "# with text-based measures"
   ]
  },
  {
   "cell_type": "code",
   "execution_count": 6,
   "metadata": {},
   "outputs": [
    {
     "name": "stdout",
     "output_type": "stream",
     "text": [
      "(380 real changes made)\n"
     ]
    }
   ],
   "source": [
    "replace text_d_others_p50_demean=0 if (text_d_others_p50_demean==.&ent_others_demean!=.)"
   ]
  },
  {
   "cell_type": "code",
   "execution_count": 7,
   "metadata": {},
   "outputs": [
    {
     "name": "stdout",
     "output_type": "stream",
     "text": [
      "(1,422 real changes made)\n"
     ]
    }
   ],
   "source": [
    "replace avgmean_others_demean=avg_sent_score_others_demean if avgmean_others_demean==."
   ]
  },
  {
   "cell_type": "code",
   "execution_count": 89,
   "metadata": {},
   "outputs": [],
   "source": [
    "restore"
   ]
  },
  {
   "cell_type": "markdown",
   "metadata": {},
   "source": [
    "## Text-based measures regression"
   ]
  },
  {
   "cell_type": "code",
   "execution_count": 211,
   "metadata": {},
   "outputs": [
    {
     "name": "stdout",
     "output_type": "stream",
     "text": [
      "\n",
      "    Variable |        Obs        Mean    Std. Dev.       Min        Max\n",
      "-------------+---------------------------------------------------------\n",
      "      avg_v2 |      7,528     2.94469    2.408628          0          5\n"
     ]
    }
   ],
   "source": [
    "su avg_v2"
   ]
  },
  {
   "cell_type": "code",
   "execution_count": 210,
   "metadata": {},
   "outputs": [
    {
     "name": "stdout",
     "output_type": "stream",
     "text": [
      "\n",
      "    Variable |        Obs        Mean    Std. Dev.       Min        Max\n",
      "-------------+---------------------------------------------------------\n",
      "avg_v2_dem~n |      7,528   -.0144869    1.003542  -1.241377   .8418475\n"
     ]
    }
   ],
   "source": [
    "su avg_v2_demean"
   ]
  },
  {
   "cell_type": "code",
   "execution_count": 204,
   "metadata": {},
   "outputs": [
    {
     "name": "stdout",
     "output_type": "stream",
     "text": [
      "\n",
      "\n",
      "\n",
      "\n",
      "(0 observations deleted)\n",
      "\n",
      "(1,086 observations deleted)\n",
      "\n",
      "(1,542 observations deleted)\n",
      "\n",
      "\n",
      "(0 observations deleted)\n",
      "\n",
      "\n",
      "(est1 stored)\n",
      "\n",
      "\n",
      "(est2 stored)\n",
      "\n",
      "\n",
      "(est3 stored)\n",
      "\n",
      "\n",
      "(est4 stored)\n",
      "\n",
      "\n",
      "------------------------------------------------------------------------------------\n",
      "                              (1)             (2)             (3)             (4)   \n",
      "                     F.Installe~l    F.Installe~l    F.Installe~l    F.Installe~l   \n",
      "------------------------------------------------------------------------------------\n",
      "Text-based_Entropy~f        5.326***        5.389***        5.014***        4.890***\n",
      "                          (0.000)         (0.000)         (0.000)         (0.000)   \n",
      "\n",
      "Text-based_Entropy~b       -23.71***       -23.54***       -20.29***       -20.40***\n",
      "                          (0.000)         (0.000)         (0.000)         (0.000)   \n",
      "\n",
      "Text-based_Entropy~s       -1.288          -0.989          -1.640          -1.955   \n",
      "                          (0.389)         (0.509)         (0.275)         (0.193)   \n",
      "\n",
      "Text-based_Entropy~t       -9.593          -13.13           1.348           5.132   \n",
      "                          (0.623)         (0.517)         (0.944)         (0.782)   \n",
      "\n",
      "Rating_Entropy_Self                                         2.044***        2.161***\n",
      "                                                          (0.000)         (0.000)   \n",
      "\n",
      "Rating_Entropy_Sel~t                                       -4.246***       -4.344***\n",
      "                                                          (0.000)         (0.000)   \n",
      "\n",
      "Rating_Entropy_Oth~s                                        0.399*          0.384*  \n",
      "                                                          (0.033)         (0.045)   \n",
      "\n",
      "Rating_Entropy_Oth~E                                       -2.382***       -2.376***\n",
      "                                                          (0.000)         (0.000)   \n",
      "\n",
      "Average_Rating_Self        -0.942***                                       -0.998***\n",
      "                          (0.000)                                         (0.000)   \n",
      "\n",
      "Average_Rating_Oth~s     0.000219                                        -0.00483   \n",
      "                          (0.991)                                         (0.813)   \n",
      "\n",
      "Average_Sentiment_~f                       -0.431          -0.404                   \n",
      "                                          (0.090)         (0.129)                   \n",
      "\n",
      "Average_Sentiment_~s                        0.111          0.0806                   \n",
      "                                          (0.378)         (0.524)                   \n",
      "\n",
      "Review_Count               0.0489***       0.0492***       0.0420***       0.0413***\n",
      "                          (0.000)         (0.000)         (0.000)         (0.000)   \n",
      "\n",
      "Experience                  0.178***        0.175***        0.176***        0.177***\n",
      "                          (0.001)         (0.001)         (0.001)         (0.001)   \n",
      "\n",
      "Price_Difference           0.0952           0.101           0.125           0.118   \n",
      "                          (0.278)         (0.247)         (0.158)         (0.181)   \n",
      "\n",
      "Market_LogRevenue         -0.0164***      -0.0165***      -0.0159***      -0.0158***\n",
      "                          (0.000)         (0.000)         (0.001)         (0.001)   \n",
      "\n",
      "Constant                    2.374***        2.075***        2.379***        2.649***\n",
      "                          (0.000)         (0.000)         (0.000)         (0.000)   \n",
      "------------------------------------------------------------------------------------\n",
      "Observations                 4562            4562            4562            4562   \n",
      "r2                          0.633           0.633           0.638           0.638   \n",
      "aic                       13202.7         13200.9         13147.9         13147.6   \n",
      "bic                       13292.7         13290.8         13263.5         13263.2   \n",
      "------------------------------------------------------------------------------------\n",
      "p-values in parentheses\n",
      "* p<0.05, ** p<0.01, *** p<0.001\n",
      "\n",
      "\n",
      "(output written to reg_ind_withtext.csv)\n"
     ]
    }
   ],
   "source": [
    "global iv_text1_demean \"avg_v2_demean  c.avg_v2_demean#c.avg_v2_demean  missing_avg reviews_ct  avgmean_others_demean  text_d_others_p50_demean text_d_self_p50_demean log_experience temp_own_price_diff_other missing_price_info log_zip_rev i.state_n \"  \n",
    "global iv_text2_demean \"avg_sent_score_demean  c.avg_sent_score_demean#c.avg_sent_score_demean  missing_avg_sent reviews_ct  avg_sent_score_others_demean  text_d_others_p50_demean text_d_self_p50_demean log_experience temp_own_price_diff_other missing_price_info log_zip_rev i.state_n \"  \n",
    "\n",
    "preserve\n",
    "drop if text_d_self_p50_demean==.\n",
    "drop if text_d_others_p50_demean==.\n",
    "drop if ent_others_demean==.\n",
    " \n",
    "eststo clear \n",
    "drop if ent_others_demean==.\n",
    " \n",
    "qui:areg f.log_quotes $iv_text1_demean c.text_d_others_p50_demean#c.text_d_others_p50_demean c.text_d_self_p50_demean#c.text_d_self_p50_demean,  absorb(installer_id) vce(robust)\n",
    "eststo\n",
    " \n",
    "qui:areg f.log_quotes $iv_text2_demean c.text_d_others_p50_demean#c.text_d_others_p50_demean  c.text_d_self_p50_demean#c.text_d_self_p50_demean , absorb(installer_id) vce(robust)\n",
    "eststo \n",
    " \n",
    "qui: areg f.log_quotes $iv_text2_demean c.text_d_others_p50_demean#c.text_d_others_p50_demean  c.text_d_self_p50_demean#c.text_d_self_p50_demean ent_self_demean c.ent_self_demean#c.ent_self_demean ent_others_demean c.ent_others_demean#c.ent_others_demean, absorb(installer_id) vce(robust)\n",
    "eststo\n",
    "\n",
    "qui: areg f.log_quotes $iv_text1_demean c.text_d_others_p50_demean#c.text_d_others_p50_demean  c.text_d_self_p50_demean#c.text_d_self_p50_demean ent_self_demean c.ent_self_demean#c.ent_self_demean ent_others_demean c.ent_others_demean#c.ent_others_demean, absorb(installer_id) vce(robust)\n",
    "eststo\n",
    "\n",
    "esttab est1 est2 est3 est4 ,  order(text_d_self_p50_demean* c.text_d_self_p50_demean* text_d_others_p50_demean c.text_d_others* ent_self* c.ent_self* ent_other* c.ent_other*   avg* ) p  scalars(r2 aic bic) label  drop(*state* missing* c.avg_v2* c.avg_sent* )\n",
    "restore \n",
    "esttab est1 est2 est3 est4 using reg_ind_withtext.csv , replace  order(text_d*self* c.text_d*self* text_d*other* c.text_d_others* avg* ent_self* c.ent_self* ent_other* c.ent_other* ) p  scalars(r2 aic bic) label  drop(*state* missing* c.avg_v2* c.avg_sent* )\n"
   ]
  },
  {
   "cell_type": "code",
   "execution_count": 244,
   "metadata": {},
   "outputs": [
    {
     "name": "stdout",
     "output_type": "stream",
     "text": [
      "\n",
      "\n",
      "\n",
      "\n",
      "(0 observations deleted)\n",
      "\n",
      "(1,466 observations deleted)\n",
      "\n",
      "(1,542 observations deleted)\n",
      "\n",
      "\n",
      "(0 observations deleted)\n",
      "\n",
      "\n",
      "(est1 stored)\n",
      "\n",
      "\n",
      "(est2 stored)\n",
      "\n",
      "\n",
      "(est3 stored)\n",
      "\n",
      "\n",
      "(est4 stored)\n",
      "\n",
      "\n",
      "------------------------------------------------------------------------------------\n",
      "                              (1)             (2)             (3)             (4)   \n",
      "                     F.Installe~l    F.Installe~l    F.Installe~l    F.Installe~l   \n",
      "------------------------------------------------------------------------------------\n",
      "Text-based_Entropy~f        4.338***        4.489***        4.022***        3.860***\n",
      "                          (0.000)         (0.000)         (0.000)         (0.000)   \n",
      "\n",
      "Text-based_Entropy~b       -21.40***       -19.92***       -16.20***       -17.57***\n",
      "                          (0.000)         (0.000)         (0.000)         (0.000)   \n",
      "\n",
      "Text-based_Entropy~s       -0.790          -0.728          -1.473          -1.579   \n",
      "                          (0.628)         (0.648)         (0.359)         (0.338)   \n",
      "\n",
      "Text-based_Entropy~t       -40.07*         -20.20          -6.488          -23.56   \n",
      "                          (0.019)         (0.319)         (0.739)         (0.169)   \n",
      "\n",
      "Rating_Entropy_Self                                         2.046***        2.012***\n",
      "                                                          (0.000)         (0.000)   \n",
      "\n",
      "Rating_Entropy_Sel~t                                       -4.304***       -4.157***\n",
      "                                                          (0.000)         (0.000)   \n",
      "\n",
      "Rating_Entropy_Oth~s                                        0.338           0.333   \n",
      "                                                          (0.099)         (0.132)   \n",
      "\n",
      "Rating_Entropy_Oth~E                                       -2.397***       -2.392***\n",
      "                                                          (0.000)         (0.000)   \n",
      "\n",
      "Average_Rating_Self        -1.067*                                         -1.216** \n",
      "                          (0.010)                                         (0.010)   \n",
      "\n",
      "Average_Rating_Oth~s      -0.0170                                         -0.0512   \n",
      "                          (0.870)                                         (0.652)   \n",
      "\n",
      "Avg Sentiment Score                        -1.381***       -1.424***                \n",
      "                                          (0.000)         (0.000)                   \n",
      "\n",
      "Avg Sent(Others)                           -0.167          -0.176                   \n",
      "                                          (0.413)         (0.381)                   \n",
      "\n",
      "Review_Count               0.0428***       0.0450***       0.0373***       0.0354***\n",
      "                          (0.000)         (0.000)         (0.000)         (0.000)   \n",
      "\n",
      "Experience                  0.207***        0.190***        0.196***        0.211***\n",
      "                          (0.001)         (0.001)         (0.000)         (0.000)   \n",
      "\n",
      "Price_Difference           0.0931           0.100           0.118           0.111   \n",
      "                          (0.302)         (0.259)         (0.189)         (0.222)   \n",
      "\n",
      "Market_LogRevenue         -0.0165***      -0.0171***      -0.0163***      -0.0156** \n",
      "                          (0.001)         (0.000)         (0.001)         (0.002)   \n",
      "\n",
      "Constant                    4.636***        2.549***        2.839***        5.295***\n",
      "                          (0.000)         (0.000)         (0.000)         (0.000)   \n",
      "------------------------------------------------------------------------------------\n",
      "Observations                 4109            4192            4192            4109   \n",
      "r2                          0.646           0.644           0.650           0.651   \n",
      "aic                       11880.2         12094.8         12042.5         11831.0   \n",
      "bic                       11968.7         12183.5         12156.6         11944.7   \n",
      "------------------------------------------------------------------------------------\n",
      "p-values in parentheses\n",
      "* p<0.05, ** p<0.01, *** p<0.001\n",
      "\n"
     ]
    }
   ],
   "source": [
    "global iv_text1  \"avg_v2   c.avg_v2#c.avg_v2  missing_avg reviews_ct  avgmean_others  text_d_others_p50_demean text_d_self_p50_demean log_experience temp_own_price_diff_other missing_price_info log_zip_rev i.state_n \"  \n",
    "global iv_text2  \"avg_sent_score   c.avg_sent_score#c.avg_sent_score  missing_avg_sent reviews_ct  avg_sent_score_others  text_d_others_p50_demean text_d_self_p50_demean log_experience temp_own_price_diff_other missing_price_info log_zip_rev i.state_n \"  \n",
    "\n",
    "preserve\n",
    "drop if text_d_self_p50_demean==.\n",
    "drop if text_d_others_p50_demean==.\n",
    "drop if ent_others_demean==.\n",
    " \n",
    "eststo clear \n",
    "drop if ent_others_demean==.\n",
    " \n",
    "qui:areg f.log_quotes $iv_text1 c.text_d_others_p50_demean#c.text_d_others_p50_demean c.text_d_self_p50_demean#c.text_d_self_p50_demean,  absorb(installer_id) vce(robust)\n",
    "eststo\n",
    " \n",
    "qui:areg f.log_quotes $iv_text2 c.text_d_others_p50_demean#c.text_d_others_p50_demean  c.text_d_self_p50_demean#c.text_d_self_p50_demean , absorb(installer_id) vce(robust)\n",
    "eststo \n",
    " \n",
    "qui: areg f.log_quotes $iv_text2 c.text_d_others_p50_demean#c.text_d_others_p50_demean  c.text_d_self_p50_demean#c.text_d_self_p50_demean ent_self_demean c.ent_self_demean#c.ent_self_demean ent_others_demean c.ent_others_demean#c.ent_others_demean, absorb(installer_id) vce(robust)\n",
    "eststo\n",
    "\n",
    "qui: areg f.log_quotes $iv_text1 c.text_d_others_p50_demean#c.text_d_others_p50_demean  c.text_d_self_p50_demean#c.text_d_self_p50_demean ent_self_demean c.ent_self_demean#c.ent_self_demean ent_others_demean c.ent_others_demean#c.ent_others_demean, absorb(installer_id) vce(robust)\n",
    "eststo\n",
    "\n",
    "esttab est1 est2 est3 est4 ,  order(text_d_self_p50_demean* c.text_d_self_p50_demean* text_d_others_p50_demean c.text_d_others* ent_self* c.ent_self* ent_other* c.ent_other*   avg* ) p  scalars(r2 aic bic) label  drop(*state* missing* c.avg_v2* c.avg_sent* )\n",
    "restore \n",
    "//esttab est1 est2 est3 est4 using reg_ind_withtext.csv , replace  order(text_d*self* c.text_d*self* text_d*other* c.text_d_others* avg* ent_self* c.ent_self* ent_other* c.ent_other* ) p  scalars(r2 aic bic) label  drop(*state* missing* c.avg_v2* c.avg_sent* )\n"
   ]
  },
  {
   "cell_type": "markdown",
   "metadata": {},
   "source": [
    "## Hausman for Text-based "
   ]
  },
  {
   "cell_type": "code",
   "execution_count": 12,
   "metadata": {},
   "outputs": [
    {
     "name": "stdout",
     "output_type": "stream",
     "text": [
      "       panel variable:  installer_id (unbalanced)\n",
      "        time variable:  year_month_~t, 1 to 64\n",
      "                delta:  1 unit\n"
     ]
    }
   ],
   "source": [
    "xtset"
   ]
  },
  {
   "cell_type": "code",
   "execution_count": 222,
   "metadata": {},
   "outputs": [
    {
     "name": "stdout",
     "output_type": "stream",
     "text": [
      "\n",
      "\n",
      "\n",
      "\n",
      "\n",
      "\n",
      "\n",
      "Note: the rank of the differenced variance matrix (16) does not equal the number of coefficients being tested\n",
      "        (17); be sure this is what you expect, or there may be problems computing the test.  Examine the output\n",
      "        of your estimators for anything unexpected and possibly consider scaling your variables so that the\n",
      "        coefficients are on a similar scale.\n",
      "\n",
      "                 ---- Coefficients ----\n",
      "             |      (b)          (B)            (b-B)     sqrt(diag(V_b-V_B))\n",
      "             |     fixed        random       Difference          S.E.\n",
      "-------------+----------------------------------------------------------------\n",
      "avg_v2_dem~n |   -.9898236    -.8370526        -.152771        .0504453\n",
      "          c. |\n",
      "avg_v2_dem~n#|\n",
      "          c. |\n",
      "avg_v2_dem~n |    .8179299      .623803        .1941269         .078532\n",
      " missing_avg |   -2.339702    -1.867016       -.4726864        .1274904\n",
      "  reviews_ct |    .0371159     .0385786       -.0014627        .0015464\n",
      "avgmean_ot~n |   -.0101926    -.0128654        .0026728        .0036387\n",
      "text_d_oth.. |   -1.599987    -.8845921       -.7153949        .5034775\n",
      "text_d_sel.. |    3.789793     3.827245       -.0374523        .3326502\n",
      "log_experi~e |    .2115389     .1889931        .0225459        .0245662\n",
      "temp_own_p~r |    .1132529     .0376431        .0756098        .0326563\n",
      "missing_pr~o |   -.0724101    -.0213619       -.0510482        .0550128\n",
      " log_zip_rev |   -.0156726    -.0163172        .0006446        .0015591\n",
      "          c. |\n",
      "text_d_oth..#|\n",
      "          c. |\n",
      "text_d_oth.. |   -24.01007    -25.63781        1.627744        10.30662\n",
      "          c. |\n",
      "text_d_sel..#|\n",
      "          c. |\n",
      "text_d_sel.. |   -17.79254    -17.85352        .0609755        1.817525\n",
      "ent_self_d~n |    1.606648     1.486313        .1203342        .1338411\n",
      "          c. |\n",
      "ent_self_d~n#|\n",
      "          c. |\n",
      "ent_self_d~n |   -3.158114     -2.77912       -.3789943        .2315717\n",
      "ent_others~n |    .2981127     .4163011       -.1181885        .0544766\n",
      "          c. |\n",
      "ent_others~n#|\n",
      "          c. |\n",
      "ent_others~n |   -2.350103    -2.391871        .0417675        .1257328\n",
      "------------------------------------------------------------------------------\n",
      "                           b = consistent under Ho and Ha; obtained from xtreg\n",
      "            B = inconsistent under Ha, efficient under Ho; obtained from xtreg\n",
      "\n",
      "    Test:  Ho:  difference in coefficients not systematic\n",
      "\n",
      "                 chi2(16) = (b-B)'[(V_b-V_B)^(-1)](b-B)\n",
      "                          =       28.73\n",
      "                Prob>chi2 =      0.0258\n"
     ]
    }
   ],
   "source": [
    "eststo clear\n",
    "\n",
    "qui: xtreg f.log_quotes $iv_text1_demean c.text_d_others_p50_demean#c.text_d_others_p50_demean  c.text_d_self_p50_demean#c.text_d_self_p50_demean ent_self_demean c.ent_self_demean#c.ent_self_demean ent_others_demean c.ent_others_demean#c.ent_others_demean, fe\n",
    "estimates store fixed \n",
    "qui: xtreg f.log_quotes $iv_text1_demean c.text_d_others_p50_demean#c.text_d_others_p50_demean  c.text_d_self_p50_demean#c.text_d_self_p50_demean ent_self_demean c.ent_self_demean#c.ent_self_demean ent_others_demean c.ent_others_demean#c.ent_others_demean, re\n",
    "estimates store random\n",
    "hausman fixed random"
   ]
  },
  {
   "cell_type": "markdown",
   "metadata": {},
   "source": [
    "## Text-based measures summary stats "
   ]
  },
  {
   "cell_type": "code",
   "execution_count": 117,
   "metadata": {},
   "outputs": [],
   "source": [
    "restore"
   ]
  },
  {
   "cell_type": "code",
   "execution_count": 121,
   "metadata": {},
   "outputs": [
    {
     "name": "stdout",
     "output_type": "stream",
     "text": [
      "\n",
      "  esample() |\n",
      "       from |\n",
      "  estimates |\n",
      "      store |      Freq.     Percent        Cum.\n",
      "------------+-----------------------------------\n",
      "          0 |      2,966       39.40       39.40\n",
      "          1 |      4,562       60.60      100.00\n",
      "------------+-----------------------------------\n",
      "      Total |      7,528      100.00\n"
     ]
    }
   ],
   "source": [
    "tab _est_filter"
   ]
  },
  {
   "cell_type": "code",
   "execution_count": 123,
   "metadata": {},
   "outputs": [],
   "source": [
    "restore"
   ]
  },
  {
   "cell_type": "code",
   "execution_count": 124,
   "metadata": {},
   "outputs": [
    {
     "name": "stdout",
     "output_type": "stream",
     "text": [
      "       panel variable:  installer_id (unbalanced)\n",
      "        time variable:  year_month_~t, 1 to 64\n",
      "                delta:  1 unit\n"
     ]
    }
   ],
   "source": [
    "xtset"
   ]
  },
  {
   "cell_type": "code",
   "execution_count": 126,
   "metadata": {},
   "outputs": [],
   "source": [
    "restore"
   ]
  },
  {
   "cell_type": "code",
   "execution_count": 255,
   "metadata": {},
   "outputs": [
    {
     "name": "stdout",
     "output_type": "stream",
     "text": [
      "\n",
      "    Variable |        Obs        Mean    Std. Dev.       Min        Max\n",
      "-------------+---------------------------------------------------------\n",
      "avg_sent_s~e |      7,528    .4119695    .3577352     -.8268      .9576\n",
      "avg_sent_s~t |      7,528    .5938574    .2537537          0    .886075\n",
      "avg_sent_s~s |      7,528    .5615071    .2830419     -.5994      .9576\n",
      "avg~e_demean |      7,528   -3.90e-08    .3577352   -1.23877   .5456305\n",
      "avg_sent_s.. |      7,528    2.20e-08    .2830419  -1.160907   .3960929\n"
     ]
    }
   ],
   "source": [
    "su avg_sent*"
   ]
  },
  {
   "cell_type": "code",
   "execution_count": 260,
   "metadata": {},
   "outputs": [
    {
     "name": "stdout",
     "output_type": "stream",
     "text": [
      "\n",
      "    Variable |        Obs        Mean    Std. Dev.       Min        Max\n",
      "-------------+---------------------------------------------------------\n",
      "avg_sent_s~e |      4,900    .6329196    .2382276     -.8268      .9576\n",
      "avg_sent_s~s |      4,900    .6290902    .2028872     -.5994      .9576\n"
     ]
    }
   ],
   "source": [
    "su avg_sent_score avg_sent_score_others if ent_mkt!=."
   ]
  },
  {
   "cell_type": "code",
   "execution_count": 249,
   "metadata": {},
   "outputs": [],
   "source": [
    "br"
   ]
  },
  {
   "cell_type": "code",
   "execution_count": 128,
   "metadata": {},
   "outputs": [
    {
     "name": "stdout",
     "output_type": "stream",
     "text": [
      "\n",
      "\n",
      "\n",
      "\n",
      "(0 observations deleted)\n",
      "\n",
      "(1,086 observations deleted)\n",
      "\n",
      "(1,542 observations deleted)\n",
      "\n",
      "\n",
      "\n",
      "\n",
      "(338 observations deleted)\n",
      "\n",
      "\n",
      "    Variable |        Obs        Mean    Std. Dev.       Min        Max\n",
      "-------------+---------------------------------------------------------\n",
      "         avg |      4,215    4.884829    .3934907          1          5\n",
      "avg_sent_s~e |      4,562    .6331575     .239058     -.8268      .9576\n",
      "        five |      4,562     4.81587    6.106368          0         46\n",
      "        four |      4,562    .1587023    .5450741          0          5\n",
      "installer_id |      4,562    18397.27    6485.077        363      23027\n",
      "-------------+---------------------------------------------------------\n",
      "      market |      4,562    19.47063    12.95797          0         36\n",
      "         one |      4,562    .0819816    .3987865          0          5\n",
      "quotes_count |      4,562    41.74178    99.22391          0       1417\n",
      "  reviews_ct |      4,562    5.112012    6.509968          0         51\n",
      "       three |      4,562    .0350723    .1898478          0          2\n",
      "-------------+---------------------------------------------------------\n",
      "         two |      4,562    .0203858    .1808068          0          3\n",
      "winning_qu~t |      3,727    .8594043    2.003776          0         43\n",
      "year_month~t |      4,562    48.90355    10.14758          7         63\n",
      "      active |      4,562    .7569049    .4289991          0          1\n",
      " avgmean_mkt |      4,525    4.885188    .1773953          3          5\n",
      "-------------+---------------------------------------------------------\n",
      "avgmean_ot~s |      4,200    4.882565     .199749          1          5\n",
      "avg_sent_s~t |      4,562    .6795621    .0984762          0    .886075\n",
      "avg_sent_s~s |      4,562    .6284549    .2050095     -.5994      .9576\n",
      "     ent_mkt |      4,562    .2211526    .1821855          0    1.05492\n",
      "  ent_others |      4,562    .2077587    .1869211          0          1\n",
      "-------------+---------------------------------------------------------\n",
      "    ent_self |      4,562    .0918769    .2110648          0          1\n",
      "       since |      4,407    2007.776    5.805723       1978       2017\n",
      "       month |      3,756    6.410011    3.602876          1         12\n",
      "        year |      3,756    2016.531    .9478378       2013       2018\n",
      "zipcode_to~v |      4,562    4.44e+07    1.33e+08          0   4.85e+09\n",
      "-------------+---------------------------------------------------------\n",
      "   own_price |      1,495    3.735421    .6700197   1.581735   7.165999\n",
      "other_prices |      3,214    3.787794    .3255722   2.499707   5.362645\n",
      "  log_quotes |      4,562    2.401757    1.693278          0   7.257003\n",
      "  experience |      4,562    6.719421    5.675406          0         40\n",
      "     state_n |      4,562    13.37834    9.700729          1         32\n",
      "-------------+---------------------------------------------------------\n",
      "log_experi~e |      4,562    1.681852    .9756585          0   3.713572\n",
      "temp_own_p~r |      4,562   -.0364442    .3890424  -2.171179   3.139395\n",
      "missing_pr~o |      4,562    .6830338    .4653452          0          1\n",
      "      avg_v2 |      4,562    4.513274    1.349205          0          5\n",
      " missing_avg |      4,562    .0760631    .2651282          0          1\n",
      "-------------+---------------------------------------------------------\n",
      " log_zip_rev |      4,562    12.22633    7.832614          0   22.30267\n",
      "text_d_mk~an |      4,483    .1372034    .0218241   .0545641   .3658786\n",
      "text_d_mkt~d |      4,373    .0612469    .0157872   .0055242   .1519678\n",
      "text_d_mk~in |      4,483    .0353456    .0313651  -1.19e-07   .3658786\n",
      "text_d_mk~25 |      4,483    .0955474    .0219702   .0545641   .3658786\n",
      "-------------+---------------------------------------------------------\n",
      "text_d_mk~50 |      4,483    .1244212    .0240249   .0545641   .3658786\n",
      "text_d_mk~75 |      4,483    .1658266    .0299905   .0545641   .3694176\n",
      "text_d_mkt~x |      4,483    .4068462    .1529019   .0545641   .7564847\n",
      "text_~f_mean |      3,417    .1327383    .0471995          0   .3812145\n",
      "text_d_sel~d |      2,617    .0476564    .0296232   .0029742   .1935145\n",
      "-------------+---------------------------------------------------------\n",
      "text_d_se~in |      3,417    .0815387    .0492655  -1.19e-07   .3812145\n",
      "text_d_se~25 |      3,417    .1082124    .0443968          0   .3812145\n",
      "text_d_se~50 |      4,562    .0973083    .0711326          0   .3812145\n",
      "text_d_se~75 |      3,417      .15636    .0637473          0   .4086581\n",
      "text_d_sel~x |      3,417    .2002104    .0907336          0   .4900676\n",
      "-------------+---------------------------------------------------------\n",
      "text_~s_mean |      4,192    .1369191    .0197992   .0630819   .2817027\n",
      "text_d_oth~d |      4,101    .0616042    .0153851   .0032598   .1592438\n",
      "text_d_ot~in |      4,192    .0343703      .03053  -1.19e-07   .2546176\n",
      "text_d_ot~25 |      4,192    .0949924    .0194242   .0540308   .2546176\n",
      "text_d_ot~50 |      4,192    .1243027    .0228152   .0636656   .3658786\n",
      "-------------+---------------------------------------------------------\n",
      "text_d_ot~75 |      4,192    .1653008    .0278581   .0664724   .3718792\n",
      "text_d_oth~x |      4,192    .4103394    .1536473   .0664724   .7564847\n",
      "missing_a~nt |      4,562     .083516    .2766909          0          1\n",
      "missing_av~s |      4,562    .0854888    .2796384          0          1\n",
      "missing_a~kt |      4,562    .0081105    .0897021          0          1\n",
      "-------------+---------------------------------------------------------\n",
      "missing_te~f |      4,562    .2512056    .4337541          0          1\n",
      "ent_others~n |      4,562   -.0168583    .1874452  -.2247373   .8458561\n",
      "ent_self_d~n |      4,562   -.0058153     .213157  -.0981426   1.111431\n",
      "avg_v2_dem~n |      4,562    .6390556    .5621393  -1.241377   .8418475\n",
      "avgmean_ot~n |      4,562   -.0854512     .975693  -19.60589   .5472536\n",
      "-------------+---------------------------------------------------------\n",
      "ent_oth~n_sq |      4,562    .0354122    .0699821   6.92e-10   .7154725\n",
      "ent_self_d~q |      4,562    .0454598    .1095369   .0002066    1.23528\n",
      "ent_oth~s_sq |      4,562    .0783417    .1323018          0    1.14617\n",
      "avg~e_demean |      4,562    .2211879     .239058   -1.23877   .5456305\n",
      "avg_sent_s.. |      4,562    .0669478    .2050095  -1.160907   .3960929\n",
      "-------------+---------------------------------------------------------\n",
      "text_d_sel.. |      4,562    .0337215    .0711326  -.0635868   .3176277\n",
      "text_d_oth.. |      4,562   -.0002354    .0218703  -.0608933   .2413197\n",
      "ent_other~21 |      4,562    .1962344    .1566951          0         .5\n",
      "ent_other~22 |      4,562    .0115243    .0581658          0         .5\n",
      "ent_self_~21 |      4,562    .0774221    .1706128          0         .5\n",
      "-------------+---------------------------------------------------------\n",
      "ent_self_~22 |      4,562    .0144549    .0567478          0         .5\n",
      "ent_other~31 |      4,562    .1796368     .131765          0   .3333333\n",
      "ent_other~32 |      4,562    .0238219    .0724046          0   .3333333\n",
      "ent_other~33 |      4,562       .0043    .0320365          0   .3333333\n",
      "ent_self_~31 |      4,562    .0570171    .1227528          0   .3333333\n",
      "-------------+---------------------------------------------------------\n",
      "ent_self_~32 |      4,562    .0315084    .0868924          0   .3333333\n",
      "ent_self_~33 |      4,562    .0033514    .0252455          0   .3333333\n",
      "   _est_est1 |      4,562           1           0          1          1\n",
      "   _est_est2 |      4,562           1           0          1          1\n",
      "   _est_est3 |      4,562           1           0          1          1\n",
      "-------------+---------------------------------------------------------\n",
      "   _est_est4 |      4,562           1           0          1          1\n",
      " _est_filter |      4,562           1           0          1          1\n",
      "\n",
      "Following variable is string, not included:  \n",
      "state  \n",
      "summarystats_ind_textbased.doc\n",
      "dir : seeout\n",
      "\n",
      "(obs=4,562)\n",
      "\n",
      "             | avg_se.. avg_se.. text_d.. text_d.. review~t log_ex~e temp_o~r log_zi~v\n",
      "-------------+------------------------------------------------------------------------\n",
      "avg~e_demean |   1.0000\n",
      "avg_sent_s.. |  -0.0240   1.0000\n",
      "text_d_oth.. |  -0.0632  -0.0553   1.0000\n",
      "text_d_sel.. |   0.1064  -0.0221  -0.0921   1.0000\n",
      "  reviews_ct |   0.1658   0.0695  -0.0271   0.2411   1.0000\n",
      "log_experi~e |   0.0823   0.2051  -0.0644   0.0823   0.1238   1.0000\n",
      "temp_own_p~r |  -0.0391   0.0047  -0.0090  -0.0478  -0.0275  -0.0333   1.0000\n",
      " log_zip_rev |   0.0338   0.2458  -0.1271   0.0031  -0.0521   0.5525  -0.0619   1.0000\n",
      "\n",
      "(note: file Myfile.doc not found)\n",
      "Click to Open File:  Myfile.doc\n",
      "\n"
     ]
    }
   ],
   "source": [
    "global iv_text1_demean \"avg_v2_demean  c.avg_v2_demean#c.avg_v2_demean  missing_avg reviews_ct  avgmean_others_demean  text_d_others_p50_demean text_d_self_p50_demean log_experience temp_own_price_diff_other missing_price_info log_zip_rev i.state_n \"  \n",
    "global iv_text2_demean \"avg_sent_score_demean  c.avg_sent_score_demean#c.avg_sent_score_demean  missing_avg_sent reviews_ct  avg_sent_score_others_demean  text_d_others_p50_demean text_d_self_p50_demean log_experience temp_own_price_diff_other missing_price_info log_zip_rev i.state_n \"  \n",
    "\n",
    "preserve\n",
    "drop if text_d_self_p50_demean==.\n",
    "drop if text_d_others_p50_demean==.\n",
    "drop if ent_others_demean==.\n",
    "eststo clear\n",
    "qui: areg f.log_quotes $iv_text2_demean c.text_d_others_p50_demean#c.text_d_others_p50_demean  c.text_d_self_p50_demean#c.text_d_self_p50_demean ent_self_demean c.ent_self_demean#c.ent_self_demean ent_others_demean c.ent_others_demean#c.ent_others_demean, absorb(installer_id) vce(robust)\n",
    "eststo filter\n",
    "keep if _est_filter==1 \n",
    "outreg2 using summarystats_ind_textbased.doc, replace label sum(log) keep (avg_sent_score_demean avg_sent_score_others_demean  text_d_others_p50_demean text_d_self_p50_demean reviews_ct log_experience temp_own_price_diff_other log_zip_rev)\n",
    "asdoc cor avg_sent_score_demean avg_sent_score_others_demean  text_d_others_p50_demean text_d_self_p50_demean reviews_ct log_experience temp_own_price_diff_other log_zip_rev,label replace\n",
    "restore"
   ]
  },
  {
   "cell_type": "code",
   "execution_count": 51,
   "metadata": {},
   "outputs": [
    {
     "name": "stdout",
     "output_type": "stream",
     "text": [
      "\n",
      "\n",
      "\n",
      "\n",
      "(0 observations deleted)\n",
      "\n",
      "(1,086 observations deleted)\n",
      "\n",
      "(1,542 observations deleted)\n",
      "\n",
      "\n",
      "\n",
      "\n",
      "(338 observations deleted)\n",
      "\n",
      "(obs=4,200)\n",
      "\n",
      "             | avg_se..   avg_v2 avg_se.. avgmea~s text_d.. ent_ot~n text_d.. ent_se~n\n",
      "-------------+------------------------------------------------------------------------\n",
      "avg~e_demean |   1.0000\n",
      "      avg_v2 |   0.8323   1.0000\n",
      "avg_sent_s.. |  -0.0361  -0.0736   1.0000\n",
      "avgmean_ot~s |  -0.0730  -0.0232   0.4335   1.0000\n",
      "text_d_oth.. |  -0.0638   0.0046  -0.0323  -0.0759   1.0000\n",
      "ent_others~n |   0.1221   0.0698  -0.0888  -0.5270   0.0806   1.0000\n",
      "text_d_sel.. |   0.0998   0.1364  -0.0892  -0.0026  -0.0906   0.0088   1.0000\n",
      "ent_self_d~n |  -0.0809  -0.0856   0.0637   0.0231   0.0262  -0.0890   0.3040   1.0000\n",
      "\n",
      "(note: file Myfile.doc not found)\n",
      "Click to Open File:  Myfile.doc\n",
      "\n"
     ]
    }
   ],
   "source": [
    "global iv_text1_demean \"avg_v2_demean  c.avg_v2_demean#c.avg_v2_demean  missing_avg reviews_ct  avgmean_others_demean  text_d_others_p50_demean text_d_self_p50_demean log_experience temp_own_price_diff_other missing_price_info log_zip_rev i.state_n \"  \n",
    "global iv_text2_demean \"avg_sent_score_demean  c.avg_sent_score_demean#c.avg_sent_score_demean  missing_avg_sent reviews_ct  avg_sent_score_others_demean  text_d_others_p50_demean text_d_self_p50_demean log_experience temp_own_price_diff_other missing_price_info log_zip_rev i.state_n \"  \n",
    "\n",
    "preserve\n",
    "drop if text_d_self_p50_demean==.\n",
    "drop if text_d_others_p50_demean==.\n",
    "drop if ent_others_demean==.\n",
    "eststo clear\n",
    "su \n",
    "qui: areg f.log_quotes $iv_text2_demean c.text_d_others_p50_demean#c.text_d_others_p50_demean  c.text_d_self_p50_demean#c.text_d_self_p50_demean ent_self_demean c.ent_self_demean#c.ent_self_demean ent_others_demean c.ent_others_demean#c.ent_others_demean, absorb(installer_id) vce(robust)\n",
    "eststo filter\n",
    "keep if _est_filter==1 \n",
    "//outreg2 using summarystats_ind_textbased.doc, replace label sum(log) keep (avg_sent_score_demean avg_sent_score_others_demean  text_d_others_p50_demean text_d_self_p50_demean reviews_ct log_experience temp_own_price_diff_other log_zip_rev)\n",
    "asdoc cor avg_sent_score_demean avg_v2 avg_sent_score_others_demean avgmean_others  text_d_others_p50_demean ent_others_demean text_d_self_p50_demean ent_self_demean ,label replace\n",
    "restore"
   ]
  },
  {
   "cell_type": "code",
   "execution_count": 56,
   "metadata": {},
   "outputs": [
    {
     "name": "stdout",
     "output_type": "stream",
     "text": [
      "(obs=4,520)\n",
      "\n",
      "             | ent_ot~s te~s_p50\n",
      "-------------+------------------\n",
      "  ent_others |   1.0000\n",
      "text_d_ot~50 |   0.0647   1.0000\n",
      "\n"
     ]
    }
   ],
   "source": [
    "corr ent_others text_d_others_p50"
   ]
  },
  {
   "cell_type": "markdown",
   "metadata": {},
   "source": [
    "## Make variables for spline regression"
   ]
  },
  {
   "cell_type": "markdown",
   "metadata": {},
   "source": [
    "- three knots "
   ]
  },
  {
   "cell_type": "code",
   "execution_count": 24,
   "metadata": {},
   "outputs": [],
   "source": [
    "drop ent_*spl*"
   ]
  },
  {
   "cell_type": "code",
   "execution_count": 97,
   "metadata": {},
   "outputs": [
    {
     "name": "stdout",
     "output_type": "stream",
     "text": [
      "\n",
      "\n",
      "             |     knot1 \n",
      "-------------+-----------\n",
      "  ent_others |        .5 \n",
      "\n",
      "\n",
      "             |     knot1 \n",
      "-------------+-----------\n",
      "    ent_self |        .5 \n"
     ]
    }
   ],
   "source": [
    "mkspline ent_other_spl_2 2=ent_others,displayknots\n",
    "mkspline ent_self_spl_2 2=ent_self, displayknots"
   ]
  },
  {
   "cell_type": "code",
   "execution_count": 98,
   "metadata": {},
   "outputs": [
    {
     "name": "stdout",
     "output_type": "stream",
     "text": [
      "\n",
      "\n",
      "             |     knot1      knot2 \n",
      "-------------+----------------------\n",
      "  ent_others |  .3333333   .6666667 \n",
      "\n",
      "\n",
      "             |     knot1      knot2 \n",
      "-------------+----------------------\n",
      "    ent_self |  .3333333   .6666667 \n"
     ]
    }
   ],
   "source": [
    "mkspline ent_other_spl_3 3=ent_others,displayknots\n",
    "mkspline ent_self_spl_3 3=ent_self, displayknots"
   ]
  },
  {
   "cell_type": "code",
   "execution_count": 99,
   "metadata": {},
   "outputs": [],
   "source": [
    "label variable ent_other_spl_31 \"Rating_Entropy_Others_1\"\n",
    "label variable ent_other_spl_32 \"Rating_Entropy_Others_2\"\n",
    "label variable ent_other_spl_33 \"Rating_Entropy_Others_3\"\n",
    "label variable ent_other_spl_21 \"Rating_Entropy_Others_1\"\n",
    "label variable ent_other_spl_22 \"Rating_Entropy_Others_2\""
   ]
  },
  {
   "cell_type": "code",
   "execution_count": 100,
   "metadata": {},
   "outputs": [],
   "source": [
    "label variable ent_self_spl_31 \"Rating_Entropy_Self_1\"\n",
    "label variable ent_self_spl_32 \"Rating_Entropy_Self_2\"\n",
    "label variable ent_self_spl_33 \"Rating_Entropy_Self_3\"\n",
    "label variable ent_self_spl_21 \"Rating_Entropy_Self_1\"\n",
    "label variable ent_self_spl_22 \"Rating_Entropy_Self_2\""
   ]
  },
  {
   "cell_type": "code",
   "execution_count": 101,
   "metadata": {},
   "outputs": [
    {
     "name": "stdout",
     "output_type": "stream",
     "text": [
      "\n",
      "    Variable |        Obs        Mean    Std. Dev.       Min        Max\n",
      "-------------+---------------------------------------------------------\n",
      "ent_other~31 |      4,900    .1816014    .1310231          0   .3333333\n",
      "ent_other~32 |      4,900    .0238566    .0723667          0   .3333333\n",
      "ent_other~33 |      4,900    .0042249    .0318786          0   .3333333\n"
     ]
    }
   ],
   "source": [
    "su ent_other_spl_3*"
   ]
  },
  {
   "cell_type": "code",
   "execution_count": 115,
   "metadata": {},
   "outputs": [
    {
     "name": "stdout",
     "output_type": "stream",
     "text": [
      "\n",
      "\n",
      "\n",
      "(est1 stored)\n",
      "\n",
      "\n",
      "(est2 stored)\n",
      "\n",
      "\n",
      "(est3 stored)\n",
      "\n",
      "\n",
      "(est4 stored)\n",
      "\n",
      "\n",
      "------------------------------------------------------------------------------------\n",
      "                              (1)             (2)             (3)             (4)   \n",
      "                     F.Installe~l    F.Installe~l    F.Installe~l    F.Installe~l   \n",
      "------------------------------------------------------------------------------------\n",
      "Rating_Entropy_Oth~1        0.512*                                                  \n",
      "                          (0.013)                                                   \n",
      "\n",
      "Rating_Entropy_Oth~2       -1.934***                                                \n",
      "                          (0.000)                                                   \n",
      "\n",
      "Rating_Entropy_Sel~1                        1.200***                                \n",
      "                                          (0.000)                                   \n",
      "\n",
      "Rating_Entropy_Sel~2                       -3.072***                                \n",
      "                                          (0.000)                                   \n",
      "\n",
      "Rating_Entropy_Oth~1                                        0.834***                \n",
      "                                                          (0.001)                   \n",
      "\n",
      "Rating_Entropy_Oth~2                                       -1.164*                  \n",
      "                                                          (0.017)                   \n",
      "\n",
      "Rating_Entropy_Oth~3                                       -1.763*                  \n",
      "                                                          (0.020)                   \n",
      "\n",
      "Rating_Entropy_Sel~1                                                        1.746***\n",
      "                                                                          (0.000)   \n",
      "\n",
      "Rating_Entropy_Sel~2                                                       -1.015   \n",
      "                                                                          (0.099)   \n",
      "\n",
      "Rating_Entropy_Sel~3                                                       -4.641** \n",
      "                                                                          (0.008)   \n",
      "------------------------------------------------------------------------------------\n",
      "Observations                 4562            4562            4562            4562   \n",
      "r2                          0.631           0.633           0.632           0.633   \n",
      "aic                       13222.5         13204.4         13218.4         13203.5   \n",
      "bic                       13306.0         13287.9         13308.3         13293.4   \n",
      "------------------------------------------------------------------------------------\n",
      "p-values in parentheses\n",
      "* p<0.05, ** p<0.01, *** p<0.001\n",
      "\n",
      "(output written to spline_reg.csv)\n"
     ]
    }
   ],
   "source": [
    "eststo clear\n",
    "qui: areg f.log_quotes avg_v2_demean missing_avg reviews_ct  avgmean_others_demean   ent_other_spl_2* ent_self_demean    c.ent_self_demean#c.ent_self_demean log_experience temp_own_price_diff_other missing_price_info log_zip_rev i.state_n, absorb( installer_id) vce(robust) \n",
    "eststo\n",
    "qui: areg f.log_quotes avg_v2_demean missing_avg reviews_ct  avgmean_others_demean   ent_self_spl_2* ent_others_demean c.ent_others_demean#c.ent_others_demean   log_experience temp_own_price_diff_other missing_price_info log_zip_rev i.state_n, absorb( installer_id) vce(robust) \n",
    "eststo\n",
    "qui: areg f.log_quotes avg_v2_demean missing_avg reviews_ct  avgmean_others_demean   ent_other_spl_3* ent_self_demean    c.ent_self_demean#c.ent_self_demean log_experience temp_own_price_diff_other missing_price_info log_zip_rev i.state_n, absorb( installer_id) vce(robust) \n",
    "eststo\n",
    "qui: areg f.log_quotes avg_v2_demean missing_avg reviews_ct  avgmean_others_demean   ent_self_spl_3* ent_others_demean c.ent_others_demean#c.ent_others_demean   log_experience temp_own_price_diff_other missing_price_info log_zip_rev i.state_n, absorb( installer_id) vce(robust) \n",
    "eststo\n",
    "esttab,  keep(ent*spl*) order( ent_other_spl_2* ent_self_spl_2*)  p  label  scalars(r2 aic bic)\n",
    "esttab using spline_reg.csv,  keep(ent*spl*) order( ent_other_spl_2* ent_self_spl_2*)  p    label  scalars(r2 aic bic) replace"
   ]
  },
  {
   "cell_type": "markdown",
   "metadata": {},
   "source": [
    "## Dynamic Panel "
   ]
  },
  {
   "cell_type": "markdown",
   "metadata": {},
   "source": [
    " \n",
    "xtabond  f.log_quotes l(0/1).avg_v2 l(0/2).reviews_ct  l(0/2).avgmean_others ent_others ent_others_sq ent_self_demean ent_self_demean_sq  log_experience temp_own_price_diff_other missing_price_info log_zip_rev  , lags(2)  twostep noconstant"
   ]
  },
  {
   "cell_type": "code",
   "execution_count": 141,
   "metadata": {},
   "outputs": [
    {
     "name": "stdout",
     "output_type": "stream",
     "text": [
      "Sargan test of overidentifying restrictions\n",
      "        H0: overidentifying restrictions are valid\n",
      "\n",
      "        chi2(1525)   =  238.2181\n",
      "        Prob > chi2  =    1.0000\n"
     ]
    }
   ],
   "source": [
    "estat sargan"
   ]
  },
  {
   "cell_type": "code",
   "execution_count": 13,
   "metadata": {},
   "outputs": [],
   "source": [
    " \n",
    "xtabond  f.log_quotes l(0/1).avg_v2 l(0/2).reviews_ct  l(0/2).avgmean_others  , lags(2) pre( ent_others_demean ent_others_demean_sq ent_self_demean ent_self_demean_sq  log_experience temp_own_price_diff_other missing_price_info log_zip_rev) twostep noconstant"
   ]
  },
  {
   "cell_type": "code",
   "execution_count": 15,
   "metadata": {},
   "outputs": [],
   "source": [
    "br"
   ]
  },
  {
   "cell_type": "code",
   "execution_count": null,
   "metadata": {},
   "outputs": [],
   "source": []
  },
  {
   "cell_type": "code",
   "execution_count": 23,
   "metadata": {},
   "outputs": [
    {
     "name": "stdout",
     "output_type": "stream",
     "text": [
      "\n",
      "\n",
      "\n",
      "Arellano-Bond dynamic panel-data estimation     Number of obs     =      5,209\n",
      "Group variable: installer_id                    Number of groups  =        300\n",
      "Time variable: year_month~t\n",
      "                                                Obs per group:\n",
      "                                                              min =          1\n",
      "                                                              avg =   17.36333\n",
      "                                                              max =         56\n",
      "\n",
      "Number of instruments =   1.8e+03               Wald chi2(9)      =     610.96\n",
      "                                                Prob > chi2       =     0.0000\n",
      "Two-step results\n",
      "                                        (Std. Err. adjusted for clustering on installer_id)\n",
      "-------------------------------------------------------------------------------------------\n",
      "                          |              WC-Robust\n",
      "             F.log_quotes |      Coef.   Std. Err.      z    P>|z|     [95% Conf. Interval]\n",
      "--------------------------+----------------------------------------------------------------\n",
      "               log_quotes |\n",
      "                      --. |   .5297515   .0240832    22.00   0.000     .4825493    .5769536\n",
      "                      L1. |   .0639714    .021453     2.98   0.003     .0219242    .1060185\n",
      "                          |\n",
      "                   avg_v2 |   -.010304    .017904    -0.58   0.565    -.0453953    .0247872\n",
      "               reviews_ct |   .0259247   .0080033     3.24   0.001     .0102385    .0416109\n",
      "           avgmean_others |  -.1954354   .1130219    -1.73   0.084    -.4169542    .0260835\n",
      "           log_experience |  -.0229441    .058532    -0.39   0.695    -.1376648    .0917765\n",
      "temp_own_price_diff_other |  -.0354619   .1017163    -0.35   0.727    -.2348222    .1638984\n",
      "       missing_price_info |  -.0631781   .1346241    -0.47   0.639    -.3270365    .2006803\n",
      "              log_zip_rev |   .0065924   .0058897     1.12   0.263    -.0049512     .018136\n",
      "-------------------------------------------------------------------------------------------\n",
      "Instruments for differenced equation\n",
      "        GMM-type: L(2/.).F.log_quotes\n",
      "        Standard: D.avg_v2 D.reviews_ct D.avgmean_others D.log_experience\n",
      "                  D.temp_own_price_diff_other D.missing_price_info D.log_zip_rev\n",
      "\n",
      "(est1 stored)\n",
      "\n",
      "\n",
      "Arellano-Bond dynamic panel-data estimation     Number of obs     =      3,757\n",
      "Group variable: installer_id                    Number of groups  =        277\n",
      "Time variable: year_month~t\n",
      "                                                Obs per group:\n",
      "                                                              min =          1\n",
      "                                                              avg =   13.56318\n",
      "                                                              max =         55\n",
      "\n",
      "Number of instruments =   1.6e+03               Wald chi2(11)     =     369.61\n",
      "                                                Prob > chi2       =     0.0000\n",
      "Two-step results\n",
      "                                        (Std. Err. adjusted for clustering on installer_id)\n",
      "-------------------------------------------------------------------------------------------\n",
      "                          |              WC-Robust\n",
      "             F.log_quotes |      Coef.   Std. Err.      z    P>|z|     [95% Conf. Interval]\n",
      "--------------------------+----------------------------------------------------------------\n",
      "               log_quotes |\n",
      "                      --. |    .508875    .033919    15.00   0.000     .4423949    .5753551\n",
      "                      L1. |   .0362907   .0268184     1.35   0.176    -.0162723    .0888537\n",
      "                          |\n",
      "                   avg_v2 |  -.0661595    .015974    -4.14   0.000     -.097468   -.0348509\n",
      "               reviews_ct |    .013361   .0059045     2.26   0.024     .0017883    .0249336\n",
      "           avgmean_others |  -.1372925   .1148094    -1.20   0.232    -.3623147    .0877297\n",
      "          ent_self_demean |   1.321921   .4791948     2.76   0.006     .3827168    2.261126\n",
      "       ent_self_demean_sq |  -1.577598   .7786167    -2.03   0.043    -3.103658   -.0515369\n",
      "           log_experience |   -.056428   .0548656    -1.03   0.304    -.1639627    .0511067\n",
      "temp_own_price_diff_other |   .0736494   .0989353     0.74   0.457    -.1202602     .267559\n",
      "       missing_price_info |  -.0222086   .1703311    -0.13   0.896    -.3560514    .3116342\n",
      "              log_zip_rev |    .003673   .0068797     0.53   0.593    -.0098109    .0171569\n",
      "-------------------------------------------------------------------------------------------\n",
      "Instruments for differenced equation\n",
      "        GMM-type: L(2/.).F.log_quotes\n",
      "        Standard: D.avg_v2 D.reviews_ct D.avgmean_others D.ent_self_demean\n",
      "                  D.ent_self_demean_sq D.log_experience D.temp_own_price_diff_other\n",
      "                  D.missing_price_info D.log_zip_rev\n",
      "\n",
      "(est2 stored)\n",
      "\n",
      "\n",
      "Arellano-Bond dynamic panel-data estimation     Number of obs     =      3,757\n",
      "Group variable: installer_id                    Number of groups  =        277\n",
      "Time variable: year_month~t\n",
      "                                                Obs per group:\n",
      "                                                              min =          1\n",
      "                                                              avg =   13.56318\n",
      "                                                              max =         55\n",
      "\n",
      "Number of instruments =   1.6e+03               Wald chi2(13)     =     368.63\n",
      "                                                Prob > chi2       =     0.0000\n",
      "Two-step results\n",
      "                                        (Std. Err. adjusted for clustering on installer_id)\n",
      "-------------------------------------------------------------------------------------------\n",
      "                          |              WC-Robust\n",
      "             F.log_quotes |      Coef.   Std. Err.      z    P>|z|     [95% Conf. Interval]\n",
      "--------------------------+----------------------------------------------------------------\n",
      "               log_quotes |\n",
      "                      --. |   .5016606   .0333749    15.03   0.000      .436247    .5670742\n",
      "                      L1. |   .0369234   .0261389     1.41   0.158    -.0143079    .0881546\n",
      "                          |\n",
      "                   avg_v2 |  -.0679779    .016286    -4.17   0.000    -.0998978    -.036058\n",
      "               reviews_ct |   .0105367   .0059683     1.77   0.077     -.001161    .0222343\n",
      "           avgmean_others |  -.1616683   .1213868    -1.33   0.183    -.3995819    .0762454\n",
      "        ent_others_demean |   .1317286   .1868053     0.71   0.481    -.2344031    .4978603\n",
      "     ent_others_demean_sq |  -1.253243   .5820046    -2.15   0.031    -2.393951   -.1125348\n",
      "          ent_self_demean |   1.350772   .4687499     2.88   0.004     .4320392    2.269505\n",
      "       ent_self_demean_sq |  -1.740454   .7805053    -2.23   0.026    -3.270217    -.210692\n",
      "           log_experience |  -.0527606   .0537148    -0.98   0.326    -.1580396    .0525184\n",
      "temp_own_price_diff_other |   .0986906   .1091438     0.90   0.366    -.1152273    .3126084\n",
      "       missing_price_info |  -.0521052   .1692103    -0.31   0.758    -.3837513    .2795409\n",
      "              log_zip_rev |   .0028299   .0068858     0.41   0.681     -.010666    .0163258\n",
      "-------------------------------------------------------------------------------------------\n",
      "Instruments for differenced equation\n",
      "        GMM-type: L(2/.).F.log_quotes\n",
      "        Standard: D.avg_v2 D.reviews_ct D.avgmean_others D.ent_others_demean\n",
      "                  D.ent_others_demean_sq D.ent_self_demean D.ent_self_demean_sq\n",
      "                  D.log_experience D.temp_own_price_diff_other D.missing_price_info\n",
      "                  D.log_zip_rev\n",
      "\n",
      "(est3 stored)\n",
      "\n",
      "\n",
      "------------------------------------------------------------\n",
      "                      (1)             (2)             (3)   \n",
      "             F.log_quotes    F.log_quotes    F.log_quotes   \n",
      "------------------------------------------------------------\n",
      "log_quotes          0.530***        0.509***        0.502***\n",
      "                  (0.000)         (0.000)         (0.000)   \n",
      "\n",
      "L.log_quotes       0.0640**        0.0363          0.0369   \n",
      "                  (0.003)         (0.176)         (0.158)   \n",
      "\n",
      "avg_v2            -0.0103         -0.0662***      -0.0680***\n",
      "                  (0.565)         (0.000)         (0.000)   \n",
      "\n",
      "reviews_ct         0.0259**        0.0134*         0.0105   \n",
      "                  (0.001)         (0.024)         (0.077)   \n",
      "\n",
      "avgmean_ot~s       -0.195          -0.137          -0.162   \n",
      "                  (0.084)         (0.232)         (0.183)   \n",
      "\n",
      "log_experi~e      -0.0229         -0.0564         -0.0528   \n",
      "                  (0.695)         (0.304)         (0.326)   \n",
      "\n",
      "temp_own_p~r      -0.0355          0.0736          0.0987   \n",
      "                  (0.727)         (0.457)         (0.366)   \n",
      "\n",
      "missing_pr~o      -0.0632         -0.0222         -0.0521   \n",
      "                  (0.639)         (0.896)         (0.758)   \n",
      "\n",
      "log_zip_rev       0.00659         0.00367         0.00283   \n",
      "                  (0.263)         (0.593)         (0.681)   \n",
      "\n",
      "ent_self_d~n                        1.322**         1.351** \n",
      "                                  (0.006)         (0.004)   \n",
      "\n",
      "ent_self_d~q                       -1.578*         -1.740*  \n",
      "                                  (0.043)         (0.026)   \n",
      "\n",
      "ent_others~n                                        0.132   \n",
      "                                                  (0.481)   \n",
      "\n",
      "ent_oth~n_sq                                       -1.253*  \n",
      "                                                  (0.031)   \n",
      "------------------------------------------------------------\n",
      "N                    5209            3757            3757   \n",
      "------------------------------------------------------------\n",
      "p-values in parentheses\n",
      "* p<0.05, ** p<0.01, *** p<0.001\n"
     ]
    }
   ],
   "source": [
    "eststo clear\n",
    "xtabond  f.log_quotes   avg_v2     reviews_ct  avgmean_others     log_experience temp_own_price_diff_other missing_price_info log_zip_rev , nocons vce(robust) lags(2) two \n",
    "eststo \n",
    "xtabond  f.log_quotes   avg_v2     reviews_ct  avgmean_others   ent_self_demean ent_self_demean_sq log_experience temp_own_price_diff_other missing_price_info log_zip_rev , nocons vce(robust) lags(2) two \n",
    "eststo \n",
    "xtabond  f.log_quotes   avg_v2     reviews_ct  avgmean_others  ent_others_demean ent_others_demean_sq ent_self_demean ent_self_demean_sq log_experience temp_own_price_diff_other missing_price_info log_zip_rev , nocons vce(robust) lags(2) two \n",
    "eststo \n"
   ]
  },
  {
   "cell_type": "code",
   "execution_count": 25,
   "metadata": {},
   "outputs": [
    {
     "name": "stdout",
     "output_type": "stream",
     "text": [
      "\n",
      "\n",
      "Arellano-Bond dynamic panel-data estimation     Number of obs     =      3,869\n",
      "Group variable: installer_id                    Number of groups  =        282\n",
      "Time variable: year_month~t\n",
      "                                                Obs per group:\n",
      "                                                              min =          1\n",
      "                                                              avg =   13.71986\n",
      "                                                              max =         55\n",
      "\n",
      "Number of instruments =   1.6e+03               Wald chi2(9)      =     299.91\n",
      "                                                Prob > chi2       =     0.0000\n",
      "Two-step results\n",
      "                                        (Std. Err. adjusted for clustering on installer_id)\n",
      "-------------------------------------------------------------------------------------------\n",
      "                          |              WC-Robust\n",
      "             F.log_quotes |      Coef.   Std. Err.      z    P>|z|     [95% Conf. Interval]\n",
      "--------------------------+----------------------------------------------------------------\n",
      "               log_quotes |\n",
      "                      --. |   .5096982    .034036    14.98   0.000     .4429889    .5764075\n",
      "                      L1. |   .0393481   .0259918     1.51   0.130    -.0115949    .0902911\n",
      "                          |\n",
      "                   avg_v2 |  -.0618105   .0163972    -3.77   0.000    -.0939484   -.0296726\n",
      "               reviews_ct |   .0165041   .0072804     2.27   0.023     .0022347    .0307735\n",
      "           avgmean_others |  -.1796279   .1178947    -1.52   0.128    -.4106972    .0514414\n",
      "           log_experience |  -.0554051   .0571813    -0.97   0.333    -.1674784    .0566682\n",
      "temp_own_price_diff_other |  -.0163614   .1072581    -0.15   0.879    -.2265835    .1938606\n",
      "       missing_price_info |  -.0086732   .1595215    -0.05   0.957    -.3213295    .3039832\n",
      "              log_zip_rev |   .0034825   .0067526     0.52   0.606    -.0097524    .0167174\n",
      "-------------------------------------------------------------------------------------------\n",
      "Instruments for differenced equation\n",
      "        GMM-type: L(2/.).F.log_quotes\n",
      "        Standard: D.avg_v2 D.reviews_ct D.avgmean_others D.log_experience\n",
      "                  D.temp_own_price_diff_other D.missing_price_info D.log_zip_rev\n",
      "\n",
      "(est5 stored)\n"
     ]
    }
   ],
   "source": [
    "xtabond  f.log_quotes   avg_v2     reviews_ct  avgmean_others     log_experience temp_own_price_diff_other missing_price_info log_zip_rev if (ent_others_demean!=.&ent_self_demean!=.), nocons vce(robust) lags(2) two \n",
    "eststo"
   ]
  },
  {
   "cell_type": "code",
   "execution_count": 27,
   "metadata": {},
   "outputs": [
    {
     "name": "stdout",
     "output_type": "stream",
     "text": [
      "\n",
      "\n",
      "Arellano-Bond dynamic panel-data estimation     Number of obs     =      3,757\n",
      "Group variable: installer_id                    Number of groups  =        277\n",
      "Time variable: year_month~t\n",
      "                                                Obs per group:\n",
      "                                                              min =          1\n",
      "                                                              avg =   13.56318\n",
      "                                                              max =         55\n",
      "\n",
      "Number of instruments =   1.6e+03               Wald chi2(11)     =     351.74\n",
      "                                                Prob > chi2       =     0.0000\n",
      "Two-step results\n",
      "                                        (Std. Err. adjusted for clustering on installer_id)\n",
      "-------------------------------------------------------------------------------------------\n",
      "                          |              WC-Robust\n",
      "             F.log_quotes |      Coef.   Std. Err.      z    P>|z|     [95% Conf. Interval]\n",
      "--------------------------+----------------------------------------------------------------\n",
      "               log_quotes |\n",
      "                      --. |   .5068687   .0337648    15.01   0.000     .4406909    .5730465\n",
      "                      L1. |   .0374148   .0262849     1.42   0.155    -.0141026    .0889322\n",
      "                          |\n",
      "                   avg_v2 |  -.0712706   .0159044    -4.48   0.000    -.1024426   -.0400986\n",
      "               reviews_ct |   .0174936    .006466     2.71   0.007     .0048204    .0301667\n",
      "           avgmean_others |  -.1905088   .1285813    -1.48   0.138    -.4425235    .0615058\n",
      "        ent_others_demean |   .1485976   .1827319     0.81   0.416    -.2095503    .5067455\n",
      "     ent_others_demean_sq |  -1.300028    .636394    -2.04   0.041    -2.547337   -.0527184\n",
      "           log_experience |  -.0445366   .0557518    -0.80   0.424    -.1538082     .064735\n",
      "temp_own_price_diff_other |   .1100913    .111705     0.99   0.324    -.1088465    .3290291\n",
      "       missing_price_info |  -.0225295   .1863756    -0.12   0.904    -.3878189      .34276\n",
      "              log_zip_rev |   .0034941   .0070037     0.50   0.618    -.0102328     .017221\n",
      "-------------------------------------------------------------------------------------------\n",
      "Instruments for differenced equation\n",
      "        GMM-type: L(2/.).F.log_quotes\n",
      "        Standard: D.avg_v2 D.reviews_ct D.avgmean_others D.ent_others_demean\n",
      "                  D.ent_others_demean_sq D.log_experience D.temp_own_price_diff_other\n",
      "                  D.missing_price_info D.log_zip_rev\n",
      "\n",
      "(est6 stored)\n"
     ]
    }
   ],
   "source": [
    "xtabond  f.log_quotes   avg_v2     reviews_ct  avgmean_others    ent_others_demean ent_others_demean_sq log_experience temp_own_price_diff_other missing_price_info log_zip_rev if (ent_others_demean!=.&ent_self_demean!=.), nocons vce(robust) lags(2) two \n",
    "eststo"
   ]
  },
  {
   "cell_type": "code",
   "execution_count": 38,
   "metadata": {},
   "outputs": [
    {
     "name": "stdout",
     "output_type": "stream",
     "text": [
      "\n",
      "\n",
      "Arellano-Bond dynamic panel-data estimation     Number of obs     =      3,757\n",
      "Group variable: installer_id                    Number of groups  =        277\n",
      "Time variable: year_month~t\n",
      "                                                Obs per group:\n",
      "                                                              min =          1\n",
      "                                                              avg =   13.56318\n",
      "                                                              max =         55\n",
      "\n",
      "Number of instruments =   1.6e+03               Wald chi2(13)     =     368.63\n",
      "                                                Prob > chi2       =     0.0000\n",
      "Two-step results\n",
      "                                        (Std. Err. adjusted for clustering on installer_id)\n",
      "-------------------------------------------------------------------------------------------\n",
      "                          |              WC-Robust\n",
      "             F.log_quotes |      Coef.   Std. Err.      z    P>|z|     [95% Conf. Interval]\n",
      "--------------------------+----------------------------------------------------------------\n",
      "               log_quotes |\n",
      "                      --. |   .5016606   .0333749    15.03   0.000      .436247    .5670742\n",
      "                      L1. |   .0369234   .0261389     1.41   0.158    -.0143079    .0881547\n",
      "                          |\n",
      "                   avg_v2 |  -.0679779    .016286    -4.17   0.000    -.0998978    -.036058\n",
      "               reviews_ct |   .0105367   .0059683     1.77   0.077     -.001161    .0222343\n",
      "           avgmean_others |  -.1616683   .1213869    -1.33   0.183    -.3995822    .0762456\n",
      "          ent_self_demean |   1.350772   .4687496     2.88   0.004     .4320397    2.269504\n",
      "       ent_self_demean_sq |  -1.740454   .7805051    -2.23   0.026    -3.270216   -.2106925\n",
      "               ent_others |   .6950295   .3822965     1.82   0.069     -.054258    1.444317\n",
      "            ent_others_sq |  -1.253243   .5820047    -2.15   0.031    -2.393951   -.1125347\n",
      "           log_experience |  -.0527606   .0537148    -0.98   0.326    -.1580396    .0525184\n",
      "temp_own_price_diff_other |   .0986906   .1091437     0.90   0.366    -.1152271    .3126083\n",
      "       missing_price_info |  -.0521052   .1692104    -0.31   0.758    -.3837514    .2795411\n",
      "              log_zip_rev |   .0028299   .0068858     0.41   0.681     -.010666    .0163258\n",
      "-------------------------------------------------------------------------------------------\n",
      "Instruments for differenced equation\n",
      "        GMM-type: L(2/.).F.log_quotes\n",
      "        Standard: D.avg_v2 D.reviews_ct D.avgmean_others D.ent_self_demean\n",
      "                  D.ent_self_demean_sq D.ent_others D.ent_others_sq D.log_experience\n",
      "                  D.temp_own_price_diff_other D.missing_price_info D.log_zip_rev\n",
      "\n",
      "(est8 stored)\n"
     ]
    }
   ],
   "source": [
    "xtabond  f.log_quotes   avg_v2     reviews_ct  avgmean_others    ent_self_demean ent_self_demean_sq ent_others  ent_others_sq log_experience temp_own_price_diff_other missing_price_info log_zip_rev if (ent_others_demean!=.&ent_self_demean!=.), nocons vce(robust) lags(2) two \n",
    "eststo"
   ]
  },
  {
   "cell_type": "code",
   "execution_count": 36,
   "metadata": {},
   "outputs": [
    {
     "name": "stdout",
     "output_type": "stream",
     "text": [
      "\n",
      "------------------------------------------------------------------------------------------------------------------------------------\n",
      "                              (1)             (2)             (3)             (4)             (5)             (6)             (7)   \n",
      "                     F.Installe~l    F.Installe~l    F.Installe~l    F.Installe~l    F.Installe~l    F.Installe~l    F.Installe~l   \n",
      "------------------------------------------------------------------------------------------------------------------------------------\n",
      "Installer Activity~l        0.530***        0.509***        0.502***        0.510***        0.510***        0.507***        0.507***\n",
      "                          (0.000)         (0.000)         (0.000)         (0.000)         (0.000)         (0.000)         (0.000)   \n",
      "\n",
      "L.Installer Activi~l       0.0640**        0.0363          0.0369          0.0393          0.0393          0.0374          0.0374   \n",
      "                          (0.003)         (0.176)         (0.158)         (0.130)         (0.130)         (0.155)         (0.155)   \n",
      "\n",
      "L.Installer Activi~l                                                                                                                \n",
      "                                                                                                                                    \n",
      "\n",
      "Rating_Entropy_Self                         1.322**         1.351**                                                                 \n",
      "                                          (0.006)         (0.004)                                                                   \n",
      "\n",
      "Rating_Entropy_Sel~2                       -1.578*         -1.740*                                                                  \n",
      "                                          (0.043)         (0.026)                                                                   \n",
      "\n",
      "Rating_Entropy_Oth~s                                        0.132                                           0.149                   \n",
      "                                                          (0.481)                                         (0.416)                   \n",
      "\n",
      "Entropy(Others)^2                                          -1.253*                                         -1.300*                  \n",
      "                                                          (0.031)                                         (0.041)                   \n",
      "\n",
      "Rating_Entropy_Oth~s                                                                                                        0.733   \n",
      "                                                                                                                          (0.059)   \n",
      "\n",
      "Rating_Entropy_Oth~2                                                                                                       -1.300*  \n",
      "                                                                                                                          (0.041)   \n",
      "\n",
      "Average_Rating_Self       -0.0103         -0.0662***      -0.0680***      -0.0618***      -0.0618***      -0.0713***      -0.0713***\n",
      "                          (0.565)         (0.000)         (0.000)         (0.000)         (0.000)         (0.000)         (0.000)   \n",
      "\n",
      "Average_Rating_Oth~s       -0.195          -0.137          -0.162          -0.180          -0.180          -0.191          -0.191   \n",
      "                          (0.084)         (0.232)         (0.183)         (0.128)         (0.128)         (0.138)         (0.138)   \n",
      "\n",
      "Review_Count               0.0259**        0.0134*         0.0105          0.0165*         0.0165*         0.0175**        0.0175** \n",
      "                          (0.001)         (0.024)         (0.077)         (0.023)         (0.023)         (0.007)         (0.007)   \n",
      "\n",
      "Experience                -0.0229         -0.0564         -0.0528         -0.0554         -0.0554         -0.0445         -0.0445   \n",
      "                          (0.695)         (0.304)         (0.326)         (0.333)         (0.333)         (0.424)         (0.424)   \n",
      "\n",
      "Price_Difference          -0.0355          0.0736          0.0987         -0.0164         -0.0164           0.110           0.110   \n",
      "                          (0.727)         (0.457)         (0.366)         (0.879)         (0.879)         (0.324)         (0.324)   \n",
      "\n",
      "Market_LogRevenue         0.00659         0.00367         0.00283         0.00348         0.00348         0.00349         0.00349   \n",
      "                          (0.263)         (0.593)         (0.681)         (0.606)         (0.606)         (0.618)         (0.618)   \n",
      "\n",
      "ent_self*                                                                                                                           \n",
      "                                                                                                                                    \n",
      "\n",
      "ent_other*                                                                                                                          \n",
      "                                                                                                                                    \n",
      "------------------------------------------------------------------------------------------------------------------------------------\n",
      "Observations                 5209            3757            3757            3869            3869            3757            3757   \n",
      "------------------------------------------------------------------------------------------------------------------------------------\n",
      "p-values in parentheses\n",
      "* p<0.05, ** p<0.01, *** p<0.001\n"
     ]
    }
   ],
   "source": [
    "esttab,  order(  log_quotes l.log_quotes ent_self* c.ent_self* ent_other* c.ent_other* avg_v2  avgmean_others ) drop(  missing* ) p  label    \n"
   ]
  },
  {
   "cell_type": "code",
   "execution_count": 39,
   "metadata": {},
   "outputs": [
    {
     "name": "stdout",
     "output_type": "stream",
     "text": [
      "(output written to ind_dynamic2.csv)\n"
     ]
    }
   ],
   "source": [
    "esttab using ind_dynamic2.csv,  order(  log_quotes l.log_quotes ent_self* c.ent_self* ent_other* c.ent_other* avg_v2  avgmean_others ) drop(  missing* ) p  label    \n"
   ]
  },
  {
   "cell_type": "markdown",
   "metadata": {},
   "source": [
    "## IV 2sls "
   ]
  },
  {
   "cell_type": "code",
   "execution_count": 76,
   "metadata": {},
   "outputs": [
    {
     "name": "stdout",
     "output_type": "stream",
     "text": [
      "\n",
      "Instrumental variables (2SLS) regression          Number of obs   =      4,057\n",
      "                                                  Wald chi2(12)   =          .\n",
      "                                                  Prob > chi2     =          .\n",
      "                                                  R-squared       =          .\n",
      "                                                  Root MSE        =     .95114\n",
      "\n",
      "-------------------------------------------------------------------------------------------\n",
      "             F.log_quotes |      Coef.   Std. Err.      z    P>|z|     [95% Conf. Interval]\n",
      "--------------------------+----------------------------------------------------------------\n",
      "               log_quotes |\n",
      "                      --. |   .5580052   .1741672     3.20   0.001     .2166438    .8993667\n",
      "                      L1. |   .1635198   .2479402     0.66   0.510     -.322434    .6494737\n",
      "                          |\n",
      "                   avg_v2 |  -.0394202   .0175107    -2.25   0.024    -.0737406   -.0050998\n",
      "               reviews_ct |    .018328   .0074862     2.45   0.014     .0036553    .0330007\n",
      "temp_own_price_diff_other |  -.1262199   .0565638    -2.23   0.026    -.2370829    -.015357\n",
      "       missing_price_info |     .04278   .0366825     1.17   0.244    -.0291164    .1146764\n",
      "           avgmean_others |   .1213703   .0239391     5.07   0.000     .0744504    .1682901\n",
      "               ent_others |   .7487672   .2346993     3.19   0.001      .288765    1.208769\n",
      "            ent_others_sq |   -.608728   .2612972    -2.33   0.020    -1.120861   -.0965949\n",
      "          ent_self_demean |   .6320506   .2282165     2.77   0.006     .1847545    1.079347\n",
      "       ent_self_demean_sq |  -.6008559   .3414664    -1.76   0.078    -1.270118    .0684058\n",
      "           log_experience |   .0170313   .0194161     0.88   0.380    -.0210235    .0550861\n",
      "-------------------------------------------------------------------------------------------\n",
      "Instrumented:  log_quotes L.log_quotes\n",
      "Instruments:   avg_v2 reviews_ct temp_own_price_diff_other missing_price_info\n",
      "               avgmean_others ent_others ent_others_sq ent_self_demean ent_self_demean_sq\n",
      "               log_experience L.avg_v2 L.reviews_ct L.temp_own_price_diff_other\n",
      "               L.missing_price_info L.log_zip_rev\n"
     ]
    }
   ],
   "source": [
    "ivregress 2sls  f.log_quotes (log_quotes l.log_quotes  = l.avg_v2 l.reviews_ct l.temp_own_price_diff_other l.missing_price_info l.log_zip_rev )  avg_v2 reviews_ct temp_own_price_diff_other missing_price_info  avgmean_others ent_others ent_others_sq ent_self_demean ent_self_demean_sq  log_experience   ,    noconstant"
   ]
  },
  {
   "cell_type": "code",
   "execution_count": 77,
   "metadata": {},
   "outputs": [
    {
     "name": "stdout",
     "output_type": "stream",
     "text": [
      "\n",
      "  Tests of overidentifying restrictions:\n",
      "\n",
      "  Sargan (score) chi2(3) =  5.16537  (p = 0.1601)\n",
      "  Basmann chi2(3)        =  5.15283  (p = 0.1609)\n"
     ]
    }
   ],
   "source": [
    "estat overid"
   ]
  },
  {
   "cell_type": "markdown",
   "metadata": {},
   "source": [
    "## Dynamic Panel - overidentifying test"
   ]
  },
  {
   "cell_type": "code",
   "execution_count": 45,
   "metadata": {},
   "outputs": [
    {
     "name": "stdout",
     "output_type": "stream",
     "text": [
      "\n",
      "option maxldep(3) not allowed\n"
     ]
    },
    {
     "name": "stderr",
     "output_type": "stream",
     "text": [
      "r(198);\n",
      "r(198);\n"
     ]
    },
    {
     "name": "stdout",
     "output_type": "stream",
     "text": [
      "\n",
      "\n"
     ]
    }
   ],
   "source": [
    " \n",
    "xtdpd  f.log_quotes avg_v2  reviews_ct  avgmean_others ent_others ent_others_sq ent_self_demean ent_self_demean_sq  log_experience temp_own_price_diff_other missing_price_info log_zip_rev  , twostep  noconstant   dgmmiv(l2.(log_quotes reviews_ct)) lgmmiv(l.log_quotes l2.log_quotes)\n",
    "\n",
    "estat sargan"
   ]
  },
  {
   "cell_type": "code",
   "execution_count": 79,
   "metadata": {},
   "outputs": [
    {
     "name": "stdout",
     "output_type": "stream",
     "text": [
      "\n",
      "\n",
      "Dynamic panel-data estimation                   Number of obs     =      4,200\n",
      "Group variable: installer_id                    Number of groups  =        310\n",
      "Time variable: year_month~t\n",
      "                                                Obs per group:\n",
      "                                                              min =          1\n",
      "                                                              avg =   13.54839\n",
      "                                                              max =         56\n",
      "\n",
      "Number of instruments =   1.8e+03               Wald chi2(11)     =   1.51e+09\n",
      "                                                Prob > chi2       =     0.0000\n",
      "Two-step results\n",
      "-------------------------------------------------------------------------------------------\n",
      "             F.log_quotes |      Coef.   Std. Err.      z    P>|z|     [95% Conf. Interval]\n",
      "--------------------------+----------------------------------------------------------------\n",
      "                   avg_v2 |  -.0798048   .0006545  -121.93   0.000    -.0810876    -.078522\n",
      "               reviews_ct |    .062225   .0001175   529.53   0.000     .0619947    .0624554\n",
      "           avgmean_others |   .4516035   .0004819   937.14   0.000      .450659     .452548\n",
      "               ent_others |   1.698693   .0097207   174.75   0.000     1.679641    1.717745\n",
      "            ent_others_sq |  -1.430737   .0195345   -73.24   0.000    -1.469024    -1.39245\n",
      "          ent_self_demean |   2.985903   .0192757   154.90   0.000     2.948123    3.023683\n",
      "       ent_self_demean_sq |  -3.938381   .0153077  -257.28   0.000    -3.968383   -3.908378\n",
      "           log_experience |   .1367014   .0006429   212.64   0.000     .1354414    .1379614\n",
      "temp_own_price_diff_other |  -.2646616   .0050252   -52.67   0.000    -.2745108   -.2548123\n",
      "       missing_price_info |   .2978216     .00458    65.03   0.000      .288845    .3067981\n",
      "              log_zip_rev |  -.0130839   .0001171  -111.73   0.000    -.0133134   -.0128543\n",
      "-------------------------------------------------------------------------------------------\n",
      "Warning: gmm two-step standard errors are biased; robust standard \n",
      "         errors are recommended.\n",
      "Instruments for differenced equation\n",
      "        GMM-type: L(2/.).L2.log_quotes\n",
      "Instruments for level equation\n",
      "        GMM-type: L2D.log_quotes L3D.log_quotes L2D.reviews_ct LD.avgmean_others\n",
      "                  LD.ent_others LD.ent_others_sq LD.ent_self_demean LD.ent_self_demean_sq\n",
      "                  LD.log_experience LD.temp_own_price_diff_other\n",
      "\n",
      "Sargan test of overidentifying restrictions\n",
      "        H0: overidentifying restrictions are valid\n",
      "\n",
      "        chi2(1793)   =  268.0952\n",
      "        Prob > chi2  =    1.0000\n"
     ]
    }
   ],
   "source": [
    " \n",
    "xtdpd  f.log_quotes avg_v2  reviews_ct  avgmean_others ent_others ent_others_sq ent_self_demean ent_self_demean_sq  log_experience temp_own_price_diff_other missing_price_info log_zip_rev  , twostep  noconstant dgmmiv(l2.(log_quotes)) lgmmiv(l.log_quotes l2.log_quotes l.reviews_ct avgmean_others ent_others ent_others_sq ent_self_demean ent_self_demean_sq  log_experience temp_own_price_diff_other)\n",
    "\n",
    "estat sargan"
   ]
  },
  {
   "cell_type": "code",
   "execution_count": 47,
   "metadata": {},
   "outputs": [
    {
     "name": "stdout",
     "output_type": "stream",
     "text": [
      "\n",
      "Arellano-Bond dynamic panel-data estimation     Number of obs     =      3,757\n",
      "Group variable: installer_id                    Number of groups  =        277\n",
      "Time variable: year_month~t\n",
      "                                                Obs per group:\n",
      "                                                              min =          1\n",
      "                                                              avg =   13.56318\n",
      "                                                              max =         55\n",
      "\n",
      "Number of instruments =   1.6e+03               Wald chi2(13)     =     838.71\n",
      "                                                Prob > chi2       =     0.0000\n",
      "One-step results\n",
      "-------------------------------------------------------------------------------------------\n",
      "             F.log_quotes |      Coef.   Std. Err.      z    P>|z|     [95% Conf. Interval]\n",
      "--------------------------+----------------------------------------------------------------\n",
      "               log_quotes |\n",
      "                      --. |   .5036366   .0202105    24.92   0.000     .4640248    .5432484\n",
      "                      L1. |    .035352   .0184959     1.91   0.056    -.0008992    .0716032\n",
      "                          |\n",
      "               ent_others |   .6921922   .3777392     1.83   0.067     -.048163    1.432547\n",
      "            ent_others_sq |  -1.235801   .5218369    -2.37   0.018    -2.258583   -.2130196\n",
      "          ent_self_demean |   1.328282   .4103084     3.24   0.001     .5240925    2.132472\n",
      "       ent_self_demean_sq |  -1.694448   .7335727    -2.31   0.021    -3.132224   -.2566718\n",
      "                   avg_v2 |  -.0685703   .0180972    -3.79   0.000    -.1040401   -.0331005\n",
      "               reviews_ct |    .011714   .0061932     1.89   0.059    -.0004245    .0238526\n",
      "           avgmean_others |  -.1671854   .1253258    -1.33   0.182    -.4128194    .0784486\n",
      "           log_experience |  -.0547115   .0589954    -0.93   0.354    -.1703403    .0609173\n",
      "temp_own_price_diff_other |   .1143084   .0988813     1.16   0.248    -.0794953    .3081121\n",
      "       missing_price_info |  -.0277958   .1309078    -0.21   0.832    -.2843704    .2287788\n",
      "              log_zip_rev |   .0037674   .0049769     0.76   0.449    -.0059871     .013522\n",
      "-------------------------------------------------------------------------------------------\n",
      "Instruments for differenced equation\n",
      "        GMM-type: L(2/.).F.log_quotes\n",
      "        Standard: D.ent_others D.ent_others_sq D.ent_self_demean D.ent_self_demean_sq\n",
      "                  D.avg_v2 D.reviews_ct D.avgmean_others D.log_experience\n",
      "                  D.temp_own_price_diff_other D.missing_price_info D.log_zip_rev\n"
     ]
    }
   ],
   "source": [
    "xtabond f.log_quotes  ent_others ent_others_sq ent_self_demean ent_self_demean_sq avg_v2  reviews_ct  avgmean_others  log_experience temp_own_price_diff_other missing_price_info log_zip_re ,lags(2) noconstant maxlag(2) "
   ]
  },
  {
   "cell_type": "code",
   "execution_count": 149,
   "metadata": {},
   "outputs": [
    {
     "name": "stdout",
     "output_type": "stream",
     "text": [
      "\n",
      "Arellano-Bond dynamic panel-data estimation     Number of obs     =      3,757\n",
      "Group variable: installer_id                    Number of groups  =        277\n",
      "Time variable: year_month~t\n",
      "                                                Obs per group:\n",
      "                                                              min =          1\n",
      "                                                              avg =   13.56318\n",
      "                                                              max =         55\n",
      "\n",
      "Number of instruments =   1.6e+03               Wald chi2(13)     =     838.83\n",
      "                                                Prob > chi2       =     0.0000\n",
      "One-step results\n",
      "-------------------------------------------------------------------------------------------\n",
      "             F.log_quotes |      Coef.   Std. Err.      z    P>|z|     [95% Conf. Interval]\n",
      "--------------------------+----------------------------------------------------------------\n",
      "               log_quotes |\n",
      "                      --. |   .5036213   .0202097    24.92   0.000      .464011    .5432315\n",
      "                      L1. |   .0354229    .018496     1.92   0.055    -.0008286    .0716744\n",
      "                          |\n",
      "        ent_others_demean |   .1412333   .2104103     0.67   0.502    -.2711632    .5536298\n",
      "     ent_others_demean_sq |  -1.254309   .5254943    -2.39   0.017    -2.284259   -.2243591\n",
      "          ent_self_demean |   1.327353   .4103017     3.24   0.001     .5231764    2.131529\n",
      "       ent_self_demean_sq |  -1.694762   .7335553    -2.31   0.021    -3.132504   -.2570205\n",
      "                   avg_v2 |  -.0686139   .0180974    -3.79   0.000    -.1040843   -.0331436\n",
      "               reviews_ct |   .0116739   .0061946     1.88   0.059    -.0004672    .0238151\n",
      "           avgmean_others |  -.1671363   .1253268    -1.33   0.182    -.4127724    .0784998\n",
      "           log_experience |  -.0548432   .0589948    -0.93   0.353    -.1704709    .0607845\n",
      "temp_own_price_diff_other |   .1141583   .0988802     1.15   0.248    -.0796434    .3079599\n",
      "       missing_price_info |  -.0277514   .1309023    -0.21   0.832    -.2843151    .2288124\n",
      "              log_zip_rev |   .0037585   .0049768     0.76   0.450    -.0059959    .0135129\n",
      "-------------------------------------------------------------------------------------------\n",
      "Instruments for differenced equation\n",
      "        GMM-type: L(2/.).F.log_quotes\n",
      "        Standard: D.ent_others_demean D.ent_others_demean_sq D.ent_self_demean\n",
      "                  D.ent_self_demean_sq D.avg_v2 D.reviews_ct D.avgmean_others\n",
      "                  D.log_experience D.temp_own_price_diff_other D.missing_price_info\n",
      "                  D.log_zip_rev\n"
     ]
    }
   ],
   "source": [
    "xtabond f.log_quotes  ent_others_demean ent_others_demean_sq ent_self_demean ent_self_demean_sq avg_v2  reviews_ct  avgmean_others  log_experience temp_own_price_diff_other missing_price_info log_zip_re ,lags(2) noconstant "
   ]
  },
  {
   "cell_type": "code",
   "execution_count": 150,
   "metadata": {},
   "outputs": [
    {
     "name": "stdout",
     "output_type": "stream",
     "text": [
      "\n",
      "\n",
      "Arellano-Bond dynamic panel-data estimation     Number of obs     =      3,757\n",
      "Group variable: installer_id                    Number of groups  =        277\n",
      "Time variable: year_month~t\n",
      "                                                Obs per group:\n",
      "                                                              min =          1\n",
      "                                                              avg =   13.56318\n",
      "                                                              max =         55\n",
      "\n",
      "Number of instruments =   1.6e+03               Wald chi2(13)     =   5.22e+06\n",
      "                                                Prob > chi2       =     0.0000\n",
      "Two-step results\n",
      "-------------------------------------------------------------------------------------------\n",
      "             F.log_quotes |      Coef.   Std. Err.      z    P>|z|     [95% Conf. Interval]\n",
      "--------------------------+----------------------------------------------------------------\n",
      "               log_quotes |\n",
      "                      --. |   .5016606   .0024851   201.87   0.000       .49679    .5065313\n",
      "                      L1. |   .0369234   .0009969    37.04   0.000     .0349694    .0388773\n",
      "                          |\n",
      "        ent_others_demean |   .1317286   .0199848     6.59   0.000     .0925592     .170898\n",
      "     ent_others_demean_sq |  -1.253243   .0317969   -39.41   0.000    -1.315564   -1.190922\n",
      "          ent_self_demean |   1.350772   .0236798    57.04   0.000      1.30436    1.397184\n",
      "       ent_self_demean_sq |  -1.740454   .0516968   -33.67   0.000    -1.841778   -1.639131\n",
      "                   avg_v2 |  -.0679779   .0008999   -75.54   0.000    -.0697416   -.0662142\n",
      "               reviews_ct |   .0105367   .0005834    18.06   0.000     .0093932    .0116801\n",
      "           avgmean_others |  -.1616683   .0110084   -14.69   0.000    -.1832443   -.1400923\n",
      "           log_experience |  -.0527606   .0044636   -11.82   0.000    -.0615091   -.0440121\n",
      "temp_own_price_diff_other |   .0986906   .0106788     9.24   0.000     .0777606    .1196206\n",
      "       missing_price_info |  -.0521052   .0142072    -3.67   0.000    -.0799508   -.0242595\n",
      "              log_zip_rev |   .0028299   .0004741     5.97   0.000     .0019008    .0037591\n",
      "-------------------------------------------------------------------------------------------\n",
      "Warning: gmm two-step standard errors are biased; robust standard \n",
      "         errors are recommended.\n",
      "Instruments for differenced equation\n",
      "        GMM-type: L(2/.).F.log_quotes\n",
      "        Standard: D.ent_others_demean D.ent_others_demean_sq D.ent_self_demean\n",
      "                  D.ent_self_demean_sq D.avg_v2 D.reviews_ct D.avgmean_others\n",
      "                  D.log_experience D.temp_own_price_diff_other D.missing_price_info\n",
      "                  D.log_zip_rev\n",
      "\n",
      "Sargan test of overidentifying restrictions\n",
      "        H0: overidentifying restrictions are valid\n",
      "\n",
      "        chi2(1542)   =  260.6801\n",
      "        Prob > chi2  =    1.0000\n"
     ]
    }
   ],
   "source": [
    "xtabond f.log_quotes  ent_others_demean ent_others_demean_sq ent_self_demean ent_self_demean_sq avg_v2  reviews_ct  avgmean_others  log_experience temp_own_price_diff_other missing_price_info log_zip_re ,lags(2) noconstant  twostep\n",
    "estat sargan"
   ]
  },
  {
   "cell_type": "code",
   "execution_count": 48,
   "metadata": {},
   "outputs": [
    {
     "name": "stdout",
     "output_type": "stream",
     "text": [
      "Sargan test of overidentifying restrictions\n",
      "        H0: overidentifying restrictions are valid\n",
      "\n",
      "        chi2(1542)   =  1745.137\n",
      "        Prob > chi2  =    0.0002\n"
     ]
    }
   ],
   "source": [
    "estat sargan"
   ]
  },
  {
   "cell_type": "code",
   "execution_count": 50,
   "metadata": {},
   "outputs": [
    {
     "name": "stdout",
     "output_type": "stream",
     "text": [
      "\n",
      "Arellano-Bond test for zero autocorrelation in first-differenced errors\n",
      "  +-----------------------+\n",
      "  |Order |  z     Prob > z|\n",
      "  |------+----------------|\n",
      "  |   1  |-33.299  0.0000 |\n",
      "  |   2  |-.89457  0.3710 |\n",
      "  +-----------------------+\n",
      "   H0: no autocorrelation \n"
     ]
    }
   ],
   "source": [
    "estat abond"
   ]
  },
  {
   "cell_type": "code",
   "execution_count": 137,
   "metadata": {},
   "outputs": [
    {
     "name": "stdout",
     "output_type": "stream",
     "text": [
      "\n",
      "      Source |       SS           df       MS      Number of obs   =     5,221\n",
      "-------------+----------------------------------   F(9, 5212)      =   2868.89\n",
      "       Model |  32371.8094         9  3596.86771   Prob > F        =    0.0000\n",
      "    Residual |  6534.53295     5,212  1.25374769   R-squared       =    0.8320\n",
      "-------------+----------------------------------   Adj R-squared   =    0.8318\n",
      "       Total |  38906.3423     5,221  7.45189471   Root MSE        =    1.1197\n",
      "\n",
      "-------------------------------------------------------------------------------------------\n",
      "             F.log_quotes |      Coef.   Std. Err.      t    P>|t|     [95% Conf. Interval]\n",
      "--------------------------+----------------------------------------------------------------\n",
      "               log_quotes |\n",
      "                      L1. |   .7238709   .0100908    71.74   0.000     .7040887    .7436531\n",
      "                          |\n",
      "                   avg_v2 |\n",
      "                      L1. |    .002436   .0075531     0.32   0.747    -.0123713    .0172434\n",
      "                          |\n",
      "               reviews_ct |\n",
      "                      L1. |   .0227941   .0029786     7.65   0.000     .0169549    .0286333\n",
      "                          |\n",
      "           avgmean_others |\n",
      "                      L1. |   .0917543   .0112437     8.16   0.000      .069712    .1137966\n",
      "                          |\n",
      "           log_experience |\n",
      "                      L1. |   .0119057   .0235334     0.51   0.613    -.0342296     .058041\n",
      "                          |\n",
      "temp_own_price_diff_other |\n",
      "                      L1. |  -.1306313   .0316649    -4.13   0.000    -.1927077   -.0685548\n",
      "                          |\n",
      "       missing_price_info |\n",
      "                      L1. |  -.0057828    .036627    -0.16   0.875     -.077587    .0660214\n",
      "                          |\n",
      "              log_zip_rev |\n",
      "                      L1. |  -.0202748   .0060232    -3.37   0.001    -.0320827   -.0084668\n",
      "                      L2. |   .0235275   .0064833     3.63   0.000     .0108176    .0362374\n",
      "-------------------------------------------------------------------------------------------\n"
     ]
    }
   ],
   "source": [
    "reg f.log_quotes  l.log_quotes l.avg_v2 l.reviews_ct  l.avgmean_others  l.log_experience l.temp_own_price_diff_other l.missing_price_info l.log_zip_rev l2.log_zip_rev ,noconstant "
   ]
  },
  {
   "cell_type": "code",
   "execution_count": 139,
   "metadata": {},
   "outputs": [
    {
     "name": "stdout",
     "output_type": "stream",
     "text": [
      "\n",
      " ( 1)  L.log_quotes = 0\n",
      "\n",
      "       F(  1,  5212) = 5146.00\n",
      "            Prob > F =    0.0000\n"
     ]
    }
   ],
   "source": [
    "test  l.log_quotes"
   ]
  },
  {
   "cell_type": "code",
   "execution_count": 140,
   "metadata": {},
   "outputs": [
    {
     "name": "stdout",
     "output_type": "stream",
     "text": [
      "\n",
      " ( 1)  L.reviews_ct = 0\n",
      "\n",
      "       F(  1,  5212) =   58.56\n",
      "            Prob > F =    0.0000\n"
     ]
    }
   ],
   "source": [
    "test l.reviews_ct"
   ]
  },
  {
   "cell_type": "code",
   "execution_count": 141,
   "metadata": {},
   "outputs": [
    {
     "name": "stdout",
     "output_type": "stream",
     "text": [
      "\n",
      " ( 1)  L.avgmean_others = 0\n",
      "\n",
      "       F(  1,  5212) =   66.59\n",
      "            Prob > F =    0.0000\n"
     ]
    }
   ],
   "source": [
    "test l.avgmean_others"
   ]
  },
  {
   "cell_type": "code",
   "execution_count": 142,
   "metadata": {},
   "outputs": [
    {
     "name": "stdout",
     "output_type": "stream",
     "text": [
      "\n",
      " ( 1)  L.log_experience = 0\n",
      "\n",
      "       F(  1,  5212) =    0.26\n",
      "            Prob > F =    0.6129\n"
     ]
    }
   ],
   "source": [
    "test l.log_experience"
   ]
  },
  {
   "cell_type": "code",
   "execution_count": 143,
   "metadata": {},
   "outputs": [
    {
     "name": "stdout",
     "output_type": "stream",
     "text": [
      "\n",
      " ( 1)  L.temp_own_price_diff_other = 0\n",
      "\n",
      "       F(  1,  5212) =   17.02\n",
      "            Prob > F =    0.0000\n"
     ]
    }
   ],
   "source": [
    "test l.temp_own_price_diff_other"
   ]
  },
  {
   "cell_type": "code",
   "execution_count": 144,
   "metadata": {},
   "outputs": [
    {
     "name": "stdout",
     "output_type": "stream",
     "text": [
      "\n",
      " ( 1)  L.log_zip_rev = 0\n",
      " ( 2)  L2.log_zip_rev = 0\n",
      "\n",
      "       F(  2,  5212) =    6.67\n",
      "            Prob > F =    0.0013\n"
     ]
    }
   ],
   "source": [
    "test l.log_zip_rev l2.log_zip_rev"
   ]
  },
  {
   "cell_type": "code",
   "execution_count": 205,
   "metadata": {},
   "outputs": [
    {
     "name": "stdout",
     "output_type": "stream",
     "text": [
      "\n",
      "\n",
      "Arellano-Bond dynamic panel-data estimation     Number of obs     =      3,757\n",
      "Group variable: installer_id                    Number of groups  =        277\n",
      "Time variable: year_month~t\n",
      "                                                Obs per group:\n",
      "                                                              min =          1\n",
      "                                                              avg =   13.56318\n",
      "                                                              max =         55\n",
      "\n",
      "Number of instruments =   1.6e+03               Wald chi2(13)     =   4.24e+08\n",
      "                                                Prob > chi2       =     0.0000\n",
      "Two-step results\n",
      "-------------------------------------------------------------------------------------------\n",
      "             F.log_quotes |      Coef.   Std. Err.      z    P>|z|     [95% Conf. Interval]\n",
      "--------------------------+----------------------------------------------------------------\n",
      "               log_quotes |\n",
      "                      --. |   .5038349   .0015009   335.69   0.000     .5008933    .5067766\n",
      "                      L1. |   .0364291   .0016637    21.90   0.000     .0331683    .0396898\n",
      "                          |\n",
      "        ent_others_demean |   .1332501   .0237654     5.61   0.000     .0866708    .1798294\n",
      "     ent_others_demean_sq |   -1.25347   .0341617   -36.69   0.000    -1.320426   -1.186515\n",
      "          ent_self_demean |   1.115808   .0320069    34.86   0.000     1.053076     1.17854\n",
      "       ent_self_demean_sq |  -1.309066     .05371   -24.37   0.000    -1.414335   -1.203796\n",
      "                   avg_v2 |  -.0705051   .0010858   -64.93   0.000    -.0726332    -.068377\n",
      "               reviews_ct |   .0125036     .00093    13.44   0.000     .0106809    .0143264\n",
      "           avgmean_others |   -.172388   .0072627   -23.74   0.000    -.1866227   -.1581533\n",
      "           log_experience |  -.0470047   .0072537    -6.48   0.000    -.0612217   -.0327878\n",
      "temp_own_price_diff_other |   .1065063   .0106759     9.98   0.000     .0855818    .1274307\n",
      "       missing_price_info |  -.0148747   .0188093    -0.79   0.429    -.0517402    .0219909\n",
      "              log_zip_rev |   .0042008   .0006371     6.59   0.000     .0029521    .0054494\n",
      "-------------------------------------------------------------------------------------------\n",
      "Warning: gmm two-step standard errors are biased; robust standard \n",
      "         errors are recommended.\n",
      "Instruments for differenced equation\n",
      "        GMM-type: L(2/.).F.log_quotes\n",
      "        Standard: D.ent_others_demean D.ent_others_demean_sq D.ent_self_demean\n",
      "                  D.ent_self_demean_sq D.avg_v2 D.reviews_ct D.avgmean_others\n",
      "                  D.log_experience D.temp_own_price_diff_other D.missing_price_info\n",
      "                  D.log_zip_rev\n",
      "\n",
      "Sargan test of overidentifying restrictions\n",
      "        H0: overidentifying restrictions are valid\n",
      "\n",
      "        chi2(1542)   =  263.2737\n",
      "        Prob > chi2  =    1.0000\n"
     ]
    }
   ],
   "source": [
    "xtabond f.log_quotes  ent_others_demean ent_others_demean_sq ent_self_demean ent_self_demean_sq avg_v2  reviews_ct   ///\n",
    "avgmean_others  log_experience temp_own_price_diff_other missing_price_info log_zip_re ,lags(2) noconstant  twostep\n",
    "estat sargan"
   ]
  },
  {
   "cell_type": "code",
   "execution_count": 207,
   "metadata": {},
   "outputs": [
    {
     "name": "stdout",
     "output_type": "stream",
     "text": [
      "\n",
      "\n",
      "Arellano-Bond dynamic panel-data estimation     Number of obs     =      3,757\n",
      "Group variable: installer_id                    Number of groups  =        277\n",
      "Time variable: year_month~t\n",
      "                                                Obs per group:\n",
      "                                                              min =          1\n",
      "                                                              avg =   13.56318\n",
      "                                                              max =         55\n",
      "\n",
      "Number of instruments =   3.7e+03               Wald chi2(13)     =  727533.94\n",
      "                                                Prob > chi2       =     0.0000\n",
      "Two-step results\n",
      "-------------------------------------------------------------------------------------------\n",
      "             F.log_quotes |      Coef.   Std. Err.      z    P>|z|     [95% Conf. Interval]\n",
      "--------------------------+----------------------------------------------------------------\n",
      "               log_quotes |\n",
      "                      --. |   .5200543   .0026062   199.55   0.000     .5149462    .5251623\n",
      "                      L1. |   .0370925   .0038139     9.73   0.000     .0296175    .0445675\n",
      "                          |\n",
      "               reviews_ct |    .012006   .0017137     7.01   0.000     .0086471    .0153648\n",
      "                   avg_v2 |   -.050731   .0041502   -12.22   0.000    -.0588653   -.0425967\n",
      "           avgmean_others |   -.056087   .0277693    -2.02   0.043    -.1105138   -.0016601\n",
      "           log_experience |   .0524327   .0127546     4.11   0.000     .0274342    .0774313\n",
      "        ent_others_demean |    .205744   .0902692     2.28   0.023     .0288196    .3826683\n",
      "     ent_others_demean_sq |  -1.498508   .2036599    -7.36   0.000    -1.897674   -1.099342\n",
      "          ent_self_demean |   1.037866   .1341995     7.73   0.000       .77484    1.300893\n",
      "       ent_self_demean_sq |  -1.732722   .2723225    -6.36   0.000    -2.266464   -1.198979\n",
      "temp_own_price_diff_other |   .0143517   .0493279     0.29   0.771    -.0823292    .1110326\n",
      "       missing_price_info |  -.0237487    .058856    -0.40   0.687    -.1391043     .091607\n",
      "              log_zip_rev |  -.0008667   .0017757    -0.49   0.625     -.004347    .0026135\n",
      "-------------------------------------------------------------------------------------------\n",
      "Warning: gmm two-step standard errors are biased; robust standard \n",
      "         errors are recommended.\n",
      "Instruments for differenced equation\n",
      "        GMM-type: L(2/.).F.log_quotes L(1/.).reviews_ct L(1/.).avg_v2\n",
      "                  L(1/.).avgmean_others L(1/.).log_experience\n",
      "        Standard: D.ent_others_demean D.ent_others_demean_sq D.ent_self_demean\n",
      "                  D.ent_self_demean_sq D.temp_own_price_diff_other D.missing_price_info\n",
      "                  D.log_zip_rev\n",
      "\n",
      "Sargan test of overidentifying restrictions\n",
      "        H0: overidentifying restrictions are valid\n",
      "\n",
      "        chi2(3657)   =   264.624\n",
      "        Prob > chi2  =    1.0000\n"
     ]
    }
   ],
   "source": [
    "xtabond f.log_quotes  ent_others_demean ent_others_demean_sq ent_self_demean ent_self_demean_sq      ///\n",
    "   temp_own_price_diff_other missing_price_info log_zip_rev ,lags(2) noconstant  twostep pre(reviews_ct avg_v2 avgmean_others log_experience)\n",
    "estat sargan"
   ]
  },
  {
   "cell_type": "code",
   "execution_count": 208,
   "metadata": {},
   "outputs": [
    {
     "name": "stdout",
     "output_type": "stream",
     "text": [
      "\n",
      "\n",
      "Arellano-Bond dynamic panel-data estimation     Number of obs     =      3,757\n",
      "Group variable: installer_id                    Number of groups  =        277\n",
      "Time variable: year_month~t\n",
      "                                                Obs per group:\n",
      "                                                              min =          1\n",
      "                                                              avg =   13.56318\n",
      "                                                              max =         55\n",
      "\n",
      "Number of instruments =   1.9e+03               Wald chi2(13)     =  941804.53\n",
      "                                                Prob > chi2       =     0.0000\n",
      "Two-step results\n",
      "-------------------------------------------------------------------------------------------\n",
      "             F.log_quotes |      Coef.   Std. Err.      z    P>|z|     [95% Conf. Interval]\n",
      "--------------------------+----------------------------------------------------------------\n",
      "               log_quotes |\n",
      "                      --. |   .4928454   .0037532   131.31   0.000     .4854892    .5002016\n",
      "                      L1. |   .0156054   .0040161     3.89   0.000      .007734    .0234768\n",
      "                          |\n",
      "               reviews_ct |   .0171696   .0013129    13.08   0.000     .0145964    .0197428\n",
      "                   avg_v2 |  -.0587271   .0031656   -18.55   0.000    -.0649315   -.0525227\n",
      "           avgmean_others |  -.3332361   .0392259    -8.50   0.000    -.4101175   -.2563547\n",
      "           log_experience |  -.0274667   .0062087    -4.42   0.000    -.0396356   -.0152978\n",
      "        ent_others_demean |     .11364   .0689522     1.65   0.099    -.0215038    .2487838\n",
      "     ent_others_demean_sq |  -1.350431   .1770177    -7.63   0.000     -1.69738   -1.003483\n",
      "          ent_self_demean |   1.078578    .110384     9.77   0.000     .8622298    1.294927\n",
      "       ent_self_demean_sq |  -1.364349   .1044813   -13.06   0.000    -1.569128   -1.159569\n",
      "temp_own_price_diff_other |   .0564772   .0290569     1.94   0.052    -.0004733    .1134277\n",
      "       missing_price_info |  -.0692244   .0382326    -1.81   0.070    -.1441589    .0057101\n",
      "              log_zip_rev |   .0029322   .0008804     3.33   0.001     .0012065    .0046578\n",
      "-------------------------------------------------------------------------------------------\n",
      "Warning: gmm two-step standard errors are biased; robust standard \n",
      "         errors are recommended.\n",
      "Instruments for differenced equation\n",
      "        GMM-type: L(2/.).F.log_quotes L(1/3).reviews_ct L(1/3).avg_v2\n",
      "                  L(1/3).avgmean_others L(1/3).log_experience\n",
      "        Standard: D.ent_others_demean D.ent_others_demean_sq D.ent_self_demean\n",
      "                  D.ent_self_demean_sq D.temp_own_price_diff_other D.missing_price_info\n",
      "                  D.log_zip_rev\n",
      "\n",
      "Sargan test of overidentifying restrictions\n",
      "        H0: overidentifying restrictions are valid\n",
      "\n",
      "        chi2(1878)   =  266.1703\n",
      "        Prob > chi2  =    1.0000\n"
     ]
    }
   ],
   "source": [
    "xtabond f.log_quotes  ent_others_demean ent_others_demean_sq ent_self_demean ent_self_demean_sq      ///\n",
    "   temp_own_price_diff_other missing_price_info log_zip_rev ,lags(2) noconstant  twostep pre(reviews_ct avg_v2 avgmean_others log_experience) maxlags(3)\n",
    "estat sargan"
   ]
  }
 ],
 "metadata": {
  "kernelspec": {
   "display_name": "Stata",
   "language": "stata",
   "name": "stata"
  },
  "language_info": {
   "codemirror_mode": "stata",
   "file_extension": ".do",
   "mimetype": "text/x-stata",
   "name": "stata",
   "version": "15.1"
  }
 },
 "nbformat": 4,
 "nbformat_minor": 4
}
