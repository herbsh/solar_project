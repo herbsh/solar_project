{
 "cells": [
  {
   "cell_type": "markdown",
   "metadata": {},
   "source": [
    "# Data Pipeline Master Document"
   ]
  },
  {
   "cell_type": "markdown",
   "metadata": {},
   "source": [
    "- A summary of all steps and related notebooks that were used in creating data and analysis for the solar project   \n",
    "- Notebooks are sequentially dependent \n",
    "- Update: June 24, 2020 "
   ]
  },
  {
   "cell_type": "markdown",
   "metadata": {},
   "source": [
    "## Raw Data "
   ]
  },
  {
   "cell_type": "markdown",
   "metadata": {},
   "source": [
    "Descriptions of Raw Data sets"
   ]
  },
  {
   "cell_type": "markdown",
   "metadata": {},
   "source": [
    "## Clustering "
   ]
  },
  {
   "cell_type": "markdown",
   "metadata": {},
   "source": [
    "- cluster to define market boundaries.  We need this label for step 3, 4 and 5. The clustering labels is applied on EnergySage(ES) installers' coordinates(lat, long)\n",
    "- Notebook :  step1_clustering_with_gridsearch.ipynb \n",
    "- input: \n",
    "    - coordinates data: dec13_total_df.csv \n",
    "- output: \n",
    "    - labeled coordinates : es_labeled'+parameters+'.csv' or es_labeled'+parameters+'twostep.csv \n",
    "    - graph: graph of market centroids \n",
    "  "
   ]
  },
  {
   "cell_type": "markdown",
   "metadata": {},
   "source": [
    "### TODO: figure out if we used the two-step clustering in the final data, and refactor that part "
   ]
  },
  {
   "cell_type": "markdown",
   "metadata": {},
   "source": [
    "## Feature derived from ES - Installer Level "
   ]
  },
  {
   "cell_type": "markdown",
   "metadata": {},
   "source": [
    "### part a: run NLP script to obtain sentiment score "
   ]
  },
  {
   "cell_type": "markdown",
   "metadata": {},
   "source": [
    "- notebook: step2_part_a_reviews_sentiment_score.ipynb\n",
    "- input: /0_data/Lock_ES_RawData/installer_review_data_20180410.csv \n",
    "- output: /2_pipeline/reviews_sent_score_jan17_2020.csv , /3_output/sentscore_violin.png"
   ]
  },
  {
   "cell_type": "markdown",
   "metadata": {},
   "source": [
    "### part b: obtain the rest of ES-installer level features \n"
   ]
  },
  {
   "cell_type": "markdown",
   "metadata": {},
   "source": [
    "- notebook: step2_part_b_es_feature_ind.ipynb \n",
    "- input: \n",
    "    - from raw data: /0_data/Lock_ES_RawData/installer_close_rates.csv, /0_data/Lock_ES_RawData/installer_review_data_20180410.csv, \n",
    "    - from pipeline: /2_pipeline/reviews_sent_score_jan16_2020.csv' \n",
    "- output: \n",
    "    - to pipeline: 2_pipeline/closerate_withratingcounts_sent_score.csv'\n"
   ]
  },
  {
   "cell_type": "markdown",
   "metadata": {},
   "source": [
    "### part c: use stata to fill in time gap from the closerate and carryforward snapshots of reviews data "
   ]
  },
  {
   "cell_type": "markdown",
   "metadata": {},
   "source": [
    "- notebook: step2_part_c_filltimegap.ipynb \n",
    "- input: \n",
    "    - from pipeline: /2_pipeline/closerate_withratingcounts_sent_score.csv\" \n",
    "- output: \n",
    "    - to "
   ]
  },
  {
   "cell_type": "code",
   "execution_count": null,
   "metadata": {},
   "outputs": [],
   "source": []
  }
 ],
 "metadata": {
  "kernelspec": {
   "display_name": "Python 3",
   "language": "python",
   "name": "python3"
  },
  "language_info": {
   "codemirror_mode": {
    "name": "ipython",
    "version": 3
   },
   "file_extension": ".py",
   "mimetype": "text/x-python",
   "name": "python",
   "nbconvert_exporter": "python",
   "pygments_lexer": "ipython3",
   "version": "3.7.3"
  },
  "toc-autonumbering": true
 },
 "nbformat": 4,
 "nbformat_minor": 4
}
