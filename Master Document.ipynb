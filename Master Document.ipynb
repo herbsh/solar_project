{
 "cells": [
  {
   "cell_type": "markdown",
   "metadata": {},
   "source": [
    "# Data Pipeline Master Document"
   ]
  },
  {
   "cell_type": "markdown",
   "metadata": {},
   "source": [
    "- A summary of all steps and related notebooks that were used in creating data and analysis for the solar project   \n",
    "- Notebooks are sequentially dependent \n",
    "- Update: June 24, 2020 "
   ]
  },
  {
   "cell_type": "markdown",
   "metadata": {},
   "source": [
    "## Raw Data "
   ]
  },
  {
   "cell_type": "markdown",
   "metadata": {},
   "source": [
    "Descriptions of Raw Data sets"
   ]
  },
  {
   "cell_type": "markdown",
   "metadata": {},
   "source": [
    "## Clustering "
   ]
  },
  {
   "cell_type": "markdown",
   "metadata": {},
   "source": [
    "- cluster to define market boundaries.  We need this label for step 3, 4 and 5. The clustering labels is applied on EnergySage(ES) installers' coordinates(lat, long)\n",
    "- Notebook :  step1_clustering_with_gridsearch.ipynb \n",
    "- input: \n",
    "    - coordinates data: dec13_total_df.csv \n",
    "- output: \n",
    "    - labeled coordinates : es_labeled'+parameters+'.csv'\n",
    "    - graph: graph of market centroids \n",
    "  "
   ]
  }
 ],
 "metadata": {
  "kernelspec": {
   "display_name": "Python 3",
   "language": "python",
   "name": "python3"
  },
  "language_info": {
   "codemirror_mode": {
    "name": "ipython",
    "version": 3
   },
   "file_extension": ".py",
   "mimetype": "text/x-python",
   "name": "python",
   "nbconvert_exporter": "python",
   "pygments_lexer": "ipython3",
   "version": "3.7.3"
  }
 },
 "nbformat": 4,
 "nbformat_minor": 4
}
