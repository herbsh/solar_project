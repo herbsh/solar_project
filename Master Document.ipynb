{
 "cells": [
  {
   "cell_type": "markdown",
   "metadata": {},
   "source": [
    "# Raw Data "
   ]
  },
  {
   "cell_type": "markdown",
   "metadata": {},
   "source": [
    "Descriptions of Raw Data sets"
   ]
  },
  {
   "cell_type": "markdown",
   "metadata": {},
   "source": [
    "# Data Pipeline Master Document"
   ]
  },
  {
   "cell_type": "markdown",
   "metadata": {},
   "source": [
    "- A summary of all steps and related notebooks that were used in creating data and analysis for the solar project   \n",
    "- Notebooks are sequentially dependent \n",
    "- Update: June 24, 2020 "
   ]
  },
  {
   "cell_type": "markdown",
   "metadata": {},
   "source": [
    "## Clustering "
   ]
  },
  {
   "cell_type": "markdown",
   "metadata": {},
   "source": [
    "- cluster to define market boundaries.  We need this label for step 3, 4 and 5. The clustering labels is applied on EnergySage(ES) installers' coordinates(lat, long)\n",
    "- Notebook :  step1_clustering_with_gridsearch.ipynb \n",
    "- input: \n",
    "    - coordinates data: dec13_total_df.csv \n",
    "- output: \n",
    "    - labeled coordinates : es_labeled'+parameters+'.csv' or es_labeled'+parameters+'twostep.csv \n",
    "    - graph: graph of market centroids \n",
    "  "
   ]
  },
  {
   "cell_type": "markdown",
   "metadata": {},
   "source": [
    "### TODO: figure out if we used the two-step clustering in the final data, and refactor that part \n",
    " - we used the es_labeled90_100_2two_step.csv "
   ]
  },
  {
   "cell_type": "markdown",
   "metadata": {},
   "source": [
    "## Feature derived from ES - Installer Level "
   ]
  },
  {
   "cell_type": "markdown",
   "metadata": {},
   "source": [
    "### part a: run NLP script to obtain sentiment score "
   ]
  },
  {
   "cell_type": "markdown",
   "metadata": {},
   "source": [
    "- notebook: step2_part_a_reviews_sentiment_score.ipynb\n",
    "- input: /0_data/Lock_ES_RawData/installer_review_data_20180410.csv \n",
    "- output: /2_pipeline/reviews_sent_score_jan17_2020.csv , /3_output/sentscore_violin.png"
   ]
  },
  {
   "cell_type": "markdown",
   "metadata": {},
   "source": [
    "### part b: obtain the rest of ES-installer level features \n"
   ]
  },
  {
   "cell_type": "markdown",
   "metadata": {},
   "source": [
    "- notebook: step2_part_b_es_feature_ind.ipynb \n",
    "- input: \n",
    "    - from raw data: /0_data/Lock_ES_RawData/installer_close_rates.csv, /0_data/Lock_ES_RawData/installer_review_data_20180410.csv, \n",
    "    - from pipeline: /2_pipeline/reviews_sent_score_jan16_2020.csv' \n",
    "- output: \n",
    "    - to pipeline: 2_pipeline/closerate_withratingcounts_sent_score.csv'\n"
   ]
  },
  {
   "cell_type": "markdown",
   "metadata": {},
   "source": [
    "### part c: use stata to fill in time gap from the closerate and carryforward snapshots of reviews data "
   ]
  },
  {
   "cell_type": "markdown",
   "metadata": {},
   "source": [
    "- notebook: step2_part_c_filltimegap.ipynb \n",
    "- input: \n",
    "    - from pipeline: /2_pipeline/closerate_withratingcounts_sent_score.csv\" \n",
    "- output: \n",
    "    - to pipeline: /2_pipeline/es_monthly_ind.dta\" "
   ]
  },
  {
   "cell_type": "markdown",
   "metadata": {},
   "source": [
    "## Feature from ES - Market Level "
   ]
  },
  {
   "cell_type": "markdown",
   "metadata": {},
   "source": [
    "- note: this will be depended on clustering step outcome \n",
    "- notebook : step3_es_feature_mktlevel.ipynb \n",
    "- input: \n",
    "    - market clustering labels: ./2_pipeline/es_labeled90_100_2two_step.csv' \n",
    "    - additional coordinates: '../0_data/dec14_total_df.csv' \n",
    "    - installer monthly :   '../2_pipeline/es_monthly_ind.dta' \n",
    "    - original reviews : /0_data/Lock_ES_RawData/installer_review_data_20180410.csv' \n",
    "\n",
    "- output: \n",
    "    -  '../2_pipeline/es_marketlevel'+parameters+'.csv')"
   ]
  },
  {
   "cell_type": "markdown",
   "metadata": {},
   "source": [
    "## Feature from ES from webscraping \n",
    "- notebook: step4_addwebscrape_es_panel.ipynb\n",
    "- input: \n",
    "    - building on output from step3 : '../2_pipeline/es_marketlevel'+parameters+'.csv')\n",
    "    - add data obtained from webscraping EnergySage website '../0_data/es_web.csv' \n",
    "- output: \n",
    "    - '../2_pipeline/es_panel_step4'+parameters+'.csv'"
   ]
  },
  {
   "cell_type": "markdown",
   "metadata": {},
   "source": [
    "## Features from TTS (Tracking The Sun) - Market Level \n",
    "- notebook: step5_tts_feature_mkt_level.ipynb \n",
    "- input: \n",
    "    - clustering result:  '../2_pipeline/es_labeled90_100_2two_step.csv'\n",
    "    - zip code and coordinates data: \"../0_data/RawData_geospatial//uszip_latlong.dta\" \n",
    "- output \n",
    "    - intermediary: market condition data - '../2_pipeline/marketconditions'+parameter+'.csv'\n",
    "    - market-month level data with zipcode_total_rev(revenue) '../2_pipeline/tts_mktcondidtions'+parameters+'.csv'\n"
   ]
  },
  {
   "cell_type": "markdown",
   "metadata": {},
   "source": [
    "## Add Price info from matching TTS with ES installers \n",
    "- notebook: step6_tts_priceinfo.ipynb\n",
    "- input: \n",
    "    - matching table that matches TTS with ES '../0_data/es_tts_matchingtable.xlsx' \n",
    "    - price : '../0_data/TTS_v2018.dta' \n",
    "    -  es panel data from step 4 \n",
    "    - es_marketlevel data from step 3 \n",
    "- output: \n",
    "    - Installer-month level own price and others' price on the market:   2_pipeline/'price_for_es_from_'+parameters+'.csv'"
   ]
  },
  {
   "cell_type": "markdown",
   "metadata": {},
   "source": [
    "## Combine ES and TTS Market Level \n",
    "- notebook: step7_combine_es_tts_mktlevel_indlevel.ipynb\n",
    "- input: \n",
    "    - from step 5: tts_mkt_condition=pd.read_csv('../2_pipeline/tts_mktcondidtions'+parameters+'.csv')\n",
    "    - from step 6: tts_priceinfo=pd.read_csv('../2_pipeline/price_for_es_from_'+parameters+'.csv')\n",
    "    - from step 4: es_panel=pd.read_csv('../2_pipeline/es_panel_step4'+parameters+'.csv')\n",
    "- output:\n",
    "    - '../2_pipeline/panel_step7'+parameters+'.csv'\n"
   ]
  },
  {
   "cell_type": "markdown",
   "metadata": {},
   "source": [
    "## Processing and cleaning the individual level data \n",
    "- notebook: step9_clean_data_ind.ipynb\n",
    "- input: \n",
    "- output: "
   ]
  },
  {
   "cell_type": "code",
   "execution_count": null,
   "metadata": {},
   "outputs": [],
   "source": []
  }
 ],
 "metadata": {
  "kernelspec": {
   "display_name": "Python 3",
   "language": "python",
   "name": "python3"
  },
  "language_info": {
   "codemirror_mode": {
    "name": "ipython",
    "version": 3
   },
   "file_extension": ".py",
   "mimetype": "text/x-python",
   "name": "python",
   "nbconvert_exporter": "python",
   "pygments_lexer": "ipython3",
   "version": "3.7.3"
  },
  "toc-autonumbering": true
 },
 "nbformat": 4,
 "nbformat_minor": 4
}
